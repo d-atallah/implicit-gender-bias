{
 "cells": [
  {
   "cell_type": "markdown",
   "metadata": {},
   "source": [
    "# Run this notebook to re-clone repo in Google Colab\n",
    "We are using Colab as a collaborative space. Files and configurations are removed at the end of each session. Run this to reinitialize repo at the start of your session"
   ]
  },
  {
   "cell_type": "markdown",
   "metadata": {},
   "source": [
    "!git clone https://github.com/d-atallah/implicit_gender_bias.git"
   ]
  }
 ],
 "metadata": {
  "language_info": {
   "name": "python"
  }
 },
 "nbformat": 4,
 "nbformat_minor": 2
}
