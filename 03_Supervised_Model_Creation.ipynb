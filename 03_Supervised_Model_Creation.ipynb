{
  "cells": [
    {
      "cell_type": "markdown",
      "metadata": {
        "id": "view-in-github",
        "colab_type": "text"
      },
      "source": [
        "<a href=\"https://colab.research.google.com/github/d-atallah/implicit_gender_bias/blob/main/03_Supervised_Model_Creation.ipynb\" target=\"_parent\"><img src=\"https://colab.research.google.com/assets/colab-badge.svg\" alt=\"Open In Colab\"/></a>"
      ]
    },
    {
      "cell_type": "markdown",
      "metadata": {
        "id": "cHf_jOR9jOca"
      },
      "source": [
        "# Import, Download, & Variable Statements"
      ]
    },
    {
      "cell_type": "code",
      "execution_count": null,
      "metadata": {
        "colab": {
          "base_uri": "https://localhost:8080/"
        },
        "id": "n6WzZ3_ujTwL",
        "outputId": "5155469d-6a35-4835-d3bf-b982720909af"
      },
      "outputs": [
        {
          "name": "stderr",
          "output_type": "stream",
          "text": [
            "[nltk_data] Downloading package stopwords to\n",
            "[nltk_data]     /home/gibsonce/nltk_data...\n",
            "[nltk_data]   Package stopwords is already up-to-date!\n",
            "[nltk_data] Downloading package wordnet to /home/gibsonce/nltk_data...\n",
            "[nltk_data]   Package wordnet is already up-to-date!\n",
            "[nltk_data] Downloading package punkt to /home/gibsonce/nltk_data...\n",
            "[nltk_data]   Package punkt is already up-to-date!\n"
          ]
        }
      ],
      "source": [
        "# Import & download statements\n",
        "# General statements\n",
        "import pandas as pd\n",
        "import string\n",
        "import re\n",
        "import joblib\n",
        "import os\n",
        "import numpy as np\n",
        "import time\n",
        "\n",
        "import shap\n",
        "import matplotlib.pyplot as plt\n",
        "\n",
        "# Feature selection & model tuning\n",
        "from sklearn.model_selection import train_test_split, GridSearchCV, RandomizedSearchCV, cross_val_score, StratifiedKFold, cross_validate\n",
        "from sklearn.feature_extraction.text import CountVectorizer, TfidfVectorizer\n",
        "from sklearn.pipeline import make_pipeline\n",
        "from sklearn.decomposition import TruncatedSVD,PCA, NMF\n",
        "from sklearn.metrics import confusion_matrix,precision_score, recall_score, f1_score, accuracy_score, roc_curve, roc_auc_score, log_loss, make_scorer, average_precision_score\n",
        "\n",
        "# Model options\n",
        "from xgboost import XGBClassifier\n",
        "from sklearn.linear_model import LogisticRegression\n",
        "from sklearn.ensemble import RandomForestClassifier\n",
        "from sklearn.svm import SVC\n",
        "from sklearn.neighbors import KNeighborsClassifier\n",
        "from sklearn.naive_bayes import MultinomialNB\n",
        "\n",
        "# NLTK resources\n",
        "import nltk\n",
        "from nltk.corpus import stopwords\n",
        "from nltk.stem import WordNetLemmatizer\n",
        "from nltk.stem import PorterStemmer\n",
        "\n",
        "nltk.download('stopwords')\n",
        "nltk.download('wordnet')\n",
        "nltk.download('punkt')\n",
        "\n",
        "stop_words = set(stopwords.words('english'))\n",
        "lemmatizer = WordNetLemmatizer()\n",
        "porter = PorterStemmer()"
      ]
    },
    {
      "cell_type": "markdown",
      "metadata": {
        "id": "QxUdsW5aUtQz"
      },
      "source": [
        "## Read Inputs"
      ]
    },
    {
      "cell_type": "code",
      "execution_count": null,
      "metadata": {
        "id": "pPZ-eni9oS-A"
      },
      "outputs": [],
      "source": [
        "# Variables\n",
        "folder_path = '/home/gibsonce/datallah-jaymefis-gibsonce/'\n",
        "\n",
        "# Load DataFrames from pkl files\n",
        "X_train = pd.read_pickle(folder_path + 'X_train_preprocessed.pkl')\n",
        "X_test = pd.read_pickle(folder_path + 'X_test_preprocessed.pkl')\n",
        "y_train = pd.read_pickle(folder_path + 'y_train.pkl')\n",
        "y_test = pd.read_pickle(folder_path + 'y_test.pkl')"
      ]
    },
    {
      "cell_type": "code",
      "execution_count": null,
      "metadata": {
        "id": "mWm8LT4RUtQ0"
      },
      "outputs": [],
      "source": [
        "# Filter X_train and X_test to remove NaN records\n",
        "non_nan_indices_train = ~X_train.isnull()\n",
        "non_nan_indices_test = ~X_test.isnull()\n",
        "\n",
        "y_train = y_train[non_nan_indices_train]\n",
        "y_test = y_test[non_nan_indices_test]\n",
        "\n",
        "X_train = X_train[non_nan_indices_train]\n",
        "X_test = X_test[non_nan_indices_test]"
      ]
    },
    {
      "cell_type": "markdown",
      "metadata": {
        "id": "9zRF7xFVjBKo"
      },
      "source": [
        "## Define Functions\n"
      ]
    },
    {
      "cell_type": "code",
      "execution_count": null,
      "metadata": {
        "id": "vbTlsO8hUtQ2"
      },
      "outputs": [],
      "source": [
        "def model_testing(X_train, y_train, X_test, y_test, model_type, vectorizer, ngram, params):\n",
        "    \"\"\"\n",
        "    Runs a specified model and dimensionality reduction method with tuned hyperparameters\n",
        "\n",
        "    Parameters:\n",
        "    - X_train (array-like): Training set features, preprocessed.\n",
        "    - y_train (array-like): Training set labels.\n",
        "    - X_test (array-like): Test set features, preprocessed.\n",
        "    - y_test (array-like): Test set labels.\n",
        "    - model_type (str): Type of model to test. Choose from 'log' (Logistic Regression), 'xgb' (XGBoost), 'knn' (k-Nearest Neighbors), 'svm' (Support Vector Machine).\n",
        "    - vectorizer (str): Type of vectorizer to test. Choose from 'count' (Count Vecotizer) or 'tfidf' (TF-IDF Vecotizer).\n",
        "    - ngram (int): Feature representation to test. Choose 1 for unigrams, 2 for bigrams, and so on.\n",
        "    - params (dict): Hyperparameter grid for the specified model and dimensionality reduction method.\n",
        "\n",
        "    Returns:\n",
        "    - Pipeline: Trained and fit pipeline with the best hyperparameters.\n",
        "    - X_train_ (array-like): Preprocessed  and vectorized training set features.\n",
        "    - X_test_ (array-like): Preprocessed  and vectorized test set features.\n",
        "    - explainer: SHAP explainer.\n",
        "    - feature_importance_dict (Dict): Dictionary of model feature importances.\n",
        "    \"\"\"\n",
        "    start_time = time.time()\n",
        "    if vectorizer == 'count':\n",
        "        vect = CountVectorizer(ngram_range=(ngram, ngram))\n",
        "        X_train_ = vect.fit_transform(X_train)\n",
        "        X_test_ = vect.transform(X_test)\n",
        "\n",
        "    elif vectorizer == 'tfidf':\n",
        "        vect = TfidfVectorizer(ngram_range=(ngram, ngram))\n",
        "        X_train_ = vect.fit_transform(X_train)\n",
        "        X_test_ = vect.transform(X_test)\n",
        "\n",
        "    else:\n",
        "        raise ValueError(\"Invalid vector type. Use 'count' or 'tfidf'.\")\n",
        "\n",
        "    end_time = time.time()\n",
        "    elapsed_time = end_time - start_time\n",
        "    print(f\"Vectorization completed. Time elapsed: {elapsed_time/60:.2f} minutes.\")\n",
        "\n",
        "    if model_type == 'xgb':\n",
        "        model = XGBClassifier(random_state=42, **params.get('xgbclassifier', {}))\n",
        "        model.fit(X_train_, y_train)\n",
        "        explainer = shap.Explainer(model)\n",
        "        feature_importances = model.feature_importances_\n",
        "        feature_names = vect.get_feature_names_out()\n",
        "        feature_importance_dict = dict(zip(feature_names, feature_importances))\n",
        "    elif model_type == 'knn':\n",
        "        model = KNeighborsClassifier(**params.get('kneighborsclassifier', {}))\n",
        "        model = make_pipeline(\n",
        "        TruncatedSVD(**params.get('truncatedsvd', {}), random_state=42),\n",
        "        model\n",
        "        )\n",
        "        model.fit(X_train_, y_train)\n",
        "        explainer = None\n",
        "        feature_importances = None\n",
        "        feature_names = None\n",
        "        feature_importance_dict = None\n",
        "    elif model_type == 'nb':\n",
        "        model = MultinomialNB(**params.get('multinomialnb', {}))\n",
        "        model.fit(X_train_, y_train)\n",
        "        explainer = None\n",
        "        feature_importances = None\n",
        "        feature_names = None\n",
        "        feature_importance_dict = None\n",
        "\n",
        "    end_time = time.time()\n",
        "    elapsed_time = end_time - start_time\n",
        "    print(f\"Pipeline fitting completed. Time elapsed: {elapsed_time/60:.2f} minutes.\")\n",
        "\n",
        "    # Save the trained pipeline\n",
        "    joblib.dump(model, f'{folder_path}{model_type}_pipeline.pkl')\n",
        "    joblib.dump(X_train_, f'{folder_path}{model_type}_X_train.pkl')\n",
        "    joblib.dump(X_test_, f'{folder_path}{model_type}_X_test.pkl')\n",
        "\n",
        "    if explainer:\n",
        "        joblib.dump(explainer, f'{folder_path}{model_type}_shap.pkl')\n",
        "        joblib.dump(feature_importance_dict, f'{folder_path}{model_type}_features.pkl')\n",
        "    print('Write to pkl file completed.')\n",
        "\n",
        "    return model, X_train_, X_test_, explainer, feature_importance_dict\n"
      ]
    },
    {
      "cell_type": "markdown",
      "metadata": {
        "id": "OeLOTGfqUtQ2"
      },
      "source": [
        "## Naive Bayes"
      ]
    },
    {
      "cell_type": "code",
      "execution_count": null,
      "metadata": {
        "id": "uT-KtOahUtQ3",
        "outputId": "acd02761-773b-42d7-9fb8-1114522dae30"
      },
      "outputs": [
        {
          "name": "stdout",
          "output_type": "stream",
          "text": [
            "Vectorization completed. Time elapsed: 0.23 minutes.\n",
            "Pipeline fitting completed. Time elapsed: 0.23 minutes.\n",
            "Write to pkl file completed.\n"
          ]
        }
      ],
      "source": [
        "# Define variables\n",
        "model = 'nb'\n",
        "vectorization = 'tfidf'\n",
        "ngram = 1\n",
        "params = {'multinomialnb': {'alpha': 1}}\n",
        "\n",
        "# Run model\n",
        "model, train, test, explainer, feature_importance_dict = model_testing(X_train, y_train, X_test, y_test, model, vectorization, ngram, params)"
      ]
    },
    {
      "cell_type": "markdown",
      "metadata": {
        "id": "nihU1Me_eeO1"
      },
      "source": [
        "## K-Nearest Neighbors"
      ]
    },
    {
      "cell_type": "code",
      "execution_count": null,
      "metadata": {
        "id": "x_4uzFrwfUkB",
        "outputId": "5b05b8a6-cbfb-4663-fcc5-5564df7bd492"
      },
      "outputs": [
        {
          "name": "stdout",
          "output_type": "stream",
          "text": [
            "Vectorization completed. Time elapsed: 0.23 minutes.\n",
            "Pipeline fitting completed. Time elapsed: 0.32 minutes.\n",
            "Write to pkl file completed.\n"
          ]
        }
      ],
      "source": [
        "# Define variables\n",
        "model = 'knn'\n",
        "vectorization = 'tfidf'\n",
        "ngram = 1\n",
        "params = {\n",
        "    'kneighborsclassifier': {'weights': 'distance', 'p': 1, 'n_neighbors': 3},\n",
        "}\n",
        "\n",
        "# Run model\n",
        "model, train, test, explainer, feature_importance_dict = model_testing(X_train, y_train, X_test, y_test, model, vectorization, ngram, params)"
      ]
    },
    {
      "cell_type": "markdown",
      "metadata": {
        "id": "svsUhDyhs-EK"
      },
      "source": [
        "## XGBoost"
      ]
    },
    {
      "cell_type": "code",
      "execution_count": null,
      "metadata": {
        "id": "KFII2SqOUtQ4",
        "outputId": "fa81b619-36a4-4ff9-c891-9c6deb5c40d8"
      },
      "outputs": [
        {
          "name": "stdout",
          "output_type": "stream",
          "text": [
            "Vectorization completed. Time elapsed: 0.23 minutes.\n",
            "Pipeline fitting completed. Time elapsed: 8.60 minutes.\n",
            "Write to pkl file completed.\n"
          ]
        }
      ],
      "source": [
        "# Define variables\n",
        "model = 'xgb'\n",
        "vectorization = 'tfidf'\n",
        "ngram = 1\n",
        "params = {\n",
        "    'xgbclassifier': {'subsample': 0.8, 'n_estimators': 150, 'max_depth': 9, 'learning_rate': 0.05, 'colsample_bytree': 0.5},\n",
        "}\n",
        "\n",
        "# Run model\n",
        "model, train, test, explainer, feature_importance_dict = model_testing(X_train, y_train, X_test, y_test, model, vectorization, ngram, params)"
      ]
    }
  ],
  "metadata": {
    "colab": {
      "collapsed_sections": [
        "sdKBq7ETihSJ"
      ],
      "provenance": [],
      "include_colab_link": true
    },
    "kernelspec": {
      "display_name": "Python 3 (ipykernel)",
      "language": "python",
      "name": "python3"
    },
    "language_info": {
      "codemirror_mode": {
        "name": "ipython",
        "version": 3
      },
      "file_extension": ".py",
      "mimetype": "text/x-python",
      "name": "python",
      "nbconvert_exporter": "python",
      "pygments_lexer": "ipython3",
      "version": "3.9.7"
    }
  },
  "nbformat": 4,
  "nbformat_minor": 0
}