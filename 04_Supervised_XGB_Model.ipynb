{
  "cells": [
    {
      "cell_type": "markdown",
      "metadata": {
        "id": "view-in-github",
        "colab_type": "text"
      },
      "source": [
        "<a href=\"https://colab.research.google.com/github/d-atallah/implicit_gender_bias/blob/main/04_Supervised_XGB_Model.ipynb\" target=\"_parent\"><img src=\"https://colab.research.google.com/assets/colab-badge.svg\" alt=\"Open In Colab\"/></a>"
      ]
    },
    {
      "cell_type": "markdown",
      "metadata": {
        "id": "cHf_jOR9jOca"
      },
      "source": [
        "# Import, Download, & Variable Statements"
      ]
    },
    {
      "cell_type": "code",
      "execution_count": null,
      "metadata": {
        "colab": {
          "base_uri": "https://localhost:8080/"
        },
        "id": "n6WzZ3_ujTwL",
        "outputId": "172843ab-7d0e-42d7-dce9-ee13902a825b"
      },
      "outputs": [
        {
          "name": "stderr",
          "output_type": "stream",
          "text": [
            "[nltk_data] Downloading package stopwords to\n",
            "[nltk_data]     /home/gibsonce/nltk_data...\n",
            "[nltk_data]   Package stopwords is already up-to-date!\n",
            "[nltk_data] Downloading package wordnet to /home/gibsonce/nltk_data...\n",
            "[nltk_data]   Package wordnet is already up-to-date!\n",
            "[nltk_data] Downloading package punkt to /home/gibsonce/nltk_data...\n",
            "[nltk_data]   Package punkt is already up-to-date!\n"
          ]
        }
      ],
      "source": [
        "# Import & download statements\n",
        "# General statements\n",
        "import pandas as pd\n",
        "import string\n",
        "import re\n",
        "import joblib\n",
        "import os\n",
        "import numpy as np\n",
        "import time\n",
        "import spacy\n",
        "import scipy\n",
        "\n",
        "# Feature selection & model tuning\n",
        "from sklearn.model_selection import train_test_split, GridSearchCV, RandomizedSearchCV, cross_val_score, StratifiedKFold, cross_validate\n",
        "from sklearn.feature_extraction.text import CountVectorizer, TfidfVectorizer\n",
        "from sklearn.pipeline import make_pipeline\n",
        "from sklearn.decomposition import TruncatedSVD,PCA, NMF\n",
        "from sklearn.metrics import confusion_matrix,precision_score, recall_score, f1_score, accuracy_score, roc_curve, roc_auc_score, log_loss, make_scorer, average_precision_score\n",
        "\n",
        "# Model options\n",
        "from xgboost import XGBClassifier\n",
        "from sklearn.linear_model import LogisticRegression\n",
        "from sklearn.ensemble import RandomForestClassifier\n",
        "from sklearn.svm import SVC\n",
        "from sklearn.neighbors import KNeighborsClassifier\n",
        "from sklearn.naive_bayes import MultinomialNB\n",
        "\n",
        "# NLTK resources\n",
        "import nltk\n",
        "from nltk.corpus import stopwords\n",
        "from nltk.stem import WordNetLemmatizer\n",
        "from nltk.stem import PorterStemmer\n",
        "\n",
        "nltk.download('stopwords')\n",
        "nltk.download('wordnet')\n",
        "nltk.download('punkt')\n",
        "\n",
        "stop_words = set(stopwords.words('english'))\n",
        "lemmatizer = WordNetLemmatizer()\n",
        "porter = PorterStemmer()\n",
        "nlp = spacy.load(\"en_core_web_sm\")"
      ]
    },
    {
      "cell_type": "markdown",
      "metadata": {
        "id": "9FJueqg02GhL"
      },
      "source": [
        "## Read Inputs"
      ]
    },
    {
      "cell_type": "code",
      "execution_count": null,
      "metadata": {
        "id": "pPZ-eni9oS-A"
      },
      "outputs": [],
      "source": [
        "# Variables\n",
        "folder_path = '/home/gibsonce/datallah-jaymefis-gibsonce/'\n",
        "\n",
        "# Load DataFrames from pkl files\n",
        "X_train = pd.read_pickle(folder_path + 'X_train_preprocessed_custom.pkl')\n",
        "X_test = pd.read_pickle(folder_path + 'X_test_preprocessed_custom.pkl')\n",
        "y_train = pd.read_pickle(folder_path + 'y_train_custom.pkl')\n",
        "y_test = pd.read_pickle(folder_path + 'y_test_custom.pkl')"
      ]
    },
    {
      "cell_type": "code",
      "execution_count": null,
      "metadata": {
        "id": "2fsNgrmU2GhM"
      },
      "outputs": [],
      "source": [
        "# Filter X_train and X_test to remove NaN records\n",
        "non_nan_indices_train = ~X_train.isnull()\n",
        "non_nan_indices_test = ~X_test.isnull()\n",
        "\n",
        "y_train = y_train[non_nan_indices_train]\n",
        "y_test = y_test[non_nan_indices_test]\n",
        "\n",
        "X_train = X_train[non_nan_indices_train]\n",
        "X_test = X_test[non_nan_indices_test]"
      ]
    },
    {
      "cell_type": "markdown",
      "metadata": {
        "id": "9zRF7xFVjBKo"
      },
      "source": [
        "## Define Functions\n"
      ]
    },
    {
      "cell_type": "code",
      "execution_count": null,
      "metadata": {
        "id": "4Dg1goFgVIxU"
      },
      "outputs": [],
      "source": [
        "def tokenize_and_categorize_batch(texts):\n",
        "    docs = list(nlp.pipe(texts))\n",
        "    word_features = [' '.join([token.text for token in doc]) for doc in docs]\n",
        "    pos_tags = [' '.join([token.pos_ for token in doc]) for doc in docs]\n",
        "\n",
        "    return word_features, pos_tags"
      ]
    },
    {
      "cell_type": "code",
      "execution_count": null,
      "metadata": {
        "id": "C3LfefC-VIxV"
      },
      "outputs": [],
      "source": [
        "def model_testing(X_train, y_train, X_test, y_test, params, model_type = 'XGB'):\n",
        "    \"\"\"\n",
        "    Runs a specified model and dimensionality reduction method with tuned hyperparameters\n",
        "\n",
        "    Parameters:\n",
        "    - X_train (array-like): Training set features, preprocessed.\n",
        "    - y_train (array-like): Training set labels.\n",
        "    - X_test (array-like): Test set features, preprocessed.\n",
        "    - y_test (array-like): Test set labels.\n",
        "    - params (dict): Hyperparameter grid for the specified model and dimensionality reduction method.\n",
        "    - model_type (str): Prefix option for reads and writes.\n",
        "\n",
        "    Returns:\n",
        "    - Pipeline: Trained and fit pipeline with the best hyperparameters.\n",
        "    - X_train_combined (array-like): Preprocessed  and vectorized training set features with POS tagging.\n",
        "    - X_test_combined (array-like): Preprocessed  and vectorized test set features with POS tagging.\n",
        "    - feature_importance_dict (Dict): Dictionary of model feature importances.\n",
        "    \"\"\"\n",
        "\n",
        "    start_time = time.time()\n",
        "\n",
        "    train_batch_size = 10000\n",
        "    test_batch_size = 10000\n",
        "\n",
        "    X_train_ = pd.Series(dtype='object')\n",
        "    X_train_pos = pd.Series(dtype='object')\n",
        "    X_test_ = pd.Series(dtype='object')\n",
        "    X_test_pos = pd.Series(dtype='object')\n",
        "\n",
        "    # Iterator for training data\n",
        "    train_iterator = (X_train.iloc[i:i+train_batch_size] for i in range(0, len(X_train), train_batch_size))\n",
        "\n",
        "    # Concatenate each batch of results for training data\n",
        "    print('Train batch start')\n",
        "    for train_batch in train_iterator:\n",
        "        X_train_word_features, X_train_pos_tags = tokenize_and_categorize_batch(train_batch)\n",
        "        X_train_ = pd.concat([X_train_, pd.Series(X_train_word_features)])\n",
        "        X_train_pos = pd.concat([X_train_pos, pd.Series(X_train_pos_tags)])\n",
        "    print('Train batch end')\n",
        "\n",
        "    # Iterator for testing data\n",
        "    test_iterator = (X_test.iloc[i:i+test_batch_size] for i in range(0, len(X_test), test_batch_size))\n",
        "    print('Test batch start')\n",
        "    # Concatenate each batch of results for testing data\n",
        "    for test_batch in test_iterator:\n",
        "        X_test_word_features, X_test_pos_tags = tokenize_and_categorize_batch(test_batch)\n",
        "        X_test_ = pd.concat([X_test_, pd.Series(X_test_word_features)])\n",
        "        X_test_pos = pd.concat([X_test_pos, pd.Series(X_test_pos_tags)])\n",
        "    print('Test batch end')\n",
        "\n",
        "    # Reset the index\n",
        "    X_train_.reset_index(drop=True, inplace=True)\n",
        "    X_train_pos.reset_index(drop=True, inplace=True)\n",
        "    X_test_.reset_index(drop=True, inplace=True)\n",
        "    X_test_pos.reset_index(drop=True, inplace=True)\n",
        "\n",
        "    X_train = X_train_\n",
        "    X_test = X_test_\n",
        "    X_train_pos_tags = X_train_pos\n",
        "    X_test_pos_tags = X_test_pos\n",
        "\n",
        "    # Vectorize the word features\n",
        "    word_features_vectorizer = TfidfVectorizer(ngram_range=(1, 1))\n",
        "    X_train_word_features_ = word_features_vectorizer.fit_transform(X_train)\n",
        "    X_test_word_features_ = word_features_vectorizer.transform(X_test)\n",
        "\n",
        "    # Vectorize the parts of speech tags\n",
        "    pos_tags_vectorizer = TfidfVectorizer(ngram_range=(1, 1))\n",
        "    X_train_pos_tags_ = pos_tags_vectorizer.fit_transform(X_train_pos)\n",
        "    X_test_pos_tags_ = pos_tags_vectorizer.transform(X_test_pos)\n",
        "\n",
        "    end_time = time.time()\n",
        "    elapsed_time = end_time - start_time\n",
        "    print(f\"Vectorization completed. Time elapsed: {elapsed_time/60:.2f} minutes.\")\n",
        "\n",
        "    # Combine the vectorized word features and parts of speech tags\n",
        "    X_train_combined = scipy.sparse.hstack([X_train_word_features_, X_train_pos_tags_])\n",
        "    X_test_combined = scipy.sparse.hstack([X_test_word_features_, X_test_pos_tags_])\n",
        "\n",
        "    model = XGBClassifier(random_state=42, **params.get('xgbclassifier', {}))\n",
        "    model.fit(X_train_combined, y_train)\n",
        "\n",
        "    end_time = time.time()\n",
        "    elapsed_time = end_time - start_time\n",
        "    print(f\"Pipeline fitting completed. Time elapsed: {elapsed_time/60:.2f} minutes.\")\n",
        "\n",
        "    # Create feature importances\n",
        "    feature_importances = model.feature_importances_\n",
        "    word_features = (word_features_vectorizer.get_feature_names_out())\n",
        "    feature_importance_dict = dict(zip(word_features, feature_importances))\n",
        "\n",
        "    # Save the trained pipeline\n",
        "    joblib.dump(model, f'{folder_path}{model_type}_pipeline_custom.pkl')\n",
        "    joblib.dump(X_train_combined, f'{folder_path}{model_type}_X_train_custom.pkl')\n",
        "    joblib.dump(X_test_combined, f'{folder_path}{model_type}_X_test_custom.pkl')\n",
        "    joblib.dump(feature_importance_dict, f'{folder_path}{model_type}_features_custom.pkl')\n",
        "\n",
        "    print('Write to pkl file completed.')\n",
        "\n",
        "    return model, X_train_combined, X_test_combined, feature_importance_dict\n"
      ]
    },
    {
      "cell_type": "markdown",
      "metadata": {
        "id": "svsUhDyhs-EK"
      },
      "source": [
        "## XGBoost"
      ]
    },
    {
      "cell_type": "code",
      "execution_count": null,
      "metadata": {
        "colab": {
          "base_uri": "https://localhost:8080/"
        },
        "id": "0WQx9XkK2GhO",
        "outputId": "822cc128-c179-439b-cb89-04cc69ca1869"
      },
      "outputs": [
        {
          "name": "stdout",
          "output_type": "stream",
          "text": [
            "Train batch start\n",
            "Train batch end\n",
            "Test batch start\n",
            "Test batch end\n",
            "Vectorization completed. Time elapsed: 12.48 minutes.\n",
            "Pipeline fitting completed. Time elapsed: 16.82 minutes.\n",
            "Write to pkl file completed.\n"
          ]
        }
      ],
      "source": [
        "# Define variables\n",
        "model_type = 'xgb'\n",
        "params = {\n",
        "    'xgbclassifier': {'subsample': 0.8, 'n_estimators': 150, 'max_depth': 9, 'learning_rate': 0.05, 'colsample_bytree': 0.5},\n",
        "}\n",
        "\n",
        "\n",
        "# Run model\n",
        "model, train, test, feature_importance_dict = model_testing(X_train, y_train, X_test, y_test, params , model_type)"
      ]
    }
  ],
  "metadata": {
    "colab": {
      "collapsed_sections": [
        "sdKBq7ETihSJ"
      ],
      "provenance": [],
      "include_colab_link": true
    },
    "kernelspec": {
      "display_name": "Python 3 (ipykernel)",
      "language": "python",
      "name": "python3"
    },
    "language_info": {
      "codemirror_mode": {
        "name": "ipython",
        "version": 3
      },
      "file_extension": ".py",
      "mimetype": "text/x-python",
      "name": "python",
      "nbconvert_exporter": "python",
      "pygments_lexer": "ipython3",
      "version": "3.9.7"
    }
  },
  "nbformat": 4,
  "nbformat_minor": 0
}