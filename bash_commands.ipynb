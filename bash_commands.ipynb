{
  "nbformat": 4,
  "nbformat_minor": 0,
  "metadata": {
    "colab": {
      "provenance": [],
      "mount_file_id": "1c7uOxwz7nxU__FY-IbCA9JrzNJ7sC-z7",
      "authorship_tag": "ABX9TyPdnrLy56+VQBrilZx8FvKy",
      "include_colab_link": true
    },
    "kernelspec": {
      "name": "python3",
      "display_name": "Python 3"
    },
    "language_info": {
      "name": "python"
    }
  },
  "cells": [
    {
      "cell_type": "markdown",
      "metadata": {
        "id": "view-in-github",
        "colab_type": "text"
      },
      "source": [
        "<a href=\"https://colab.research.google.com/github/d-atallah/implicit_gender_bias/blob/main/bash_commands.ipynb\" target=\"_parent\"><img src=\"https://colab.research.google.com/assets/colab-badge.svg\" alt=\"Open In Colab\"/></a>"
      ]
    },
    {
      "cell_type": "code",
      "execution_count": 12,
      "metadata": {
        "id": "N3nfOyXpkjla"
      },
      "outputs": [],
      "source": [
        "# %%bash\n",
        "\n",
        "# cut -d ',' -f 2,5 ted_responses.csv | sed '/,$/d' | awk 'BEGIN{OFS=\",\"}{print \"TED\" NR, $0}' > combined_responses.csv\n",
        "# sed '1d' reddit_responses.csv | cut -d ',' -f 2,5 | sed '/,$/d' | awk 'BEGIN{OFS=\",\"}{print \"RED\" NR, $0}' >> combined_responses.csv\n",
        "# sed '1d' fitocracy_responses.csv | cut -d ',' -f 2,5 | sed '/,$/d' | awk 'BEGIN{OFS=\",\"}{print \"FIT\" NR, $0}' >> combined_responses.csv\n",
        "# sed '1d' facebook_wiki_responses.csv | cut -d ',' -f 2,5 | sed '/,$/d' | awk 'BEGIN{OFS=\",\"}{print \"FBW\" NR, $0}' >> combined_responses.csv\n",
        "# sed '1d' facebook_congress_responses.csv | cut -d ',' -f 2,5 | sed '/,$/d' | awk 'BEGIN{OFS=\",\"}{print \"FBC\" NR, $0}' >> combined_responses.csv"
      ]
    },
    {
      "cell_type": "code",
      "source": [
        "# %%bash\n",
        "\n",
        "# grep '^TED' combined_responses.csv | grep ',M,' | shuf -r -n 5000000 > sample_five_million.csv\n",
        "# grep '^TED' combined_responses.csv | grep ',W,' | shuf -r -n 5000000 >> sample_five_million.csv\n",
        "# grep '^RED' combined_responses.csv | grep ',M,' | shuf -r -n 5000000 >> sample_five_million.csv\n",
        "# grep '^RED' combined_responses.csv | grep ',W,' | shuf -r -n 5000000 >> sample_five_million.csv\n",
        "# grep '^FIT' combined_responses.csv | grep ',M,' | shuf -r -n 5000000 >> sample_five_million.csv\n",
        "# grep '^FIT' combined_responses.csv | grep ',W,' | shuf -r -n 5000000 >> sample_five_million.csv\n",
        "# grep '^FBW' combined_responses.csv | grep ',M,' | shuf -r -n 5000000 >> sample_five_million.csv\n",
        "# grep '^FBW' combined_responses.csv | grep ',W,' | shuf -r -n 5000000 >> sample_five_million.csv\n",
        "# grep '^FBC' combined_responses.csv | grep ',M,' | shuf -r -n 5000000 >> sample_five_million.csv\n",
        "# grep '^FBC' combined_responses.csv | grep ',W,' | shuf -r -n 5000000 >> sample_five_million.csv\n",
        "\n",
        "# tail -10 sample_five_million.csv\n",
        "# wc -l sample_five_million.csv\n",
        "\n",
        "# grep '^TED' sample_five_million.csv | grep ',M,' | shuf -n 3000000 > sample_three_million.csv\n",
        "# grep '^TED' sample_five_million.csv | grep ',W,' | shuf -n 3000000 >> sample_three_million.csv\n",
        "# grep '^RED' sample_five_million.csv | grep ',M,' | shuf -n 3000000 >> sample_three_million.csv\n",
        "# grep '^RED' sample_five_million.csv | grep ',W,' | shuf -n 3000000 >> sample_three_million.csv\n",
        "# grep '^FIT' sample_five_million.csv | grep ',M,' | shuf -n 3000000 >> sample_three_million.csv\n",
        "# grep '^FIT' sample_five_million.csv | grep ',W,' | shuf -n 3000000 >> sample_three_million.csv\n",
        "# grep '^FBW' sample_five_million.csv | grep ',M,' | shuf -n 3000000 >> sample_three_million.csv\n",
        "# grep '^FBW' sample_five_million.csv | grep ',W,' | shuf -n 3000000 >> sample_three_million.csv\n",
        "# grep '^FBC' sample_five_million.csv | grep ',M,' | shuf -n 3000000 >> sample_three_million.csv\n",
        "# grep '^FBC' sample_five_million.csv | grep ',W,' | shuf -n 3000000 >> sample_three_million.csv\n",
        "\n",
        "# tail -10 sample_three_million.csv\n",
        "# wc -l sample_three_million.csv\n",
        "# grep '^TED' sample_three_million.csv | wc -l"
      ],
      "metadata": {
        "id": "ZSY_HfnNvGM0"
      },
      "execution_count": null,
      "outputs": []
    }
  ]
}