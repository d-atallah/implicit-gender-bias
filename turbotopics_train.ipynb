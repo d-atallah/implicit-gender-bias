{
  "nbformat": 4,
  "nbformat_minor": 0,
  "metadata": {
    "colab": {
      "provenance": [],
      "authorship_tag": "ABX9TyM8XOFDsa+PYTrYUTqlUi0+",
      "include_colab_link": true
    },
    "kernelspec": {
      "name": "python3",
      "display_name": "Python 3"
    },
    "language_info": {
      "name": "python"
    }
  },
  "cells": [
    {
      "cell_type": "markdown",
      "metadata": {
        "id": "view-in-github",
        "colab_type": "text"
      },
      "source": [
        "<a href=\"https://colab.research.google.com/github/d-atallah/implicit_gender_bias/blob/cluster_da/turbotopics_train.ipynb\" target=\"_parent\"><img src=\"https://colab.research.google.com/assets/colab-badge.svg\" alt=\"Open In Colab\"/></a>"
      ]
    },
    {
      "cell_type": "markdown",
      "source": [
        "# Turbo Topics Training\n",
        "Per feedback from Professor Collins-Thompson, we will be trialing the turbo topics  model for our unsupervised portion. Turbo topics is a permutative topic modeler that identifies words and phrases significant to a topic.\n",
        "\n",
        "Turbo topics is documented by its creators here: https://arxiv.org/pdf/0907.1013.pdf.\n",
        "\n",
        "## Dependencies\n",
        "This section contains all imports and initialized global variables.\n",
        "\n",
        "### Clone Github Repository\n",
        "I am including this step to ensure usability in multiple environments (i.e. Google Colab and Great Lakes Cluster for this project)."
      ],
      "metadata": {
        "id": "-AxDDefUI_12"
      }
    },
    {
      "cell_type": "code",
      "source": [
        "!git clone https://github.com/d-atallah/implicit_gender_bias.git\n",
        "!git clone https://github.com/blei-lab/turbotopics.git"
      ],
      "metadata": {
        "colab": {
          "base_uri": "https://localhost:8080/"
        },
        "id": "llOFVE_lKVoi",
        "outputId": "90ca2079-7512-427b-c69e-422c47e859dc"
      },
      "execution_count": null,
      "outputs": [
        {
          "output_type": "stream",
          "name": "stdout",
          "text": [
            "Cloning into 'implicit_gender_bias'...\n",
            "remote: Enumerating objects: 175, done.\u001b[K\n",
            "remote: Counting objects: 100% (102/102), done.\u001b[K\n",
            "remote: Compressing objects: 100% (94/94), done.\u001b[K\n",
            "remote: Total 175 (delta 55), reused 19 (delta 8), pack-reused 73\u001b[K\n",
            "Receiving objects: 100% (175/175), 579.70 KiB | 2.76 MiB/s, done.\n",
            "Resolving deltas: 100% (82/82), done.\n",
            "Cloning into 'turbotopics'...\n",
            "remote: Enumerating objects: 11, done.\u001b[K\n",
            "remote: Total 11 (delta 0), reused 0 (delta 0), pack-reused 11\u001b[K\n",
            "Receiving objects: 100% (11/11), 9.81 KiB | 9.81 MiB/s, done.\n",
            "Resolving deltas: 100% (2/2), done.\n"
          ]
        }
      ]
    },
    {
      "cell_type": "markdown",
      "source": [
        "### Import Libraries\n",
        "From here we are importing all necessary libraries as well as a configuration file from our repository containing shared functions that we may use across our notebooks."
      ],
      "metadata": {
        "id": "h-H-HQdGKRZ4"
      }
    },
    {
      "cell_type": "code",
      "source": [
        "from implicit_gender_bias import config as cf\n",
        "import pandas as pd\n",
        "import numpy as np\n",
        "import joblib\n",
        "import os\n",
        "import nltk\n",
        "from nltk.tokenize.casual import TweetTokenizer\n",
        "nltk.download('wordnet')\n",
        "from nltk.stem.wordnet import WordNetLemmatizer\n",
        "from sklearn.feature_extraction.text import CountVectorizer, TfidfVectorizer\n",
        "from sklearn.decomposition import LatentDirichletAllocation as LDA\n",
        "from sklearn.model_selection import GridSearchCV"
      ],
      "metadata": {
        "colab": {
          "base_uri": "https://localhost:8080/"
        },
        "id": "K2QA4eDAKbo_",
        "outputId": "d5f1273d-2e05-4974-9f85-8c828f4da7a8"
      },
      "execution_count": null,
      "outputs": [
        {
          "output_type": "stream",
          "name": "stderr",
          "text": [
            "[nltk_data] Downloading package wordnet to /root/nltk_data...\n",
            "[nltk_data] Downloading package wordnet to /root/nltk_data...\n",
            "[nltk_data]   Package wordnet is already up-to-date!\n"
          ]
        }
      ]
    },
    {
      "cell_type": "code",
      "source": [
        "# install older version of python for compatibility with turbotopics code\n",
        "!sudo apt-get install python2.7"
      ],
      "metadata": {
        "colab": {
          "base_uri": "https://localhost:8080/"
        },
        "id": "4LyL98hCqcvd",
        "outputId": "ab642c52-273e-43de-ea3e-072b7bdc7703"
      },
      "execution_count": null,
      "outputs": [
        {
          "output_type": "stream",
          "name": "stdout",
          "text": [
            "Reading package lists... Done\n",
            "Building dependency tree... Done\n",
            "Reading state information... Done\n",
            "The following additional packages will be installed:\n",
            "  libpython2.7-minimal libpython2.7-stdlib python2.7-minimal\n",
            "Suggested packages:\n",
            "  python2.7-doc binfmt-support\n",
            "The following NEW packages will be installed:\n",
            "  libpython2.7-minimal libpython2.7-stdlib python2.7 python2.7-minimal\n",
            "0 upgraded, 4 newly installed, 0 to remove and 33 not upgraded.\n",
            "Need to get 3,967 kB of archives.\n",
            "After this operation, 16.0 MB of additional disk space will be used.\n",
            "Get:1 http://archive.ubuntu.com/ubuntu jammy-updates/universe amd64 libpython2.7-minimal amd64 2.7.18-13ubuntu1.1 [347 kB]\n",
            "Get:2 http://archive.ubuntu.com/ubuntu jammy-updates/universe amd64 python2.7-minimal amd64 2.7.18-13ubuntu1.1 [1,394 kB]\n",
            "Get:3 http://archive.ubuntu.com/ubuntu jammy-updates/universe amd64 libpython2.7-stdlib amd64 2.7.18-13ubuntu1.1 [1,977 kB]\n",
            "Get:4 http://archive.ubuntu.com/ubuntu jammy-updates/universe amd64 python2.7 amd64 2.7.18-13ubuntu1.1 [250 kB]\n",
            "Fetched 3,967 kB in 2s (2,332 kB/s)\n",
            "debconf: unable to initialize frontend: Dialog\n",
            "debconf: (No usable dialog-like program is installed, so the dialog based frontend cannot be used. at /usr/share/perl5/Debconf/FrontEnd/Dialog.pm line 78, <> line 4.)\n",
            "debconf: falling back to frontend: Readline\n",
            "debconf: unable to initialize frontend: Readline\n",
            "debconf: (This frontend requires a controlling tty.)\n",
            "debconf: falling back to frontend: Teletype\n",
            "dpkg-preconfigure: unable to re-open stdin: \n",
            "Selecting previously unselected package libpython2.7-minimal:amd64.\n",
            "(Reading database ... 121749 files and directories currently installed.)\n",
            "Preparing to unpack .../libpython2.7-minimal_2.7.18-13ubuntu1.1_amd64.deb ...\n",
            "Unpacking libpython2.7-minimal:amd64 (2.7.18-13ubuntu1.1) ...\n",
            "Selecting previously unselected package python2.7-minimal.\n",
            "Preparing to unpack .../python2.7-minimal_2.7.18-13ubuntu1.1_amd64.deb ...\n",
            "Unpacking python2.7-minimal (2.7.18-13ubuntu1.1) ...\n",
            "Selecting previously unselected package libpython2.7-stdlib:amd64.\n",
            "Preparing to unpack .../libpython2.7-stdlib_2.7.18-13ubuntu1.1_amd64.deb ...\n",
            "Unpacking libpython2.7-stdlib:amd64 (2.7.18-13ubuntu1.1) ...\n",
            "Selecting previously unselected package python2.7.\n",
            "Preparing to unpack .../python2.7_2.7.18-13ubuntu1.1_amd64.deb ...\n",
            "Unpacking python2.7 (2.7.18-13ubuntu1.1) ...\n",
            "Setting up libpython2.7-minimal:amd64 (2.7.18-13ubuntu1.1) ...\n",
            "Setting up python2.7-minimal (2.7.18-13ubuntu1.1) ...\n",
            "Linking and byte-compiling packages for runtime python2.7...\n",
            "Setting up libpython2.7-stdlib:amd64 (2.7.18-13ubuntu1.1) ...\n",
            "Setting up python2.7 (2.7.18-13ubuntu1.1) ...\n",
            "Processing triggers for man-db (2.10.2-1) ...\n"
          ]
        }
      ]
    },
    {
      "cell_type": "markdown",
      "source": [
        "### Set Reoccuring Variables\n",
        "Here I will set variables that will be used throughout this notebook. Filepath is specified based on environment (Colab vs. GLC). I am also specifying the exact files I want to use for training."
      ],
      "metadata": {
        "id": "b012d8X3ccZn"
      }
    },
    {
      "cell_type": "code",
      "source": [
        "filepath = cf.filepath()\n",
        "X_train = pd.read_csv(filepath + 'trns/annotations_X_train.csv').iloc[:,1:]\n",
        "# this is an unsupervised model so I will likely not use y_train\n",
        "y_train = pd.read_csv(filepath + 'trns/annotations_y_train.csv').iloc[:,1:]\n",
        "\n",
        "# create storage path if not exists\n",
        "tt_path = filepath + 'trns/turbotopics/'\n",
        "if os.path.exists(tt_path) == False:\n",
        "  print(os.path.exists(tt_path))\n",
        "\n",
        "# initializing stop_words\n",
        "stop_words = cf.stop\n",
        "wnl = WordNetLemmatizer()\n",
        "lemma_stop_words = [wnl.lemmatize(wrd) for wrd in stop_words]"
      ],
      "metadata": {
        "colab": {
          "base_uri": "https://localhost:8080/"
        },
        "id": "8ZEikEB1ceKZ",
        "outputId": "b6d216af-b8de-4c8e-ded3-6f3e024f5f8a"
      },
      "execution_count": null,
      "outputs": [
        {
          "output_type": "stream",
          "name": "stdout",
          "text": [
            "Mounted at /content/drive\n"
          ]
        }
      ]
    },
    {
      "cell_type": "code",
      "source": [
        "X_train.head()"
      ],
      "metadata": {
        "colab": {
          "base_uri": "https://localhost:8080/",
          "height": 206
        },
        "id": "1Oa-mnZsNlxR",
        "outputId": "9674f6b2-5dfb-4ca6-9fa0-5ed2aa7ac3e8"
      },
      "execution_count": null,
      "outputs": [
        {
          "output_type": "execute_result",
          "data": {
            "text/plain": [
              "   index             source  \\\n",
              "0   1749      facebook_wiki   \n",
              "1   3463  facebook_congress   \n",
              "2    917      facebook_wiki   \n",
              "3   5294  facebook_congress   \n",
              "4  14819                ted   \n",
              "\n",
              "                                           post_text  \\\n",
              "0  Second week of physical therapy and making gre...   \n",
              "1  Thank you 37th district dems PCOs for nominati...   \n",
              "2  Holiday survival tips: Never talk politics wit...   \n",
              "3  Over the past five years, the Obama Administra...   \n",
              "4  Martin Seligman gave a talk about brain, educa...   \n",
              "\n",
              "                                       response_text sentiment      relevance  \\\n",
              "0                      Tiger on a leash. Stay clear!     Mixed        Content   \n",
              "1  Congratulations !!! You deserved this honor . ...  Positive         Poster   \n",
              "2  i'll have a bloody Mary and a Steak Sandwich p...   Neutral     Irrelevant   \n",
              "3  Things will never be any different with someon...  Negative        Content   \n",
              "4  I like seligman and his studys but I dont unde...     Mixed  ContentPoster   \n",
              "\n",
              "                sourceID  \n",
              "0      facebook_wiki1749  \n",
              "1  facebook_congress3463  \n",
              "2       facebook_wiki917  \n",
              "3  facebook_congress5294  \n",
              "4               ted14819  "
            ],
            "text/html": [
              "\n",
              "  <div id=\"df-68dca7d2-78d6-4edb-932f-66cbc05e478c\" class=\"colab-df-container\">\n",
              "    <div>\n",
              "<style scoped>\n",
              "    .dataframe tbody tr th:only-of-type {\n",
              "        vertical-align: middle;\n",
              "    }\n",
              "\n",
              "    .dataframe tbody tr th {\n",
              "        vertical-align: top;\n",
              "    }\n",
              "\n",
              "    .dataframe thead th {\n",
              "        text-align: right;\n",
              "    }\n",
              "</style>\n",
              "<table border=\"1\" class=\"dataframe\">\n",
              "  <thead>\n",
              "    <tr style=\"text-align: right;\">\n",
              "      <th></th>\n",
              "      <th>index</th>\n",
              "      <th>source</th>\n",
              "      <th>post_text</th>\n",
              "      <th>response_text</th>\n",
              "      <th>sentiment</th>\n",
              "      <th>relevance</th>\n",
              "      <th>sourceID</th>\n",
              "    </tr>\n",
              "  </thead>\n",
              "  <tbody>\n",
              "    <tr>\n",
              "      <th>0</th>\n",
              "      <td>1749</td>\n",
              "      <td>facebook_wiki</td>\n",
              "      <td>Second week of physical therapy and making gre...</td>\n",
              "      <td>Tiger on a leash. Stay clear!</td>\n",
              "      <td>Mixed</td>\n",
              "      <td>Content</td>\n",
              "      <td>facebook_wiki1749</td>\n",
              "    </tr>\n",
              "    <tr>\n",
              "      <th>1</th>\n",
              "      <td>3463</td>\n",
              "      <td>facebook_congress</td>\n",
              "      <td>Thank you 37th district dems PCOs for nominati...</td>\n",
              "      <td>Congratulations !!! You deserved this honor . ...</td>\n",
              "      <td>Positive</td>\n",
              "      <td>Poster</td>\n",
              "      <td>facebook_congress3463</td>\n",
              "    </tr>\n",
              "    <tr>\n",
              "      <th>2</th>\n",
              "      <td>917</td>\n",
              "      <td>facebook_wiki</td>\n",
              "      <td>Holiday survival tips: Never talk politics wit...</td>\n",
              "      <td>i'll have a bloody Mary and a Steak Sandwich p...</td>\n",
              "      <td>Neutral</td>\n",
              "      <td>Irrelevant</td>\n",
              "      <td>facebook_wiki917</td>\n",
              "    </tr>\n",
              "    <tr>\n",
              "      <th>3</th>\n",
              "      <td>5294</td>\n",
              "      <td>facebook_congress</td>\n",
              "      <td>Over the past five years, the Obama Administra...</td>\n",
              "      <td>Things will never be any different with someon...</td>\n",
              "      <td>Negative</td>\n",
              "      <td>Content</td>\n",
              "      <td>facebook_congress5294</td>\n",
              "    </tr>\n",
              "    <tr>\n",
              "      <th>4</th>\n",
              "      <td>14819</td>\n",
              "      <td>ted</td>\n",
              "      <td>Martin Seligman gave a talk about brain, educa...</td>\n",
              "      <td>I like seligman and his studys but I dont unde...</td>\n",
              "      <td>Mixed</td>\n",
              "      <td>ContentPoster</td>\n",
              "      <td>ted14819</td>\n",
              "    </tr>\n",
              "  </tbody>\n",
              "</table>\n",
              "</div>\n",
              "    <div class=\"colab-df-buttons\">\n",
              "\n",
              "  <div class=\"colab-df-container\">\n",
              "    <button class=\"colab-df-convert\" onclick=\"convertToInteractive('df-68dca7d2-78d6-4edb-932f-66cbc05e478c')\"\n",
              "            title=\"Convert this dataframe to an interactive table.\"\n",
              "            style=\"display:none;\">\n",
              "\n",
              "  <svg xmlns=\"http://www.w3.org/2000/svg\" height=\"24px\" viewBox=\"0 -960 960 960\">\n",
              "    <path d=\"M120-120v-720h720v720H120Zm60-500h600v-160H180v160Zm220 220h160v-160H400v160Zm0 220h160v-160H400v160ZM180-400h160v-160H180v160Zm440 0h160v-160H620v160ZM180-180h160v-160H180v160Zm440 0h160v-160H620v160Z\"/>\n",
              "  </svg>\n",
              "    </button>\n",
              "\n",
              "  <style>\n",
              "    .colab-df-container {\n",
              "      display:flex;\n",
              "      gap: 12px;\n",
              "    }\n",
              "\n",
              "    .colab-df-convert {\n",
              "      background-color: #E8F0FE;\n",
              "      border: none;\n",
              "      border-radius: 50%;\n",
              "      cursor: pointer;\n",
              "      display: none;\n",
              "      fill: #1967D2;\n",
              "      height: 32px;\n",
              "      padding: 0 0 0 0;\n",
              "      width: 32px;\n",
              "    }\n",
              "\n",
              "    .colab-df-convert:hover {\n",
              "      background-color: #E2EBFA;\n",
              "      box-shadow: 0px 1px 2px rgba(60, 64, 67, 0.3), 0px 1px 3px 1px rgba(60, 64, 67, 0.15);\n",
              "      fill: #174EA6;\n",
              "    }\n",
              "\n",
              "    .colab-df-buttons div {\n",
              "      margin-bottom: 4px;\n",
              "    }\n",
              "\n",
              "    [theme=dark] .colab-df-convert {\n",
              "      background-color: #3B4455;\n",
              "      fill: #D2E3FC;\n",
              "    }\n",
              "\n",
              "    [theme=dark] .colab-df-convert:hover {\n",
              "      background-color: #434B5C;\n",
              "      box-shadow: 0px 1px 3px 1px rgba(0, 0, 0, 0.15);\n",
              "      filter: drop-shadow(0px 1px 2px rgba(0, 0, 0, 0.3));\n",
              "      fill: #FFFFFF;\n",
              "    }\n",
              "  </style>\n",
              "\n",
              "    <script>\n",
              "      const buttonEl =\n",
              "        document.querySelector('#df-68dca7d2-78d6-4edb-932f-66cbc05e478c button.colab-df-convert');\n",
              "      buttonEl.style.display =\n",
              "        google.colab.kernel.accessAllowed ? 'block' : 'none';\n",
              "\n",
              "      async function convertToInteractive(key) {\n",
              "        const element = document.querySelector('#df-68dca7d2-78d6-4edb-932f-66cbc05e478c');\n",
              "        const dataTable =\n",
              "          await google.colab.kernel.invokeFunction('convertToInteractive',\n",
              "                                                    [key], {});\n",
              "        if (!dataTable) return;\n",
              "\n",
              "        const docLinkHtml = 'Like what you see? Visit the ' +\n",
              "          '<a target=\"_blank\" href=https://colab.research.google.com/notebooks/data_table.ipynb>data table notebook</a>'\n",
              "          + ' to learn more about interactive tables.';\n",
              "        element.innerHTML = '';\n",
              "        dataTable['output_type'] = 'display_data';\n",
              "        await google.colab.output.renderOutput(dataTable, element);\n",
              "        const docLink = document.createElement('div');\n",
              "        docLink.innerHTML = docLinkHtml;\n",
              "        element.appendChild(docLink);\n",
              "      }\n",
              "    </script>\n",
              "  </div>\n",
              "\n",
              "\n",
              "<div id=\"df-a0c0e5b4-7f67-4207-8042-5a3e707ded8b\">\n",
              "  <button class=\"colab-df-quickchart\" onclick=\"quickchart('df-a0c0e5b4-7f67-4207-8042-5a3e707ded8b')\"\n",
              "            title=\"Suggest charts\"\n",
              "            style=\"display:none;\">\n",
              "\n",
              "<svg xmlns=\"http://www.w3.org/2000/svg\" height=\"24px\"viewBox=\"0 0 24 24\"\n",
              "     width=\"24px\">\n",
              "    <g>\n",
              "        <path d=\"M19 3H5c-1.1 0-2 .9-2 2v14c0 1.1.9 2 2 2h14c1.1 0 2-.9 2-2V5c0-1.1-.9-2-2-2zM9 17H7v-7h2v7zm4 0h-2V7h2v10zm4 0h-2v-4h2v4z\"/>\n",
              "    </g>\n",
              "</svg>\n",
              "  </button>\n",
              "\n",
              "<style>\n",
              "  .colab-df-quickchart {\n",
              "      --bg-color: #E8F0FE;\n",
              "      --fill-color: #1967D2;\n",
              "      --hover-bg-color: #E2EBFA;\n",
              "      --hover-fill-color: #174EA6;\n",
              "      --disabled-fill-color: #AAA;\n",
              "      --disabled-bg-color: #DDD;\n",
              "  }\n",
              "\n",
              "  [theme=dark] .colab-df-quickchart {\n",
              "      --bg-color: #3B4455;\n",
              "      --fill-color: #D2E3FC;\n",
              "      --hover-bg-color: #434B5C;\n",
              "      --hover-fill-color: #FFFFFF;\n",
              "      --disabled-bg-color: #3B4455;\n",
              "      --disabled-fill-color: #666;\n",
              "  }\n",
              "\n",
              "  .colab-df-quickchart {\n",
              "    background-color: var(--bg-color);\n",
              "    border: none;\n",
              "    border-radius: 50%;\n",
              "    cursor: pointer;\n",
              "    display: none;\n",
              "    fill: var(--fill-color);\n",
              "    height: 32px;\n",
              "    padding: 0;\n",
              "    width: 32px;\n",
              "  }\n",
              "\n",
              "  .colab-df-quickchart:hover {\n",
              "    background-color: var(--hover-bg-color);\n",
              "    box-shadow: 0 1px 2px rgba(60, 64, 67, 0.3), 0 1px 3px 1px rgba(60, 64, 67, 0.15);\n",
              "    fill: var(--button-hover-fill-color);\n",
              "  }\n",
              "\n",
              "  .colab-df-quickchart-complete:disabled,\n",
              "  .colab-df-quickchart-complete:disabled:hover {\n",
              "    background-color: var(--disabled-bg-color);\n",
              "    fill: var(--disabled-fill-color);\n",
              "    box-shadow: none;\n",
              "  }\n",
              "\n",
              "  .colab-df-spinner {\n",
              "    border: 2px solid var(--fill-color);\n",
              "    border-color: transparent;\n",
              "    border-bottom-color: var(--fill-color);\n",
              "    animation:\n",
              "      spin 1s steps(1) infinite;\n",
              "  }\n",
              "\n",
              "  @keyframes spin {\n",
              "    0% {\n",
              "      border-color: transparent;\n",
              "      border-bottom-color: var(--fill-color);\n",
              "      border-left-color: var(--fill-color);\n",
              "    }\n",
              "    20% {\n",
              "      border-color: transparent;\n",
              "      border-left-color: var(--fill-color);\n",
              "      border-top-color: var(--fill-color);\n",
              "    }\n",
              "    30% {\n",
              "      border-color: transparent;\n",
              "      border-left-color: var(--fill-color);\n",
              "      border-top-color: var(--fill-color);\n",
              "      border-right-color: var(--fill-color);\n",
              "    }\n",
              "    40% {\n",
              "      border-color: transparent;\n",
              "      border-right-color: var(--fill-color);\n",
              "      border-top-color: var(--fill-color);\n",
              "    }\n",
              "    60% {\n",
              "      border-color: transparent;\n",
              "      border-right-color: var(--fill-color);\n",
              "    }\n",
              "    80% {\n",
              "      border-color: transparent;\n",
              "      border-right-color: var(--fill-color);\n",
              "      border-bottom-color: var(--fill-color);\n",
              "    }\n",
              "    90% {\n",
              "      border-color: transparent;\n",
              "      border-bottom-color: var(--fill-color);\n",
              "    }\n",
              "  }\n",
              "</style>\n",
              "\n",
              "  <script>\n",
              "    async function quickchart(key) {\n",
              "      const quickchartButtonEl =\n",
              "        document.querySelector('#' + key + ' button');\n",
              "      quickchartButtonEl.disabled = true;  // To prevent multiple clicks.\n",
              "      quickchartButtonEl.classList.add('colab-df-spinner');\n",
              "      try {\n",
              "        const charts = await google.colab.kernel.invokeFunction(\n",
              "            'suggestCharts', [key], {});\n",
              "      } catch (error) {\n",
              "        console.error('Error during call to suggestCharts:', error);\n",
              "      }\n",
              "      quickchartButtonEl.classList.remove('colab-df-spinner');\n",
              "      quickchartButtonEl.classList.add('colab-df-quickchart-complete');\n",
              "    }\n",
              "    (() => {\n",
              "      let quickchartButtonEl =\n",
              "        document.querySelector('#df-a0c0e5b4-7f67-4207-8042-5a3e707ded8b button');\n",
              "      quickchartButtonEl.style.display =\n",
              "        google.colab.kernel.accessAllowed ? 'block' : 'none';\n",
              "    })();\n",
              "  </script>\n",
              "</div>\n",
              "    </div>\n",
              "  </div>\n"
            ],
            "application/vnd.google.colaboratory.intrinsic+json": {
              "type": "dataframe",
              "variable_name": "X_train",
              "summary": "{\n  \"name\": \"X_train\",\n  \"rows\": 9210,\n  \"fields\": [\n    {\n      \"column\": \"index\",\n      \"properties\": {\n        \"dtype\": \"number\",\n        \"std\": 4435,\n        \"min\": 0,\n        \"max\": 15350,\n        \"samples\": [\n          11907,\n          10080,\n          1376\n        ],\n        \"num_unique_values\": 9210,\n        \"semantic_type\": \"\",\n        \"description\": \"\"\n      }\n    },\n    {\n      \"column\": \"source\",\n      \"properties\": {\n        \"dtype\": \"category\",\n        \"samples\": [\n          \"facebook_congress\",\n          \"fitocracy\",\n          \"ted\"\n        ],\n        \"num_unique_values\": 5,\n        \"semantic_type\": \"\",\n        \"description\": \"\"\n      }\n    },\n    {\n      \"column\": \"post_text\",\n      \"properties\": {\n        \"dtype\": \"string\",\n        \"samples\": [\n          \"No, they probably dont. I just appreciate the idiocy of it, is all.\",\n          \"God is preparing you for something GREAT!!! Hold on!!!! #realtalkkim\",\n          \"On this day in 1935, Social Security was signed into law. I will continue to work to protect and strengthen this vital program for today's kupuna and future generations.\"\n        ],\n        \"num_unique_values\": 7763,\n        \"semantic_type\": \"\",\n        \"description\": \"\"\n      }\n    },\n    {\n      \"column\": \"response_text\",\n      \"properties\": {\n        \"dtype\": \"string\",\n        \"samples\": [\n          \"No, she doesn't. Needs to be replaced\",\n          \"> often times people want others around them to make the same decision they do ... People also tend to assume that if other people do as I do theyll have the same result, so if my parents are super happy after getting married and raising kids, thatll make me super happy too, right?\",\n          \"Temple might be coming to my school to speak! I am so excited!\"\n        ],\n        \"num_unique_values\": 8940,\n        \"semantic_type\": \"\",\n        \"description\": \"\"\n      }\n    },\n    {\n      \"column\": \"sentiment\",\n      \"properties\": {\n        \"dtype\": \"category\",\n        \"samples\": [\n          \"Positive\",\n          \"Negative\",\n          \"Mixed\"\n        ],\n        \"num_unique_values\": 4,\n        \"semantic_type\": \"\",\n        \"description\": \"\"\n      }\n    },\n    {\n      \"column\": \"relevance\",\n      \"properties\": {\n        \"dtype\": \"category\",\n        \"samples\": [\n          \"Poster\",\n          \"ContentPoster\",\n          \"Content\"\n        ],\n        \"num_unique_values\": 4,\n        \"semantic_type\": \"\",\n        \"description\": \"\"\n      }\n    },\n    {\n      \"column\": \"sourceID\",\n      \"properties\": {\n        \"dtype\": \"string\",\n        \"samples\": [\n          \"reddit11907\",\n          \"reddit10080\",\n          \"facebook_wiki1376\"\n        ],\n        \"num_unique_values\": 9210,\n        \"semantic_type\": \"\",\n        \"description\": \"\"\n      }\n    }\n  ]\n}"
            }
          },
          "metadata": {},
          "execution_count": 6
        }
      ]
    },
    {
      "cell_type": "markdown",
      "source": [
        "## Compute Significant N-Grams\n",
        "Before doing model training, we will use part of the turbo topics functionality to compute all significant unigrams and bigrams. This will demonstrate the recursive abilities that make turbo topics stand out from other topic modelers."
      ],
      "metadata": {
        "id": "BiE0q8IDUyCX"
      }
    },
    {
      "cell_type": "code",
      "source": [
        "# save corpus to text file\n",
        "corpus = '\\n'.join(X_train.response_text)\n",
        "corpus_path = tt_path + 'corpus.txt'\n",
        "corpus_file = open(corpus_path, 'w')\n",
        "corpus_file.writelines(corpus)\n",
        "corpus_file.close()\n",
        "# create ngrams file for saved results\n",
        "out_path = tt_path + \"ngrams.txt\"\n",
        "out_file = open(out_path, 'w')\n",
        "out_file.close()"
      ],
      "metadata": {
        "id": "PJ7wJGIaVGu-"
      },
      "execution_count": null,
      "outputs": []
    },
    {
      "cell_type": "code",
      "source": [
        "### COMMENTING to avoid rerun. File saved in \"out_path\" variable.\n",
        "# %%bash -s \"$corpus_path\" \"$out_path\"\n",
        "# cd turbotopics\n",
        "# python2.7 compute_ngrams.py --corpus $1 --pval 0.001 --perm True --out $2"
      ],
      "metadata": {
        "id": "42gY_RB1VIgz"
      },
      "execution_count": null,
      "outputs": []
    },
    {
      "cell_type": "markdown",
      "source": [
        "## Model Training\n",
        "Model training will be conducted in two steps. First we will train an LDA model, then we will use the results of our trained LDA to implement turbo topics.\n",
        "\n",
        "### Data Preprocessing\n",
        "Lowercase all response text, apply tweet tokenization + lemmatize, and remove all stopwords that are not pronouns"
      ],
      "metadata": {
        "id": "eWpfxcUeK7if"
      }
    },
    {
      "cell_type": "code",
      "source": [
        "# create class that lemmatizes tweet tokens\n",
        "# this will be used when creating the term matrix\n",
        "class LemmaTokenizer(object):\n",
        "    def __init__(self):\n",
        "        self.wnl = WordNetLemmatizer()\n",
        "        self.tt = TweetTokenizer(preserve_case=False, reduce_len=True,\n",
        "                                 strip_handles=True, match_phone_numbers=False)\n",
        "    def __call__(self, docs):\n",
        "        return [self.wnl.lemmatize(t) for t in self.tt.tokenize(docs)]\n",
        "\n",
        "def train_vectorizer(text_data, vectorizer=CountVectorizer, tokenizer=LemmaTokenizer()):\n",
        "    \"\"\"\n",
        "    Trains a vectorizer on the provided text data and returns the vectorizer instance,\n",
        "    the document-term matrix, and the feature names.\n",
        "\n",
        "    Parameters:\n",
        "    - text_data: List of text documents to be vectorized.\n",
        "    - vectorizer: Vectorizer class to be used for text vectorization. Defaults to CountVectorizer.\n",
        "    - tokenizer: Tokenizer class to be used for tokenizing the text documents. Defaults to TweetTokenizer.\n",
        "\n",
        "    Returns:\n",
        "    - instance: The trained vectorizer instance.\n",
        "    - matrix: The document-term matrix resulting from fitting the vectorizer on `text_data`.\n",
        "    - features: An array of feature names generated by the vectorizer.\n",
        "    \"\"\"\n",
        "    # Initialize the vectorizer with specified configurations\n",
        "    instance = vectorizer(\n",
        "        strip_accents=None,  # Do not strip accents\n",
        "        lowercase=True,  # Do not convert characters to lowercase\n",
        "        tokenizer=tokenizer,  # Use the tokenize method of the tokenizer instance\n",
        "        token_pattern=None,  # Since a tokenizer is provided, token_pattern is not used\n",
        "        stop_words=list(lemma_stop_words),  # Remove stop_words but keep pronouns\n",
        "        ngram_range=(1, 1),  # Consider only single words (1-grams)\n",
        "        # min_df=0.05,  # Minimum document frequency for filtering terms\n",
        "        # max_df=0.95,  # Maximum document frequency for filtering terms\n",
        "        max_features=None  # No limit on the number of features\n",
        "    )\n",
        "\n",
        "    # Fit the vectorizer on the provided text data and transform the data into a matrix\n",
        "    matrix = instance.fit_transform(text_data)\n",
        "\n",
        "    # Retrieve the feature names generated by the vectorizer\n",
        "    features = instance.get_feature_names_out()\n",
        "\n",
        "    return instance, matrix, features"
      ],
      "metadata": {
        "id": "HM_ndcE6Hv47"
      },
      "execution_count": null,
      "outputs": []
    },
    {
      "cell_type": "markdown",
      "source": [
        "### Train LDA w/CountVectorizer\n",
        "A trained LDA is a dependency for the turbo topics model. Turbo topics takes the unigram based LDA model and recursively identifies significant words before and after each unigram to identify significant topical phrases."
      ],
      "metadata": {
        "id": "DJpRku2sBPTX"
      }
    },
    {
      "cell_type": "code",
      "source": [
        "instance, matrix, features = train_vectorizer(X_train.response_text)"
      ],
      "metadata": {
        "id": "26tOeM8oBdS-"
      },
      "execution_count": null,
      "outputs": []
    },
    {
      "cell_type": "code",
      "source": [
        "# # build lda model\n",
        "# lda_model = LDA(n_components = 2,\n",
        "#                 max_iter = 10,\n",
        "#                 learning_method = 'online', # better for large datasets\n",
        "#                 random_state = 42,\n",
        "#                 n_jobs = -1)                # use all available processors\n",
        "# # build gridsearch\n",
        "# params = {'learning_decay'  : np.arange(5, 8)/10,\n",
        "#           # 'max_iter'        : np.arange(1, 5)*10,\n",
        "#           'learning_offset' : np.arange(1, 4)*10}\n",
        "# gs_cv = GridSearchCV(estimator = lda_model, param_grid = params, verbose = 5)\n",
        "# # fit model\n",
        "# gs_cv.fit(matrix)"
      ],
      "metadata": {
        "id": "0CQh-d9NNHb5"
      },
      "execution_count": null,
      "outputs": []
    },
    {
      "cell_type": "code",
      "source": [
        "# # save\n",
        "# joblib.dump(gs_cv, filepath + 'trns/turbotopics/lda_gs.pkl')\n",
        "# final_lda_model = gs_cv.best_estimator_\n",
        "# joblib.dump(final_lda_model, filepath + 'trns/turbotopics/best_lda.pkl')"
      ],
      "metadata": {
        "id": "CKK6JqoIj-kP"
      },
      "execution_count": null,
      "outputs": []
    },
    {
      "cell_type": "markdown",
      "source": [
        "### Run Turbo Topics on Best LDA (CountVectorizer)"
      ],
      "metadata": {
        "id": "GjzXZA3cC331"
      }
    },
    {
      "cell_type": "code",
      "source": [
        "gs_cv = joblib.load(filepath + 'trns/turbotopics/lda_gs.pkl')\n",
        "final_lda_model = joblib.load(filepath + 'trns/turbotopics/best_lda.pkl')\n",
        "print(\"Model's Params: \", gs_cv.best_params_)\n",
        "print(\"Log Likelihood Score: \", gs_cv.best_score_)\n",
        "print(\"Model Perplexity: \", final_lda_model.perplexity(matrix))"
      ],
      "metadata": {
        "id": "FrQWtyXIwMJA",
        "colab": {
          "base_uri": "https://localhost:8080/"
        },
        "outputId": "0382d31c-897f-48fc-f771-f1a9919e6735"
      },
      "execution_count": null,
      "outputs": [
        {
          "output_type": "stream",
          "name": "stdout",
          "text": [
            "Model's Params:  {'learning_decay': 0.8, 'learning_offset': 40, 'max_iter': 10}\n",
            "Log Likelihood Score:  -190464.93192245113\n",
            "Model Perplexity:  1775.0204419460545\n"
          ]
        }
      ]
    },
    {
      "cell_type": "code",
      "source": [
        "params = gs_cv.cv_results_['params'][gs_cv.cv_results_['mean_test_score'].argmin()]\n",
        "another_lda = LDA(learning_decay = params['learning_decay'],\n",
        "                  learning_offset = params['learning_offset'],\n",
        "                  max_iter = params['max_iter'],\n",
        "                  n_components = 2,\n",
        "                  learning_method = 'online', # better for large datasets\n",
        "                  random_state = 42,\n",
        "                  n_jobs = -1)                # use all available processors\n",
        "another_lda_transform = another_lda.fit_transform(matrix)"
      ],
      "metadata": {
        "id": "bP0PsGWJPqqY"
      },
      "execution_count": null,
      "outputs": []
    },
    {
      "cell_type": "code",
      "source": [
        "lda_transform = final_lda_model.transform(matrix)"
      ],
      "metadata": {
        "id": "Z0d0n7KJ9jwr"
      },
      "execution_count": null,
      "outputs": []
    },
    {
      "cell_type": "code",
      "source": [
        "a = lda_transform[:,0]\n",
        "b = lda_transform[:,1]\n",
        "topics = np.where(a > b, 1, 2)\n",
        "assign = '\\n '.join([str(i) + ':' + str(top) for (i, top) in enumerate(topics)])"
      ],
      "metadata": {
        "id": "0qaao-Kt_E4a"
      },
      "execution_count": null,
      "outputs": []
    },
    {
      "cell_type": "code",
      "source": [
        "# save vocab separated by newlines\n",
        "vocab_path = tt_path + 'vocab.dat'\n",
        "with open(vocab_path, 'w') as f: f.write('\\n'.join(features))\n",
        "# save index:topic document\n",
        "assign_path = tt_path + 'assign.dat'\n",
        "with open(assign_path, 'w') as f: f.write(assign)\n",
        "# assign output location\n",
        "tt_out_path = tt_path + 'tt_result'"
      ],
      "metadata": {
        "id": "VqO8T9nzCiX2"
      },
      "execution_count": null,
      "outputs": []
    },
    {
      "cell_type": "code",
      "source": [
        "# run turbotopics\n",
        "%%bash -s \"$corpus_path\" \"$vocab_path\" \"$assign_path\" \"$tt_out_path\"\n",
        "cd turbotopics\n",
        "python2.7 lda_topics.py --corpus \"/content/drive/MyDrive/RtGender/trns/turbotopics/corpus.txt\" --vocab \"/content/drive/MyDrive/RtGender/trns/turbotopics/vocab.dat\" --assign \"/content/drive/MyDrive/RtGender/trns/turbotopics/assign.dat\" --out \"/content/drive/MyDrive/RtGender/trns/turbotopics/tt_result\" --ntopics 2 --min-count 1 --pval 0.001"
      ],
      "metadata": {
        "colab": {
          "base_uri": "https://localhost:8080/"
        },
        "id": "K3GG6kGi4Xnp",
        "outputId": "78014c3e-155d-44c8-99e5-7083d09238e8"
      },
      "execution_count": null,
      "outputs": [
        {
          "output_type": "stream",
          "name": "stdout",
          "text": [
            "reading vocabulary from /content/drive/MyDrive/RtGender/trns/turbotopics/vocab.dat\n",
            "writing topic 0\n",
            "computing initial counts\n",
            "writing topic 1\n",
            "computing initial counts\n",
            "analyzing 5 terms\n",
            "checking out        : marg = [     1,      1]; bigram =     1;val = 2.77e+00; null = 1.08e+01 rejected\n",
            "introduced house    : marg = [     1,      1]; bigram =     1;val = 2.77e+00; null = 1.08e+01 rejected\n",
            "back in             : marg = [     1,      1]; bigram =     1;val = 2.77e+00; null = 1.08e+01 rejected\n",
            "know its            : marg = [     1,      1]; bigram =     1;val = 2.77e+00; null = 1.08e+01 rejected\n"
          ]
        }
      ]
    },
    {
      "cell_type": "code",
      "source": [
        "top_df = pd.DataFrame(lda_transform, columns = ['t1', 't2'])\n",
        "top_df['labels'] = y_train\n",
        "top_df['label_num'] = np.where(top_df.labels == 'W', 2, 1)\n",
        "top_df['topic'] = np.where(top_df.t1 > top_df.t2, 1, 2)\n",
        "top_df[top_df.label_num == top_df.topic].count()/top_df.shape[0]"
      ],
      "metadata": {
        "colab": {
          "base_uri": "https://localhost:8080/"
        },
        "id": "SnWjV2oO6Nav",
        "outputId": "80247fa3-ec50-4de3-f55a-2081168a55b4"
      },
      "execution_count": null,
      "outputs": [
        {
          "output_type": "execute_result",
          "data": {
            "text/plain": [
              "t1           0.511075\n",
              "t2           0.511075\n",
              "labels       0.511075\n",
              "label_num    0.511075\n",
              "topic        0.511075\n",
              "dtype: float64"
            ]
          },
          "metadata": {},
          "execution_count": 19
        }
      ]
    },
    {
      "cell_type": "code",
      "source": [
        "# accuracy is slightly better when absolute log likelihood is maximized\n",
        "#  yet still accuracy is minimal\n",
        "another_df = pd.DataFrame(another_lda_transform, columns = ['t1', 't2'])\n",
        "another_df['labels'] = y_train\n",
        "another_df['label_num'] = np.where(another_df.labels == 'W', 1, 2)\n",
        "another_df['topic'] = np.where(another_df.t1 > another_df.t2, 1, 2)\n",
        "another_df[another_df.label_num == another_df.topic].count()/another_df.shape[0]"
      ],
      "metadata": {
        "colab": {
          "base_uri": "https://localhost:8080/"
        },
        "id": "7vQVevlrOeYK",
        "outputId": "ea1bc267-043f-4eb7-b00e-64965963f18f"
      },
      "execution_count": null,
      "outputs": [
        {
          "output_type": "execute_result",
          "data": {
            "text/plain": [
              "t1           0.522801\n",
              "t2           0.522801\n",
              "labels       0.522801\n",
              "label_num    0.522801\n",
              "topic        0.522801\n",
              "dtype: float64"
            ]
          },
          "metadata": {},
          "execution_count": 20
        }
      ]
    },
    {
      "cell_type": "markdown",
      "source": [
        "### Train LDA w/TF-IDF\n",
        "A trained LDA is a dependency for the turbo topics model. Turbo topics takes the unigram based LDA model and recursively identifies significant words before and after each unigram to identify significant topical phrases."
      ],
      "metadata": {
        "id": "HegRWOwvkumY"
      }
    },
    {
      "cell_type": "code",
      "source": [
        "instance, matrix, features = train_vectorizer(X_train.response_text,\n",
        "                                              vectorizer = TfidfVectorizer)"
      ],
      "metadata": {
        "id": "Q0xURfpLkumn"
      },
      "execution_count": null,
      "outputs": []
    },
    {
      "cell_type": "code",
      "source": [
        "# build lda model\n",
        "tf_idf_lda_model = LDA(n_components = 2,\n",
        "                       max_iter = 30,\n",
        "                       learning_method = 'online', # better for large datasets\n",
        "                       random_state = 42,\n",
        "                       n_jobs = -1)                # use all available processors\n",
        "# build gridsearch\n",
        "params = {'learning_decay'  : np.arange(5, 8)/10,\n",
        "          'learning_offset' : np.arange(1, 4)*10}\n",
        "tf_idf_gs_cv = GridSearchCV(estimator = tf_idf_lda_model,\n",
        "                            param_grid = params, verbose = 5)\n",
        "# fit model\n",
        "tf_idf_gs_cv.fit(matrix)"
      ],
      "metadata": {
        "colab": {
          "base_uri": "https://localhost:8080/",
          "height": 916
        },
        "outputId": "56b94894-30c6-4093-bdaf-df22933a9ebe",
        "id": "4joP2oT3kumo"
      },
      "execution_count": null,
      "outputs": [
        {
          "output_type": "stream",
          "name": "stdout",
          "text": [
            "Fitting 5 folds for each of 9 candidates, totalling 45 fits\n",
            "[CV 1/5] END learning_decay=0.5, learning_offset=10;, score=-55500.753 total time=  46.0s\n",
            "[CV 2/5] END learning_decay=0.5, learning_offset=10;, score=-56138.961 total time=  46.4s\n",
            "[CV 3/5] END learning_decay=0.5, learning_offset=10;, score=-56090.799 total time=  46.5s\n",
            "[CV 4/5] END learning_decay=0.5, learning_offset=10;, score=-56667.564 total time=  45.2s\n",
            "[CV 5/5] END learning_decay=0.5, learning_offset=10;, score=-56754.164 total time=  46.7s\n",
            "[CV 1/5] END learning_decay=0.5, learning_offset=20;, score=-55496.838 total time=  46.3s\n",
            "[CV 2/5] END learning_decay=0.5, learning_offset=20;, score=-56058.931 total time=  45.9s\n",
            "[CV 3/5] END learning_decay=0.5, learning_offset=20;, score=-56087.097 total time=  46.0s\n",
            "[CV 4/5] END learning_decay=0.5, learning_offset=20;, score=-56684.547 total time=  46.1s\n",
            "[CV 5/5] END learning_decay=0.5, learning_offset=20;, score=-56677.742 total time=  46.6s\n",
            "[CV 1/5] END learning_decay=0.5, learning_offset=30;, score=-55479.622 total time=  44.7s\n",
            "[CV 2/5] END learning_decay=0.5, learning_offset=30;, score=-56050.675 total time=  47.3s\n",
            "[CV 3/5] END learning_decay=0.5, learning_offset=30;, score=-56085.527 total time=  45.4s\n",
            "[CV 4/5] END learning_decay=0.5, learning_offset=30;, score=-56668.624 total time=  45.3s\n",
            "[CV 5/5] END learning_decay=0.5, learning_offset=30;, score=-56674.429 total time=  48.0s\n",
            "[CV 1/5] END learning_decay=0.6, learning_offset=10;, score=-55463.560 total time=  44.9s\n",
            "[CV 2/5] END learning_decay=0.6, learning_offset=10;, score=-56146.887 total time=  45.1s\n",
            "[CV 3/5] END learning_decay=0.6, learning_offset=10;, score=-56051.345 total time=  46.5s\n",
            "[CV 4/5] END learning_decay=0.6, learning_offset=10;, score=-56631.580 total time=  46.3s\n",
            "[CV 5/5] END learning_decay=0.6, learning_offset=10;, score=-56688.462 total time=  46.3s\n",
            "[CV 1/5] END learning_decay=0.6, learning_offset=20;, score=-55436.061 total time=  45.2s\n",
            "[CV 2/5] END learning_decay=0.6, learning_offset=20;, score=-56013.374 total time=  46.5s\n",
            "[CV 3/5] END learning_decay=0.6, learning_offset=20;, score=-56039.851 total time=  46.3s\n",
            "[CV 4/5] END learning_decay=0.6, learning_offset=20;, score=-56635.456 total time=  44.9s\n",
            "[CV 5/5] END learning_decay=0.6, learning_offset=20;, score=-56640.283 total time=  47.0s\n",
            "[CV 1/5] END learning_decay=0.6, learning_offset=30;, score=-55411.376 total time=  44.8s\n",
            "[CV 2/5] END learning_decay=0.6, learning_offset=30;, score=-56010.066 total time=  45.5s\n",
            "[CV 3/5] END learning_decay=0.6, learning_offset=30;, score=-56037.083 total time=  46.0s\n",
            "[CV 4/5] END learning_decay=0.6, learning_offset=30;, score=-56624.192 total time=  46.2s\n",
            "[CV 5/5] END learning_decay=0.6, learning_offset=30;, score=-56635.540 total time=  46.3s\n",
            "[CV 1/5] END learning_decay=0.7, learning_offset=10;, score=-55456.395 total time=  44.8s\n",
            "[CV 2/5] END learning_decay=0.7, learning_offset=10;, score=-56202.371 total time=  46.4s\n",
            "[CV 3/5] END learning_decay=0.7, learning_offset=10;, score=-56165.062 total time=  46.2s\n",
            "[CV 4/5] END learning_decay=0.7, learning_offset=10;, score=-56721.442 total time=  45.0s\n",
            "[CV 5/5] END learning_decay=0.7, learning_offset=10;, score=-56776.495 total time=  47.0s\n",
            "[CV 1/5] END learning_decay=0.7, learning_offset=20;, score=-55410.917 total time=  45.2s\n",
            "[CV 2/5] END learning_decay=0.7, learning_offset=20;, score=-56085.361 total time=  45.0s\n",
            "[CV 3/5] END learning_decay=0.7, learning_offset=20;, score=-56086.691 total time=  47.0s\n",
            "[CV 4/5] END learning_decay=0.7, learning_offset=20;, score=-56648.226 total time=  45.7s\n",
            "[CV 5/5] END learning_decay=0.7, learning_offset=20;, score=-56712.463 total time=  45.0s\n",
            "[CV 1/5] END learning_decay=0.7, learning_offset=30;, score=-55385.820 total time=  45.8s\n",
            "[CV 2/5] END learning_decay=0.7, learning_offset=30;, score=-56035.385 total time=  46.2s\n",
            "[CV 3/5] END learning_decay=0.7, learning_offset=30;, score=-56026.482 total time=  45.2s\n",
            "[CV 4/5] END learning_decay=0.7, learning_offset=30;, score=-56593.022 total time=  46.2s\n",
            "[CV 5/5] END learning_decay=0.7, learning_offset=30;, score=-56667.134 total time=  46.1s\n"
          ]
        },
        {
          "output_type": "execute_result",
          "data": {
            "text/plain": [
              "GridSearchCV(estimator=LatentDirichletAllocation(learning_method='online',\n",
              "                                                 max_iter=30, n_components=2,\n",
              "                                                 n_jobs=-1, random_state=42),\n",
              "             param_grid={'learning_decay': array([0.5, 0.6, 0.7]),\n",
              "                         'learning_offset': array([10, 20, 30])},\n",
              "             verbose=5)"
            ],
            "text/html": [
              "<style>#sk-container-id-1 {color: black;background-color: white;}#sk-container-id-1 pre{padding: 0;}#sk-container-id-1 div.sk-toggleable {background-color: white;}#sk-container-id-1 label.sk-toggleable__label {cursor: pointer;display: block;width: 100%;margin-bottom: 0;padding: 0.3em;box-sizing: border-box;text-align: center;}#sk-container-id-1 label.sk-toggleable__label-arrow:before {content: \"▸\";float: left;margin-right: 0.25em;color: #696969;}#sk-container-id-1 label.sk-toggleable__label-arrow:hover:before {color: black;}#sk-container-id-1 div.sk-estimator:hover label.sk-toggleable__label-arrow:before {color: black;}#sk-container-id-1 div.sk-toggleable__content {max-height: 0;max-width: 0;overflow: hidden;text-align: left;background-color: #f0f8ff;}#sk-container-id-1 div.sk-toggleable__content pre {margin: 0.2em;color: black;border-radius: 0.25em;background-color: #f0f8ff;}#sk-container-id-1 input.sk-toggleable__control:checked~div.sk-toggleable__content {max-height: 200px;max-width: 100%;overflow: auto;}#sk-container-id-1 input.sk-toggleable__control:checked~label.sk-toggleable__label-arrow:before {content: \"▾\";}#sk-container-id-1 div.sk-estimator input.sk-toggleable__control:checked~label.sk-toggleable__label {background-color: #d4ebff;}#sk-container-id-1 div.sk-label input.sk-toggleable__control:checked~label.sk-toggleable__label {background-color: #d4ebff;}#sk-container-id-1 input.sk-hidden--visually {border: 0;clip: rect(1px 1px 1px 1px);clip: rect(1px, 1px, 1px, 1px);height: 1px;margin: -1px;overflow: hidden;padding: 0;position: absolute;width: 1px;}#sk-container-id-1 div.sk-estimator {font-family: monospace;background-color: #f0f8ff;border: 1px dotted black;border-radius: 0.25em;box-sizing: border-box;margin-bottom: 0.5em;}#sk-container-id-1 div.sk-estimator:hover {background-color: #d4ebff;}#sk-container-id-1 div.sk-parallel-item::after {content: \"\";width: 100%;border-bottom: 1px solid gray;flex-grow: 1;}#sk-container-id-1 div.sk-label:hover label.sk-toggleable__label {background-color: #d4ebff;}#sk-container-id-1 div.sk-serial::before {content: \"\";position: absolute;border-left: 1px solid gray;box-sizing: border-box;top: 0;bottom: 0;left: 50%;z-index: 0;}#sk-container-id-1 div.sk-serial {display: flex;flex-direction: column;align-items: center;background-color: white;padding-right: 0.2em;padding-left: 0.2em;position: relative;}#sk-container-id-1 div.sk-item {position: relative;z-index: 1;}#sk-container-id-1 div.sk-parallel {display: flex;align-items: stretch;justify-content: center;background-color: white;position: relative;}#sk-container-id-1 div.sk-item::before, #sk-container-id-1 div.sk-parallel-item::before {content: \"\";position: absolute;border-left: 1px solid gray;box-sizing: border-box;top: 0;bottom: 0;left: 50%;z-index: -1;}#sk-container-id-1 div.sk-parallel-item {display: flex;flex-direction: column;z-index: 1;position: relative;background-color: white;}#sk-container-id-1 div.sk-parallel-item:first-child::after {align-self: flex-end;width: 50%;}#sk-container-id-1 div.sk-parallel-item:last-child::after {align-self: flex-start;width: 50%;}#sk-container-id-1 div.sk-parallel-item:only-child::after {width: 0;}#sk-container-id-1 div.sk-dashed-wrapped {border: 1px dashed gray;margin: 0 0.4em 0.5em 0.4em;box-sizing: border-box;padding-bottom: 0.4em;background-color: white;}#sk-container-id-1 div.sk-label label {font-family: monospace;font-weight: bold;display: inline-block;line-height: 1.2em;}#sk-container-id-1 div.sk-label-container {text-align: center;}#sk-container-id-1 div.sk-container {/* jupyter's `normalize.less` sets `[hidden] { display: none; }` but bootstrap.min.css set `[hidden] { display: none !important; }` so we also need the `!important` here to be able to override the default hidden behavior on the sphinx rendered scikit-learn.org. See: https://github.com/scikit-learn/scikit-learn/issues/21755 */display: inline-block !important;position: relative;}#sk-container-id-1 div.sk-text-repr-fallback {display: none;}</style><div id=\"sk-container-id-1\" class=\"sk-top-container\"><div class=\"sk-text-repr-fallback\"><pre>GridSearchCV(estimator=LatentDirichletAllocation(learning_method=&#x27;online&#x27;,\n",
              "                                                 max_iter=30, n_components=2,\n",
              "                                                 n_jobs=-1, random_state=42),\n",
              "             param_grid={&#x27;learning_decay&#x27;: array([0.5, 0.6, 0.7]),\n",
              "                         &#x27;learning_offset&#x27;: array([10, 20, 30])},\n",
              "             verbose=5)</pre><b>In a Jupyter environment, please rerun this cell to show the HTML representation or trust the notebook. <br />On GitHub, the HTML representation is unable to render, please try loading this page with nbviewer.org.</b></div><div class=\"sk-container\" hidden><div class=\"sk-item sk-dashed-wrapped\"><div class=\"sk-label-container\"><div class=\"sk-label sk-toggleable\"><input class=\"sk-toggleable__control sk-hidden--visually\" id=\"sk-estimator-id-1\" type=\"checkbox\" ><label for=\"sk-estimator-id-1\" class=\"sk-toggleable__label sk-toggleable__label-arrow\">GridSearchCV</label><div class=\"sk-toggleable__content\"><pre>GridSearchCV(estimator=LatentDirichletAllocation(learning_method=&#x27;online&#x27;,\n",
              "                                                 max_iter=30, n_components=2,\n",
              "                                                 n_jobs=-1, random_state=42),\n",
              "             param_grid={&#x27;learning_decay&#x27;: array([0.5, 0.6, 0.7]),\n",
              "                         &#x27;learning_offset&#x27;: array([10, 20, 30])},\n",
              "             verbose=5)</pre></div></div></div><div class=\"sk-parallel\"><div class=\"sk-parallel-item\"><div class=\"sk-item\"><div class=\"sk-label-container\"><div class=\"sk-label sk-toggleable\"><input class=\"sk-toggleable__control sk-hidden--visually\" id=\"sk-estimator-id-2\" type=\"checkbox\" ><label for=\"sk-estimator-id-2\" class=\"sk-toggleable__label sk-toggleable__label-arrow\">estimator: LatentDirichletAllocation</label><div class=\"sk-toggleable__content\"><pre>LatentDirichletAllocation(learning_method=&#x27;online&#x27;, max_iter=30, n_components=2,\n",
              "                          n_jobs=-1, random_state=42)</pre></div></div></div><div class=\"sk-serial\"><div class=\"sk-item\"><div class=\"sk-estimator sk-toggleable\"><input class=\"sk-toggleable__control sk-hidden--visually\" id=\"sk-estimator-id-3\" type=\"checkbox\" ><label for=\"sk-estimator-id-3\" class=\"sk-toggleable__label sk-toggleable__label-arrow\">LatentDirichletAllocation</label><div class=\"sk-toggleable__content\"><pre>LatentDirichletAllocation(learning_method=&#x27;online&#x27;, max_iter=30, n_components=2,\n",
              "                          n_jobs=-1, random_state=42)</pre></div></div></div></div></div></div></div></div></div></div>"
            ]
          },
          "metadata": {},
          "execution_count": 22
        }
      ]
    },
    {
      "cell_type": "code",
      "source": [
        "# save\n",
        "joblib.dump(tf_idf_gs_cv, filepath + 'trns/turbotopics/lda_gs_tfidf.pkl')\n",
        "tf_idf_lda_model = tf_idf_gs_cv.best_estimator_\n",
        "joblib.dump(tf_idf_lda_model, filepath + 'trns/turbotopics/best_lda_tfidf.pkl')"
      ],
      "metadata": {
        "colab": {
          "base_uri": "https://localhost:8080/"
        },
        "id": "ZruvDL4Gkumo",
        "outputId": "423d8c2f-6a88-4681-ff89-9263e88a2ef7"
      },
      "execution_count": null,
      "outputs": [
        {
          "output_type": "execute_result",
          "data": {
            "text/plain": [
              "['/content/drive/MyDrive/RtGender/trns/turbotopics/best_lda_tfidf.pkl']"
            ]
          },
          "metadata": {},
          "execution_count": 23
        }
      ]
    },
    {
      "cell_type": "markdown",
      "source": [
        "### Run Turbo Topics on Best LDA (TF-IDF)"
      ],
      "metadata": {
        "id": "NmQGZX76kgx9"
      }
    },
    {
      "cell_type": "code",
      "source": [
        "tf_idf_gs_cv = joblib.load(filepath + 'trns/turbotopics/lda_gs_tfidf.pkl')\n",
        "tf_idf_lda_model = joblib.load(filepath + 'trns/turbotopics/best_lda_tfidf.pkl')\n",
        "print(\"Model's Params: \", tf_idf_gs_cv.best_params_)\n",
        "print(\"Log Likelihood Score: \", tf_idf_gs_cv.best_score_)\n",
        "print(\"Model Perplexity: \", tf_idf_lda_model.perplexity(matrix))"
      ],
      "metadata": {
        "colab": {
          "base_uri": "https://localhost:8080/"
        },
        "outputId": "c31337d3-0f3e-4d66-e02f-50402b384e96",
        "id": "JyFlQU7Vkgx9"
      },
      "execution_count": null,
      "outputs": [
        {
          "output_type": "stream",
          "name": "stdout",
          "text": [
            "Model's Params:  {'learning_decay': 0.7, 'learning_offset': 30}\n",
            "Log Likelihood Score:  -56141.56878551216\n",
            "Model Perplexity:  7571.076499030928\n"
          ]
        }
      ]
    },
    {
      "cell_type": "code",
      "source": [
        "params = tf_idf_gs_cv.cv_results_['params'][tf_idf_gs_cv.cv_results_['mean_test_score'].argmin()]\n",
        "print(params)\n",
        "another_tf_idf_lda = LDA(learning_decay = params['learning_decay'],\n",
        "                 learning_offset = params['learning_offset'],\n",
        "                 max_iter = 30,\n",
        "                 n_components = 2,\n",
        "                 learning_method = 'online', # better for large datasets\n",
        "                 random_state = 42,\n",
        "                 n_jobs = -1)                # use all available processors\n",
        "another_tf_idf_lda_transform = another_tf_idf_lda.fit_transform(matrix)"
      ],
      "metadata": {
        "colab": {
          "base_uri": "https://localhost:8080/"
        },
        "id": "dqrJ9Ky5kgx-",
        "outputId": "e66771b7-92c6-44cd-a64b-20e20fab0d25"
      },
      "execution_count": null,
      "outputs": [
        {
          "output_type": "stream",
          "name": "stdout",
          "text": [
            "{'learning_decay': 0.7, 'learning_offset': 10}\n"
          ]
        }
      ]
    },
    {
      "cell_type": "code",
      "source": [
        "tf_idf_lda_transform = tf_idf_lda_model.transform(matrix)"
      ],
      "metadata": {
        "id": "cgbSSxKRxw-T"
      },
      "execution_count": null,
      "outputs": []
    },
    {
      "cell_type": "code",
      "source": [
        "tf_idf_lda_df = pd.DataFrame(tf_idf_lda_transform, columns = ['t1', 't2'])\n",
        "tf_idf_lda_df['labels'] = y_train\n",
        "tf_idf_lda_df['label_num'] = np.where(tf_idf_lda_df.labels == 'W', 2, 1)\n",
        "tf_idf_lda_df['topic'] = np.where(tf_idf_lda_df.t1 > tf_idf_lda_df.t2, 1, 2)\n",
        "tf_idf_lda_df[tf_idf_lda_df.label_num == tf_idf_lda_df.topic].count()/tf_idf_lda_df.shape[0]"
      ],
      "metadata": {
        "colab": {
          "base_uri": "https://localhost:8080/"
        },
        "outputId": "816da0be-857f-4c2d-fa83-e9b74b3d8245",
        "id": "0BkHFiwvkgyX"
      },
      "execution_count": null,
      "outputs": [
        {
          "output_type": "execute_result",
          "data": {
            "text/plain": [
              "t1           0.514875\n",
              "t2           0.514875\n",
              "labels       0.514875\n",
              "label_num    0.514875\n",
              "topic        0.514875\n",
              "dtype: float64"
            ]
          },
          "metadata": {},
          "execution_count": 29
        }
      ]
    },
    {
      "cell_type": "code",
      "source": [
        "# accuracy is slightly better when absolute log likelihood is maximized\n",
        "#  yet still accuracy is minimal\n",
        "another_tf_idf_lda_df = pd.DataFrame(another_tf_idf_lda_transform, columns = ['t1', 't2'])\n",
        "another_tf_idf_lda_df['labels'] = y_train\n",
        "another_tf_idf_lda_df['label_num'] = np.where(another_tf_idf_lda_df.labels == 'W', 2, 1)\n",
        "another_tf_idf_lda_df['topic'] = np.where(another_tf_idf_lda_df.t1 > another_tf_idf_lda_df.t2, 1, 2)\n",
        "another_tf_idf_lda_df[another_tf_idf_lda_df.label_num == another_tf_idf_lda_df.topic].count()/another_tf_idf_lda_df.shape[0]"
      ],
      "metadata": {
        "colab": {
          "base_uri": "https://localhost:8080/"
        },
        "outputId": "9e7c2258-030a-47a4-cd4d-4ab94b17e2f1",
        "id": "5CJv1qGukgyX"
      },
      "execution_count": null,
      "outputs": [
        {
          "output_type": "execute_result",
          "data": {
            "text/plain": [
              "t1           0.515635\n",
              "t2           0.515635\n",
              "labels       0.515635\n",
              "label_num    0.515635\n",
              "topic        0.515635\n",
              "dtype: float64"
            ]
          },
          "metadata": {},
          "execution_count": 30
        }
      ]
    },
    {
      "cell_type": "markdown",
      "source": [
        "### Train LDA w/TF-IDF (more topics)\n",
        "A trained LDA is a dependency for the turbo topics model. Turbo topics takes the unigram based LDA model and recursively identifies significant words before and after each unigram to identify significant topical phrases."
      ],
      "metadata": {
        "id": "wR_AmKl0cnv8"
      }
    },
    {
      "cell_type": "code",
      "source": [
        "instance, matrix, features = train_vectorizer(X_train.response_text,\n",
        "                                              vectorizer = TfidfVectorizer)"
      ],
      "metadata": {
        "id": "nG2xkdnIcnwZ"
      },
      "execution_count": null,
      "outputs": []
    },
    {
      "cell_type": "code",
      "source": [
        "# build lda model\n",
        "lda_model_tops = LDA(max_iter = 10,\n",
        "                     learning_decay = 0.7,\n",
        "                     learning_offset = 10,\n",
        "                     learning_method = 'online', # better for large datasets\n",
        "                     random_state = 42,\n",
        "                     n_jobs = -1)                # use all available processors\n",
        "# build gridsearch\n",
        "params = {'n_components'  : np.arange(2, 7)}\n",
        "gs_cv_top = GridSearchCV(estimator = lda_model_tops, param_grid = params, verbose = 5)\n",
        "# fit model\n",
        "gs_cv_top.fit(matrix)"
      ],
      "metadata": {
        "colab": {
          "base_uri": "https://localhost:8080/",
          "height": 569
        },
        "outputId": "6a58e7cc-a4eb-4336-ef24-e61be6b2417f",
        "id": "bvElp12GcnwZ"
      },
      "execution_count": null,
      "outputs": [
        {
          "output_type": "stream",
          "name": "stdout",
          "text": [
            "Fitting 5 folds for each of 5 candidates, totalling 25 fits\n",
            "[CV 1/5] END ...............n_components=2;, score=-55488.976 total time=  18.8s\n",
            "[CV 2/5] END ...............n_components=2;, score=-56492.097 total time=  17.4s\n",
            "[CV 3/5] END ...............n_components=2;, score=-56403.473 total time=  16.0s\n",
            "[CV 4/5] END ...............n_components=2;, score=-56946.467 total time=  16.5s\n",
            "[CV 5/5] END ...............n_components=2;, score=-57019.545 total time=  15.9s\n",
            "[CV 1/5] END ...............n_components=3;, score=-58719.514 total time=  19.8s\n",
            "[CV 2/5] END ...............n_components=3;, score=-60496.551 total time=  17.6s\n",
            "[CV 3/5] END ...............n_components=3;, score=-60514.029 total time=  17.3s\n",
            "[CV 4/5] END ...............n_components=3;, score=-61047.805 total time=  18.2s\n",
            "[CV 5/5] END ...............n_components=3;, score=-61100.387 total time=  17.9s\n",
            "[CV 1/5] END ...............n_components=4;, score=-63230.033 total time=  17.9s\n",
            "[CV 2/5] END ...............n_components=4;, score=-64173.286 total time=  19.7s\n",
            "[CV 3/5] END ...............n_components=4;, score=-64394.230 total time=  18.0s\n",
            "[CV 4/5] END ...............n_components=4;, score=-64926.318 total time=  19.4s\n",
            "[CV 5/5] END ...............n_components=4;, score=-65111.277 total time=  19.1s\n",
            "[CV 1/5] END ...............n_components=5;, score=-66411.422 total time=  18.4s\n",
            "[CV 2/5] END ...............n_components=5;, score=-64912.011 total time=  18.0s\n",
            "[CV 3/5] END ...............n_components=5;, score=-64986.477 total time=  19.0s\n",
            "[CV 4/5] END ...............n_components=5;, score=-65533.302 total time=  17.8s\n",
            "[CV 5/5] END ...............n_components=5;, score=-65597.488 total time=  18.6s\n",
            "[CV 1/5] END ...............n_components=6;, score=-67615.661 total time=  19.4s\n",
            "[CV 2/5] END ...............n_components=6;, score=-69358.702 total time=  21.1s\n",
            "[CV 3/5] END ...............n_components=6;, score=-69570.193 total time=  20.3s\n",
            "[CV 4/5] END ...............n_components=6;, score=-70198.779 total time=  19.4s\n",
            "[CV 5/5] END ...............n_components=6;, score=-70176.982 total time=  20.4s\n"
          ]
        },
        {
          "output_type": "execute_result",
          "data": {
            "text/plain": [
              "GridSearchCV(estimator=LatentDirichletAllocation(learning_method='online',\n",
              "                                                 learning_offset=10, n_jobs=-1,\n",
              "                                                 random_state=42),\n",
              "             param_grid={'n_components': array([2, 3, 4, 5, 6])}, verbose=5)"
            ],
            "text/html": [
              "<style>#sk-container-id-4 {color: black;background-color: white;}#sk-container-id-4 pre{padding: 0;}#sk-container-id-4 div.sk-toggleable {background-color: white;}#sk-container-id-4 label.sk-toggleable__label {cursor: pointer;display: block;width: 100%;margin-bottom: 0;padding: 0.3em;box-sizing: border-box;text-align: center;}#sk-container-id-4 label.sk-toggleable__label-arrow:before {content: \"▸\";float: left;margin-right: 0.25em;color: #696969;}#sk-container-id-4 label.sk-toggleable__label-arrow:hover:before {color: black;}#sk-container-id-4 div.sk-estimator:hover label.sk-toggleable__label-arrow:before {color: black;}#sk-container-id-4 div.sk-toggleable__content {max-height: 0;max-width: 0;overflow: hidden;text-align: left;background-color: #f0f8ff;}#sk-container-id-4 div.sk-toggleable__content pre {margin: 0.2em;color: black;border-radius: 0.25em;background-color: #f0f8ff;}#sk-container-id-4 input.sk-toggleable__control:checked~div.sk-toggleable__content {max-height: 200px;max-width: 100%;overflow: auto;}#sk-container-id-4 input.sk-toggleable__control:checked~label.sk-toggleable__label-arrow:before {content: \"▾\";}#sk-container-id-4 div.sk-estimator input.sk-toggleable__control:checked~label.sk-toggleable__label {background-color: #d4ebff;}#sk-container-id-4 div.sk-label input.sk-toggleable__control:checked~label.sk-toggleable__label {background-color: #d4ebff;}#sk-container-id-4 input.sk-hidden--visually {border: 0;clip: rect(1px 1px 1px 1px);clip: rect(1px, 1px, 1px, 1px);height: 1px;margin: -1px;overflow: hidden;padding: 0;position: absolute;width: 1px;}#sk-container-id-4 div.sk-estimator {font-family: monospace;background-color: #f0f8ff;border: 1px dotted black;border-radius: 0.25em;box-sizing: border-box;margin-bottom: 0.5em;}#sk-container-id-4 div.sk-estimator:hover {background-color: #d4ebff;}#sk-container-id-4 div.sk-parallel-item::after {content: \"\";width: 100%;border-bottom: 1px solid gray;flex-grow: 1;}#sk-container-id-4 div.sk-label:hover label.sk-toggleable__label {background-color: #d4ebff;}#sk-container-id-4 div.sk-serial::before {content: \"\";position: absolute;border-left: 1px solid gray;box-sizing: border-box;top: 0;bottom: 0;left: 50%;z-index: 0;}#sk-container-id-4 div.sk-serial {display: flex;flex-direction: column;align-items: center;background-color: white;padding-right: 0.2em;padding-left: 0.2em;position: relative;}#sk-container-id-4 div.sk-item {position: relative;z-index: 1;}#sk-container-id-4 div.sk-parallel {display: flex;align-items: stretch;justify-content: center;background-color: white;position: relative;}#sk-container-id-4 div.sk-item::before, #sk-container-id-4 div.sk-parallel-item::before {content: \"\";position: absolute;border-left: 1px solid gray;box-sizing: border-box;top: 0;bottom: 0;left: 50%;z-index: -1;}#sk-container-id-4 div.sk-parallel-item {display: flex;flex-direction: column;z-index: 1;position: relative;background-color: white;}#sk-container-id-4 div.sk-parallel-item:first-child::after {align-self: flex-end;width: 50%;}#sk-container-id-4 div.sk-parallel-item:last-child::after {align-self: flex-start;width: 50%;}#sk-container-id-4 div.sk-parallel-item:only-child::after {width: 0;}#sk-container-id-4 div.sk-dashed-wrapped {border: 1px dashed gray;margin: 0 0.4em 0.5em 0.4em;box-sizing: border-box;padding-bottom: 0.4em;background-color: white;}#sk-container-id-4 div.sk-label label {font-family: monospace;font-weight: bold;display: inline-block;line-height: 1.2em;}#sk-container-id-4 div.sk-label-container {text-align: center;}#sk-container-id-4 div.sk-container {/* jupyter's `normalize.less` sets `[hidden] { display: none; }` but bootstrap.min.css set `[hidden] { display: none !important; }` so we also need the `!important` here to be able to override the default hidden behavior on the sphinx rendered scikit-learn.org. See: https://github.com/scikit-learn/scikit-learn/issues/21755 */display: inline-block !important;position: relative;}#sk-container-id-4 div.sk-text-repr-fallback {display: none;}</style><div id=\"sk-container-id-4\" class=\"sk-top-container\"><div class=\"sk-text-repr-fallback\"><pre>GridSearchCV(estimator=LatentDirichletAllocation(learning_method=&#x27;online&#x27;,\n",
              "                                                 learning_offset=10, n_jobs=-1,\n",
              "                                                 random_state=42),\n",
              "             param_grid={&#x27;n_components&#x27;: array([2, 3, 4, 5, 6])}, verbose=5)</pre><b>In a Jupyter environment, please rerun this cell to show the HTML representation or trust the notebook. <br />On GitHub, the HTML representation is unable to render, please try loading this page with nbviewer.org.</b></div><div class=\"sk-container\" hidden><div class=\"sk-item sk-dashed-wrapped\"><div class=\"sk-label-container\"><div class=\"sk-label sk-toggleable\"><input class=\"sk-toggleable__control sk-hidden--visually\" id=\"sk-estimator-id-8\" type=\"checkbox\" ><label for=\"sk-estimator-id-8\" class=\"sk-toggleable__label sk-toggleable__label-arrow\">GridSearchCV</label><div class=\"sk-toggleable__content\"><pre>GridSearchCV(estimator=LatentDirichletAllocation(learning_method=&#x27;online&#x27;,\n",
              "                                                 learning_offset=10, n_jobs=-1,\n",
              "                                                 random_state=42),\n",
              "             param_grid={&#x27;n_components&#x27;: array([2, 3, 4, 5, 6])}, verbose=5)</pre></div></div></div><div class=\"sk-parallel\"><div class=\"sk-parallel-item\"><div class=\"sk-item\"><div class=\"sk-label-container\"><div class=\"sk-label sk-toggleable\"><input class=\"sk-toggleable__control sk-hidden--visually\" id=\"sk-estimator-id-9\" type=\"checkbox\" ><label for=\"sk-estimator-id-9\" class=\"sk-toggleable__label sk-toggleable__label-arrow\">estimator: LatentDirichletAllocation</label><div class=\"sk-toggleable__content\"><pre>LatentDirichletAllocation(learning_method=&#x27;online&#x27;, learning_offset=10,\n",
              "                          n_jobs=-1, random_state=42)</pre></div></div></div><div class=\"sk-serial\"><div class=\"sk-item\"><div class=\"sk-estimator sk-toggleable\"><input class=\"sk-toggleable__control sk-hidden--visually\" id=\"sk-estimator-id-10\" type=\"checkbox\" ><label for=\"sk-estimator-id-10\" class=\"sk-toggleable__label sk-toggleable__label-arrow\">LatentDirichletAllocation</label><div class=\"sk-toggleable__content\"><pre>LatentDirichletAllocation(learning_method=&#x27;online&#x27;, learning_offset=10,\n",
              "                          n_jobs=-1, random_state=42)</pre></div></div></div></div></div></div></div></div></div></div>"
            ]
          },
          "metadata": {},
          "execution_count": 37
        }
      ]
    },
    {
      "cell_type": "code",
      "source": [
        "gs_cv_top.best_estimator_"
      ],
      "metadata": {
        "colab": {
          "base_uri": "https://localhost:8080/",
          "height": 92
        },
        "id": "q-GqMmZOi9f_",
        "outputId": "8f953326-798e-4d47-ea41-8e1f0b20f5c6"
      },
      "execution_count": null,
      "outputs": [
        {
          "output_type": "execute_result",
          "data": {
            "text/plain": [
              "LatentDirichletAllocation(learning_method='online', learning_offset=10,\n",
              "                          n_components=2, n_jobs=-1, random_state=42)"
            ],
            "text/html": [
              "<style>#sk-container-id-5 {color: black;background-color: white;}#sk-container-id-5 pre{padding: 0;}#sk-container-id-5 div.sk-toggleable {background-color: white;}#sk-container-id-5 label.sk-toggleable__label {cursor: pointer;display: block;width: 100%;margin-bottom: 0;padding: 0.3em;box-sizing: border-box;text-align: center;}#sk-container-id-5 label.sk-toggleable__label-arrow:before {content: \"▸\";float: left;margin-right: 0.25em;color: #696969;}#sk-container-id-5 label.sk-toggleable__label-arrow:hover:before {color: black;}#sk-container-id-5 div.sk-estimator:hover label.sk-toggleable__label-arrow:before {color: black;}#sk-container-id-5 div.sk-toggleable__content {max-height: 0;max-width: 0;overflow: hidden;text-align: left;background-color: #f0f8ff;}#sk-container-id-5 div.sk-toggleable__content pre {margin: 0.2em;color: black;border-radius: 0.25em;background-color: #f0f8ff;}#sk-container-id-5 input.sk-toggleable__control:checked~div.sk-toggleable__content {max-height: 200px;max-width: 100%;overflow: auto;}#sk-container-id-5 input.sk-toggleable__control:checked~label.sk-toggleable__label-arrow:before {content: \"▾\";}#sk-container-id-5 div.sk-estimator input.sk-toggleable__control:checked~label.sk-toggleable__label {background-color: #d4ebff;}#sk-container-id-5 div.sk-label input.sk-toggleable__control:checked~label.sk-toggleable__label {background-color: #d4ebff;}#sk-container-id-5 input.sk-hidden--visually {border: 0;clip: rect(1px 1px 1px 1px);clip: rect(1px, 1px, 1px, 1px);height: 1px;margin: -1px;overflow: hidden;padding: 0;position: absolute;width: 1px;}#sk-container-id-5 div.sk-estimator {font-family: monospace;background-color: #f0f8ff;border: 1px dotted black;border-radius: 0.25em;box-sizing: border-box;margin-bottom: 0.5em;}#sk-container-id-5 div.sk-estimator:hover {background-color: #d4ebff;}#sk-container-id-5 div.sk-parallel-item::after {content: \"\";width: 100%;border-bottom: 1px solid gray;flex-grow: 1;}#sk-container-id-5 div.sk-label:hover label.sk-toggleable__label {background-color: #d4ebff;}#sk-container-id-5 div.sk-serial::before {content: \"\";position: absolute;border-left: 1px solid gray;box-sizing: border-box;top: 0;bottom: 0;left: 50%;z-index: 0;}#sk-container-id-5 div.sk-serial {display: flex;flex-direction: column;align-items: center;background-color: white;padding-right: 0.2em;padding-left: 0.2em;position: relative;}#sk-container-id-5 div.sk-item {position: relative;z-index: 1;}#sk-container-id-5 div.sk-parallel {display: flex;align-items: stretch;justify-content: center;background-color: white;position: relative;}#sk-container-id-5 div.sk-item::before, #sk-container-id-5 div.sk-parallel-item::before {content: \"\";position: absolute;border-left: 1px solid gray;box-sizing: border-box;top: 0;bottom: 0;left: 50%;z-index: -1;}#sk-container-id-5 div.sk-parallel-item {display: flex;flex-direction: column;z-index: 1;position: relative;background-color: white;}#sk-container-id-5 div.sk-parallel-item:first-child::after {align-self: flex-end;width: 50%;}#sk-container-id-5 div.sk-parallel-item:last-child::after {align-self: flex-start;width: 50%;}#sk-container-id-5 div.sk-parallel-item:only-child::after {width: 0;}#sk-container-id-5 div.sk-dashed-wrapped {border: 1px dashed gray;margin: 0 0.4em 0.5em 0.4em;box-sizing: border-box;padding-bottom: 0.4em;background-color: white;}#sk-container-id-5 div.sk-label label {font-family: monospace;font-weight: bold;display: inline-block;line-height: 1.2em;}#sk-container-id-5 div.sk-label-container {text-align: center;}#sk-container-id-5 div.sk-container {/* jupyter's `normalize.less` sets `[hidden] { display: none; }` but bootstrap.min.css set `[hidden] { display: none !important; }` so we also need the `!important` here to be able to override the default hidden behavior on the sphinx rendered scikit-learn.org. See: https://github.com/scikit-learn/scikit-learn/issues/21755 */display: inline-block !important;position: relative;}#sk-container-id-5 div.sk-text-repr-fallback {display: none;}</style><div id=\"sk-container-id-5\" class=\"sk-top-container\"><div class=\"sk-text-repr-fallback\"><pre>LatentDirichletAllocation(learning_method=&#x27;online&#x27;, learning_offset=10,\n",
              "                          n_components=2, n_jobs=-1, random_state=42)</pre><b>In a Jupyter environment, please rerun this cell to show the HTML representation or trust the notebook. <br />On GitHub, the HTML representation is unable to render, please try loading this page with nbviewer.org.</b></div><div class=\"sk-container\" hidden><div class=\"sk-item\"><div class=\"sk-estimator sk-toggleable\"><input class=\"sk-toggleable__control sk-hidden--visually\" id=\"sk-estimator-id-11\" type=\"checkbox\" checked><label for=\"sk-estimator-id-11\" class=\"sk-toggleable__label sk-toggleable__label-arrow\">LatentDirichletAllocation</label><div class=\"sk-toggleable__content\"><pre>LatentDirichletAllocation(learning_method=&#x27;online&#x27;, learning_offset=10,\n",
              "                          n_components=2, n_jobs=-1, random_state=42)</pre></div></div></div></div></div>"
            ]
          },
          "metadata": {},
          "execution_count": 38
        }
      ]
    },
    {
      "cell_type": "code",
      "source": [
        "params = gs_cv_top.cv_results_['params'][gs_cv_top.cv_results_['mean_test_score'].argmin()]\n",
        "print(params)\n",
        "another_lda_more_top = LDA(learning_decay = 0.7,\n",
        "                           learning_offset = 10,\n",
        "                           max_iter = 10,\n",
        "                           n_components = params['n_components'],\n",
        "                           learning_method = 'online', # better for large datasets\n",
        "                           random_state = 42,\n",
        "                           n_jobs = -1)                # use all available processors\n",
        "lda_more_top_trans = another_lda_more_top.fit_transform(matrix)"
      ],
      "metadata": {
        "colab": {
          "base_uri": "https://localhost:8080/"
        },
        "id": "FfJjzDe8uFQx",
        "outputId": "8f010da7-b74a-4e24-faa3-5a965efbf07b"
      },
      "execution_count": null,
      "outputs": [
        {
          "output_type": "stream",
          "name": "stdout",
          "text": [
            "{'n_components': 6}\n"
          ]
        }
      ]
    },
    {
      "cell_type": "code",
      "source": [
        "# Much easier to see 5 distinct topics than 2\n",
        "more_top_trns = pd.DataFrame(lda_more_top_trans, columns = ['t1', 't2', 't3', 't4', 't5', 't6'])\n",
        "more_top_trns['labels'] = y_train\n",
        "more_top_trns.head()"
      ],
      "metadata": {
        "colab": {
          "base_uri": "https://localhost:8080/",
          "height": 206
        },
        "id": "iNDHnJsKi3K7",
        "outputId": "39a81da1-fb47-4883-9821-61860467b499"
      },
      "execution_count": null,
      "outputs": [
        {
          "output_type": "execute_result",
          "data": {
            "text/plain": [
              "         t1        t2        t3        t4        t5        t6 labels\n",
              "0  0.107433  0.052340  0.214700  0.052340  0.053287  0.519901      W\n",
              "1  0.492034  0.048048  0.315471  0.048048  0.048351  0.048048      W\n",
              "2  0.148524  0.047997  0.659332  0.048027  0.048106  0.048014      M\n",
              "3  0.339117  0.065608  0.059471  0.029629  0.439689  0.066486      M\n",
              "4  0.045950  0.045766  0.045841  0.045766  0.532863  0.283814      M"
            ],
            "text/html": [
              "\n",
              "  <div id=\"df-9751a8ef-6241-482c-ac00-6f70afb6b1e3\" class=\"colab-df-container\">\n",
              "    <div>\n",
              "<style scoped>\n",
              "    .dataframe tbody tr th:only-of-type {\n",
              "        vertical-align: middle;\n",
              "    }\n",
              "\n",
              "    .dataframe tbody tr th {\n",
              "        vertical-align: top;\n",
              "    }\n",
              "\n",
              "    .dataframe thead th {\n",
              "        text-align: right;\n",
              "    }\n",
              "</style>\n",
              "<table border=\"1\" class=\"dataframe\">\n",
              "  <thead>\n",
              "    <tr style=\"text-align: right;\">\n",
              "      <th></th>\n",
              "      <th>t1</th>\n",
              "      <th>t2</th>\n",
              "      <th>t3</th>\n",
              "      <th>t4</th>\n",
              "      <th>t5</th>\n",
              "      <th>t6</th>\n",
              "      <th>labels</th>\n",
              "    </tr>\n",
              "  </thead>\n",
              "  <tbody>\n",
              "    <tr>\n",
              "      <th>0</th>\n",
              "      <td>0.107433</td>\n",
              "      <td>0.052340</td>\n",
              "      <td>0.214700</td>\n",
              "      <td>0.052340</td>\n",
              "      <td>0.053287</td>\n",
              "      <td>0.519901</td>\n",
              "      <td>W</td>\n",
              "    </tr>\n",
              "    <tr>\n",
              "      <th>1</th>\n",
              "      <td>0.492034</td>\n",
              "      <td>0.048048</td>\n",
              "      <td>0.315471</td>\n",
              "      <td>0.048048</td>\n",
              "      <td>0.048351</td>\n",
              "      <td>0.048048</td>\n",
              "      <td>W</td>\n",
              "    </tr>\n",
              "    <tr>\n",
              "      <th>2</th>\n",
              "      <td>0.148524</td>\n",
              "      <td>0.047997</td>\n",
              "      <td>0.659332</td>\n",
              "      <td>0.048027</td>\n",
              "      <td>0.048106</td>\n",
              "      <td>0.048014</td>\n",
              "      <td>M</td>\n",
              "    </tr>\n",
              "    <tr>\n",
              "      <th>3</th>\n",
              "      <td>0.339117</td>\n",
              "      <td>0.065608</td>\n",
              "      <td>0.059471</td>\n",
              "      <td>0.029629</td>\n",
              "      <td>0.439689</td>\n",
              "      <td>0.066486</td>\n",
              "      <td>M</td>\n",
              "    </tr>\n",
              "    <tr>\n",
              "      <th>4</th>\n",
              "      <td>0.045950</td>\n",
              "      <td>0.045766</td>\n",
              "      <td>0.045841</td>\n",
              "      <td>0.045766</td>\n",
              "      <td>0.532863</td>\n",
              "      <td>0.283814</td>\n",
              "      <td>M</td>\n",
              "    </tr>\n",
              "  </tbody>\n",
              "</table>\n",
              "</div>\n",
              "    <div class=\"colab-df-buttons\">\n",
              "\n",
              "  <div class=\"colab-df-container\">\n",
              "    <button class=\"colab-df-convert\" onclick=\"convertToInteractive('df-9751a8ef-6241-482c-ac00-6f70afb6b1e3')\"\n",
              "            title=\"Convert this dataframe to an interactive table.\"\n",
              "            style=\"display:none;\">\n",
              "\n",
              "  <svg xmlns=\"http://www.w3.org/2000/svg\" height=\"24px\" viewBox=\"0 -960 960 960\">\n",
              "    <path d=\"M120-120v-720h720v720H120Zm60-500h600v-160H180v160Zm220 220h160v-160H400v160Zm0 220h160v-160H400v160ZM180-400h160v-160H180v160Zm440 0h160v-160H620v160ZM180-180h160v-160H180v160Zm440 0h160v-160H620v160Z\"/>\n",
              "  </svg>\n",
              "    </button>\n",
              "\n",
              "  <style>\n",
              "    .colab-df-container {\n",
              "      display:flex;\n",
              "      gap: 12px;\n",
              "    }\n",
              "\n",
              "    .colab-df-convert {\n",
              "      background-color: #E8F0FE;\n",
              "      border: none;\n",
              "      border-radius: 50%;\n",
              "      cursor: pointer;\n",
              "      display: none;\n",
              "      fill: #1967D2;\n",
              "      height: 32px;\n",
              "      padding: 0 0 0 0;\n",
              "      width: 32px;\n",
              "    }\n",
              "\n",
              "    .colab-df-convert:hover {\n",
              "      background-color: #E2EBFA;\n",
              "      box-shadow: 0px 1px 2px rgba(60, 64, 67, 0.3), 0px 1px 3px 1px rgba(60, 64, 67, 0.15);\n",
              "      fill: #174EA6;\n",
              "    }\n",
              "\n",
              "    .colab-df-buttons div {\n",
              "      margin-bottom: 4px;\n",
              "    }\n",
              "\n",
              "    [theme=dark] .colab-df-convert {\n",
              "      background-color: #3B4455;\n",
              "      fill: #D2E3FC;\n",
              "    }\n",
              "\n",
              "    [theme=dark] .colab-df-convert:hover {\n",
              "      background-color: #434B5C;\n",
              "      box-shadow: 0px 1px 3px 1px rgba(0, 0, 0, 0.15);\n",
              "      filter: drop-shadow(0px 1px 2px rgba(0, 0, 0, 0.3));\n",
              "      fill: #FFFFFF;\n",
              "    }\n",
              "  </style>\n",
              "\n",
              "    <script>\n",
              "      const buttonEl =\n",
              "        document.querySelector('#df-9751a8ef-6241-482c-ac00-6f70afb6b1e3 button.colab-df-convert');\n",
              "      buttonEl.style.display =\n",
              "        google.colab.kernel.accessAllowed ? 'block' : 'none';\n",
              "\n",
              "      async function convertToInteractive(key) {\n",
              "        const element = document.querySelector('#df-9751a8ef-6241-482c-ac00-6f70afb6b1e3');\n",
              "        const dataTable =\n",
              "          await google.colab.kernel.invokeFunction('convertToInteractive',\n",
              "                                                    [key], {});\n",
              "        if (!dataTable) return;\n",
              "\n",
              "        const docLinkHtml = 'Like what you see? Visit the ' +\n",
              "          '<a target=\"_blank\" href=https://colab.research.google.com/notebooks/data_table.ipynb>data table notebook</a>'\n",
              "          + ' to learn more about interactive tables.';\n",
              "        element.innerHTML = '';\n",
              "        dataTable['output_type'] = 'display_data';\n",
              "        await google.colab.output.renderOutput(dataTable, element);\n",
              "        const docLink = document.createElement('div');\n",
              "        docLink.innerHTML = docLinkHtml;\n",
              "        element.appendChild(docLink);\n",
              "      }\n",
              "    </script>\n",
              "  </div>\n",
              "\n",
              "\n",
              "<div id=\"df-eea6009f-99d8-4b2f-a3cf-d002f4a28dc2\">\n",
              "  <button class=\"colab-df-quickchart\" onclick=\"quickchart('df-eea6009f-99d8-4b2f-a3cf-d002f4a28dc2')\"\n",
              "            title=\"Suggest charts\"\n",
              "            style=\"display:none;\">\n",
              "\n",
              "<svg xmlns=\"http://www.w3.org/2000/svg\" height=\"24px\"viewBox=\"0 0 24 24\"\n",
              "     width=\"24px\">\n",
              "    <g>\n",
              "        <path d=\"M19 3H5c-1.1 0-2 .9-2 2v14c0 1.1.9 2 2 2h14c1.1 0 2-.9 2-2V5c0-1.1-.9-2-2-2zM9 17H7v-7h2v7zm4 0h-2V7h2v10zm4 0h-2v-4h2v4z\"/>\n",
              "    </g>\n",
              "</svg>\n",
              "  </button>\n",
              "\n",
              "<style>\n",
              "  .colab-df-quickchart {\n",
              "      --bg-color: #E8F0FE;\n",
              "      --fill-color: #1967D2;\n",
              "      --hover-bg-color: #E2EBFA;\n",
              "      --hover-fill-color: #174EA6;\n",
              "      --disabled-fill-color: #AAA;\n",
              "      --disabled-bg-color: #DDD;\n",
              "  }\n",
              "\n",
              "  [theme=dark] .colab-df-quickchart {\n",
              "      --bg-color: #3B4455;\n",
              "      --fill-color: #D2E3FC;\n",
              "      --hover-bg-color: #434B5C;\n",
              "      --hover-fill-color: #FFFFFF;\n",
              "      --disabled-bg-color: #3B4455;\n",
              "      --disabled-fill-color: #666;\n",
              "  }\n",
              "\n",
              "  .colab-df-quickchart {\n",
              "    background-color: var(--bg-color);\n",
              "    border: none;\n",
              "    border-radius: 50%;\n",
              "    cursor: pointer;\n",
              "    display: none;\n",
              "    fill: var(--fill-color);\n",
              "    height: 32px;\n",
              "    padding: 0;\n",
              "    width: 32px;\n",
              "  }\n",
              "\n",
              "  .colab-df-quickchart:hover {\n",
              "    background-color: var(--hover-bg-color);\n",
              "    box-shadow: 0 1px 2px rgba(60, 64, 67, 0.3), 0 1px 3px 1px rgba(60, 64, 67, 0.15);\n",
              "    fill: var(--button-hover-fill-color);\n",
              "  }\n",
              "\n",
              "  .colab-df-quickchart-complete:disabled,\n",
              "  .colab-df-quickchart-complete:disabled:hover {\n",
              "    background-color: var(--disabled-bg-color);\n",
              "    fill: var(--disabled-fill-color);\n",
              "    box-shadow: none;\n",
              "  }\n",
              "\n",
              "  .colab-df-spinner {\n",
              "    border: 2px solid var(--fill-color);\n",
              "    border-color: transparent;\n",
              "    border-bottom-color: var(--fill-color);\n",
              "    animation:\n",
              "      spin 1s steps(1) infinite;\n",
              "  }\n",
              "\n",
              "  @keyframes spin {\n",
              "    0% {\n",
              "      border-color: transparent;\n",
              "      border-bottom-color: var(--fill-color);\n",
              "      border-left-color: var(--fill-color);\n",
              "    }\n",
              "    20% {\n",
              "      border-color: transparent;\n",
              "      border-left-color: var(--fill-color);\n",
              "      border-top-color: var(--fill-color);\n",
              "    }\n",
              "    30% {\n",
              "      border-color: transparent;\n",
              "      border-left-color: var(--fill-color);\n",
              "      border-top-color: var(--fill-color);\n",
              "      border-right-color: var(--fill-color);\n",
              "    }\n",
              "    40% {\n",
              "      border-color: transparent;\n",
              "      border-right-color: var(--fill-color);\n",
              "      border-top-color: var(--fill-color);\n",
              "    }\n",
              "    60% {\n",
              "      border-color: transparent;\n",
              "      border-right-color: var(--fill-color);\n",
              "    }\n",
              "    80% {\n",
              "      border-color: transparent;\n",
              "      border-right-color: var(--fill-color);\n",
              "      border-bottom-color: var(--fill-color);\n",
              "    }\n",
              "    90% {\n",
              "      border-color: transparent;\n",
              "      border-bottom-color: var(--fill-color);\n",
              "    }\n",
              "  }\n",
              "</style>\n",
              "\n",
              "  <script>\n",
              "    async function quickchart(key) {\n",
              "      const quickchartButtonEl =\n",
              "        document.querySelector('#' + key + ' button');\n",
              "      quickchartButtonEl.disabled = true;  // To prevent multiple clicks.\n",
              "      quickchartButtonEl.classList.add('colab-df-spinner');\n",
              "      try {\n",
              "        const charts = await google.colab.kernel.invokeFunction(\n",
              "            'suggestCharts', [key], {});\n",
              "      } catch (error) {\n",
              "        console.error('Error during call to suggestCharts:', error);\n",
              "      }\n",
              "      quickchartButtonEl.classList.remove('colab-df-spinner');\n",
              "      quickchartButtonEl.classList.add('colab-df-quickchart-complete');\n",
              "    }\n",
              "    (() => {\n",
              "      let quickchartButtonEl =\n",
              "        document.querySelector('#df-eea6009f-99d8-4b2f-a3cf-d002f4a28dc2 button');\n",
              "      quickchartButtonEl.style.display =\n",
              "        google.colab.kernel.accessAllowed ? 'block' : 'none';\n",
              "    })();\n",
              "  </script>\n",
              "</div>\n",
              "    </div>\n",
              "  </div>\n"
            ],
            "application/vnd.google.colaboratory.intrinsic+json": {
              "type": "dataframe",
              "variable_name": "more_top_trns",
              "summary": "{\n  \"name\": \"more_top_trns\",\n  \"rows\": 9210,\n  \"fields\": [\n    {\n      \"column\": \"t1\",\n      \"properties\": {\n        \"dtype\": \"number\",\n        \"std\": 0.2630336911804935,\n        \"min\": 0.024760445201613263,\n        \"max\": 0.8589854465868689,\n        \"samples\": [\n          0.30679258141896726,\n          0.42748598575565583,\n          0.0833344956586831\n        ],\n        \"num_unique_values\": 8935,\n        \"semantic_type\": \"\",\n        \"description\": \"\"\n      }\n    },\n    {\n      \"column\": \"t2\",\n      \"properties\": {\n        \"dtype\": \"number\",\n        \"std\": 0.09436346073543461,\n        \"min\": 0.024024664306232804,\n        \"max\": 0.8297772918628723,\n        \"samples\": [\n          0.03345449961591164,\n          0.32394407898857436,\n          0.08333820213775223\n        ],\n        \"num_unique_values\": 8935,\n        \"semantic_type\": \"\",\n        \"description\": \"\"\n      }\n    },\n    {\n      \"column\": \"t3\",\n      \"properties\": {\n        \"dtype\": \"number\",\n        \"std\": 0.14072884949811784,\n        \"min\": 0.024431290597493095,\n        \"max\": 0.8208398921191344,\n        \"samples\": [\n          0.03345896995187946,\n          0.06192170676499396,\n          0.08333638970782588\n        ],\n        \"num_unique_values\": 8935,\n        \"semantic_type\": \"\",\n        \"description\": \"\"\n      }\n    },\n    {\n      \"column\": \"t4\",\n      \"properties\": {\n        \"dtype\": \"number\",\n        \"std\": 0.09552038692539494,\n        \"min\": 0.024396408446848917,\n        \"max\": 0.8163180785967724,\n        \"samples\": [\n          0.0334542296894218,\n          0.06186658898662062,\n          0.08333796011135164\n        ],\n        \"num_unique_values\": 8935,\n        \"semantic_type\": \"\",\n        \"description\": \"\"\n      }\n    },\n    {\n      \"column\": \"t5\",\n      \"properties\": {\n        \"dtype\": \"number\",\n        \"std\": 0.2611039181670555,\n        \"min\": 0.02579079027686383,\n        \"max\": 0.8616533636956477,\n        \"samples\": [\n          0.5593858615496367,\n          0.06291509246948453,\n          0.08333449587562818\n        ],\n        \"num_unique_values\": 8935,\n        \"semantic_type\": \"\",\n        \"description\": \"\"\n      }\n    },\n    {\n      \"column\": \"t6\",\n      \"properties\": {\n        \"dtype\": \"number\",\n        \"std\": 0.09792037274975321,\n        \"min\": 0.024010199013888657,\n        \"max\": 0.7501665592119002,\n        \"samples\": [\n          0.03345385777418323,\n          0.061866547034670746,\n          0.583318456508759\n        ],\n        \"num_unique_values\": 8935,\n        \"semantic_type\": \"\",\n        \"description\": \"\"\n      }\n    },\n    {\n      \"column\": \"labels\",\n      \"properties\": {\n        \"dtype\": \"category\",\n        \"samples\": [\n          \"M\",\n          \"W\"\n        ],\n        \"num_unique_values\": 2,\n        \"semantic_type\": \"\",\n        \"description\": \"\"\n      }\n    }\n  ]\n}"
            }
          },
          "metadata": {},
          "execution_count": 41
        }
      ]
    }
  ]
}