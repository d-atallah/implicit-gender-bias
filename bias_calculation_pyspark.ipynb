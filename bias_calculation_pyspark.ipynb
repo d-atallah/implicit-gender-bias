{
  "nbformat": 4,
  "nbformat_minor": 0,
  "metadata": {
    "colab": {
      "provenance": [],
      "toc_visible": true,
      "mount_file_id": "1IoQgqDOm_fuuU7Hc47aScVB_9e8jUofz",
      "authorship_tag": "ABX9TyMaI9QM6q3j6ziSEeL/CeNF",
      "include_colab_link": true
    },
    "kernelspec": {
      "name": "python3",
      "display_name": "Python 3"
    },
    "language_info": {
      "name": "python"
    }
  },
  "cells": [
    {
      "cell_type": "markdown",
      "metadata": {
        "id": "view-in-github",
        "colab_type": "text"
      },
      "source": [
        "<a href=\"https://colab.research.google.com/github/d-atallah/implicit_gender_bias/blob/main/pyspark_bias_calculation.ipynb\" target=\"_parent\"><img src=\"https://colab.research.google.com/assets/colab-badge.svg\" alt=\"Open In Colab\"/></a>"
      ]
    },
    {
      "cell_type": "markdown",
      "source": [
        "## Import Packages"
      ],
      "metadata": {
        "id": "-w_1tdtwvXtM"
      }
    },
    {
      "cell_type": "code",
      "execution_count": 6,
      "metadata": {
        "id": "n5M9BFzMvS4H"
      },
      "outputs": [],
      "source": [
        "import gensim.downloader as api\n",
        "from gensim.matutils import cossim\n",
        "from gensim.models import KeyedVectors\n",
        "from sklearn.feature_extraction import text\n",
        "from sklearn.feature_extraction.text import CountVectorizer, TfidfVectorizer\n",
        "from sklearn.metrics.pairwise import paired_euclidean_distances\n",
        "from tqdm import tqdm\n",
        "import matplotlib.pyplot as plt\n",
        "import numpy as np\n",
        "import pandas as pd"
      ]
    },
    {
      "cell_type": "code",
      "source": [
        "!pip install pyspark"
      ],
      "metadata": {
        "colab": {
          "base_uri": "https://localhost:8080/"
        },
        "id": "2ZeIJapSwUVo",
        "outputId": "f661c1ca-d7c2-417d-f3c7-f6881393ab59"
      },
      "execution_count": 7,
      "outputs": [
        {
          "output_type": "stream",
          "name": "stdout",
          "text": [
            "Collecting pyspark\n",
            "  Downloading pyspark-3.5.0.tar.gz (316.9 MB)\n",
            "\u001b[2K     \u001b[90m━━━━━━━━━━━━━━━━━━━━━━━━━━━━━━━━━━━━━━━━\u001b[0m \u001b[32m316.9/316.9 MB\u001b[0m \u001b[31m2.1 MB/s\u001b[0m eta \u001b[36m0:00:00\u001b[0m\n",
            "\u001b[?25h  Preparing metadata (setup.py) ... \u001b[?25l\u001b[?25hdone\n",
            "Requirement already satisfied: py4j==0.10.9.7 in /usr/local/lib/python3.10/dist-packages (from pyspark) (0.10.9.7)\n",
            "Building wheels for collected packages: pyspark\n",
            "  Building wheel for pyspark (setup.py) ... \u001b[?25l\u001b[?25hdone\n",
            "  Created wheel for pyspark: filename=pyspark-3.5.0-py2.py3-none-any.whl size=317425345 sha256=c1c0a26829ea3210ca9a40b2e05b3573dfa364c58d5bedfe25480a7f2f0fad68\n",
            "  Stored in directory: /root/.cache/pip/wheels/41/4e/10/c2cf2467f71c678cfc8a6b9ac9241e5e44a01940da8fbb17fc\n",
            "Successfully built pyspark\n",
            "Installing collected packages: pyspark\n",
            "Successfully installed pyspark-3.5.0\n"
          ]
        }
      ]
    },
    {
      "cell_type": "code",
      "source": [
        "from pyspark.context import SparkContext\n",
        "from pyspark.ml.feature import RegexTokenizer\n",
        "from pyspark.sql.functions import explode\n",
        "from pyspark.sql import SparkSession"
      ],
      "metadata": {
        "id": "wCLr-sNRwsnR"
      },
      "execution_count": 122,
      "outputs": []
    },
    {
      "cell_type": "markdown",
      "source": [
        "## Load Files"
      ],
      "metadata": {
        "id": "XEO6pqCYvcB8"
      }
    },
    {
      "cell_type": "markdown",
      "source": [
        "**Annotations** contains crowdsourced annotations for response sentiment and relevance on source-response pairs obtained as described in the paper *RtGender: A Corpus for Studying Differential Responses to Gender* by Rob Voigt, David Jurgens, Vinodkumar Prabhakaran, Dan Jurafsky and Yulia Tsvetkov. Documentation is available [here](https://colab.research.google.com/corgiredirector?site=https%3A%2F%2Fnlp.stanford.edu%2Frobvoigt%2Frtgender%2F)."
      ],
      "metadata": {
        "id": "g5Hjpok7vfgT"
      }
    },
    {
      "cell_type": "code",
      "source": [
        "file_path_annotations = '/content/drive/MyDrive/SIADS 696: Milestone II/Project/Data/RtGender/annotations.csv'\n",
        "file_path_googlenews = '/content/drive/MyDrive/SIADS 696: Milestone II/Project/Data/RtGender/word2vec-google-news-300.model'\n",
        "file_path_document_bias = '/content/drive/MyDrive/SIADS 696: Milestone II/Project/Data/RtGender/document-bias.csv'"
      ],
      "metadata": {
        "id": "m76nwxPCvdFr"
      },
      "execution_count": 2,
      "outputs": []
    },
    {
      "cell_type": "code",
      "source": [
        "spark = SparkSession.builder.getOrCreate()"
      ],
      "metadata": {
        "id": "z9OfLOvXvvI_"
      },
      "execution_count": 12,
      "outputs": []
    },
    {
      "cell_type": "code",
      "source": [
        "dataframe_annotations = spark.read.csv(file_path_annotations, header=True)\n",
        "dataframe_annotations.show(5, 0)"
      ],
      "metadata": {
        "colab": {
          "base_uri": "https://localhost:8080/"
        },
        "id": "yY8_N_Twy7m4",
        "outputId": "9f394d53-e126-4efa-b71c-287b6e49414f"
      },
      "execution_count": 116,
      "outputs": [
        {
          "output_type": "stream",
          "name": "stdout",
          "text": [
            "+-------------+---------+----------------------------------------------------------------------------------------------------------------------------------------------------------------------------------------------------------------------------+------------------------------------------------------------------------+---------+----------+\n",
            "|source       |op_gender|post_text                                                                                                                                                                                                                   |response_text                                                           |sentiment|relevance |\n",
            "+-------------+---------+----------------------------------------------------------------------------------------------------------------------------------------------------------------------------------------------------------------------------+------------------------------------------------------------------------+---------+----------+\n",
            "|facebook_wiki|W        |Stopped by Fashion Week and got to hang with Amber Fillerup (Barefoot Blonde) at Lauren Conrad's runway show. Kohl's #LCRunway                                                                                              |You are Both Sweet Ashley Tisdale and Lauren Conrad                     |Positive |Poster    |\n",
            "|facebook_wiki|M        |Well guys, real progress is happening. I'm 50 pages in and the story is really starting to get under my skin. It's all tingly...                                                                                            |Give us the first page to read. ONE PAGE.                               |Mixed    |Content   |\n",
            "|facebook_wiki|W        |Tonight is going to be a good night #PerfectMoment #BeautifulNight #OlympicGames #OpeningCeremony                                                                                                                           |this is my city was there 2 weeks a go                                  |Neutral  |Content   |\n",
            "|facebook_wiki|M        |I know grandma Gilmore is real proud of you https://t.co/oRtvR2YuQ2                                                                                                                                                         |if grizzly Adams had a beard.                                           |Neutral  |Content   |\n",
            "|facebook_wiki|W        |#NEWS to KNOW this AM - Mayor Emanuel will make a special address today on police accountability...The third suspect in last month's #Paris attacks has been identified...#Teachers start voting today on a possible strike.|Good morning Lourdes, have a great day! Great Christmas card photo also!|Positive |Irrelevant|\n",
            "+-------------+---------+----------------------------------------------------------------------------------------------------------------------------------------------------------------------------------------------------------------------------+------------------------------------------------------------------------+---------+----------+\n",
            "only showing top 5 rows\n",
            "\n"
          ]
        }
      ]
    },
    {
      "cell_type": "markdown",
      "source": [
        "**Google News** contains a pre-trained Word2Vec model based on the Google News dataset, covering approximately 3 million words and phrases. Documentation is available [here](https://colab.research.google.com/corgiredirector?site=https%3A%2F%2Fcode.google.com%2Farchive%2Fp%2Fword2vec%2F) and [here](https://colab.research.google.com/corgiredirector?site=https%3A%2F%2Fradimrehurek.com%2Fgensim%2Fauto_examples%2Ftutorials%2Frun_word2vec.html%23sphx-glr-auto-examples-tutorials-run-word2vec-py)."
      ],
      "metadata": {
        "id": "kjum4tLy0RNP"
      }
    },
    {
      "cell_type": "code",
      "source": [
        "# model_googlenews = api.load('word2vec-google-news-300')\n",
        "# model_googlenews.save(file_path_googlenews)"
      ],
      "metadata": {
        "id": "r9RJESlnzHw8"
      },
      "execution_count": 21,
      "outputs": []
    },
    {
      "cell_type": "code",
      "source": [
        "model_googlenews = KeyedVectors.load(file_path_googlenews, mmap='r')"
      ],
      "metadata": {
        "id": "9Jm1DJLvywyF"
      },
      "execution_count": 20,
      "outputs": []
    },
    {
      "cell_type": "markdown",
      "source": [
        "Nouns from v1.1 of the **HolisticBias** dataset, a project of the Responsible Natural Language Processing team at Facebook Research. The dataset is described in the paper *I'm sorry to hear that: Finding New Biases in Language Models with a Holistic Descriptor Dataset* by Eric Michael Smith, Melissa Hall, Melanie Kambadur, Eleonora Presani, and Adina Williams. Documentation is available [here](https://github.com/facebookresearch/ResponsibleNLP/tree/main/holistic_bias/dataset/v1.1)."
      ],
      "metadata": {
        "id": "VNQN8YVq0g63"
      }
    },
    {
      "cell_type": "code",
      "source": [
        "nouns = {\n",
        "    \"female\": [\n",
        "        [\"woman\", \"women\"],\n",
        "        [\"lady\", \"ladies\"],\n",
        "        [\"gal\", \"gals\"],\n",
        "        [\"girl\", \"girls\"],\n",
        "        [\"mother\", \"mothers\"],\n",
        "        [\"mom\", \"moms\"],\n",
        "        [\"daughter\", \"daughters\"],\n",
        "        [\"wife\", \"wives\"],\n",
        "        [\"grandmother\", \"grandmothers\"],\n",
        "        [\"grandma\", \"grandmas\"],\n",
        "        [\"sister\", \"sisters\"],\n",
        "        [\"sista\", \"sistas\"]\n",
        "    ],\n",
        "    \"male\": [\n",
        "        [\"man\", \"men\"],\n",
        "        [\"bro\", \"bros\"],\n",
        "        [\"guy\", \"guys\"],\n",
        "        [\"boy\", \"boys\"],\n",
        "        [\"father\", \"fathers\"],\n",
        "        [\"dad\", \"dads\"],\n",
        "        [\"son\", \"sons\"],\n",
        "        [\"husband\", \"husbands\"],\n",
        "        [\"grandfather\", \"grandfathers\"],\n",
        "        [\"grandpa\", \"grandpas\"],\n",
        "        [\"brother\", \"brothers\"]\n",
        "    ],\n",
        "    \"neutral\": [\n",
        "        [\"individual\", \"individuals\"],\n",
        "        [\"person\", \"people\"],\n",
        "        [\"kid\", \"kids\"],\n",
        "        [\"parent\", \"parents\"],\n",
        "        [\"child\", \"children\"],\n",
        "        [\"spouse\", \"spouses\"],\n",
        "        [\"grandparent\", \"grandparents\"],\n",
        "        [\"sibling\", \"siblings\"],\n",
        "        [\"veteran\", \"veterans\"]\n",
        "    ]\n",
        "}"
      ],
      "metadata": {
        "id": "HEAhN1e10gVx"
      },
      "execution_count": 22,
      "outputs": []
    },
    {
      "cell_type": "markdown",
      "source": [
        "## Tokenize Text"
      ],
      "metadata": {
        "id": "Ve94iD4p1GR5"
      }
    },
    {
      "cell_type": "markdown",
      "source": [
        "The default in scikit-learn is r'(?u)\\b\\w\\w+\\b'. According to the CountVectorizer documentation, \"Select[s] tokens of 2 or more alphanumeric characters (punctuation is completely ignored and always treated as a token separator).\""
      ],
      "metadata": {
        "id": "9Jo57IRy9lpe"
      }
    },
    {
      "cell_type": "code",
      "source": [
        "tokenizer = RegexTokenizer(pattern = r'(?u)\\b\\w\\w+\\b', inputCol = 'response_text', outputCol = 'response_token', gaps = False)"
      ],
      "metadata": {
        "id": "5apfdrQj1Hl3"
      },
      "execution_count": 132,
      "outputs": []
    },
    {
      "cell_type": "code",
      "source": [
        "dataframe_annotations_tokens = tokenizer.transform(dataframe_annotations)\n",
        "dataframe_annotations_tokens.show()"
      ],
      "metadata": {
        "colab": {
          "base_uri": "https://localhost:8080/"
        },
        "id": "W_dfyXWO2TKs",
        "outputId": "418a1201-57fd-4092-8104-f1727b42744e"
      },
      "execution_count": 135,
      "outputs": [
        {
          "output_type": "stream",
          "name": "stdout",
          "text": [
            "+-------------+---------+--------------------+--------------------+--------------------+--------------------+--------------------+\n",
            "|       source|op_gender|           post_text|       response_text|           sentiment|           relevance|      response_token|\n",
            "+-------------+---------+--------------------+--------------------+--------------------+--------------------+--------------------+\n",
            "|facebook_wiki|        W|Stopped by Fashio...|You are Both Swee...|            Positive|              Poster|[you, are, both, ...|\n",
            "|facebook_wiki|        M|Well guys, real p...|Give us the first...|               Mixed|             Content|[give, us, the, f...|\n",
            "|facebook_wiki|        W|Tonight is going ...|this is my city w...|             Neutral|             Content|[this, is, my, ci...|\n",
            "|facebook_wiki|        M|I know grandma Gi...|if grizzly Adams ...|             Neutral|             Content|[if, grizzly, ada...|\n",
            "|facebook_wiki|        W|#NEWS to KNOW thi...|Good morning Lour...|            Positive|          Irrelevant|[good, morning, l...|\n",
            "|facebook_wiki|        M|What questions do...|Question: Would y...|             Neutral|             Content|[question, would,...|\n",
            "|facebook_wiki|        W|Into the quarters...|awesome! Keep up ...|            Positive|             Content|[awesome, keep, u...|\n",
            "|facebook_wiki|        W|Fed Cup, ITF Pro ...|Quelle belle poqu...|             Neutral|             Content|[quelle, belle, p...|\n",
            "|facebook_wiki|        W|Thanks everyone!!...|Good luck, don't ...|            Positive|             Content|[good, luck, don,...|\n",
            "|facebook_wiki|        W|GOOD Night.... Go...|Thank you. I've h...|            Positive|             Content|[thank, you, ve, ...|\n",
            "|facebook_wiki|        M|Vote for John as ...|I LOVE JOHN ISNER...|            Positive|             Content| [love, john, isner]|\n",
            "|facebook_wiki|        M|Anchoring New Day...|Poor Chris, you l...|             Neutral|          Irrelevant|[poor, chris, you...|\n",
            "|facebook_wiki|        M|My recent exchang...|Looking back duri...|             Neutral|             Content|[looking, back, d...|\n",
            "|facebook_wiki|        M|This photo was ta...|Still..beautiful ...|            Positive|             Content|[still, beautiful...|\n",
            "|facebook_wiki|        W|Watching the acti...|Ha ha ha! Freakin...|             Neutral|             Content|[ha, ha, ha, frea...|\n",
            "|facebook_wiki|        M|June 20th is arou...|I'm game..how do ...|             Neutral|              Poster|[game, how, do, e...|\n",
            "|facebook_wiki|        W|Best #makeup from...|Just Click The Li...|             Neutral|          Irrelevant|[just, click, the...|\n",
            "|facebook_wiki|        M|\"Former detective...|\"'We don't get pa...| they shouldn't b...| that should auto...|[we, don, get, pa...|\n",
            "|facebook_wiki|        M|If you don't know...|I just saw it, ne...|             Neutral|             Content|[just, saw, it, n...|\n",
            "|facebook_wiki|        W|QUESTION: Any Ven...|YES LOURDES PLEAS...|            Positive|             Content|[yes, lourdes, pl...|\n",
            "+-------------+---------+--------------------+--------------------+--------------------+--------------------+--------------------+\n",
            "only showing top 20 rows\n",
            "\n"
          ]
        }
      ]
    },
    {
      "cell_type": "code",
      "source": [
        "dataframe_annotations_tokens.withColumn('response_token', explode('response_token')).show()"
      ],
      "metadata": {
        "colab": {
          "base_uri": "https://localhost:8080/"
        },
        "id": "U3Yj3FnW6nZH",
        "outputId": "5e4c3200-865a-40b1-a682-60b83c2fbc8e"
      },
      "execution_count": 134,
      "outputs": [
        {
          "output_type": "stream",
          "name": "stdout",
          "text": [
            "+-------------+---------+--------------------+--------------------+---------+---------+--------------+\n",
            "|       source|op_gender|           post_text|       response_text|sentiment|relevance|response_token|\n",
            "+-------------+---------+--------------------+--------------------+---------+---------+--------------+\n",
            "|facebook_wiki|        W|Stopped by Fashio...|You are Both Swee...| Positive|   Poster|           you|\n",
            "|facebook_wiki|        W|Stopped by Fashio...|You are Both Swee...| Positive|   Poster|           are|\n",
            "|facebook_wiki|        W|Stopped by Fashio...|You are Both Swee...| Positive|   Poster|          both|\n",
            "|facebook_wiki|        W|Stopped by Fashio...|You are Both Swee...| Positive|   Poster|         sweet|\n",
            "|facebook_wiki|        W|Stopped by Fashio...|You are Both Swee...| Positive|   Poster|        ashley|\n",
            "|facebook_wiki|        W|Stopped by Fashio...|You are Both Swee...| Positive|   Poster|       tisdale|\n",
            "|facebook_wiki|        W|Stopped by Fashio...|You are Both Swee...| Positive|   Poster|           and|\n",
            "|facebook_wiki|        W|Stopped by Fashio...|You are Both Swee...| Positive|   Poster|        lauren|\n",
            "|facebook_wiki|        W|Stopped by Fashio...|You are Both Swee...| Positive|   Poster|        conrad|\n",
            "|facebook_wiki|        M|Well guys, real p...|Give us the first...|    Mixed|  Content|          give|\n",
            "|facebook_wiki|        M|Well guys, real p...|Give us the first...|    Mixed|  Content|            us|\n",
            "|facebook_wiki|        M|Well guys, real p...|Give us the first...|    Mixed|  Content|           the|\n",
            "|facebook_wiki|        M|Well guys, real p...|Give us the first...|    Mixed|  Content|         first|\n",
            "|facebook_wiki|        M|Well guys, real p...|Give us the first...|    Mixed|  Content|          page|\n",
            "|facebook_wiki|        M|Well guys, real p...|Give us the first...|    Mixed|  Content|            to|\n",
            "|facebook_wiki|        M|Well guys, real p...|Give us the first...|    Mixed|  Content|          read|\n",
            "|facebook_wiki|        M|Well guys, real p...|Give us the first...|    Mixed|  Content|           one|\n",
            "|facebook_wiki|        M|Well guys, real p...|Give us the first...|    Mixed|  Content|          page|\n",
            "|facebook_wiki|        W|Tonight is going ...|this is my city w...|  Neutral|  Content|          this|\n",
            "|facebook_wiki|        W|Tonight is going ...|this is my city w...|  Neutral|  Content|            is|\n",
            "+-------------+---------+--------------------+--------------------+---------+---------+--------------+\n",
            "only showing top 20 rows\n",
            "\n"
          ]
        }
      ]
    },
    {
      "cell_type": "code",
      "source": [],
      "metadata": {
        "id": "jrv0_QCrAC6Z"
      },
      "execution_count": null,
      "outputs": []
    }
  ]
}
