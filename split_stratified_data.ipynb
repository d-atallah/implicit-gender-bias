{
  "nbformat": 4,
  "nbformat_minor": 0,
  "metadata": {
    "colab": {
      "provenance": [],
      "mount_file_id": "1JjoxO2gryFFgedJso4fazoA3fakrn6IR",
      "authorship_tag": "ABX9TyOmPsbsBCkBe9SPyXrUH9fp",
      "include_colab_link": true
    },
    "kernelspec": {
      "name": "python3",
      "display_name": "Python 3"
    },
    "language_info": {
      "name": "python"
    }
  },
  "cells": [
    {
      "cell_type": "markdown",
      "metadata": {
        "id": "view-in-github",
        "colab_type": "text"
      },
      "source": [
        "<a href=\"https://colab.research.google.com/github/d-atallah/implicit_gender_bias/blob/main/split_stratified_data.ipynb\" target=\"_parent\"><img src=\"https://colab.research.google.com/assets/colab-badge.svg\" alt=\"Open In Colab\"/></a>"
      ]
    },
    {
      "cell_type": "markdown",
      "source": [
        "# Import Packages"
      ],
      "metadata": {
        "id": "VmmsukVrg7rX"
      }
    },
    {
      "cell_type": "code",
      "execution_count": 1,
      "metadata": {
        "id": "5wvDbfe_f9u3"
      },
      "outputs": [],
      "source": [
        "import pandas as pd\n",
        "from sklearn.model_selection import train_test_split"
      ]
    },
    {
      "cell_type": "markdown",
      "source": [
        "# Load Files"
      ],
      "metadata": {
        "id": "gIs82dP3hP4H"
      }
    },
    {
      "cell_type": "code",
      "source": [
        "file_path = '/content/drive/MyDrive/SIADS 696: Milestone II/Project/Data/RtGender/sample/'\n",
        "# file_path_one_million = '/content/drive/MyDrive/SIADS 696: Milestone II/Project/Data/RtGender/sample/sample_one_million.csv'\n",
        "# file_path_three_million = '/content/drive/MyDrive/SIADS 696: Milestone II/Project/Data/RtGender/sample/sample_three_million.csv'\n",
        "file_path_five_million = '/content/drive/MyDrive/SIADS 696: Milestone II/Project/Data/RtGender/sample/sample_five_million.csv'"
      ],
      "metadata": {
        "id": "rX312SF3hSFV"
      },
      "execution_count": 16,
      "outputs": []
    },
    {
      "cell_type": "code",
      "source": [
        "# dataframe_one_million = pd.read_csv(file_path_one_million)\n",
        "# dataframe_three_million = pd.read_csv(file_path_three_million)\n",
        "dataframe_five_million = pd. read_csv(file_path_five_million)"
      ],
      "metadata": {
        "id": "I-9B7joyiSEh"
      },
      "execution_count": 9,
      "outputs": []
    },
    {
      "cell_type": "code",
      "source": [
        "dataframe_five_million.columns = ['source', 'source_id', 'op_gender', 'response_text']"
      ],
      "metadata": {
        "id": "rvQtXVW3bznQ"
      },
      "execution_count": 10,
      "outputs": []
    },
    {
      "cell_type": "code",
      "source": [
        "dataframe_five_million['stratify'] = dataframe_five_million['source'] + dataframe_five_million['op_gender']"
      ],
      "metadata": {
        "id": "i75V4uISbdpU"
      },
      "execution_count": 12,
      "outputs": []
    },
    {
      "cell_type": "markdown",
      "source": [
        "# Split Data"
      ],
      "metadata": {
        "id": "_j1_E4ADhrSf"
      }
    },
    {
      "cell_type": "code",
      "source": [
        "train, temporary = train_test_split(dataframe_five_million, test_size=0.3, random_state=42, stratify=dataframe_five_million['stratify'])\n",
        "validate, test = train_test_split(temporary, test_size=0.5, random_state=42, stratify=temporary['stratify'])"
      ],
      "metadata": {
        "id": "zvW8WXviJy57"
      },
      "execution_count": 7,
      "outputs": []
    },
    {
      "cell_type": "code",
      "source": [
        "train_three_million, _ = train_test_split(train, train_size=0.6, random_state=42, stratify=train['stratify'])"
      ],
      "metadata": {
        "id": "r9S7h2q_ep8z"
      },
      "execution_count": 31,
      "outputs": []
    },
    {
      "cell_type": "code",
      "source": [
        "validate_three_million, _ = train_test_split(validate, train_size=0.6, random_state=42, stratify=validate['stratify'])"
      ],
      "metadata": {
        "id": "N5CyPWirfN9x"
      },
      "execution_count": 32,
      "outputs": []
    },
    {
      "cell_type": "code",
      "source": [
        "test_three_million, _ = train_test_split(test, train_size=0.6, random_state=42, stratify=test['stratify'])"
      ],
      "metadata": {
        "id": "4l4kPwMDfwOQ"
      },
      "execution_count": 33,
      "outputs": []
    },
    {
      "cell_type": "code",
      "source": [
        "train_one_million, _ = train_test_split(train_three_million, train_size=(1/3), random_state=42, stratify=train_three_million['stratify'])"
      ],
      "metadata": {
        "id": "PVMumDBMgRcd"
      },
      "execution_count": 36,
      "outputs": []
    },
    {
      "cell_type": "code",
      "source": [
        "validate_one_million, _ = train_test_split(validate_three_million, train_size=(1/3), random_state=42, stratify=validate_three_million['stratify'])"
      ],
      "metadata": {
        "id": "NPFt0F-2ghGv"
      },
      "execution_count": 37,
      "outputs": []
    },
    {
      "cell_type": "code",
      "source": [
        "test_one_million, _ = train_test_split(test_three_million, train_size=(1/3), random_state=42, stratify=test_three_million['stratify'])"
      ],
      "metadata": {
        "id": "Q_X7yt17goZu"
      },
      "execution_count": 38,
      "outputs": []
    },
    {
      "cell_type": "markdown",
      "source": [
        "# Save Data"
      ],
      "metadata": {
        "id": "z6JZWXbvhVON"
      }
    },
    {
      "cell_type": "code",
      "source": [
        "train.to_csv(file_path + 'train_five_million.csv', index=False)\n",
        "validate.to_csv(file_path + 'validate_five_million.csv', index=False)\n",
        "test.to_csv(file_path + 'test_five_million.csv', index=False)"
      ],
      "metadata": {
        "id": "UmAsdDHxcBz0"
      },
      "execution_count": 25,
      "outputs": []
    },
    {
      "cell_type": "code",
      "source": [
        "train_three_million.to_csv(file_path + 'train_three_million.csv', index=False)\n",
        "validate_three_million.to_csv(file_path + 'validate_three_million.csv', index=False)\n",
        "test_three_million.to_csv(file_path + 'test_three_million.csv', index=False)"
      ],
      "metadata": {
        "id": "ziH8xfBlf3l3"
      },
      "execution_count": 34,
      "outputs": []
    },
    {
      "cell_type": "code",
      "source": [
        "train_one_million.to_csv(file_path + 'train_one_million.csv', index=False)\n",
        "validate_one_million.to_csv(file_path + 'validate_one_million.csv', index=False)\n",
        "test_one_million.to_csv(file_path + 'test_one_million.csv', index=False)"
      ],
      "metadata": {
        "id": "DlIyBZlkgvbP"
      },
      "execution_count": 39,
      "outputs": []
    }
  ]
}