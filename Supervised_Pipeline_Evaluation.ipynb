{
  "cells": [
    {
      "cell_type": "markdown",
      "metadata": {
        "id": "view-in-github",
        "colab_type": "text"
      },
      "source": [
        "<a href=\"https://colab.research.google.com/github/d-atallah/implicit_gender_bias/blob/main/Supervised_Pipeline_Evaluation.ipynb\" target=\"_parent\"><img src=\"https://colab.research.google.com/assets/colab-badge.svg\" alt=\"Open In Colab\"/></a>"
      ]
    },
    {
      "cell_type": "markdown",
      "metadata": {
        "id": "cHf_jOR9jOca"
      },
      "source": [
        "# Import, Download, & Variable Statements"
      ]
    },
    {
      "cell_type": "code",
      "execution_count": null,
      "metadata": {
        "colab": {
          "base_uri": "https://localhost:8080/"
        },
        "id": "n6WzZ3_ujTwL",
        "outputId": "5155469d-6a35-4835-d3bf-b982720909af"
      },
      "outputs": [
        {
          "name": "stderr",
          "output_type": "stream",
          "text": [
            "[nltk_data] Downloading package stopwords to\n",
            "[nltk_data]     /home/gibsonce/nltk_data...\n",
            "[nltk_data]   Package stopwords is already up-to-date!\n",
            "[nltk_data] Downloading package wordnet to /home/gibsonce/nltk_data...\n",
            "[nltk_data]   Package wordnet is already up-to-date!\n",
            "[nltk_data] Downloading package punkt to /home/gibsonce/nltk_data...\n",
            "[nltk_data]   Package punkt is already up-to-date!\n"
          ]
        }
      ],
      "source": [
        "# Import & download statements\n",
        "# General Statements\n",
        "#!git clone https://github.com/d-atallah/implicit_gender_bias.git\n",
        "#! pip install joblib\n",
        "#! pip install shap\n",
        "import pandas as pd\n",
        "import string\n",
        "import re\n",
        "import joblib\n",
        "#from implicit_gender_bias import config as cf\n",
        "import os\n",
        "import numpy as np\n",
        "import time\n",
        "#from sklearn.externals import joblib\n",
        "\n",
        "import shap\n",
        "import matplotlib.pyplot as plt\n",
        "\n",
        "# Feature selection & Model tuning\n",
        "from sklearn.model_selection import train_test_split, GridSearchCV, RandomizedSearchCV, cross_val_score, StratifiedKFold, cross_validate\n",
        "from sklearn.feature_extraction.text import CountVectorizer, TfidfVectorizer\n",
        "from sklearn.pipeline import make_pipeline\n",
        "from sklearn.decomposition import TruncatedSVD,PCA, NMF\n",
        "from sklearn.metrics import confusion_matrix,precision_score, recall_score, f1_score, accuracy_score, roc_curve, roc_auc_score, log_loss, make_scorer, average_precision_score\n",
        "\n",
        "# Model options\n",
        "from xgboost import XGBClassifier\n",
        "from sklearn.linear_model import LogisticRegression\n",
        "from sklearn.ensemble import RandomForestClassifier\n",
        "from sklearn.svm import SVC\n",
        "from sklearn.neighbors import KNeighborsClassifier\n",
        "\n",
        "# NLTK resources\n",
        "import nltk\n",
        "from nltk.corpus import stopwords\n",
        "from nltk.stem import WordNetLemmatizer\n",
        "from nltk.stem import PorterStemmer\n",
        "\n",
        "nltk.download('stopwords')\n",
        "nltk.download('wordnet')\n",
        "nltk.download('punkt')\n",
        "\n",
        "stop_words = set(stopwords.words('english'))\n",
        "lemmatizer = WordNetLemmatizer()\n",
        "porter = PorterStemmer()"
      ]
    },
    {
      "cell_type": "markdown",
      "metadata": {
        "id": "v4riPDHyKH9K"
      },
      "source": [
        "## Read Inputs"
      ]
    },
    {
      "cell_type": "code",
      "execution_count": null,
      "metadata": {
        "id": "pPZ-eni9oS-A"
      },
      "outputs": [],
      "source": [
        "# Variables\n",
        "folder_path = '/home/gibsonce/datallah-jaymefis-gibsonce/'\n",
        "\n",
        "# Load DataFrames from pkl files\n",
        "y_train = pd.read_pickle(folder_path + 'y_train.pkl')\n",
        "y_test = pd.read_pickle(folder_path + 'y_test.pkl')"
      ]
    },
    {
      "cell_type": "markdown",
      "metadata": {
        "id": "9zRF7xFVjBKo"
      },
      "source": [
        "## Define Functions\n"
      ]
    },
    {
      "cell_type": "code",
      "execution_count": null,
      "metadata": {
        "id": "3zLj7yI_jJcQ"
      },
      "outputs": [],
      "source": [
        "# Evaluate a model\n",
        "def model_eval(pipeline, X_test, y_test):\n",
        "    \"\"\"\n",
        "    Evaluates a specified model using accuracy, precision, recall, F-1 score, AUC-ROC & PR, log-Loss, and a confusion matrix.\n",
        "\n",
        "    Parameters:\n",
        "    - pipeline (object): Fitted pipeline.\n",
        "    - X_test (list or array): Test set features.\n",
        "    - y_test (list or array): True labels.\n",
        "\n",
        "    Returns:\n",
        "    - metrics_df (pd.DataFrame): DataFrame containing the metrics and scores.\n",
        "    - confusion_df (pd.DataFrame): DataFrame containing a confusion matrix.\n",
        "    \"\"\"\n",
        "\n",
        "    start_time = time.time()\n",
        "\n",
        "    # Create positive binary predictions\n",
        "    y_pred_proba = pipeline.predict_proba(X_test)\n",
        "    y_pred = (y_pred_proba >= 0.5)[:, 1].astype(int)\n",
        "\n",
        "    # Calculate single split metrics\n",
        "    accuracy = accuracy_score(y_test, y_pred)\n",
        "    precision = precision_score(y_test, y_pred)\n",
        "    recall = recall_score(y_test, y_pred)\n",
        "    f1 = f1_score(y_test, y_pred)\n",
        "    fpr, tpr, thresholds = roc_curve(y_test, y_pred)\n",
        "    auc_roc = roc_auc_score(y_test, y_pred)\n",
        "    auc_pr = average_precision_score(y_test, y_pred)\n",
        "    logloss = log_loss(y_test, y_pred)\n",
        "\n",
        "    #Single split evaluation\n",
        "    metrics_df = pd.DataFrame({\n",
        "        'Metric': ['Accuracy', 'Precision', 'Recall', 'F1-Score', 'AUC-ROC', 'AUC-PR', 'Log-Loss'],\n",
        "        'Single Split Score': [accuracy, precision, recall, f1, auc_roc, auc_pr, logloss]\n",
        "    })\n",
        "    metrics_df = metrics_df.reset_index(drop=True)\n",
        "\n",
        "    end_time = time.time()\n",
        "    elapsed_time = end_time - start_time\n",
        "    print(f\"Single split evaluation completed. Time elapsed: {elapsed_time/60:.2f} minutes.\")\n",
        "\n",
        "    # Cross-validation\n",
        "    scoring = {\n",
        "        'accuracy': make_scorer(accuracy_score),\n",
        "        'f1': make_scorer(f1_score),\n",
        "        'roc_auc': make_scorer(roc_auc_score),\n",
        "        'pr_auc': make_scorer(average_precision_score),\n",
        "        'log_loss': make_scorer(log_loss, needs_proba=True),\n",
        "        'precision': make_scorer(precision_score),\n",
        "        'recall': make_scorer(recall_score)\n",
        "    }\n",
        "\n",
        "    cv = StratifiedKFold(n_splits=5, shuffle=True, random_state=42)\n",
        "    cv_results = cross_validate(pipeline, X_test, y_test, cv=cv, scoring=scoring)\n",
        "\n",
        "    # Create DataFrame to store cross-validation results\n",
        "    cv_metrics_df = pd.DataFrame({\n",
        "    'Metric': ['Accuracy', 'Precision', 'Recall', 'F1-Score', 'AUC-ROC', 'AUC-PR', 'Log-Loss'],\n",
        "    'CV_Mean': [np.mean(cv_results['test_accuracy']),\n",
        "                np.mean(cv_results['test_precision']),\n",
        "                np.mean(cv_results['test_recall']),\n",
        "                np.mean(cv_results['test_f1']),\n",
        "                np.mean(cv_results['test_roc_auc']),\n",
        "                np.mean(cv_results['test_pr_auc']),\n",
        "                np.mean(cv_results['test_log_loss'])],\n",
        "    'CV_Std Dev': [np.std(cv_results['test_accuracy']),\n",
        "                   np.std(cv_results['test_precision']),\n",
        "                   np.std(cv_results['test_recall']),\n",
        "                   np.std(cv_results['test_f1']),\n",
        "                   np.std(cv_results['test_roc_auc']),\n",
        "                   np.std(cv_results['test_pr_auc']),\n",
        "                   np.std(cv_results['test_log_loss'])]\n",
        "    })\n",
        "\n",
        "    combined_metrics_df = pd.merge(metrics_df, cv_metrics_df, on='Metric')\n",
        "\n",
        "    end_time = time.time()\n",
        "    elapsed_time = end_time - start_time\n",
        "    print(f\"Cross validation completed. Time elapsed: {elapsed_time/60:.2f} minutes.\")\n",
        "\n",
        "    # Print cross-validation results\n",
        "    print(\"\\nEvaluation results:\")\n",
        "    print(combined_metrics_df)\n",
        "\n",
        "    # Confusion matrix\n",
        "    cm = confusion_matrix(y_test, y_pred)\n",
        "    confusion_df = pd.DataFrame(cm, columns=['Predicted Positive', 'Predicted Negative'], index=['Actual Positive', 'Actual Negative'])\n",
        "\n",
        "    print(\"\\nConfusion Matrix:\")\n",
        "    print(confusion_matrix)\n",
        "\n",
        "    return metrics_df, confusion_df"
      ]
    },
    {
      "cell_type": "code",
      "execution_count": null,
      "metadata": {
        "id": "bZ9IeKzIkjZx"
      },
      "outputs": [],
      "source": [
        "def model_rank(model_list, model_str, metric):\n",
        "    \"\"\"\n",
        "    Finds the model with the best score based on a specified metric.\n",
        "\n",
        "    Parameters:\n",
        "    - models_list (list): List of dictionaries, each representing a model's details.\n",
        "    - model_str (list): List of model names corresponding to models_list.\n",
        "    - metric (str): Metric to rank the models by (e.g., 'Accuracy', 'F1-Score').\n",
        "\n",
        "    Returns:\n",
        "    - all_models (pd.DataFrame): DataFrame with metric scores and model names.\n",
        "    - models_by_metric (pd.DataFrame): DataFrame filtered by the specified metric and sorted in descending order.\n",
        "    \"\"\"\n",
        "    all_models = [model_dict['metrics'].assign(Model=model_name) for model_dict, model_name in zip(model_list, model_str)]\n",
        "\n",
        "    # Concatenate the DataFrames in the list\n",
        "    all_models = pd.concat(all_models, ignore_index=True)\n",
        "\n",
        "\n",
        "    # Sort the DataFrame by the specified metric in descending order\n",
        "    models_by_metric = all_models[all_models['Metric'] == metric].sort_values(by='Score', ascending=False)\n",
        "\n",
        "    return all_models, models_by_metric"
      ]
    },
    {
      "cell_type": "markdown",
      "metadata": {
        "id": "svsUhDyhs-EK"
      },
      "source": [
        "## XGBoost"
      ]
    },
    {
      "cell_type": "markdown",
      "metadata": {
        "id": "XcUYG_vvKH9M"
      },
      "source": [
        "### XGB Final Model:\n",
        "*   Vectorization: TF-IDF\n",
        "*   Feature Representation: Unigram"
      ]
    },
    {
      "cell_type": "code",
      "execution_count": null,
      "metadata": {
        "scrolled": true,
        "id": "NZrY4GzfKH9M"
      },
      "outputs": [],
      "source": [
        "model = 'xgb'\n",
        "pipeline = joblib.load(f'{folder_path}{model}_pipeline.pkl')\n",
        "X_test = joblib.load(f'{folder_path}{model}_X_test.pkl')\n",
        "metrics_df, confusion_df = model_eval(pipeline, X_test, y_test)\n",
        "\n",
        "xgb = {\n",
        "    'pipeline': pipeline,\n",
        "    'X_test': test,\n",
        "    'metrics': metrics_df,\n",
        "    'confusion matrix': confusion_df\n",
        "}"
      ]
    },
    {
      "cell_type": "markdown",
      "metadata": {
        "id": "322iMKuvi26V"
      },
      "source": [
        "## Logistic Regression"
      ]
    },
    {
      "cell_type": "markdown",
      "metadata": {
        "id": "8FLV_drUIqJ4"
      },
      "source": [
        "### Logistic Regression Model Method:\n",
        "*   Vectorization: Count\n",
        "*   Feature Representation: Unigram"
      ]
    },
    {
      "cell_type": "code",
      "execution_count": null,
      "metadata": {
        "colab": {
          "base_uri": "https://localhost:8080/"
        },
        "id": "iHFIZlGSIp1d",
        "outputId": "7ef00ef2-8473-4df9-8f76-25748d75d13f"
      },
      "outputs": [
        {
          "name": "stdout",
          "output_type": "stream",
          "text": [
            "Hyperparameters: {'logisticregression__solver': 'saga', 'logisticregression__penalty': 'l1', 'logisticregression__C': 0.1}\n",
            "Metrics:\n",
            "      Metric     Score\n",
            "0   Accuracy  0.525630\n",
            "1  Precision  0.521610\n",
            "2     Recall  0.890585\n",
            "3   F1-Score  0.657895\n",
            "4        AUC  0.516530\n",
            "5   Log-Loss  0.692039\n",
            "\n",
            "Confusion Matrix:\n",
            "                 Predicted Positive  Predicted Negative\n",
            "Actual Positive                 160                 963\n",
            "Actual Negative                 129                1050\n"
          ]
        }
      ],
      "source": [
        "# Define variables\n",
        "model = 'log'\n",
        "pipeline = joblib.load(f'{folder_path}{model}_pipeline.pkl')\n",
        "X_test = joblib.load(f'{folder_path}{model}_X_test.pkl')\n",
        "metrics_df, confusion_df = model_eval(pipeline, X_test, y_test)\n",
        "\n",
        "log = {\n",
        "    'pipeline': pipeline,\n",
        "    'X_test': test,\n",
        "    'metrics': metrics_df,\n",
        "    'confusion matrix': confusion_df\n",
        "}"
      ]
    },
    {
      "cell_type": "markdown",
      "metadata": {
        "id": "whj969mudljU"
      },
      "source": [
        "## Support Vector Machine"
      ]
    },
    {
      "cell_type": "markdown",
      "metadata": {
        "id": "lIoOQC9U3ifv"
      },
      "source": [
        "### Support Vector Machine Model Method:\n",
        "*   Vectorization: Count\n",
        "*   Feature Representation: Unigram"
      ]
    },
    {
      "cell_type": "code",
      "execution_count": null,
      "metadata": {
        "id": "MrfJfLNO3rKy",
        "outputId": "5c2d84ff-7b20-46a0-d8fa-0e8d222e6a55"
      },
      "outputs": [
        {
          "name": "stdout",
          "output_type": "stream",
          "text": [
            "Hyperparameters: {'svc__kernel': 'rbf', 'svc__gamma': 'scale', 'svc__C': 10}\n",
            "Metrics:\n",
            "      Metric     Score\n",
            "0   Accuracy  0.526499\n",
            "1  Precision  0.524930\n",
            "2     Recall  0.794741\n",
            "3   F1-Score  0.632254\n",
            "4        AUC  0.519811\n",
            "5   Log-Loss  0.692200\n",
            "\n",
            "Confusion Matrix:\n",
            "                 Predicted Positive  Predicted Negative\n",
            "Actual Positive                 275                 848\n",
            "Actual Negative                 242                 937\n"
          ]
        }
      ],
      "source": [
        "# Define variables\n",
        "model = 'svm'\n",
        "pipeline = joblib.load(f'{folder_path}{model}_pipeline.pkl')\n",
        "X_test = joblib.load(f'{folder_path}{model}_X_test.pkl')\n",
        "metrics_df, confusion_df = model_eval(pipeline, X_test, y_test)\n",
        "\n",
        "svm = {\n",
        "    'pipeline': pipeline,\n",
        "    'X_test': test,\n",
        "    'metrics': metrics_df,\n",
        "    'confusion matrix': confusion_df\n",
        "}"
      ]
    },
    {
      "cell_type": "markdown",
      "metadata": {
        "id": "nihU1Me_eeO1"
      },
      "source": [
        "## K-Nearest Neighbors"
      ]
    },
    {
      "cell_type": "markdown",
      "metadata": {
        "id": "WPiFUZllfQaC"
      },
      "source": [
        "### K-Nearest Neighbors Model Method:\n",
        "*   Vectorization: TF-IDF\n",
        "*   Feature Representation: Bigram"
      ]
    },
    {
      "cell_type": "code",
      "execution_count": null,
      "metadata": {
        "id": "x_4uzFrwfUkB",
        "outputId": "8deb5c37-d271-4748-f089-b1a7de101578"
      },
      "outputs": [
        {
          "name": "stdout",
          "output_type": "stream",
          "text": [
            "Hyperparameters: {'kneighborsclassifier__weights': 'distance', 'kneighborsclassifier__p': 1, 'kneighborsclassifier__n_neighbors': 3}\n",
            "Metrics:\n",
            "      Metric     Score\n",
            "0   Accuracy  0.551694\n",
            "1  Precision  0.550034\n",
            "2     Recall  0.685327\n",
            "3   F1-Score  0.610272\n",
            "4        AUC  0.548362\n",
            "5   Log-Loss  7.951702\n",
            "\n",
            "Confusion Matrix:\n",
            "                 Predicted Positive  Predicted Negative\n",
            "Actual Positive                 462                 661\n",
            "Actual Negative                 371                 808\n"
          ]
        }
      ],
      "source": [
        "# Define variables\n",
        "model = 'knn'\n",
        "pipeline = joblib.load(f'{folder_path}{model}_pipeline.pkl')\n",
        "X_test = joblib.load(f'{folder_path}{model}_X_test.pkl')\n",
        "metrics_df, confusion_df = model_eval(pipeline, X_test, y_test)\n",
        "\n",
        "knn = {\n",
        "    'pipeline': pipeline,\n",
        "    'X_test': test,\n",
        "    'metrics': metrics_df,\n",
        "    'confusion matrix': confusion_df\n",
        "}"
      ]
    },
    {
      "cell_type": "markdown",
      "metadata": {
        "id": "8bBQ798Ix0Wl"
      },
      "source": [
        "# Model Ranking Comparison"
      ]
    },
    {
      "cell_type": "code",
      "execution_count": null,
      "metadata": {
        "colab": {
          "base_uri": "https://localhost:8080/",
          "height": 206
        },
        "id": "pwqEjyuFklr9",
        "outputId": "42cea569-4499-40a9-dd6f-ee0088da2254"
      },
      "outputs": [
        {
          "data": {
            "text/html": [
              "<div>\n",
              "<style scoped>\n",
              "    .dataframe tbody tr th:only-of-type {\n",
              "        vertical-align: middle;\n",
              "    }\n",
              "\n",
              "    .dataframe tbody tr th {\n",
              "        vertical-align: top;\n",
              "    }\n",
              "\n",
              "    .dataframe thead th {\n",
              "        text-align: right;\n",
              "    }\n",
              "</style>\n",
              "<table border=\"1\" class=\"dataframe\">\n",
              "  <thead>\n",
              "    <tr style=\"text-align: right;\">\n",
              "      <th></th>\n",
              "      <th>Metric</th>\n",
              "      <th>Score</th>\n",
              "      <th>Model</th>\n",
              "    </tr>\n",
              "  </thead>\n",
              "  <tbody>\n",
              "    <tr>\n",
              "      <th>10</th>\n",
              "      <td>AUC</td>\n",
              "      <td>0.571551</td>\n",
              "      <td>xgb_tfidf_1</td>\n",
              "    </tr>\n",
              "    <tr>\n",
              "      <th>4</th>\n",
              "      <td>AUC</td>\n",
              "      <td>0.570937</td>\n",
              "      <td>xgb_count_1</td>\n",
              "    </tr>\n",
              "    <tr>\n",
              "      <th>16</th>\n",
              "      <td>AUC</td>\n",
              "      <td>0.570937</td>\n",
              "      <td>xgb_count_1</td>\n",
              "    </tr>\n",
              "    <tr>\n",
              "      <th>22</th>\n",
              "      <td>AUC</td>\n",
              "      <td>0.549021</td>\n",
              "      <td>xgb_count_2</td>\n",
              "    </tr>\n",
              "    <tr>\n",
              "      <th>94</th>\n",
              "      <td>AUC</td>\n",
              "      <td>0.548362</td>\n",
              "      <td>knn_tfidf_2</td>\n",
              "    </tr>\n",
              "    <tr>\n",
              "      <th>76</th>\n",
              "      <td>AUC</td>\n",
              "      <td>0.545513</td>\n",
              "      <td>knn_count_1</td>\n",
              "    </tr>\n",
              "    <tr>\n",
              "      <th>82</th>\n",
              "      <td>AUC</td>\n",
              "      <td>0.541344</td>\n",
              "      <td>knn_count_2</td>\n",
              "    </tr>\n",
              "    <tr>\n",
              "      <th>52</th>\n",
              "      <td>AUC</td>\n",
              "      <td>0.519811</td>\n",
              "      <td>svm_count_1</td>\n",
              "    </tr>\n",
              "    <tr>\n",
              "      <th>88</th>\n",
              "      <td>AUC</td>\n",
              "      <td>0.519561</td>\n",
              "      <td>knn_tfidf_1</td>\n",
              "    </tr>\n",
              "    <tr>\n",
              "      <th>28</th>\n",
              "      <td>AUC</td>\n",
              "      <td>0.516530</td>\n",
              "      <td>log_count_1</td>\n",
              "    </tr>\n",
              "    <tr>\n",
              "      <th>40</th>\n",
              "      <td>AUC</td>\n",
              "      <td>0.514178</td>\n",
              "      <td>log_tfidf_1</td>\n",
              "    </tr>\n",
              "    <tr>\n",
              "      <th>64</th>\n",
              "      <td>AUC</td>\n",
              "      <td>0.509251</td>\n",
              "      <td>svm_tfidf_1</td>\n",
              "    </tr>\n",
              "    <tr>\n",
              "      <th>58</th>\n",
              "      <td>AUC</td>\n",
              "      <td>0.505934</td>\n",
              "      <td>svm_count_2</td>\n",
              "    </tr>\n",
              "    <tr>\n",
              "      <th>70</th>\n",
              "      <td>AUC</td>\n",
              "      <td>0.504790</td>\n",
              "      <td>svm_tfidf_2</td>\n",
              "    </tr>\n",
              "    <tr>\n",
              "      <th>34</th>\n",
              "      <td>AUC</td>\n",
              "      <td>0.502500</td>\n",
              "      <td>log_count_2</td>\n",
              "    </tr>\n",
              "    <tr>\n",
              "      <th>46</th>\n",
              "      <td>AUC</td>\n",
              "      <td>0.496097</td>\n",
              "      <td>log_tfidf_2</td>\n",
              "    </tr>\n",
              "  </tbody>\n",
              "</table>\n",
              "</div>"
            ],
            "text/plain": [
              "   Metric     Score        Model\n",
              "10    AUC  0.571551  xgb_tfidf_1\n",
              "4     AUC  0.570937  xgb_count_1\n",
              "16    AUC  0.570937  xgb_count_1\n",
              "22    AUC  0.549021  xgb_count_2\n",
              "94    AUC  0.548362  knn_tfidf_2\n",
              "76    AUC  0.545513  knn_count_1\n",
              "82    AUC  0.541344  knn_count_2\n",
              "52    AUC  0.519811  svm_count_1\n",
              "88    AUC  0.519561  knn_tfidf_1\n",
              "28    AUC  0.516530  log_count_1\n",
              "40    AUC  0.514178  log_tfidf_1\n",
              "64    AUC  0.509251  svm_tfidf_1\n",
              "58    AUC  0.505934  svm_count_2\n",
              "70    AUC  0.504790  svm_tfidf_2\n",
              "34    AUC  0.502500  log_count_2\n",
              "46    AUC  0.496097  log_tfidf_2"
            ]
          },
          "execution_count": 39,
          "metadata": {},
          "output_type": "execute_result"
        }
      ],
      "source": [
        "# Model Names (Need string values for dataframe column)\n",
        "model_list = [xgb_count_1, xgb_tfidf_1, xgb_count_1, xgb_count_2, log_count_1, log_count_2, log_tfidf_1, log_tfidf_2, svm_count_1, svm_count_2, svm_tfidf_1, svm_tfidf_2, knn_count_1, knn_count_2, knn_tfidf_1, knn_tfidf_2]\n",
        "model_str = ['xgb_count_1', 'xgb_tfidf_1', 'xgb_count_1', 'xgb_count_2', 'log_count_1', 'log_count_2', 'log_tfidf_1', 'log_tfidf_2', 'svm_count_1', 'svm_count_2', 'svm_tfidf_1', 'svm_tfidf_2', 'knn_count_1', 'knn_count_2', 'knn_tfidf_1', 'knn_tfidf_2']\n",
        "\n",
        "# Specify the metric to rank the models by\n",
        "all_models, models_by_metric = model_rank(model_list, model_str, 'AUC')\n",
        "models_by_metric"
      ]
    },
    {
      "cell_type": "code",
      "execution_count": null,
      "metadata": {
        "id": "NOYyZyyOKH9S"
      },
      "outputs": [],
      "source": [
        "all_models.to_csv(folder_path+test_num+'all_models.csv', index=False)\n",
        "models_by_metric.to_csv(folder_path+test_num+'models_by_metric.csv', index=False)"
      ]
    },
    {
      "cell_type": "markdown",
      "metadata": {
        "id": "attu5aSwi0cS"
      },
      "source": [
        "# Save the vectorizer and associated data\n",
        "joblib.dump(vectorizer_tfidf_bi,folder_path+'tfidf_vectorizer_bi.pkl')\n",
        "joblib.dump(X_train_vtfidf_bi, folder_path+'X_train_vtfidf_bi.pkl')\n",
        "joblib.dump(X_validation_vtfidf_bi, folder_path+'X_validation_vtfidf_bi.pkl')\n",
        "joblib.dump(X_test_vtfidf_bi, folder_path+'X_test_vtfidf_bi.pkl')"
      ]
    }
  ],
  "metadata": {
    "colab": {
      "collapsed_sections": [
        "sdKBq7ETihSJ"
      ],
      "provenance": [],
      "include_colab_link": true
    },
    "kernelspec": {
      "display_name": "Python 3 (ipykernel)",
      "language": "python",
      "name": "python3"
    },
    "language_info": {
      "codemirror_mode": {
        "name": "ipython",
        "version": 3
      },
      "file_extension": ".py",
      "mimetype": "text/x-python",
      "name": "python",
      "nbconvert_exporter": "python",
      "pygments_lexer": "ipython3",
      "version": "3.9.7"
    }
  },
  "nbformat": 4,
  "nbformat_minor": 0
}