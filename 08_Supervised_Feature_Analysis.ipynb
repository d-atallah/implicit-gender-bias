{
  "cells": [
    {
      "cell_type": "markdown",
      "metadata": {
        "id": "view-in-github",
        "colab_type": "text"
      },
      "source": [
        "<a href=\"https://colab.research.google.com/github/d-atallah/implicit_gender_bias/blob/main/08_Supervised_Feature_Analysis.ipynb\" target=\"_parent\"><img src=\"https://colab.research.google.com/assets/colab-badge.svg\" alt=\"Open In Colab\"/></a>"
      ]
    },
    {
      "cell_type": "markdown",
      "metadata": {
        "id": "cHf_jOR9jOca"
      },
      "source": [
        "# Import, Download, & Variable Statements"
      ]
    },
    {
      "cell_type": "code",
      "execution_count": null,
      "metadata": {
        "colab": {
          "base_uri": "https://localhost:8080/"
        },
        "id": "n6WzZ3_ujTwL",
        "outputId": "172843ab-7d0e-42d7-dce9-ee13902a825b"
      },
      "outputs": [
        {
          "name": "stderr",
          "output_type": "stream",
          "text": [
            "[nltk_data] Downloading package stopwords to\n",
            "[nltk_data]     /home/gibsonce/nltk_data...\n",
            "[nltk_data]   Package stopwords is already up-to-date!\n",
            "[nltk_data] Downloading package wordnet to /home/gibsonce/nltk_data...\n",
            "[nltk_data]   Package wordnet is already up-to-date!\n",
            "[nltk_data] Downloading package punkt to /home/gibsonce/nltk_data...\n",
            "[nltk_data]   Package punkt is already up-to-date!\n"
          ]
        }
      ],
      "source": [
        "# Import & download statements\n",
        "# General statements\n",
        "import pandas as pd\n",
        "import string\n",
        "import re\n",
        "import joblib\n",
        "import os\n",
        "import numpy as np\n",
        "import time\n",
        "import spacy\n",
        "import scipy\n",
        "from sklearn.feature_selection import SelectFromModel\n",
        "import matplotlib.pyplot as plt\n",
        "import seaborn as sns\n",
        "\n",
        "# Feature selection & Model tuning\n",
        "from sklearn.model_selection import train_test_split, GridSearchCV, RandomizedSearchCV, cross_val_score, StratifiedKFold, cross_validate\n",
        "from sklearn.feature_extraction.text import CountVectorizer, TfidfVectorizer\n",
        "from sklearn.pipeline import make_pipeline\n",
        "from sklearn.decomposition import TruncatedSVD,PCA, NMF, LatentDirichletAllocation\n",
        "from sklearn.metrics import confusion_matrix,precision_score, recall_score, f1_score, accuracy_score, roc_curve, roc_auc_score, log_loss, make_scorer, average_precision_score\n",
        "from sklearn.preprocessing import MinMaxScaler\n",
        "\n",
        "# Model options\n",
        "from xgboost import XGBClassifier\n",
        "from sklearn.linear_model import LogisticRegression\n",
        "from sklearn.ensemble import RandomForestClassifier\n",
        "from sklearn.svm import SVC\n",
        "from sklearn.neighbors import KNeighborsClassifier\n",
        "from sklearn.naive_bayes import MultinomialNB\n",
        "\n",
        "# NLTK resources\n",
        "import nltk\n",
        "from nltk.corpus import stopwords\n",
        "from nltk.stem import WordNetLemmatizer\n",
        "from nltk.stem import PorterStemmer\n",
        "\n",
        "nltk.download('stopwords')\n",
        "nltk.download('wordnet')\n",
        "nltk.download('punkt')\n",
        "\n",
        "stop_words = set(stopwords.words('english'))\n",
        "lemmatizer = WordNetLemmatizer()\n",
        "porter = PorterStemmer()\n",
        "nlp = spacy.load(\"en_core_web_sm\")"
      ]
    },
    {
      "cell_type": "markdown",
      "metadata": {
        "id": "9FJueqg02GhL"
      },
      "source": [
        "## Read Inputs"
      ]
    },
    {
      "cell_type": "code",
      "execution_count": null,
      "metadata": {
        "id": "pPZ-eni9oS-A"
      },
      "outputs": [],
      "source": [
        "# Variables\n",
        "folder_path = '/home/gibsonce/datallah-jaymefis-gibsonce/'\n",
        "\n",
        "# Load DataFrames from pkl files\n",
        "X_train = pd.read_pickle(folder_path + 'X_train_preprocessed_custom.pkl')\n",
        "X_test = pd.read_pickle(folder_path + 'X_test_preprocessed_custom.pkl')\n",
        "y_train = pd.read_pickle(folder_path + 'y_train_custom.pkl')\n",
        "y_test = pd.read_pickle(folder_path + 'y_test_custom.pkl')"
      ]
    },
    {
      "cell_type": "code",
      "execution_count": null,
      "metadata": {
        "id": "2fsNgrmU2GhM"
      },
      "outputs": [],
      "source": [
        "# Filter X_train and X_test to remove NaN records\n",
        "non_nan_indices_train = ~X_train.isnull()\n",
        "non_nan_indices_test = ~X_test.isnull()\n",
        "\n",
        "y_train = y_train[non_nan_indices_train]\n",
        "y_test = y_test[non_nan_indices_test]\n",
        "\n",
        "X_train = X_train[non_nan_indices_train]\n",
        "X_test = X_test[non_nan_indices_test]"
      ]
    },
    {
      "cell_type": "markdown",
      "metadata": {
        "id": "9zRF7xFVjBKo"
      },
      "source": [
        "## Define Functions\n"
      ]
    },
    {
      "cell_type": "code",
      "execution_count": null,
      "metadata": {
        "id": "rtM5NltlWdkR"
      },
      "outputs": [],
      "source": [
        "stop_words = {'a',\n",
        "'about',\n",
        "'above',\n",
        "'after',\n",
        "'again',\n",
        "'against',\n",
        "'ain',\n",
        "'all',\n",
        "'am',\n",
        "'an',\n",
        "'and',\n",
        "'any',\n",
        "'are',\n",
        "'aren',\n",
        "\"aren't\",\n",
        "'as',\n",
        "'at',\n",
        "'be',\n",
        "'because',\n",
        "'been',\n",
        "'before',\n",
        "'being',\n",
        "'below',\n",
        "'between',\n",
        "'both',\n",
        "'but',\n",
        "'by',\n",
        "'can',\n",
        "'couldn',\n",
        "\"couldn't\",\n",
        "'d',\n",
        "'did',\n",
        "'didn',\n",
        "\"didn't\",\n",
        "'do',\n",
        "'does',\n",
        "'doesn',\n",
        "\"doesn't\",\n",
        "'doing',\n",
        "'don',\n",
        "\"don't\",\n",
        "'down',\n",
        "'during',\n",
        "'each',\n",
        "'few',\n",
        "'for',\n",
        "'from',\n",
        "'further',\n",
        "'had',\n",
        "'hadn',\n",
        "\"hadn't\",\n",
        "'has',\n",
        "'hasn',\n",
        "\"hasn't\",\n",
        "'have',\n",
        "'haven',\n",
        "\"haven't\",\n",
        "'having',\n",
        "#'he',\n",
        "#'her',\n",
        "'here',\n",
        "#'hers',\n",
        "#'herself',\n",
        "#'him',\n",
        "#'himself',\n",
        "#'his',\n",
        "'how',\n",
        "'i',\n",
        "'if',\n",
        "'in',\n",
        "'into',\n",
        "'is',\n",
        "'isn',\n",
        "\"isn't\",\n",
        "'it',\n",
        "\"it's\",\n",
        "'its',\n",
        "'itself',\n",
        "'just',\n",
        "'ll',\n",
        "'m',\n",
        "'ma',\n",
        "'me',\n",
        "'mightn',\n",
        "\"mightn't\",\n",
        "'more',\n",
        "'most',\n",
        "'mustn',\n",
        "\"mustn't\",\n",
        "'my',\n",
        "'myself',\n",
        "'needn',\n",
        "\"needn't\",\n",
        "'no',\n",
        "'nor',\n",
        "'not',\n",
        "'now',\n",
        "'o',\n",
        "'of',\n",
        "'off',\n",
        "'on',\n",
        "'once',\n",
        "'only',\n",
        "'or',\n",
        "'other',\n",
        "'our',\n",
        "'ours',\n",
        "'ourselves',\n",
        "'out',\n",
        "'over',\n",
        "'own',\n",
        "'re',\n",
        "'s',\n",
        "'same',\n",
        "'shan',\n",
        "\"shan't\",\n",
        "#'she',\n",
        "#\"she's\",\n",
        "'should',\n",
        "\"should've\",\n",
        "'shouldn',\n",
        "\"shouldn't\",\n",
        "'so',\n",
        "'some',\n",
        "'such',\n",
        "'t',\n",
        "'than',\n",
        "'that',\n",
        "\"that'll\",\n",
        "'the',\n",
        "'their',\n",
        "'theirs',\n",
        "'them',\n",
        "'themselves',\n",
        "'then',\n",
        "'there',\n",
        "'these',\n",
        "'they',\n",
        "'this',\n",
        "'those',\n",
        "'through',\n",
        "'to',\n",
        "'too',\n",
        "'under',\n",
        "'until',\n",
        "'up',\n",
        "'ve',\n",
        "'very',\n",
        "'was',\n",
        "'wasn',\n",
        "\"wasn't\",\n",
        "'we',\n",
        "'were',\n",
        "'weren',\n",
        "\"weren't\",\n",
        "'what',\n",
        "'when',\n",
        "'where',\n",
        "'which',\n",
        "'while',\n",
        "'who',\n",
        "'whom',\n",
        "'why',\n",
        "'will',\n",
        "'with',\n",
        "'won',\n",
        "\"won't\",\n",
        "'wouldn',\n",
        "\"wouldn't\",\n",
        "'y',\n",
        "'you',\n",
        "\"you'd\",\n",
        "\"you'll\",\n",
        "\"you're\",\n",
        "\"you've\",\n",
        "'your',\n",
        "'yours',\n",
        "'yourself',\n",
        "'yourselves',\n",
        "# Custom\n",
        "'like',\n",
        "'people',\n",
        "'need',\n",
        "'know',\n",
        "'one',\n",
        "'welcome',\n",
        "'fitocracy',\n",
        "'great',\n",
        "'dont',\n",
        "'thank',\n",
        "'place',\n",
        "'workout',\n",
        "'question',\n",
        "'get',\n",
        "'help',\n",
        "'keep',\n",
        "'question',\n",
        "'iphone',\n",
        "'victoria',\n",
        "'workout',\n",
        "'icon',\n",
        "'httpswwwfitocracycomgroup',\n",
        "'megyn',\n",
        "'rand',\n",
        "'tyra',\n",
        "'exercise',\n",
        "'marco',\n",
        "'congressman',\n",
        "'gemma',\n",
        "'elizabeth',\n",
        "'zooey',\n",
        "'montel',\n",
        "'jane',\n",
        "'tulsi',\n",
        "'andrea',\n",
        "'congresswoman',\n",
        "'patty',\n",
        "'mia',\n",
        "'amy',\n",
        "'katee',\n",
        "'trey',\n",
        "'geraldo',\n",
        "'tim',\n",
        "'tammy',\n",
        "'kamala',\n",
        "'mccain',\n",
        "'brene',\n",
        "'debbie',\n",
        "'hermosa',\n",
        "'warren',\n",
        "'tom',\n",
        "'jensen',\n",
        "'katey',\n",
        "'liz',\n",
        "'peter',\n",
        "'mitch',\n",
        "'marsha',\n",
        "'linda',\n",
        "'arsenio',\n",
        "'rubio',\n",
        "'ron',\n",
        "'hello',\n",
        "'israel',\n",
        "'booker',\n",
        "'irs',\n",
        "'lourdes',\n",
        "'tu',\n",
        "'kristi',\n",
        "'group',\n",
        "'constitution',\n",
        "'impeach',\n",
        "'bella',\n",
        "'gillibrand',\n",
        "'guideson',\n",
        "'colton',\n",
        "'jill',\n",
        "'monica',\n",
        "'john',\n",
        "'kelly',\n",
        "'hola',\n",
        "'hi',\n",
        "'gowdy',\n",
        "'te',\n",
        "'tara',\n",
        "'obama',\n",
        "'cathy',\n",
        "'kim',\n",
        "'fitness',\n",
        "'httpbitlyipoxpon',\n",
        "'paul',\n",
        "'name',\n",
        "'guy',\n",
        "'que',\n",
        "'paula',\n",
        "'mi',\n",
        "'ur',\n",
        "'chris',\n",
        "'morning',\n",
        "'idea',\n",
        "'ashley',\n",
        "'lisa',\n",
        "'susan',\n",
        "'nancy',\n",
        "'government',\n",
        "'megan',\n",
        "'murray',\n",
        "'team',\n",
        "     }"
      ]
    },
    {
      "cell_type": "code",
      "execution_count": null,
      "metadata": {
        "id": "yHozIUYGWdkS"
      },
      "outputs": [],
      "source": [
        "def tokenize_and_categorize_batch(texts):\n",
        "    docs = list(nlp.pipe(texts))\n",
        "    word_features = [' '.join([token.text for token in doc]) for doc in docs]\n",
        "    pos_tags = [' '.join([token.pos_ for token in doc]) for doc in docs]\n",
        "    return word_features, pos_tags"
      ]
    },
    {
      "cell_type": "markdown",
      "metadata": {
        "id": "svsUhDyhs-EK"
      },
      "source": [
        "## XGBoost"
      ]
    },
    {
      "cell_type": "code",
      "execution_count": null,
      "metadata": {
        "id": "0WQx9XkK2GhO"
      },
      "outputs": [],
      "source": [
        "# Define variables\n",
        "model_type = 'xgb'\n",
        "params = {\n",
        "    'xgbclassifier': {'subsample': 0.8, 'n_estimators': 150, 'max_depth': 9, 'learning_rate': 0.05, 'colsample_bytree': 0.5},\n",
        "}"
      ]
    },
    {
      "cell_type": "code",
      "execution_count": null,
      "metadata": {
        "id": "TqfoDQ-qWdkS"
      },
      "outputs": [],
      "source": [
        "train_batch_size = 10000\n",
        "\n",
        "X_train_ = pd.Series(dtype='object')\n",
        "X_train_pos = pd.Series(dtype='object')\n",
        "\n",
        "train_iterator = (X_train.iloc[i:i+train_batch_size] for i in range(0, len(X_train), train_batch_size))\n",
        "\n",
        "# Concatenate each batch of results\n",
        "for train_batch in train_iterator:\n",
        "    X_train_word_features, X_train_pos_tags = tokenize_and_categorize_batch(train_batch)\n",
        "    X_train_ = pd.concat([X_train_, pd.Series(X_train_word_features)])\n",
        "    X_train_pos = pd.concat([X_train_pos, pd.Series(X_train_pos_tags)])\n",
        "\n",
        "X_train_.reset_index(drop=True, inplace=True)\n",
        "X_train_pos.reset_index(drop=True, inplace=True)"
      ]
    },
    {
      "cell_type": "code",
      "execution_count": null,
      "metadata": {
        "id": "uKjxlaUbWdkT"
      },
      "outputs": [],
      "source": [
        "test_batch_size = 10000\n",
        "\n",
        "X_test_ = pd.Series(dtype='object')\n",
        "X_test_pos = pd.Series(dtype='object')\n",
        "\n",
        "test_iterator = (X_test.iloc[i:i+test_batch_size] for i in range(0, len(X_test), test_batch_size))\n",
        "\n",
        "# Concatenate each batch of results\n",
        "for test_batch in test_iterator:\n",
        "    X_test_word_features, X_test_pos_tags = tokenize_and_categorize_batch(test_batch)\n",
        "    X_test_ = pd.concat([X_test_, pd.Series(X_test_word_features)])\n",
        "    X_test_pos = pd.concat([X_test_pos, pd.Series(X_test_pos_tags)])\n",
        "\n",
        "X_test_.reset_index(drop=True, inplace=True)\n",
        "X_test_pos.reset_index(drop=True, inplace=True)"
      ]
    },
    {
      "cell_type": "code",
      "execution_count": null,
      "metadata": {
        "id": "Ik2laGh_WdkT"
      },
      "outputs": [],
      "source": [
        "# Vectorize the word features\n",
        "word_features_vectorizer = TfidfVectorizer(ngram_range=(1, 1))\n",
        "X_train_word_features_ = word_features_vectorizer.fit_transform(X_train)\n",
        "X_test_word_features_ = word_features_vectorizer.transform(X_test)\n",
        "\n",
        "# Vectorize the parts of speech tags\n",
        "pos_tags_vectorizer = TfidfVectorizer(ngram_range=(1, 1))\n",
        "X_train_pos_tags_ = pos_tags_vectorizer.fit_transform(X_train_pos)\n",
        "X_test_pos_tags_ = pos_tags_vectorizer.transform(X_test_pos)"
      ]
    },
    {
      "cell_type": "code",
      "execution_count": null,
      "metadata": {
        "id": "udDVfb0lWdkT"
      },
      "outputs": [],
      "source": [
        "# Combine the vectorized word features and parts of speech tags\n",
        "X_train_combined = scipy.sparse.hstack([X_train_word_features_, X_train_pos_tags_])\n",
        "X_test_combined = scipy.sparse.hstack([X_test_word_features_, X_test_pos_tags_])"
      ]
    },
    {
      "cell_type": "code",
      "execution_count": null,
      "metadata": {
        "id": "ltKPSDX2WdkT",
        "outputId": "9ed4a1ba-0a06-4659-f079-bee2455541c3"
      },
      "outputs": [
        {
          "data": {
            "text/html": [
              "<style>#sk-container-id-2 {\n",
              "  /* Definition of color scheme common for light and dark mode */\n",
              "  --sklearn-color-text: black;\n",
              "  --sklearn-color-line: gray;\n",
              "  /* Definition of color scheme for unfitted estimators */\n",
              "  --sklearn-color-unfitted-level-0: #fff5e6;\n",
              "  --sklearn-color-unfitted-level-1: #f6e4d2;\n",
              "  --sklearn-color-unfitted-level-2: #ffe0b3;\n",
              "  --sklearn-color-unfitted-level-3: chocolate;\n",
              "  /* Definition of color scheme for fitted estimators */\n",
              "  --sklearn-color-fitted-level-0: #f0f8ff;\n",
              "  --sklearn-color-fitted-level-1: #d4ebff;\n",
              "  --sklearn-color-fitted-level-2: #b3dbfd;\n",
              "  --sklearn-color-fitted-level-3: cornflowerblue;\n",
              "\n",
              "  /* Specific color for light theme */\n",
              "  --sklearn-color-text-on-default-background: var(--sg-text-color, var(--theme-code-foreground, var(--jp-content-font-color1, black)));\n",
              "  --sklearn-color-background: var(--sg-background-color, var(--theme-background, var(--jp-layout-color0, white)));\n",
              "  --sklearn-color-border-box: var(--sg-text-color, var(--theme-code-foreground, var(--jp-content-font-color1, black)));\n",
              "  --sklearn-color-icon: #696969;\n",
              "\n",
              "  @media (prefers-color-scheme: dark) {\n",
              "    /* Redefinition of color scheme for dark theme */\n",
              "    --sklearn-color-text-on-default-background: var(--sg-text-color, var(--theme-code-foreground, var(--jp-content-font-color1, white)));\n",
              "    --sklearn-color-background: var(--sg-background-color, var(--theme-background, var(--jp-layout-color0, #111)));\n",
              "    --sklearn-color-border-box: var(--sg-text-color, var(--theme-code-foreground, var(--jp-content-font-color1, white)));\n",
              "    --sklearn-color-icon: #878787;\n",
              "  }\n",
              "}\n",
              "\n",
              "#sk-container-id-2 {\n",
              "  color: var(--sklearn-color-text);\n",
              "}\n",
              "\n",
              "#sk-container-id-2 pre {\n",
              "  padding: 0;\n",
              "}\n",
              "\n",
              "#sk-container-id-2 input.sk-hidden--visually {\n",
              "  border: 0;\n",
              "  clip: rect(1px 1px 1px 1px);\n",
              "  clip: rect(1px, 1px, 1px, 1px);\n",
              "  height: 1px;\n",
              "  margin: -1px;\n",
              "  overflow: hidden;\n",
              "  padding: 0;\n",
              "  position: absolute;\n",
              "  width: 1px;\n",
              "}\n",
              "\n",
              "#sk-container-id-2 div.sk-dashed-wrapped {\n",
              "  border: 1px dashed var(--sklearn-color-line);\n",
              "  margin: 0 0.4em 0.5em 0.4em;\n",
              "  box-sizing: border-box;\n",
              "  padding-bottom: 0.4em;\n",
              "  background-color: var(--sklearn-color-background);\n",
              "}\n",
              "\n",
              "#sk-container-id-2 div.sk-container {\n",
              "  /* jupyter's `normalize.less` sets `[hidden] { display: none; }`\n",
              "     but bootstrap.min.css set `[hidden] { display: none !important; }`\n",
              "     so we also need the `!important` here to be able to override the\n",
              "     default hidden behavior on the sphinx rendered scikit-learn.org.\n",
              "     See: https://github.com/scikit-learn/scikit-learn/issues/21755 */\n",
              "  display: inline-block !important;\n",
              "  position: relative;\n",
              "}\n",
              "\n",
              "#sk-container-id-2 div.sk-text-repr-fallback {\n",
              "  display: none;\n",
              "}\n",
              "\n",
              "div.sk-parallel-item,\n",
              "div.sk-serial,\n",
              "div.sk-item {\n",
              "  /* draw centered vertical line to link estimators */\n",
              "  background-image: linear-gradient(var(--sklearn-color-text-on-default-background), var(--sklearn-color-text-on-default-background));\n",
              "  background-size: 2px 100%;\n",
              "  background-repeat: no-repeat;\n",
              "  background-position: center center;\n",
              "}\n",
              "\n",
              "/* Parallel-specific style estimator block */\n",
              "\n",
              "#sk-container-id-2 div.sk-parallel-item::after {\n",
              "  content: \"\";\n",
              "  width: 100%;\n",
              "  border-bottom: 2px solid var(--sklearn-color-text-on-default-background);\n",
              "  flex-grow: 1;\n",
              "}\n",
              "\n",
              "#sk-container-id-2 div.sk-parallel {\n",
              "  display: flex;\n",
              "  align-items: stretch;\n",
              "  justify-content: center;\n",
              "  background-color: var(--sklearn-color-background);\n",
              "  position: relative;\n",
              "}\n",
              "\n",
              "#sk-container-id-2 div.sk-parallel-item {\n",
              "  display: flex;\n",
              "  flex-direction: column;\n",
              "}\n",
              "\n",
              "#sk-container-id-2 div.sk-parallel-item:first-child::after {\n",
              "  align-self: flex-end;\n",
              "  width: 50%;\n",
              "}\n",
              "\n",
              "#sk-container-id-2 div.sk-parallel-item:last-child::after {\n",
              "  align-self: flex-start;\n",
              "  width: 50%;\n",
              "}\n",
              "\n",
              "#sk-container-id-2 div.sk-parallel-item:only-child::after {\n",
              "  width: 0;\n",
              "}\n",
              "\n",
              "/* Serial-specific style estimator block */\n",
              "\n",
              "#sk-container-id-2 div.sk-serial {\n",
              "  display: flex;\n",
              "  flex-direction: column;\n",
              "  align-items: center;\n",
              "  background-color: var(--sklearn-color-background);\n",
              "  padding-right: 1em;\n",
              "  padding-left: 1em;\n",
              "}\n",
              "\n",
              "\n",
              "/* Toggleable style: style used for estimator/Pipeline/ColumnTransformer box that is\n",
              "clickable and can be expanded/collapsed.\n",
              "- Pipeline and ColumnTransformer use this feature and define the default style\n",
              "- Estimators will overwrite some part of the style using the `sk-estimator` class\n",
              "*/\n",
              "\n",
              "/* Pipeline and ColumnTransformer style (default) */\n",
              "\n",
              "#sk-container-id-2 div.sk-toggleable {\n",
              "  /* Default theme specific background. It is overwritten whether we have a\n",
              "  specific estimator or a Pipeline/ColumnTransformer */\n",
              "  background-color: var(--sklearn-color-background);\n",
              "}\n",
              "\n",
              "/* Toggleable label */\n",
              "#sk-container-id-2 label.sk-toggleable__label {\n",
              "  cursor: pointer;\n",
              "  display: block;\n",
              "  width: 100%;\n",
              "  margin-bottom: 0;\n",
              "  padding: 0.5em;\n",
              "  box-sizing: border-box;\n",
              "  text-align: center;\n",
              "}\n",
              "\n",
              "#sk-container-id-2 label.sk-toggleable__label-arrow:before {\n",
              "  /* Arrow on the left of the label */\n",
              "  content: \"▸\";\n",
              "  float: left;\n",
              "  margin-right: 0.25em;\n",
              "  color: var(--sklearn-color-icon);\n",
              "}\n",
              "\n",
              "#sk-container-id-2 label.sk-toggleable__label-arrow:hover:before {\n",
              "  color: var(--sklearn-color-text);\n",
              "}\n",
              "\n",
              "/* Toggleable content - dropdown */\n",
              "\n",
              "#sk-container-id-2 div.sk-toggleable__content {\n",
              "  max-height: 0;\n",
              "  max-width: 0;\n",
              "  overflow: hidden;\n",
              "  text-align: left;\n",
              "  /* unfitted */\n",
              "  background-color: var(--sklearn-color-unfitted-level-0);\n",
              "}\n",
              "\n",
              "#sk-container-id-2 div.sk-toggleable__content.fitted {\n",
              "  /* fitted */\n",
              "  background-color: var(--sklearn-color-fitted-level-0);\n",
              "}\n",
              "\n",
              "#sk-container-id-2 div.sk-toggleable__content pre {\n",
              "  margin: 0.2em;\n",
              "  border-radius: 0.25em;\n",
              "  color: var(--sklearn-color-text);\n",
              "  /* unfitted */\n",
              "  background-color: var(--sklearn-color-unfitted-level-0);\n",
              "}\n",
              "\n",
              "#sk-container-id-2 div.sk-toggleable__content.fitted pre {\n",
              "  /* unfitted */\n",
              "  background-color: var(--sklearn-color-fitted-level-0);\n",
              "}\n",
              "\n",
              "#sk-container-id-2 input.sk-toggleable__control:checked~div.sk-toggleable__content {\n",
              "  /* Expand drop-down */\n",
              "  max-height: 200px;\n",
              "  max-width: 100%;\n",
              "  overflow: auto;\n",
              "}\n",
              "\n",
              "#sk-container-id-2 input.sk-toggleable__control:checked~label.sk-toggleable__label-arrow:before {\n",
              "  content: \"▾\";\n",
              "}\n",
              "\n",
              "/* Pipeline/ColumnTransformer-specific style */\n",
              "\n",
              "#sk-container-id-2 div.sk-label input.sk-toggleable__control:checked~label.sk-toggleable__label {\n",
              "  color: var(--sklearn-color-text);\n",
              "  background-color: var(--sklearn-color-unfitted-level-2);\n",
              "}\n",
              "\n",
              "#sk-container-id-2 div.sk-label.fitted input.sk-toggleable__control:checked~label.sk-toggleable__label {\n",
              "  background-color: var(--sklearn-color-fitted-level-2);\n",
              "}\n",
              "\n",
              "/* Estimator-specific style */\n",
              "\n",
              "/* Colorize estimator box */\n",
              "#sk-container-id-2 div.sk-estimator input.sk-toggleable__control:checked~label.sk-toggleable__label {\n",
              "  /* unfitted */\n",
              "  background-color: var(--sklearn-color-unfitted-level-2);\n",
              "}\n",
              "\n",
              "#sk-container-id-2 div.sk-estimator.fitted input.sk-toggleable__control:checked~label.sk-toggleable__label {\n",
              "  /* fitted */\n",
              "  background-color: var(--sklearn-color-fitted-level-2);\n",
              "}\n",
              "\n",
              "#sk-container-id-2 div.sk-label label.sk-toggleable__label,\n",
              "#sk-container-id-2 div.sk-label label {\n",
              "  /* The background is the default theme color */\n",
              "  color: var(--sklearn-color-text-on-default-background);\n",
              "}\n",
              "\n",
              "/* On hover, darken the color of the background */\n",
              "#sk-container-id-2 div.sk-label:hover label.sk-toggleable__label {\n",
              "  color: var(--sklearn-color-text);\n",
              "  background-color: var(--sklearn-color-unfitted-level-2);\n",
              "}\n",
              "\n",
              "/* Label box, darken color on hover, fitted */\n",
              "#sk-container-id-2 div.sk-label.fitted:hover label.sk-toggleable__label.fitted {\n",
              "  color: var(--sklearn-color-text);\n",
              "  background-color: var(--sklearn-color-fitted-level-2);\n",
              "}\n",
              "\n",
              "/* Estimator label */\n",
              "\n",
              "#sk-container-id-2 div.sk-label label {\n",
              "  font-family: monospace;\n",
              "  font-weight: bold;\n",
              "  display: inline-block;\n",
              "  line-height: 1.2em;\n",
              "}\n",
              "\n",
              "#sk-container-id-2 div.sk-label-container {\n",
              "  text-align: center;\n",
              "}\n",
              "\n",
              "/* Estimator-specific */\n",
              "#sk-container-id-2 div.sk-estimator {\n",
              "  font-family: monospace;\n",
              "  border: 1px dotted var(--sklearn-color-border-box);\n",
              "  border-radius: 0.25em;\n",
              "  box-sizing: border-box;\n",
              "  margin-bottom: 0.5em;\n",
              "  /* unfitted */\n",
              "  background-color: var(--sklearn-color-unfitted-level-0);\n",
              "}\n",
              "\n",
              "#sk-container-id-2 div.sk-estimator.fitted {\n",
              "  /* fitted */\n",
              "  background-color: var(--sklearn-color-fitted-level-0);\n",
              "}\n",
              "\n",
              "/* on hover */\n",
              "#sk-container-id-2 div.sk-estimator:hover {\n",
              "  /* unfitted */\n",
              "  background-color: var(--sklearn-color-unfitted-level-2);\n",
              "}\n",
              "\n",
              "#sk-container-id-2 div.sk-estimator.fitted:hover {\n",
              "  /* fitted */\n",
              "  background-color: var(--sklearn-color-fitted-level-2);\n",
              "}\n",
              "\n",
              "/* Specification for estimator info (e.g. \"i\" and \"?\") */\n",
              "\n",
              "/* Common style for \"i\" and \"?\" */\n",
              "\n",
              ".sk-estimator-doc-link,\n",
              "a:link.sk-estimator-doc-link,\n",
              "a:visited.sk-estimator-doc-link {\n",
              "  float: right;\n",
              "  font-size: smaller;\n",
              "  line-height: 1em;\n",
              "  font-family: monospace;\n",
              "  background-color: var(--sklearn-color-background);\n",
              "  border-radius: 1em;\n",
              "  height: 1em;\n",
              "  width: 1em;\n",
              "  text-decoration: none !important;\n",
              "  margin-left: 1ex;\n",
              "  /* unfitted */\n",
              "  border: var(--sklearn-color-unfitted-level-1) 1pt solid;\n",
              "  color: var(--sklearn-color-unfitted-level-1);\n",
              "}\n",
              "\n",
              ".sk-estimator-doc-link.fitted,\n",
              "a:link.sk-estimator-doc-link.fitted,\n",
              "a:visited.sk-estimator-doc-link.fitted {\n",
              "  /* fitted */\n",
              "  border: var(--sklearn-color-fitted-level-1) 1pt solid;\n",
              "  color: var(--sklearn-color-fitted-level-1);\n",
              "}\n",
              "\n",
              "/* On hover */\n",
              "div.sk-estimator:hover .sk-estimator-doc-link:hover,\n",
              ".sk-estimator-doc-link:hover,\n",
              "div.sk-label-container:hover .sk-estimator-doc-link:hover,\n",
              ".sk-estimator-doc-link:hover {\n",
              "  /* unfitted */\n",
              "  background-color: var(--sklearn-color-unfitted-level-3);\n",
              "  color: var(--sklearn-color-background);\n",
              "  text-decoration: none;\n",
              "}\n",
              "\n",
              "div.sk-estimator.fitted:hover .sk-estimator-doc-link.fitted:hover,\n",
              ".sk-estimator-doc-link.fitted:hover,\n",
              "div.sk-label-container:hover .sk-estimator-doc-link.fitted:hover,\n",
              ".sk-estimator-doc-link.fitted:hover {\n",
              "  /* fitted */\n",
              "  background-color: var(--sklearn-color-fitted-level-3);\n",
              "  color: var(--sklearn-color-background);\n",
              "  text-decoration: none;\n",
              "}\n",
              "\n",
              "/* Span, style for the box shown on hovering the info icon */\n",
              ".sk-estimator-doc-link span {\n",
              "  display: none;\n",
              "  z-index: 9999;\n",
              "  position: relative;\n",
              "  font-weight: normal;\n",
              "  right: .2ex;\n",
              "  padding: .5ex;\n",
              "  margin: .5ex;\n",
              "  width: min-content;\n",
              "  min-width: 20ex;\n",
              "  max-width: 50ex;\n",
              "  color: var(--sklearn-color-text);\n",
              "  box-shadow: 2pt 2pt 4pt #999;\n",
              "  /* unfitted */\n",
              "  background: var(--sklearn-color-unfitted-level-0);\n",
              "  border: .5pt solid var(--sklearn-color-unfitted-level-3);\n",
              "}\n",
              "\n",
              ".sk-estimator-doc-link.fitted span {\n",
              "  /* fitted */\n",
              "  background: var(--sklearn-color-fitted-level-0);\n",
              "  border: var(--sklearn-color-fitted-level-3);\n",
              "}\n",
              "\n",
              ".sk-estimator-doc-link:hover span {\n",
              "  display: block;\n",
              "}\n",
              "\n",
              "/* \"?\"-specific style due to the `<a>` HTML tag */\n",
              "\n",
              "#sk-container-id-2 a.estimator_doc_link {\n",
              "  float: right;\n",
              "  font-size: 1rem;\n",
              "  line-height: 1em;\n",
              "  font-family: monospace;\n",
              "  background-color: var(--sklearn-color-background);\n",
              "  border-radius: 1rem;\n",
              "  height: 1rem;\n",
              "  width: 1rem;\n",
              "  text-decoration: none;\n",
              "  /* unfitted */\n",
              "  color: var(--sklearn-color-unfitted-level-1);\n",
              "  border: var(--sklearn-color-unfitted-level-1) 1pt solid;\n",
              "}\n",
              "\n",
              "#sk-container-id-2 a.estimator_doc_link.fitted {\n",
              "  /* fitted */\n",
              "  border: var(--sklearn-color-fitted-level-1) 1pt solid;\n",
              "  color: var(--sklearn-color-fitted-level-1);\n",
              "}\n",
              "\n",
              "/* On hover */\n",
              "#sk-container-id-2 a.estimator_doc_link:hover {\n",
              "  /* unfitted */\n",
              "  background-color: var(--sklearn-color-unfitted-level-3);\n",
              "  color: var(--sklearn-color-background);\n",
              "  text-decoration: none;\n",
              "}\n",
              "\n",
              "#sk-container-id-2 a.estimator_doc_link.fitted:hover {\n",
              "  /* fitted */\n",
              "  background-color: var(--sklearn-color-fitted-level-3);\n",
              "}\n",
              "</style><div id=\"sk-container-id-2\" class=\"sk-top-container\"><div class=\"sk-text-repr-fallback\"><pre>XGBClassifier(base_score=None, booster=None, callbacks=None,\n",
              "              colsample_bylevel=None, colsample_bynode=None,\n",
              "              colsample_bytree=0.5, device=None, early_stopping_rounds=None,\n",
              "              enable_categorical=False, eval_metric=None, feature_types=None,\n",
              "              gamma=None, grow_policy=None, importance_type=None,\n",
              "              interaction_constraints=None, learning_rate=0.05, max_bin=None,\n",
              "              max_cat_threshold=None, max_cat_to_onehot=None,\n",
              "              max_delta_step=None, max_depth=9, max_leaves=None,\n",
              "              min_child_weight=None, missing=nan, monotone_constraints=None,\n",
              "              multi_strategy=None, n_estimators=150, n_jobs=None,\n",
              "              num_parallel_tree=None, random_state=42, ...)</pre><b>In a Jupyter environment, please rerun this cell to show the HTML representation or trust the notebook. <br />On GitHub, the HTML representation is unable to render, please try loading this page with nbviewer.org.</b></div><div class=\"sk-container\" hidden><div class=\"sk-item\"><div class=\"sk-estimator fitted sk-toggleable\"><input class=\"sk-toggleable__control sk-hidden--visually\" id=\"sk-estimator-id-2\" type=\"checkbox\" checked><label for=\"sk-estimator-id-2\" class=\"sk-toggleable__label fitted sk-toggleable__label-arrow fitted\">&nbsp;XGBClassifier<span class=\"sk-estimator-doc-link fitted\">i<span>Fitted</span></span></label><div class=\"sk-toggleable__content fitted\"><pre>XGBClassifier(base_score=None, booster=None, callbacks=None,\n",
              "              colsample_bylevel=None, colsample_bynode=None,\n",
              "              colsample_bytree=0.5, device=None, early_stopping_rounds=None,\n",
              "              enable_categorical=False, eval_metric=None, feature_types=None,\n",
              "              gamma=None, grow_policy=None, importance_type=None,\n",
              "              interaction_constraints=None, learning_rate=0.05, max_bin=None,\n",
              "              max_cat_threshold=None, max_cat_to_onehot=None,\n",
              "              max_delta_step=None, max_depth=9, max_leaves=None,\n",
              "              min_child_weight=None, missing=nan, monotone_constraints=None,\n",
              "              multi_strategy=None, n_estimators=150, n_jobs=None,\n",
              "              num_parallel_tree=None, random_state=42, ...)</pre></div> </div></div></div></div>"
            ],
            "text/plain": [
              "XGBClassifier(base_score=None, booster=None, callbacks=None,\n",
              "              colsample_bylevel=None, colsample_bynode=None,\n",
              "              colsample_bytree=0.5, device=None, early_stopping_rounds=None,\n",
              "              enable_categorical=False, eval_metric=None, feature_types=None,\n",
              "              gamma=None, grow_policy=None, importance_type=None,\n",
              "              interaction_constraints=None, learning_rate=0.05, max_bin=None,\n",
              "              max_cat_threshold=None, max_cat_to_onehot=None,\n",
              "              max_delta_step=None, max_depth=9, max_leaves=None,\n",
              "              min_child_weight=None, missing=nan, monotone_constraints=None,\n",
              "              multi_strategy=None, n_estimators=150, n_jobs=None,\n",
              "              num_parallel_tree=None, random_state=42, ...)"
            ]
          },
          "execution_count": 108,
          "metadata": {},
          "output_type": "execute_result"
        }
      ],
      "source": [
        "# Fit the model\n",
        "model = XGBClassifier(random_state=42, **params.get('xgbclassifier', {}))\n",
        "model.fit(X_train_combined, y_train)"
      ]
    },
    {
      "cell_type": "markdown",
      "metadata": {
        "id": "XplJ438tWdkU"
      },
      "source": [
        "### Feature Importances"
      ]
    },
    {
      "cell_type": "code",
      "execution_count": null,
      "metadata": {
        "id": "QpeTHYGrWdkU"
      },
      "outputs": [],
      "source": [
        "# Create feature importances\n",
        "feature_importances = model.feature_importances_\n",
        "word_features = (word_features_vectorizer.get_feature_names_out())\n",
        "feature_importance_dict = dict(zip(word_features, feature_importances))\n",
        "feature_importance_dict = {word: importance for word, importance in feature_importance_dict.items() if word not in stop_words}"
      ]
    },
    {
      "cell_type": "code",
      "execution_count": null,
      "metadata": {
        "id": "EeffCIMvWdkU",
        "outputId": "3f1177cd-1ca5-4712-f546-abae5b06f4c2"
      },
      "outputs": [
        {
          "data": {
            "image/png": "[encoded data removed]",
            "text/plain": [
              "<Figure size 720x1440 with 1 Axes>"
            ]
          },
          "metadata": {
            "needs_background": "light"
          },
          "output_type": "display_data"
        }
      ],
      "source": [
        "feature_names, importance_values = zip(*feature_importance_dict.items())\n",
        "\n",
        "# Sort features based on importance values in descending order\n",
        "sorted_indices = sorted(range(len(importance_values)), key=lambda k: importance_values[k], reverse=True)\n",
        "sorted_feature_names = [feature_names[i] for i in sorted_indices]\n",
        "sorted_importance_values = [importance_values[i] for i in sorted_indices]\n",
        "\n",
        "# Plot the top N features\n",
        "top_n = 50\n",
        "plt.figure(figsize=(10, 20))\n",
        "plt.barh(range(top_n), sorted_importance_values[:top_n], align='center')\n",
        "plt.yticks(range(top_n), sorted_feature_names[:top_n])\n",
        "plt.xlabel('Feature Importance')\n",
        "plt.title(f'Top {top_n} Features Based on Importance')\n",
        "plt.show()"
      ]
    },
    {
      "cell_type": "markdown",
      "metadata": {
        "id": "xQm29oU8WdkU"
      },
      "source": [
        "## Important Feature Error Analysis"
      ]
    },
    {
      "cell_type": "code",
      "execution_count": null,
      "metadata": {
        "id": "U1wNXwJnWdkU"
      },
      "outputs": [],
      "source": [
        "pd.set_option('display.max_colwidth', None)"
      ]
    },
    {
      "cell_type": "code",
      "execution_count": null,
      "metadata": {
        "id": "tR6fcz7PWdkU"
      },
      "outputs": [],
      "source": [
        "misclassified_indices = np.where(y_test != model.predict(X_test_combined))[0]\n",
        "misclassified_X_test = X_test_[misclassified_indices]\n",
        "misclassified_y_test = y_test.iloc[misclassified_indices]\n",
        "preds = model.predict(X_test_combined)"
      ]
    },
    {
      "cell_type": "code",
      "execution_count": null,
      "metadata": {
        "id": "EvE7ow0dWdkU"
      },
      "outputs": [],
      "source": [
        "lookup = 'he'\n",
        "lookup_index = misclassified_X_test.apply(lambda row: lookup in row)\n",
        "misclassified_lookup = misclassified_X_test[lookup_index]\n",
        "#misclassified_lookup"
      ]
    },
    {
      "cell_type": "code",
      "execution_count": null,
      "metadata": {
        "id": "MriH2ZReWdkV",
        "outputId": "af3c8116-bf6e-40af-b574-598bd432ccdf"
      },
      "outputs": [
        {
          "name": "stdout",
          "output_type": "stream",
          "text": [
            "True Label: 0.0, Predicted Label: 1\n",
            "Example:\n",
            "president job write program cyber security he continue working fix problem program work giving job congress make american safe president responsibility alone president working poor middle class word job moving america forward instead worrying right wing base\n"
          ]
        }
      ],
      "source": [
        "example_index_in_original = X_test_[X_test_.apply(lambda row: lookup in row).index == 12].index[0]\n",
        "ex_label = y_test.iloc[example_index_in_original]\n",
        "ex_pred = preds[example_index_in_original]\n",
        "\n",
        "print(f\"True Label: {ex_label}, Predicted Label: {ex_pred}\")\n",
        "print(\"Example:\")\n",
        "print(X_test_.iloc[example_index_in_original])"
      ]
    },
    {
      "cell_type": "code",
      "execution_count": null,
      "metadata": {
        "id": "e5JM1sOOWdkV"
      },
      "outputs": [],
      "source": [
        "lookup = 'she'\n",
        "lookup_index = misclassified_X_test.apply(lambda row: lookup in row)\n",
        "misclassified_lookup = misclassified_X_test[lookup_index]\n",
        "#misclassified_lookup"
      ]
    },
    {
      "cell_type": "code",
      "execution_count": null,
      "metadata": {
        "id": "lPlvTftIWdkV",
        "outputId": "77096c47-212d-4ea4-9899-c4c73156a3df"
      },
      "outputs": [
        {
          "name": "stdout",
          "output_type": "stream",
          "text": [
            "True Label: 1.0, Predicted Label: 0\n",
            "Example:\n",
            "cheated perhaps even threatened presidency clinton screwed big time she known fair trump better alternative today clinton charge world would come swift harsh end american nonamericans alike she start raining nuclear bomb continent\n"
          ]
        }
      ],
      "source": [
        "example_index_in_original = X_test_[X_test_.apply(lambda row: lookup in row).index == 190061].index[0]\n",
        "ex_label = y_test.iloc[example_index_in_original]\n",
        "ex_pred = preds[example_index_in_original]\n",
        "\n",
        "print(f\"True Label: {ex_label}, Predicted Label: {ex_pred}\")\n",
        "print(\"Example:\")\n",
        "print(X_test_.iloc[example_index_in_original])"
      ]
    },
    {
      "cell_type": "code",
      "execution_count": null,
      "metadata": {
        "id": "6Om1mqiMWdkV",
        "outputId": "20a9f715-f35b-4b7b-945f-d8c7e47e58ab"
      },
      "outputs": [
        {
          "name": "stdout",
          "output_type": "stream",
          "text": [
            "True Label: 1.0, Predicted Label: 0\n",
            "Example:\n",
            "send prayer sympathy she lovely dedicated southern lady gifted educator god bless\n"
          ]
        }
      ],
      "source": [
        "example_index_in_original = X_test_[X_test_.apply(lambda row: lookup in row).index == 190318].index[0]\n",
        "ex_label = y_test.iloc[example_index_in_original]\n",
        "ex_pred = preds[example_index_in_original]\n",
        "\n",
        "print(f\"True Label: {ex_label}, Predicted Label: {ex_pred}\")\n",
        "print(\"Example:\")\n",
        "print(X_test_.iloc[example_index_in_original])"
      ]
    },
    {
      "cell_type": "markdown",
      "metadata": {
        "id": "Ch0aJzF0WdkV"
      },
      "source": [
        "## BOW Error Analysis"
      ]
    },
    {
      "cell_type": "markdown",
      "metadata": {
        "id": "z40EINppWdkV"
      },
      "source": [
        "### Misclassified BOW"
      ]
    },
    {
      "cell_type": "code",
      "execution_count": null,
      "metadata": {
        "id": "-TscgQIFWdkW"
      },
      "outputs": [],
      "source": [
        "# Clone the original vectorizer and fit it to the misclassified samples\n",
        "misclassified_indices = np.where(y_test != model.predict(X_test_combined))[0]\n",
        "misclassified_samples = X_test_combined.tocsc()[misclassified_indices].tocsc()\n",
        "\n",
        "misclassified_features = (word_features_vectorizer.inverse_transform(misclassified_samples[:, :X_test_word_features_.shape[1]]))\n",
        "misclassified_pos = (pos_tags_vectorizer.inverse_transform(misclassified_samples[:, X_test_word_features_.shape[1]:]))\n",
        "\n",
        "# Combine misclassified feature names into a bag of words\n",
        "misclassified_bow = [' '.join(features) for features in misclassified_features]\n",
        "misclassified_pos_bow = [' '.join(features) for features in misclassified_pos]"
      ]
    },
    {
      "cell_type": "markdown",
      "metadata": {
        "id": "DvRvzbQSWdkW"
      },
      "source": [
        "### Classified BOW"
      ]
    },
    {
      "cell_type": "code",
      "execution_count": null,
      "metadata": {
        "id": "Ncuo6hmQWdkW"
      },
      "outputs": [],
      "source": [
        "# Above process is to computationally expensive for classified examples. Batch process was needed.\n",
        "batch_size = 100\n",
        "classified_indices = np.where(y_test == model.predict(X_test_combined))[0]\n",
        "total_samples = len(classified_indices)\n",
        "\n",
        "# Store results\n",
        "all_batch_bow = []\n",
        "all_batch_pos_bow = []\n",
        "\n",
        "for i in range(0, total_samples, batch_size):\n",
        "    print(i)\n",
        "    batch_indices = classified_indices[i:i+batch_size]\n",
        "    batch_samples = X_test_combined.tocsc()[batch_indices].tocsc()\n",
        "\n",
        "    batch_features = word_features_vectorizer.inverse_transform(batch_samples[:, :X_test_word_features_.shape[1]])\n",
        "    batch_pos = pos_tags_vectorizer.inverse_transform(batch_samples[:, X_test_word_features_.shape[1]:])\n",
        "\n",
        "    batch_bow = [' '.join(features) for features in batch_features]\n",
        "    batch_pos_bow = [' '.join(features) for features in batch_pos]\n",
        "\n",
        "    all_batch_bow.extend(batch_bow)\n",
        "    all_batch_pos_bow.extend(batch_pos_bow)"
      ]
    },
    {
      "cell_type": "markdown",
      "metadata": {
        "id": "T9IG43aaWdkW"
      },
      "source": [
        "### Write Pipeline to Shared Drive"
      ]
    },
    {
      "cell_type": "code",
      "execution_count": null,
      "metadata": {
        "id": "wGqxsNvgWdkW"
      },
      "outputs": [],
      "source": [
        "# Convert to dataframe\n",
        "misclassified_df = pd.DataFrame(misclassified_bow)\n",
        "misclassified_pos_df = pd.DataFrame(misclassified_pos_bow)\n",
        "\n",
        "classified_df = pd.DataFrame(all_batch_bow)\n",
        "classified_pos_df = pd.DataFrame(all_batch_pos_bow)\n",
        "\n",
        "# Save the necessary files\n",
        "misclassified_df.to_csv('misclassified_bow.csv', index=False)\n",
        "misclassified_pos_df.to_csv('misclassified_pos_bow.csv', index=False)\n",
        "\n",
        "classified_df.to_csv('classified_bow.csv', index=False)\n",
        "classified_pos_df.to_csv('classified_pos_bow.csv', index=False)\n",
        "\n",
        "joblib.dump(pos_tags_vectorizer, folder_path+'pos_tags_vectorizer.joblib')\n",
        "joblib.dump(X_test_pos_tags_, folder_path+'X_test_pos_tags.joblib')"
      ]
    },
    {
      "cell_type": "markdown",
      "metadata": {
        "id": "lrw7rTZqWdkX"
      },
      "source": [
        "### Read Saved Pipeline Files"
      ]
    },
    {
      "cell_type": "code",
      "execution_count": null,
      "metadata": {
        "id": "I7B2bR2jWdkX"
      },
      "outputs": [],
      "source": [
        "# Load CSV files into DataFrames\n",
        "misclassified_df = pd.read_csv('misclassified_bow.csv')\n",
        "misclassified_pos_df = pd.read_csv('misclassified_pos_bow.csv')\n",
        "\n",
        "classified_df = pd.read_csv('classified_bow.csv')\n",
        "classified_pos_df = pd.read_csv('classified_pos_bow.csv')\n",
        "\n",
        "# Load joblib files\n",
        "pos_tags_vectorizer = joblib.load(folder_path + 'pos_tags_vectorizer.joblib')\n",
        "X_test_pos_tags_ = joblib.load(folder_path + 'X_test_pos_tags.joblib')"
      ]
    },
    {
      "cell_type": "code",
      "execution_count": null,
      "metadata": {
        "id": "cFNNjmExWdkX"
      },
      "outputs": [],
      "source": [
        "# Combine bag of words for classified/misclassified\n",
        "misc_pos_text = ' '.join(misclassified_pos_df.astype(str).to_numpy().flatten())\n",
        "cor_pos_text = ' '.join(classified_pos_df.to_numpy().astype(str).flatten())\n",
        "\n",
        "misc_text = ' '.join(misclassified_df.to_numpy().astype(str).flatten())\n",
        "cor_text = ' '.join(classified_df.to_numpy().astype(str).flatten())\n",
        "\n",
        "# Remove stop words\n",
        "filtered_misc_tokens = ' '.join([word for word in misc_text.split() if word not in stop_words])\n",
        "filtered_cor_tokens = ' '.join([word for word in cor_text.split() if word not in stop_words])"
      ]
    },
    {
      "cell_type": "code",
      "execution_count": null,
      "metadata": {
        "id": "n4XnyxmbWdkX"
      },
      "outputs": [],
      "source": [
        "# Combine bag of words for the full corpus\n",
        "overall_dataset_pos_bow = pos_tags_vectorizer.inverse_transform(X_test_pos_tags_)\n",
        "combined_overall_pos_text = ' '.join([' '.join(features) for features in overall_dataset_pos_bow])"
      ]
    },
    {
      "cell_type": "markdown",
      "metadata": {
        "id": "kVcFmX7KWdkX"
      },
      "source": [
        "### Visualize Normalized Feature & POS Frequencies"
      ]
    },
    {
      "cell_type": "code",
      "execution_count": null,
      "metadata": {
        "id": "IrVw2tldWdkX",
        "outputId": "77999fc4-10da-4041-9bf1-c2b01e8d083f"
      },
      "outputs": [
        {
          "data": {
            "text/html": [
              "<div>\n",
              "<style scoped>\n",
              "    .dataframe tbody tr th:only-of-type {\n",
              "        vertical-align: middle;\n",
              "    }\n",
              "\n",
              "    .dataframe tbody tr th {\n",
              "        vertical-align: top;\n",
              "    }\n",
              "\n",
              "    .dataframe thead th {\n",
              "        text-align: right;\n",
              "    }\n",
              "</style>\n",
              "<table border=\"1\" class=\"dataframe\">\n",
              "  <thead>\n",
              "    <tr style=\"text-align: right;\">\n",
              "      <th></th>\n",
              "      <th>Misclassified</th>\n",
              "      <th>Classified</th>\n",
              "      <th>Overall</th>\n",
              "      <th>Misclassified_normalized</th>\n",
              "      <th>Classified_normalized</th>\n",
              "    </tr>\n",
              "  </thead>\n",
              "  <tbody>\n",
              "    <tr>\n",
              "      <th>adp</th>\n",
              "      <td>9476</td>\n",
              "      <td>23331</td>\n",
              "      <td>6905.001228</td>\n",
              "      <td>1.372339</td>\n",
              "      <td>3.378855</td>\n",
              "    </tr>\n",
              "    <tr>\n",
              "      <th>aux</th>\n",
              "      <td>17477</td>\n",
              "      <td>44636</td>\n",
              "      <td>14466.720454</td>\n",
              "      <td>1.208083</td>\n",
              "      <td>3.085426</td>\n",
              "    </tr>\n",
              "    <tr>\n",
              "      <th>sconj</th>\n",
              "      <td>3320</td>\n",
              "      <td>10067</td>\n",
              "      <td>2852.827879</td>\n",
              "      <td>1.163758</td>\n",
              "      <td>3.528779</td>\n",
              "    </tr>\n",
              "    <tr>\n",
              "      <th>part</th>\n",
              "      <td>8215</td>\n",
              "      <td>22689</td>\n",
              "      <td>7716.764809</td>\n",
              "      <td>1.064565</td>\n",
              "      <td>2.940222</td>\n",
              "    </tr>\n",
              "    <tr>\n",
              "      <th>det</th>\n",
              "      <td>2114</td>\n",
              "      <td>6630</td>\n",
              "      <td>1987.415175</td>\n",
              "      <td>1.063693</td>\n",
              "      <td>3.335991</td>\n",
              "    </tr>\n",
              "    <tr>\n",
              "      <th>num</th>\n",
              "      <td>5186</td>\n",
              "      <td>15070</td>\n",
              "      <td>4910.556118</td>\n",
              "      <td>1.056092</td>\n",
              "      <td>3.068899</td>\n",
              "    </tr>\n",
              "    <tr>\n",
              "      <th>cconj</th>\n",
              "      <td>792</td>\n",
              "      <td>2343</td>\n",
              "      <td>805.758745</td>\n",
              "      <td>0.982924</td>\n",
              "      <td>2.907818</td>\n",
              "    </tr>\n",
              "    <tr>\n",
              "      <th>intj</th>\n",
              "      <td>11875</td>\n",
              "      <td>22504</td>\n",
              "      <td>12450.888171</td>\n",
              "      <td>0.953747</td>\n",
              "      <td>1.807421</td>\n",
              "    </tr>\n",
              "    <tr>\n",
              "      <th>adv</th>\n",
              "      <td>23186</td>\n",
              "      <td>57808</td>\n",
              "      <td>25725.095994</td>\n",
              "      <td>0.901299</td>\n",
              "      <td>2.247144</td>\n",
              "    </tr>\n",
              "    <tr>\n",
              "      <th>pron</th>\n",
              "      <td>17305</td>\n",
              "      <td>45743</td>\n",
              "      <td>19395.996908</td>\n",
              "      <td>0.892194</td>\n",
              "      <td>2.358373</td>\n",
              "    </tr>\n",
              "    <tr>\n",
              "      <th>adj</th>\n",
              "      <td>36802</td>\n",
              "      <td>80196</td>\n",
              "      <td>43888.977295</td>\n",
              "      <td>0.838525</td>\n",
              "      <td>1.827247</td>\n",
              "    </tr>\n",
              "    <tr>\n",
              "      <th>verb</th>\n",
              "      <td>46117</td>\n",
              "      <td>97940</td>\n",
              "      <td>62689.300535</td>\n",
              "      <td>0.735644</td>\n",
              "      <td>1.562308</td>\n",
              "    </tr>\n",
              "    <tr>\n",
              "      <th>propn</th>\n",
              "      <td>28851</td>\n",
              "      <td>63854</td>\n",
              "      <td>41837.876882</td>\n",
              "      <td>0.689590</td>\n",
              "      <td>1.526225</td>\n",
              "    </tr>\n",
              "    <tr>\n",
              "      <th>sym</th>\n",
              "      <td>63</td>\n",
              "      <td>230</td>\n",
              "      <td>111.606006</td>\n",
              "      <td>0.564486</td>\n",
              "      <td>2.060821</td>\n",
              "    </tr>\n",
              "    <tr>\n",
              "      <th>noun</th>\n",
              "      <td>51162</td>\n",
              "      <td>101915</td>\n",
              "      <td>92644.197316</td>\n",
              "      <td>0.552242</td>\n",
              "      <td>1.100069</td>\n",
              "    </tr>\n",
              "    <tr>\n",
              "      <th>punct</th>\n",
              "      <td>217</td>\n",
              "      <td>599</td>\n",
              "      <td>531.259509</td>\n",
              "      <td>0.408463</td>\n",
              "      <td>1.127509</td>\n",
              "    </tr>\n",
              "  </tbody>\n",
              "</table>\n",
              "</div>"
            ],
            "text/plain": [
              "       Misclassified  Classified       Overall  Misclassified_normalized  \\\n",
              "adp             9476       23331   6905.001228                  1.372339   \n",
              "aux            17477       44636  14466.720454                  1.208083   \n",
              "sconj           3320       10067   2852.827879                  1.163758   \n",
              "part            8215       22689   7716.764809                  1.064565   \n",
              "det             2114        6630   1987.415175                  1.063693   \n",
              "num             5186       15070   4910.556118                  1.056092   \n",
              "cconj            792        2343    805.758745                  0.982924   \n",
              "intj           11875       22504  12450.888171                  0.953747   \n",
              "adv            23186       57808  25725.095994                  0.901299   \n",
              "pron           17305       45743  19395.996908                  0.892194   \n",
              "adj            36802       80196  43888.977295                  0.838525   \n",
              "verb           46117       97940  62689.300535                  0.735644   \n",
              "propn          28851       63854  41837.876882                  0.689590   \n",
              "sym               63         230    111.606006                  0.564486   \n",
              "noun           51162      101915  92644.197316                  0.552242   \n",
              "punct            217         599    531.259509                  0.408463   \n",
              "\n",
              "       Classified_normalized  \n",
              "adp                 3.378855  \n",
              "aux                 3.085426  \n",
              "sconj               3.528779  \n",
              "part                2.940222  \n",
              "det                 3.335991  \n",
              "num                 3.068899  \n",
              "cconj               2.907818  \n",
              "intj                1.807421  \n",
              "adv                 2.247144  \n",
              "pron                2.358373  \n",
              "adj                 1.827247  \n",
              "verb                1.562308  \n",
              "propn               1.526225  \n",
              "sym                 2.060821  \n",
              "noun                1.100069  \n",
              "punct               1.127509  "
            ]
          },
          "execution_count": 45,
          "metadata": {},
          "output_type": "execute_result"
        }
      ],
      "source": [
        "# POS Frequencies\n",
        "misc_pos_tokens = misc_pos_text.split()\n",
        "cor_pos_tokens = cor_pos_text.split()\n",
        "overall_tokens = combined_overall_pos_text.split()\n",
        "\n",
        "misc_pos_counts = pd.Series(misc_pos_tokens).value_counts()\n",
        "cor_pos_counts = pd.Series(cor_pos_tokens).value_counts()\n",
        "\n",
        "overall_pos_frequencies = X_test_pos_tags_.sum(axis=0)\n",
        "overall_pos_counts = pd.Series(overall_pos_frequencies.A1, index=pos_tags_vectorizer.get_feature_names_out())\n",
        "\n",
        "# Compare the distributions\n",
        "pos_tags_comparison = pd.DataFrame({\n",
        "    'Misclassified': misc_pos_counts,\n",
        "    'Classified': cor_pos_counts,\n",
        "    'Overall': overall_pos_counts\n",
        "})\n",
        "\n",
        "pos_tags_comparison['Misclassified_normalized'] = pos_tags_comparison['Misclassified'] / pos_tags_comparison['Overall']\n",
        "pos_tags_comparison['Classified_normalized'] = pos_tags_comparison['Classified'] / pos_tags_comparison['Overall']\n",
        "pos_tags_comparison = pos_tags_comparison.dropna()\n",
        "pos_tags_comparison.sort_values(by='Misclassified_normalized', ascending=False)"
      ]
    },
    {
      "cell_type": "code",
      "execution_count": null,
      "metadata": {
        "id": "RtIb6OxKWdkY",
        "outputId": "ddac5bca-a78f-436c-c744-9b5d023c2fb5"
      },
      "outputs": [
        {
          "data": {
            "image/png": "[encoded data removed]",
            "text/plain": [
              "<Figure size 1080x360 with 2 Axes>"
            ]
          },
          "metadata": {
            "needs_background": "light"
          },
          "output_type": "display_data"
        }
      ],
      "source": [
        "labels = ['Misclassified', 'Classified']\n",
        "\n",
        "fig, axs = plt.subplots(1, 2, figsize=(15, 5))\n",
        "axs = axs.ravel()\n",
        "\n",
        "for i, label in enumerate(labels):\n",
        "    normalized_columns = [f'{label}_normalized', 'Overall']\n",
        "    normalized_data = pos_tags_comparison[normalized_columns]\n",
        "\n",
        "    top_tags = normalized_data.sort_values(by=f'{label}_normalized', ascending=False)\n",
        "\n",
        "    axs[i].bar(top_tags.index, top_tags[f'{label}_normalized'])\n",
        "    axs[i].set_title(f'POS Tag Frequency: {label}')\n",
        "    axs[i].set_ylabel('Normalized Ratio')\n",
        "    axs[i].set_xlabel('POS Tags')\n",
        "\n",
        "plt.tight_layout()\n",
        "plt.show()"
      ]
    },
    {
      "cell_type": "markdown",
      "metadata": {
        "id": "anOePIvdWdkY"
      },
      "source": [
        "### Min Max Scaling"
      ]
    },
    {
      "cell_type": "code",
      "execution_count": null,
      "metadata": {
        "id": "7lQkDKp9WdkZ",
        "outputId": "b6480639-d654-4ee2-cffb-99a18a70dffe"
      },
      "outputs": [
        {
          "data": {
            "image/png": "[encoded data removed]",
            "text/plain": [
              "<Figure size 1152x432 with 2 Axes>"
            ]
          },
          "metadata": {
            "needs_background": "light"
          },
          "output_type": "display_data"
        }
      ],
      "source": [
        "categories = ['Misclassified', 'Classified']\n",
        "\n",
        "fig, axes = plt.subplots(nrows=1, ncols=2, figsize=(16, 6))\n",
        "\n",
        "for i, category in enumerate(categories):\n",
        "    # Extract relevant data for the category\n",
        "    category_ratios = pos_tags_comparison[f'{category}_normalized'].values.reshape(-1, 1)\n",
        "\n",
        "    # Create and apply Min-Max scaler\n",
        "    scaler = MinMaxScaler()\n",
        "    category_ratios_scaled = scaler.fit_transform(category_ratios)\n",
        "\n",
        "    # Update the DataFrame with the scaled values\n",
        "    pos_tags_comparison[f'{category}_normalized_scaled'] = category_ratios_scaled\n",
        "    sorted_comparison = pos_tags_comparison.sort_values(by=f'{category}_normalized_scaled', ascending=False)\n",
        "\n",
        "    # Plot Min-Max Scaled POS Tags in subplots\n",
        "    sns.barplot(x=sorted_comparison.index, y=f'{category}_normalized_scaled', data=sorted_comparison, palette='Blues_r', ax=axes[i])\n",
        "    axes[i].set_title(f'Min-Max Scaled {category} POS Tags')\n",
        "    axes[i].set_xlabel('POS Tags')\n",
        "    axes[i].set_ylabel('Scaled Ratio')\n",
        "\n",
        "    # Rotate x-axis labels\n",
        "    axes[i].tick_params(axis='x', rotation=45)\n",
        "\n",
        "plt.tight_layout()\n",
        "plt.show()"
      ]
    },
    {
      "cell_type": "markdown",
      "metadata": {
        "id": "Z3ohp90hWdkZ"
      },
      "source": [
        "### Visualize Most Frequent Features"
      ]
    },
    {
      "cell_type": "code",
      "execution_count": null,
      "metadata": {
        "id": "k6PVPR7UWdkZ",
        "outputId": "e7b1a776-0a2b-43a4-9fdf-9277cfc99ef8"
      },
      "outputs": [
        {
          "data": {
            "image/png": "[encoded data removed]",
            "text/plain": [
              "<Figure size 1440x720 with 2 Axes>"
            ]
          },
          "metadata": {
            "needs_background": "light"
          },
          "output_type": "display_data"
        }
      ],
      "source": [
        "# List of text objects\n",
        "text_objects = [filtered_misc_tokens, filtered_cor_tokens]\n",
        "labels = ['Misclassified Words', 'Classified Words']\n",
        "\n",
        "fig, axs = plt.subplots(2, 1, figsize=(20, 10))\n",
        "axs = axs.ravel()\n",
        "\n",
        "for i, text_obj in enumerate(text_objects):\n",
        "    tokens = text_obj.split()\n",
        "    counts = pd.Series(tokens).value_counts()\n",
        "\n",
        "    # Plot the top N words\n",
        "    top_freq = counts.head(25)\n",
        "\n",
        "    axs[i].bar(top_freq.index, top_freq.values)\n",
        "    axs[i].set_title(f'{labels[i]}')\n",
        "    axs[i].set_ylabel('Frequency')\n",
        "    axs[i].set_xlabel('Features')\n",
        "\n",
        "plt.tight_layout()\n",
        "plt.show()"
      ]
    },
    {
      "cell_type": "markdown",
      "metadata": {
        "id": "duR9nexUWdkZ"
      },
      "source": [
        "## Topic Modeling"
      ]
    },
    {
      "cell_type": "code",
      "execution_count": null,
      "metadata": {
        "id": "THAc6t9aWdkZ",
        "outputId": "ffbde771-3ad8-4644-ee3f-e4b7771b195e"
      },
      "outputs": [
        {
          "name": "stdout",
          "output_type": "stream",
          "text": [
            "Top words for each topic:\n",
            "Topic #1: would, make, back, work, ya\n",
            "Topic #2: way, im, getting, track, he\n",
            "Topic #3: good, find, around, training, love\n",
            "Topic #4: thanks, community, nan, finding, go\n",
            "Topic #5: time, think, consistent, thing, well\n"
          ]
        }
      ],
      "source": [
        "# Remove stop words from BOW\n",
        "custom_stop_words_list = list(stop_words)\n",
        "vectorizer = CountVectorizer(stop_words=custom_stop_words_list, lowercase=True)\n",
        "tokens = misc_text.split()\n",
        "misclassified_counts = vectorizer.fit_transform(tokens)\n",
        "\n",
        "# Fit LDA model\n",
        "lda = LatentDirichletAllocation(n_components=5, random_state=42)\n",
        "misclassified_topics = lda.fit_transform(misclassified_counts)\n",
        "\n",
        "# Display the top words for each topic\n",
        "feature_names = vectorizer.get_feature_names_out()\n",
        "print(\"Top words for each topic:\")\n",
        "for topic_idx, topic in enumerate(lda.components_):\n",
        "    top_words_idx = topic.argsort()[:-5 - 1:-1]\n",
        "    top_words = [feature_names[i] for i in top_words_idx]\n",
        "    print(f\"Topic #{topic_idx + 1}: {', '.join(top_words)}\")"
      ]
    },
    {
      "cell_type": "code",
      "execution_count": null,
      "metadata": {
        "id": "s9uy1w8GWdkZ",
        "outputId": "86b77782-c908-4f3e-a244-59d739f2c754"
      },
      "outputs": [
        {
          "name": "stdout",
          "output_type": "stream",
          "text": [
            "Top words for each topic:\n",
            "Topic #1: way, good, talk, work, also\n",
            "Topic #2: time, even, could, world, better\n",
            "Topic #3: think, make, his, thing, really\n",
            "Topic #4: he, see, many, right, thanks\n",
            "Topic #5: would, im, much, go, love\n"
          ]
        }
      ],
      "source": [
        "# Remove stop words from BOW\n",
        "vectorizer = CountVectorizer(stop_words=custom_stop_words_list, lowercase=True)\n",
        "tokens = cor_text.split()\n",
        "classified_counts = vectorizer.fit_transform(tokens)\n",
        "\n",
        "# Fit LDA model\n",
        "lda = LatentDirichletAllocation(n_components=5, random_state=42)\n",
        "classified_topics = lda.fit_transform(classified_counts)\n",
        "\n",
        "# Display the top words for each topic\n",
        "feature_names = vectorizer.get_feature_names_out()\n",
        "print(\"Top words for each topic:\")\n",
        "for topic_idx, topic in enumerate(lda.components_):\n",
        "    top_words_idx = topic.argsort()[:-5 - 1:-1]\n",
        "    top_words = [feature_names[i] for i in top_words_idx]\n",
        "    print(f\"Topic #{topic_idx + 1}: {', '.join(top_words)}\")"
      ]
    }
  ],
  "metadata": {
    "colab": {
      "collapsed_sections": [
        "sdKBq7ETihSJ"
      ],
      "provenance": [],
      "include_colab_link": true
    },
    "kernelspec": {
      "display_name": "Python 3 (ipykernel)",
      "language": "python",
      "name": "python3"
    },
    "language_info": {
      "codemirror_mode": {
        "name": "ipython",
        "version": 3
      },
      "file_extension": ".py",
      "mimetype": "text/x-python",
      "name": "python",
      "nbconvert_exporter": "python",
      "pygments_lexer": "ipython3",
      "version": "3.9.7"
    }
  },
  "nbformat": 4,
  "nbformat_minor": 0
}