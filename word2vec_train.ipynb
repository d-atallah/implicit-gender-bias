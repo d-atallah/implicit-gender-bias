{
  "nbformat": 4,
  "nbformat_minor": 0,
  "metadata": {
    "colab": {
      "provenance": [],
      "authorship_tag": "ABX9TyPl+yn1NiVtQi5YlJho0bcX"
    },
    "kernelspec": {
      "name": "python3",
      "display_name": "Python 3"
    },
    "language_info": {
      "name": "python"
    }
  },
  "cells": [
    {
      "cell_type": "code",
      "execution_count": 1,
      "metadata": {
        "colab": {
          "base_uri": "https://localhost:8080/"
        },
        "id": "tJU37VZmzhfU",
        "outputId": "3612e782-56ac-43f5-cf25-d65bb1223bb1"
      },
      "outputs": [
        {
          "output_type": "stream",
          "name": "stdout",
          "text": [
            "fatal: destination path 'implicit_gender_bias' already exists and is not an empty directory.\n"
          ]
        }
      ],
      "source": [
        "!git clone https://github.com/d-atallah/implicit_gender_bias.git"
      ]
    },
    {
      "cell_type": "code",
      "source": [
        "from implicit_gender_bias import config as cf\n",
        "import pandas as pd\n",
        "import joblib\n",
        "import gensim"
      ],
      "metadata": {
        "id": "onToK22kztiy"
      },
      "execution_count": 2,
      "outputs": []
    },
    {
      "cell_type": "code",
      "source": [
        "filepath = cf.filepath()\n",
        "files = ['annotations']\n",
        "df_dict = cf.extract_dfs(filepath, files)\n",
        "cf.load_dfs(filepath, df_dict)"
      ],
      "metadata": {
        "colab": {
          "base_uri": "https://localhost:8080/"
        },
        "id": "LqO0BPjc1TVg",
        "outputId": "eda28a9c-9296-4d38-81d8-37d9601421ad"
      },
      "execution_count": 3,
      "outputs": [
        {
          "output_type": "stream",
          "name": "stdout",
          "text": [
            "Drive already mounted at /content/drive; to attempt to forcibly remount, call drive.mount(\"/content/drive\", force_remount=True).\n"
          ]
        }
      ]
    },
    {
      "cell_type": "code",
      "source": [],
      "metadata": {
        "id": "-AeG-Ryu3q5P"
      },
      "execution_count": 3,
      "outputs": []
    }
  ]
}