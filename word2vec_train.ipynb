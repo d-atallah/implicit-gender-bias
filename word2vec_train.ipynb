{
  "nbformat": 4,
  "nbformat_minor": 0,
  "metadata": {
    "colab": {
      "provenance": [],
      "authorship_tag": "ABX9TyPPWDlpTpWZK9I2OIbS6wGN"
    },
    "kernelspec": {
      "name": "python3",
      "display_name": "Python 3"
    },
    "language_info": {
      "name": "python"
    }
  },
  "cells": [
    {
      "cell_type": "markdown",
      "source": [
        "# Word2Vec Training\n",
        "We will be training multiple iterations of the word2vec model on our annotations file. These iterations include a trained word2vec for:\n",
        "- The whole training set,\n",
        "- One for each source in the training set,\n",
        "- One for all sources dubbed as formal (i.e. TED),\n",
        "- And one for all sources dubbed as informal (i.e. reddit).\n",
        "\n",
        "We will be comparing the performance of each of these embeddings when paired with our supervised and unsupervised models."
      ],
      "metadata": {
        "id": "drnoVF6wK71N"
      }
    },
    {
      "cell_type": "markdown",
      "source": [
        "## Dependencies\n",
        "This section contains all imports and initialized global variables."
      ],
      "metadata": {
        "id": "DHBkccmqOISC"
      }
    },
    {
      "cell_type": "markdown",
      "source": [
        "### Clone Github Repository\n",
        "I am including this step to ensure usability in multiple environments (i.e. Google Colab and Great Lakes Cluster for this project)."
      ],
      "metadata": {
        "id": "T_J4l_KSOR6o"
      }
    },
    {
      "cell_type": "code",
      "execution_count": 1,
      "metadata": {
        "colab": {
          "base_uri": "https://localhost:8080/"
        },
        "id": "tJU37VZmzhfU",
        "outputId": "08280b3f-d66a-4b40-c1f7-12372a546597"
      },
      "outputs": [
        {
          "output_type": "stream",
          "name": "stdout",
          "text": [
            "fatal: destination path 'implicit_gender_bias' already exists and is not an empty directory.\n"
          ]
        }
      ],
      "source": [
        "!git clone https://github.com/d-atallah/implicit_gender_bias.git"
      ]
    },
    {
      "cell_type": "markdown",
      "source": [
        "### Import Libraries\n",
        "From here we are importing all necessary libraries as well as a configuration file from our repository containing shared functions that we may use across our notebooks."
      ],
      "metadata": {
        "id": "Jf7FXXnSOt89"
      }
    },
    {
      "cell_type": "code",
      "source": [
        "from implicit_gender_bias import config as cf\n",
        "import pandas as pd\n",
        "import numpy as np\n",
        "import joblib\n",
        "import os\n",
        "from gensim.models import Word2Vec\n",
        "from tqdm import tqdm"
      ],
      "metadata": {
        "id": "onToK22kztiy",
        "outputId": "5dd5da85-5090-4de6-d5ea-e8ad5a501b33",
        "colab": {
          "base_uri": "https://localhost:8080/"
        }
      },
      "execution_count": 1,
      "outputs": [
        {
          "output_type": "stream",
          "name": "stderr",
          "text": [
            "[nltk_data] Downloading package wordnet to /root/nltk_data...\n",
            "[nltk_data]   Package wordnet is already up-to-date!\n"
          ]
        }
      ]
    },
    {
      "cell_type": "markdown",
      "source": [
        "### Set Reoccuring Variables\n",
        "Here I will set variables that will be used throughout this notebook. Filepath is specified based on environment (Colab vs. GLC). I am also specifying the exact files I want to split into train and test files from the raw RtGender sources. The extract_dfs function is dynamic, I can specify as many files that I want to split and load."
      ],
      "metadata": {
        "id": "p_tyXNXUPC6l"
      }
    },
    {
      "cell_type": "code",
      "source": [
        "filepath = cf.filepath()\n",
        "files = ['annotations']\n",
        "df_dict = cf.extract_dfs(filepath, files)\n",
        "raw_annotations = df_dict['annotations']\n",
        "if os.path.exists(filepath + 'trns/') == False:\n",
        "  os.mkdir(filepath + 'trns/')\n",
        "load_dict = cf.load_df(filepath, raw_annotations, 'annotations')"
      ],
      "metadata": {
        "colab": {
          "base_uri": "https://localhost:8080/"
        },
        "id": "LqO0BPjc1TVg",
        "outputId": "95b64d90-4029-4663-bbda-92796c8a0c2a"
      },
      "execution_count": 2,
      "outputs": [
        {
          "output_type": "stream",
          "name": "stdout",
          "text": [
            "Drive already mounted at /content/drive; to attempt to forcibly remount, call drive.mount(\"/content/drive\", force_remount=True).\n"
          ]
        }
      ]
    },
    {
      "cell_type": "markdown",
      "source": [
        "## Begin Training\n",
        "We will be training over each iteration of source and combination of sources. The data used to train and the models trained will be saved in the shared drive"
      ],
      "metadata": {
        "id": "nEDmtWzOPti2"
      }
    },
    {
      "cell_type": "code",
      "source": [
        "df = pd.read_csv(load_dict['X_train']).iloc[:,1:]\n",
        "df.head()"
      ],
      "metadata": {
        "colab": {
          "base_uri": "https://localhost:8080/",
          "height": 293
        },
        "id": "Vt637Ab8DbE-",
        "outputId": "9662575d-e01a-46f5-e5ca-438746432469"
      },
      "execution_count": 3,
      "outputs": [
        {
          "output_type": "execute_result",
          "data": {
            "text/plain": [
              "   index             source  \\\n",
              "0   1749      facebook_wiki   \n",
              "1   3463  facebook_congress   \n",
              "2    917      facebook_wiki   \n",
              "3   5294  facebook_congress   \n",
              "4  14819                ted   \n",
              "\n",
              "                                           post_text  \\\n",
              "0  Second week of physical therapy and making gre...   \n",
              "1  Thank you 37th district dems PCOs for nominati...   \n",
              "2  Holiday survival tips: Never talk politics wit...   \n",
              "3  Over the past five years, the Obama Administra...   \n",
              "4  Martin Seligman gave a talk about brain, educa...   \n",
              "\n",
              "                                       response_text sentiment      relevance  \\\n",
              "0                      Tiger on a leash. Stay clear!     Mixed        Content   \n",
              "1  Congratulations !!! You deserved this honor . ...  Positive         Poster   \n",
              "2  i'll have a bloody Mary and a Steak Sandwich p...   Neutral     Irrelevant   \n",
              "3  Things will never be any different with someon...  Negative        Content   \n",
              "4  I like seligman and his studys but I dont unde...     Mixed  ContentPoster   \n",
              "\n",
              "                sourceID  \n",
              "0      facebook_wiki1749  \n",
              "1  facebook_congress3463  \n",
              "2       facebook_wiki917  \n",
              "3  facebook_congress5294  \n",
              "4               ted14819  "
            ],
            "text/html": [
              "\n",
              "  <div id=\"df-630132d1-a1f6-4dc2-8f67-d199f47d5081\" class=\"colab-df-container\">\n",
              "    <div>\n",
              "<style scoped>\n",
              "    .dataframe tbody tr th:only-of-type {\n",
              "        vertical-align: middle;\n",
              "    }\n",
              "\n",
              "    .dataframe tbody tr th {\n",
              "        vertical-align: top;\n",
              "    }\n",
              "\n",
              "    .dataframe thead th {\n",
              "        text-align: right;\n",
              "    }\n",
              "</style>\n",
              "<table border=\"1\" class=\"dataframe\">\n",
              "  <thead>\n",
              "    <tr style=\"text-align: right;\">\n",
              "      <th></th>\n",
              "      <th>index</th>\n",
              "      <th>source</th>\n",
              "      <th>post_text</th>\n",
              "      <th>response_text</th>\n",
              "      <th>sentiment</th>\n",
              "      <th>relevance</th>\n",
              "      <th>sourceID</th>\n",
              "    </tr>\n",
              "  </thead>\n",
              "  <tbody>\n",
              "    <tr>\n",
              "      <th>0</th>\n",
              "      <td>1749</td>\n",
              "      <td>facebook_wiki</td>\n",
              "      <td>Second week of physical therapy and making gre...</td>\n",
              "      <td>Tiger on a leash. Stay clear!</td>\n",
              "      <td>Mixed</td>\n",
              "      <td>Content</td>\n",
              "      <td>facebook_wiki1749</td>\n",
              "    </tr>\n",
              "    <tr>\n",
              "      <th>1</th>\n",
              "      <td>3463</td>\n",
              "      <td>facebook_congress</td>\n",
              "      <td>Thank you 37th district dems PCOs for nominati...</td>\n",
              "      <td>Congratulations !!! You deserved this honor . ...</td>\n",
              "      <td>Positive</td>\n",
              "      <td>Poster</td>\n",
              "      <td>facebook_congress3463</td>\n",
              "    </tr>\n",
              "    <tr>\n",
              "      <th>2</th>\n",
              "      <td>917</td>\n",
              "      <td>facebook_wiki</td>\n",
              "      <td>Holiday survival tips: Never talk politics wit...</td>\n",
              "      <td>i'll have a bloody Mary and a Steak Sandwich p...</td>\n",
              "      <td>Neutral</td>\n",
              "      <td>Irrelevant</td>\n",
              "      <td>facebook_wiki917</td>\n",
              "    </tr>\n",
              "    <tr>\n",
              "      <th>3</th>\n",
              "      <td>5294</td>\n",
              "      <td>facebook_congress</td>\n",
              "      <td>Over the past five years, the Obama Administra...</td>\n",
              "      <td>Things will never be any different with someon...</td>\n",
              "      <td>Negative</td>\n",
              "      <td>Content</td>\n",
              "      <td>facebook_congress5294</td>\n",
              "    </tr>\n",
              "    <tr>\n",
              "      <th>4</th>\n",
              "      <td>14819</td>\n",
              "      <td>ted</td>\n",
              "      <td>Martin Seligman gave a talk about brain, educa...</td>\n",
              "      <td>I like seligman and his studys but I dont unde...</td>\n",
              "      <td>Mixed</td>\n",
              "      <td>ContentPoster</td>\n",
              "      <td>ted14819</td>\n",
              "    </tr>\n",
              "  </tbody>\n",
              "</table>\n",
              "</div>\n",
              "    <div class=\"colab-df-buttons\">\n",
              "\n",
              "  <div class=\"colab-df-container\">\n",
              "    <button class=\"colab-df-convert\" onclick=\"convertToInteractive('df-630132d1-a1f6-4dc2-8f67-d199f47d5081')\"\n",
              "            title=\"Convert this dataframe to an interactive table.\"\n",
              "            style=\"display:none;\">\n",
              "\n",
              "  <svg xmlns=\"http://www.w3.org/2000/svg\" height=\"24px\" viewBox=\"0 -960 960 960\">\n",
              "    <path d=\"M120-120v-720h720v720H120Zm60-500h600v-160H180v160Zm220 220h160v-160H400v160Zm0 220h160v-160H400v160ZM180-400h160v-160H180v160Zm440 0h160v-160H620v160ZM180-180h160v-160H180v160Zm440 0h160v-160H620v160Z\"/>\n",
              "  </svg>\n",
              "    </button>\n",
              "\n",
              "  <style>\n",
              "    .colab-df-container {\n",
              "      display:flex;\n",
              "      gap: 12px;\n",
              "    }\n",
              "\n",
              "    .colab-df-convert {\n",
              "      background-color: #E8F0FE;\n",
              "      border: none;\n",
              "      border-radius: 50%;\n",
              "      cursor: pointer;\n",
              "      display: none;\n",
              "      fill: #1967D2;\n",
              "      height: 32px;\n",
              "      padding: 0 0 0 0;\n",
              "      width: 32px;\n",
              "    }\n",
              "\n",
              "    .colab-df-convert:hover {\n",
              "      background-color: #E2EBFA;\n",
              "      box-shadow: 0px 1px 2px rgba(60, 64, 67, 0.3), 0px 1px 3px 1px rgba(60, 64, 67, 0.15);\n",
              "      fill: #174EA6;\n",
              "    }\n",
              "\n",
              "    .colab-df-buttons div {\n",
              "      margin-bottom: 4px;\n",
              "    }\n",
              "\n",
              "    [theme=dark] .colab-df-convert {\n",
              "      background-color: #3B4455;\n",
              "      fill: #D2E3FC;\n",
              "    }\n",
              "\n",
              "    [theme=dark] .colab-df-convert:hover {\n",
              "      background-color: #434B5C;\n",
              "      box-shadow: 0px 1px 3px 1px rgba(0, 0, 0, 0.15);\n",
              "      filter: drop-shadow(0px 1px 2px rgba(0, 0, 0, 0.3));\n",
              "      fill: #FFFFFF;\n",
              "    }\n",
              "  </style>\n",
              "\n",
              "    <script>\n",
              "      const buttonEl =\n",
              "        document.querySelector('#df-630132d1-a1f6-4dc2-8f67-d199f47d5081 button.colab-df-convert');\n",
              "      buttonEl.style.display =\n",
              "        google.colab.kernel.accessAllowed ? 'block' : 'none';\n",
              "\n",
              "      async function convertToInteractive(key) {\n",
              "        const element = document.querySelector('#df-630132d1-a1f6-4dc2-8f67-d199f47d5081');\n",
              "        const dataTable =\n",
              "          await google.colab.kernel.invokeFunction('convertToInteractive',\n",
              "                                                    [key], {});\n",
              "        if (!dataTable) return;\n",
              "\n",
              "        const docLinkHtml = 'Like what you see? Visit the ' +\n",
              "          '<a target=\"_blank\" href=https://colab.research.google.com/notebooks/data_table.ipynb>data table notebook</a>'\n",
              "          + ' to learn more about interactive tables.';\n",
              "        element.innerHTML = '';\n",
              "        dataTable['output_type'] = 'display_data';\n",
              "        await google.colab.output.renderOutput(dataTable, element);\n",
              "        const docLink = document.createElement('div');\n",
              "        docLink.innerHTML = docLinkHtml;\n",
              "        element.appendChild(docLink);\n",
              "      }\n",
              "    </script>\n",
              "  </div>\n",
              "\n",
              "\n",
              "<div id=\"df-a01af91b-2031-4746-8a57-bec24db972ba\">\n",
              "  <button class=\"colab-df-quickchart\" onclick=\"quickchart('df-a01af91b-2031-4746-8a57-bec24db972ba')\"\n",
              "            title=\"Suggest charts\"\n",
              "            style=\"display:none;\">\n",
              "\n",
              "<svg xmlns=\"http://www.w3.org/2000/svg\" height=\"24px\"viewBox=\"0 0 24 24\"\n",
              "     width=\"24px\">\n",
              "    <g>\n",
              "        <path d=\"M19 3H5c-1.1 0-2 .9-2 2v14c0 1.1.9 2 2 2h14c1.1 0 2-.9 2-2V5c0-1.1-.9-2-2-2zM9 17H7v-7h2v7zm4 0h-2V7h2v10zm4 0h-2v-4h2v4z\"/>\n",
              "    </g>\n",
              "</svg>\n",
              "  </button>\n",
              "\n",
              "<style>\n",
              "  .colab-df-quickchart {\n",
              "      --bg-color: #E8F0FE;\n",
              "      --fill-color: #1967D2;\n",
              "      --hover-bg-color: #E2EBFA;\n",
              "      --hover-fill-color: #174EA6;\n",
              "      --disabled-fill-color: #AAA;\n",
              "      --disabled-bg-color: #DDD;\n",
              "  }\n",
              "\n",
              "  [theme=dark] .colab-df-quickchart {\n",
              "      --bg-color: #3B4455;\n",
              "      --fill-color: #D2E3FC;\n",
              "      --hover-bg-color: #434B5C;\n",
              "      --hover-fill-color: #FFFFFF;\n",
              "      --disabled-bg-color: #3B4455;\n",
              "      --disabled-fill-color: #666;\n",
              "  }\n",
              "\n",
              "  .colab-df-quickchart {\n",
              "    background-color: var(--bg-color);\n",
              "    border: none;\n",
              "    border-radius: 50%;\n",
              "    cursor: pointer;\n",
              "    display: none;\n",
              "    fill: var(--fill-color);\n",
              "    height: 32px;\n",
              "    padding: 0;\n",
              "    width: 32px;\n",
              "  }\n",
              "\n",
              "  .colab-df-quickchart:hover {\n",
              "    background-color: var(--hover-bg-color);\n",
              "    box-shadow: 0 1px 2px rgba(60, 64, 67, 0.3), 0 1px 3px 1px rgba(60, 64, 67, 0.15);\n",
              "    fill: var(--button-hover-fill-color);\n",
              "  }\n",
              "\n",
              "  .colab-df-quickchart-complete:disabled,\n",
              "  .colab-df-quickchart-complete:disabled:hover {\n",
              "    background-color: var(--disabled-bg-color);\n",
              "    fill: var(--disabled-fill-color);\n",
              "    box-shadow: none;\n",
              "  }\n",
              "\n",
              "  .colab-df-spinner {\n",
              "    border: 2px solid var(--fill-color);\n",
              "    border-color: transparent;\n",
              "    border-bottom-color: var(--fill-color);\n",
              "    animation:\n",
              "      spin 1s steps(1) infinite;\n",
              "  }\n",
              "\n",
              "  @keyframes spin {\n",
              "    0% {\n",
              "      border-color: transparent;\n",
              "      border-bottom-color: var(--fill-color);\n",
              "      border-left-color: var(--fill-color);\n",
              "    }\n",
              "    20% {\n",
              "      border-color: transparent;\n",
              "      border-left-color: var(--fill-color);\n",
              "      border-top-color: var(--fill-color);\n",
              "    }\n",
              "    30% {\n",
              "      border-color: transparent;\n",
              "      border-left-color: var(--fill-color);\n",
              "      border-top-color: var(--fill-color);\n",
              "      border-right-color: var(--fill-color);\n",
              "    }\n",
              "    40% {\n",
              "      border-color: transparent;\n",
              "      border-right-color: var(--fill-color);\n",
              "      border-top-color: var(--fill-color);\n",
              "    }\n",
              "    60% {\n",
              "      border-color: transparent;\n",
              "      border-right-color: var(--fill-color);\n",
              "    }\n",
              "    80% {\n",
              "      border-color: transparent;\n",
              "      border-right-color: var(--fill-color);\n",
              "      border-bottom-color: var(--fill-color);\n",
              "    }\n",
              "    90% {\n",
              "      border-color: transparent;\n",
              "      border-bottom-color: var(--fill-color);\n",
              "    }\n",
              "  }\n",
              "</style>\n",
              "\n",
              "  <script>\n",
              "    async function quickchart(key) {\n",
              "      const quickchartButtonEl =\n",
              "        document.querySelector('#' + key + ' button');\n",
              "      quickchartButtonEl.disabled = true;  // To prevent multiple clicks.\n",
              "      quickchartButtonEl.classList.add('colab-df-spinner');\n",
              "      try {\n",
              "        const charts = await google.colab.kernel.invokeFunction(\n",
              "            'suggestCharts', [key], {});\n",
              "      } catch (error) {\n",
              "        console.error('Error during call to suggestCharts:', error);\n",
              "      }\n",
              "      quickchartButtonEl.classList.remove('colab-df-spinner');\n",
              "      quickchartButtonEl.classList.add('colab-df-quickchart-complete');\n",
              "    }\n",
              "    (() => {\n",
              "      let quickchartButtonEl =\n",
              "        document.querySelector('#df-a01af91b-2031-4746-8a57-bec24db972ba button');\n",
              "      quickchartButtonEl.style.display =\n",
              "        google.colab.kernel.accessAllowed ? 'block' : 'none';\n",
              "    })();\n",
              "  </script>\n",
              "</div>\n",
              "    </div>\n",
              "  </div>\n"
            ]
          },
          "metadata": {},
          "execution_count": 3
        }
      ]
    },
    {
      "cell_type": "code",
      "source": [
        "src_lst = list(df.source.unique())\n",
        "src_lst.extend(['formal', 'informal', 'all'])\n",
        "rm_stop_param_lst = [True, False]\n",
        "lemma_param_lst = [True, False]\n",
        "subj_param_lst = [True, False]\n",
        "print(src_lst)"
      ],
      "metadata": {
        "id": "-AeG-Ryu3q5P",
        "colab": {
          "base_uri": "https://localhost:8080/"
        },
        "outputId": "dfc5eeab-79c9-41f7-a592-0db8771fac31"
      },
      "execution_count": 4,
      "outputs": [
        {
          "output_type": "stream",
          "name": "stdout",
          "text": [
            "['facebook_wiki', 'facebook_congress', 'ted', 'reddit', 'fitocracy', 'formal', 'informal', 'all']\n"
          ]
        }
      ]
    },
    {
      "cell_type": "code",
      "source": [
        "train_dict = {}\n",
        "# create paths if they do not already exist\n",
        "if os.path.exists(filepath + 'trns/word2vec/') == False:\n",
        "  os.mkdir(filepath + 'trns/word2vec/')\n",
        "if os.path.exists(filepath + 'trns/word2vec/data/') == False:\n",
        "  os.mkdir(filepath + 'trns/word2vec/data/')\n",
        "if os.path.exists(filepath + 'trns/word2vec/models/') == False:\n",
        "  os.mkdir(filepath + 'trns/word2vec/models/')\n",
        "# iterate over each source and combination of preprocessing settings\n",
        "for src in tqdm(src_lst):\n",
        "  for stop_param in rm_stop_param_lst:\n",
        "    for lemma_param in lemma_param_lst:\n",
        "      for subj_param in subj_param_lst:\n",
        "        name = 'word2vec/data/' + src + '_stop_param_' + str(stop_param) + \\\n",
        "          '_lemma_param_' + str(lemma_param) + '_subj_param_' + str(subj_param)\n",
        "        if src == 'formal': srcs = ['ted', 'facebook_congress']\n",
        "        elif src == 'informal': srcs = ['fitocracy', 'facebook_wiki', 'reddit']\n",
        "        elif src == 'all': srcs = list(df.source.unique())\n",
        "        else: srcs = [src]\n",
        "        # below function inits df AND saves to shared drive\n",
        "        temp_df = cf.preprocess(filepath = load_dict['X_train'], name = name,\n",
        "                                rm_stopwords = stop_param, subj_rm = subj_param,\n",
        "                                lemmatize = lemma_param)\n",
        "        temp_ser = temp_df[temp_df.source.isin(srcs)].processed_response\n",
        "        # below are the parameters I found online to be recommended for short text\n",
        "        temp_model = Word2Vec(temp_ser, vector_size = 100, window = 5,\n",
        "                              min_count = 5, sg = 1, hs = 0, negative = 5,\n",
        "                              sample = 1e-3, workers = 4, epochs = 10)\n",
        "        name2 = 'word2vec/models/' + src + '_stop_param_' + str(stop_param) + \\\n",
        "          '_lemma_param_' + str(lemma_param) + '_subj_param_' + str(subj_param)\n",
        "        # saving model to shared location\n",
        "        temp_model.save(filepath + 'trns/' + name2 + '.pkl')"
      ],
      "metadata": {
        "colab": {
          "base_uri": "https://localhost:8080/"
        },
        "id": "EaktrqEuQn4a",
        "outputId": "53c89098-dcce-4ae9-f476-67afa3d58104"
      },
      "execution_count": 5,
      "outputs": [
        {
          "output_type": "stream",
          "name": "stderr",
          "text": [
            "100%|██████████| 8/8 [09:20<00:00, 70.04s/it]\n"
          ]
        }
      ]
    }
  ]
}