{
  "nbformat": 4,
  "nbformat_minor": 0,
  "metadata": {
    "colab": {
      "provenance": [],
      "toc_visible": true,
      "mount_file_id": "1mKmcvu3PjHePkcpGBzVO_EycLYGrtp72",
      "authorship_tag": "ABX9TyOWM/T8fxoTVC01Wyk44LJb",
      "include_colab_link": true
    },
    "kernelspec": {
      "name": "python3",
      "display_name": "Python 3"
    },
    "language_info": {
      "name": "python"
    }
  },
  "cells": [
    {
      "cell_type": "markdown",
      "metadata": {
        "id": "view-in-github",
        "colab_type": "text"
      },
      "source": [
        "<a href=\"https://colab.research.google.com/github/d-atallah/implicit_gender_bias/blob/main/jaymefis.ipynb\" target=\"_parent\"><img src=\"https://colab.research.google.com/assets/colab-badge.svg\" alt=\"Open In Colab\"/></a>"
      ]
    },
    {
      "cell_type": "markdown",
      "source": [
        "## Import Packages"
      ],
      "metadata": {
        "id": "HdZ_5XrPqmQY"
      }
    },
    {
      "cell_type": "code",
      "source": [
        "import gensim.downloader as api\n",
        "from gensim.matutils import cossim\n",
        "from gensim.models import KeyedVectors\n",
        "from sklearn.feature_extraction import text\n",
        "from sklearn.feature_extraction.text import CountVectorizer, TfidfVectorizer\n",
        "from sklearn.metrics.pairwise import distance_metrics\n",
        "import numpy as np\n",
        "import pandas as pd"
      ],
      "metadata": {
        "id": "X_XUVVjAqVnr"
      },
      "execution_count": 110,
      "outputs": []
    },
    {
      "cell_type": "markdown",
      "source": [
        "## Load Files"
      ],
      "metadata": {
        "id": "Rhg5Ahbtur0-"
      }
    },
    {
      "cell_type": "markdown",
      "source": [
        "**Annotations** contains crowdsourced annotations for response sentiment and relevance on source-response pairs obtained as described in the paper *RtGender: A Corpus for Studying Differential Responses to Gender* by Rob Voigt, David Jurgens, Vinodkumar Prabhakaran, Dan Jurafsky and Yulia Tsvetkov. Documentation is available [here](https://nlp.stanford.edu/robvoigt/rtgender/)."
      ],
      "metadata": {
        "id": "l2mkLVP-yEru"
      }
    },
    {
      "cell_type": "code",
      "execution_count": 2,
      "metadata": {
        "id": "SiPkHb2LpCD6"
      },
      "outputs": [],
      "source": [
        "file_path_annotations = '/content/drive/MyDrive/SIADS 696: Milestone II/Project/Data/RtGender/annotations.csv'\n",
        "file_path_googlenews = '/content/drive/MyDrive/SIADS 696: Milestone II/Project/Data/RtGender/word2vec-google-news-300.model'"
      ]
    },
    {
      "cell_type": "code",
      "source": [
        "dataframe_annotations = pd.read_csv(file_path_annotations)\n",
        "dataframe_annotations.head()"
      ],
      "metadata": {
        "colab": {
          "base_uri": "https://localhost:8080/",
          "height": 206
        },
        "id": "mHwOUogHqYrc",
        "outputId": "68f21a9c-cd6d-4557-ff07-80dccbd7c2b0"
      },
      "execution_count": 3,
      "outputs": [
        {
          "output_type": "execute_result",
          "data": {
            "text/plain": [
              "          source op_gender                                          post_text  \\\n",
              "0  facebook_wiki         W  Stopped by Fashion Week and got to hang with A...   \n",
              "1  facebook_wiki         M  Well guys, real progress is happening. I'm 50 ...   \n",
              "2  facebook_wiki         W  Tonight is going to be a good night #PerfectMo...   \n",
              "3  facebook_wiki         M  I know grandma Gilmore is real proud of you ht...   \n",
              "4  facebook_wiki         W  #NEWS to KNOW this AM - Mayor Emanuel will mak...   \n",
              "\n",
              "                                       response_text sentiment   relevance  \n",
              "0  You are Both Sweet Ashley Tisdale and Lauren C...  Positive      Poster  \n",
              "1          Give us the first page to read. ONE PAGE.     Mixed     Content  \n",
              "2             this is my city was there 2 weeks a go   Neutral     Content  \n",
              "3                      if grizzly Adams had a beard.   Neutral     Content  \n",
              "4  Good morning Lourdes, have a great day! Great ...  Positive  Irrelevant  "
            ],
            "text/html": [
              "\n",
              "  <div id=\"df-22319d5a-409e-47a7-8f1d-a531002dd07e\" class=\"colab-df-container\">\n",
              "    <div>\n",
              "<style scoped>\n",
              "    .dataframe tbody tr th:only-of-type {\n",
              "        vertical-align: middle;\n",
              "    }\n",
              "\n",
              "    .dataframe tbody tr th {\n",
              "        vertical-align: top;\n",
              "    }\n",
              "\n",
              "    .dataframe thead th {\n",
              "        text-align: right;\n",
              "    }\n",
              "</style>\n",
              "<table border=\"1\" class=\"dataframe\">\n",
              "  <thead>\n",
              "    <tr style=\"text-align: right;\">\n",
              "      <th></th>\n",
              "      <th>source</th>\n",
              "      <th>op_gender</th>\n",
              "      <th>post_text</th>\n",
              "      <th>response_text</th>\n",
              "      <th>sentiment</th>\n",
              "      <th>relevance</th>\n",
              "    </tr>\n",
              "  </thead>\n",
              "  <tbody>\n",
              "    <tr>\n",
              "      <th>0</th>\n",
              "      <td>facebook_wiki</td>\n",
              "      <td>W</td>\n",
              "      <td>Stopped by Fashion Week and got to hang with A...</td>\n",
              "      <td>You are Both Sweet Ashley Tisdale and Lauren C...</td>\n",
              "      <td>Positive</td>\n",
              "      <td>Poster</td>\n",
              "    </tr>\n",
              "    <tr>\n",
              "      <th>1</th>\n",
              "      <td>facebook_wiki</td>\n",
              "      <td>M</td>\n",
              "      <td>Well guys, real progress is happening. I'm 50 ...</td>\n",
              "      <td>Give us the first page to read. ONE PAGE.</td>\n",
              "      <td>Mixed</td>\n",
              "      <td>Content</td>\n",
              "    </tr>\n",
              "    <tr>\n",
              "      <th>2</th>\n",
              "      <td>facebook_wiki</td>\n",
              "      <td>W</td>\n",
              "      <td>Tonight is going to be a good night #PerfectMo...</td>\n",
              "      <td>this is my city was there 2 weeks a go</td>\n",
              "      <td>Neutral</td>\n",
              "      <td>Content</td>\n",
              "    </tr>\n",
              "    <tr>\n",
              "      <th>3</th>\n",
              "      <td>facebook_wiki</td>\n",
              "      <td>M</td>\n",
              "      <td>I know grandma Gilmore is real proud of you ht...</td>\n",
              "      <td>if grizzly Adams had a beard.</td>\n",
              "      <td>Neutral</td>\n",
              "      <td>Content</td>\n",
              "    </tr>\n",
              "    <tr>\n",
              "      <th>4</th>\n",
              "      <td>facebook_wiki</td>\n",
              "      <td>W</td>\n",
              "      <td>#NEWS to KNOW this AM - Mayor Emanuel will mak...</td>\n",
              "      <td>Good morning Lourdes, have a great day! Great ...</td>\n",
              "      <td>Positive</td>\n",
              "      <td>Irrelevant</td>\n",
              "    </tr>\n",
              "  </tbody>\n",
              "</table>\n",
              "</div>\n",
              "    <div class=\"colab-df-buttons\">\n",
              "\n",
              "  <div class=\"colab-df-container\">\n",
              "    <button class=\"colab-df-convert\" onclick=\"convertToInteractive('df-22319d5a-409e-47a7-8f1d-a531002dd07e')\"\n",
              "            title=\"Convert this dataframe to an interactive table.\"\n",
              "            style=\"display:none;\">\n",
              "\n",
              "  <svg xmlns=\"http://www.w3.org/2000/svg\" height=\"24px\" viewBox=\"0 -960 960 960\">\n",
              "    <path d=\"M120-120v-720h720v720H120Zm60-500h600v-160H180v160Zm220 220h160v-160H400v160Zm0 220h160v-160H400v160ZM180-400h160v-160H180v160Zm440 0h160v-160H620v160ZM180-180h160v-160H180v160Zm440 0h160v-160H620v160Z\"/>\n",
              "  </svg>\n",
              "    </button>\n",
              "\n",
              "  <style>\n",
              "    .colab-df-container {\n",
              "      display:flex;\n",
              "      gap: 12px;\n",
              "    }\n",
              "\n",
              "    .colab-df-convert {\n",
              "      background-color: #E8F0FE;\n",
              "      border: none;\n",
              "      border-radius: 50%;\n",
              "      cursor: pointer;\n",
              "      display: none;\n",
              "      fill: #1967D2;\n",
              "      height: 32px;\n",
              "      padding: 0 0 0 0;\n",
              "      width: 32px;\n",
              "    }\n",
              "\n",
              "    .colab-df-convert:hover {\n",
              "      background-color: #E2EBFA;\n",
              "      box-shadow: 0px 1px 2px rgba(60, 64, 67, 0.3), 0px 1px 3px 1px rgba(60, 64, 67, 0.15);\n",
              "      fill: #174EA6;\n",
              "    }\n",
              "\n",
              "    .colab-df-buttons div {\n",
              "      margin-bottom: 4px;\n",
              "    }\n",
              "\n",
              "    [theme=dark] .colab-df-convert {\n",
              "      background-color: #3B4455;\n",
              "      fill: #D2E3FC;\n",
              "    }\n",
              "\n",
              "    [theme=dark] .colab-df-convert:hover {\n",
              "      background-color: #434B5C;\n",
              "      box-shadow: 0px 1px 3px 1px rgba(0, 0, 0, 0.15);\n",
              "      filter: drop-shadow(0px 1px 2px rgba(0, 0, 0, 0.3));\n",
              "      fill: #FFFFFF;\n",
              "    }\n",
              "  </style>\n",
              "\n",
              "    <script>\n",
              "      const buttonEl =\n",
              "        document.querySelector('#df-22319d5a-409e-47a7-8f1d-a531002dd07e button.colab-df-convert');\n",
              "      buttonEl.style.display =\n",
              "        google.colab.kernel.accessAllowed ? 'block' : 'none';\n",
              "\n",
              "      async function convertToInteractive(key) {\n",
              "        const element = document.querySelector('#df-22319d5a-409e-47a7-8f1d-a531002dd07e');\n",
              "        const dataTable =\n",
              "          await google.colab.kernel.invokeFunction('convertToInteractive',\n",
              "                                                    [key], {});\n",
              "        if (!dataTable) return;\n",
              "\n",
              "        const docLinkHtml = 'Like what you see? Visit the ' +\n",
              "          '<a target=\"_blank\" href=https://colab.research.google.com/notebooks/data_table.ipynb>data table notebook</a>'\n",
              "          + ' to learn more about interactive tables.';\n",
              "        element.innerHTML = '';\n",
              "        dataTable['output_type'] = 'display_data';\n",
              "        await google.colab.output.renderOutput(dataTable, element);\n",
              "        const docLink = document.createElement('div');\n",
              "        docLink.innerHTML = docLinkHtml;\n",
              "        element.appendChild(docLink);\n",
              "      }\n",
              "    </script>\n",
              "  </div>\n",
              "\n",
              "\n",
              "<div id=\"df-d642bb4b-9f45-4587-a5a2-cc810c48c1a3\">\n",
              "  <button class=\"colab-df-quickchart\" onclick=\"quickchart('df-d642bb4b-9f45-4587-a5a2-cc810c48c1a3')\"\n",
              "            title=\"Suggest charts\"\n",
              "            style=\"display:none;\">\n",
              "\n",
              "<svg xmlns=\"http://www.w3.org/2000/svg\" height=\"24px\"viewBox=\"0 0 24 24\"\n",
              "     width=\"24px\">\n",
              "    <g>\n",
              "        <path d=\"M19 3H5c-1.1 0-2 .9-2 2v14c0 1.1.9 2 2 2h14c1.1 0 2-.9 2-2V5c0-1.1-.9-2-2-2zM9 17H7v-7h2v7zm4 0h-2V7h2v10zm4 0h-2v-4h2v4z\"/>\n",
              "    </g>\n",
              "</svg>\n",
              "  </button>\n",
              "\n",
              "<style>\n",
              "  .colab-df-quickchart {\n",
              "      --bg-color: #E8F0FE;\n",
              "      --fill-color: #1967D2;\n",
              "      --hover-bg-color: #E2EBFA;\n",
              "      --hover-fill-color: #174EA6;\n",
              "      --disabled-fill-color: #AAA;\n",
              "      --disabled-bg-color: #DDD;\n",
              "  }\n",
              "\n",
              "  [theme=dark] .colab-df-quickchart {\n",
              "      --bg-color: #3B4455;\n",
              "      --fill-color: #D2E3FC;\n",
              "      --hover-bg-color: #434B5C;\n",
              "      --hover-fill-color: #FFFFFF;\n",
              "      --disabled-bg-color: #3B4455;\n",
              "      --disabled-fill-color: #666;\n",
              "  }\n",
              "\n",
              "  .colab-df-quickchart {\n",
              "    background-color: var(--bg-color);\n",
              "    border: none;\n",
              "    border-radius: 50%;\n",
              "    cursor: pointer;\n",
              "    display: none;\n",
              "    fill: var(--fill-color);\n",
              "    height: 32px;\n",
              "    padding: 0;\n",
              "    width: 32px;\n",
              "  }\n",
              "\n",
              "  .colab-df-quickchart:hover {\n",
              "    background-color: var(--hover-bg-color);\n",
              "    box-shadow: 0 1px 2px rgba(60, 64, 67, 0.3), 0 1px 3px 1px rgba(60, 64, 67, 0.15);\n",
              "    fill: var(--button-hover-fill-color);\n",
              "  }\n",
              "\n",
              "  .colab-df-quickchart-complete:disabled,\n",
              "  .colab-df-quickchart-complete:disabled:hover {\n",
              "    background-color: var(--disabled-bg-color);\n",
              "    fill: var(--disabled-fill-color);\n",
              "    box-shadow: none;\n",
              "  }\n",
              "\n",
              "  .colab-df-spinner {\n",
              "    border: 2px solid var(--fill-color);\n",
              "    border-color: transparent;\n",
              "    border-bottom-color: var(--fill-color);\n",
              "    animation:\n",
              "      spin 1s steps(1) infinite;\n",
              "  }\n",
              "\n",
              "  @keyframes spin {\n",
              "    0% {\n",
              "      border-color: transparent;\n",
              "      border-bottom-color: var(--fill-color);\n",
              "      border-left-color: var(--fill-color);\n",
              "    }\n",
              "    20% {\n",
              "      border-color: transparent;\n",
              "      border-left-color: var(--fill-color);\n",
              "      border-top-color: var(--fill-color);\n",
              "    }\n",
              "    30% {\n",
              "      border-color: transparent;\n",
              "      border-left-color: var(--fill-color);\n",
              "      border-top-color: var(--fill-color);\n",
              "      border-right-color: var(--fill-color);\n",
              "    }\n",
              "    40% {\n",
              "      border-color: transparent;\n",
              "      border-right-color: var(--fill-color);\n",
              "      border-top-color: var(--fill-color);\n",
              "    }\n",
              "    60% {\n",
              "      border-color: transparent;\n",
              "      border-right-color: var(--fill-color);\n",
              "    }\n",
              "    80% {\n",
              "      border-color: transparent;\n",
              "      border-right-color: var(--fill-color);\n",
              "      border-bottom-color: var(--fill-color);\n",
              "    }\n",
              "    90% {\n",
              "      border-color: transparent;\n",
              "      border-bottom-color: var(--fill-color);\n",
              "    }\n",
              "  }\n",
              "</style>\n",
              "\n",
              "  <script>\n",
              "    async function quickchart(key) {\n",
              "      const quickchartButtonEl =\n",
              "        document.querySelector('#' + key + ' button');\n",
              "      quickchartButtonEl.disabled = true;  // To prevent multiple clicks.\n",
              "      quickchartButtonEl.classList.add('colab-df-spinner');\n",
              "      try {\n",
              "        const charts = await google.colab.kernel.invokeFunction(\n",
              "            'suggestCharts', [key], {});\n",
              "      } catch (error) {\n",
              "        console.error('Error during call to suggestCharts:', error);\n",
              "      }\n",
              "      quickchartButtonEl.classList.remove('colab-df-spinner');\n",
              "      quickchartButtonEl.classList.add('colab-df-quickchart-complete');\n",
              "    }\n",
              "    (() => {\n",
              "      let quickchartButtonEl =\n",
              "        document.querySelector('#df-d642bb4b-9f45-4587-a5a2-cc810c48c1a3 button');\n",
              "      quickchartButtonEl.style.display =\n",
              "        google.colab.kernel.accessAllowed ? 'block' : 'none';\n",
              "    })();\n",
              "  </script>\n",
              "</div>\n",
              "    </div>\n",
              "  </div>\n"
            ]
          },
          "metadata": {},
          "execution_count": 3
        }
      ]
    },
    {
      "cell_type": "markdown",
      "source": [
        "**Google News** contains a pre-trained Word2Vec model based on the Google News dataset, covering approximately 3 million words and phrases. Documentation is available [here](https://code.google.com/archive/p/word2vec/) and [here](https://radimrehurek.com/gensim/auto_examples/tutorials/run_word2vec.html#sphx-glr-auto-examples-tutorials-run-word2vec-py)."
      ],
      "metadata": {
        "id": "1YrIecdkyyRD"
      }
    },
    {
      "cell_type": "code",
      "source": [
        "# model_googlenews = api.load('word2vec-google-news-300')\n",
        "# model_googlenews.save(file_path_googlenews)"
      ],
      "metadata": {
        "id": "_IBOtw0GqfKM"
      },
      "execution_count": 4,
      "outputs": []
    },
    {
      "cell_type": "code",
      "source": [
        "model_googlenews = KeyedVectors.load(file_path_googlenews, mmap='r')"
      ],
      "metadata": {
        "id": "LqIoeW1kvoLa"
      },
      "execution_count": 5,
      "outputs": []
    },
    {
      "cell_type": "code",
      "source": [
        "for index, word in enumerate(model_googlenews.index_to_key):\n",
        "    if index == 10:\n",
        "        break\n",
        "    print(f\"word #{index}/{len(model_googlenews.index_to_key)} is {word}\")"
      ],
      "metadata": {
        "colab": {
          "base_uri": "https://localhost:8080/"
        },
        "id": "DGZQirCMx8gm",
        "outputId": "bed8d473-c2d3-4a97-a338-db203b7ff915"
      },
      "execution_count": 6,
      "outputs": [
        {
          "output_type": "stream",
          "name": "stdout",
          "text": [
            "word #0/3000000 is </s>\n",
            "word #1/3000000 is in\n",
            "word #2/3000000 is for\n",
            "word #3/3000000 is that\n",
            "word #4/3000000 is is\n",
            "word #5/3000000 is on\n",
            "word #6/3000000 is ##\n",
            "word #7/3000000 is The\n",
            "word #8/3000000 is with\n",
            "word #9/3000000 is said\n"
          ]
        }
      ]
    },
    {
      "cell_type": "code",
      "source": [
        "model_googlenews.most_similar('she')"
      ],
      "metadata": {
        "colab": {
          "base_uri": "https://localhost:8080/"
        },
        "id": "SWMkZxjffPGz",
        "outputId": "390ba9e3-8d3b-4440-b76f-93d4454ca6e3"
      },
      "execution_count": 7,
      "outputs": [
        {
          "output_type": "execute_result",
          "data": {
            "text/plain": [
              "[('her', 0.7834683060646057),\n",
              " ('She', 0.7553189396858215),\n",
              " ('herself', 0.669890820980072),\n",
              " ('hers', 0.6509943008422852),\n",
              " ('he', 0.612994909286499),\n",
              " ('woman', 0.5641393661499023),\n",
              " ('Rivadineira', 0.558593213558197),\n",
              " ('Jana_Bobek', 0.5365386605262756),\n",
              " ('mother', 0.5349627137184143),\n",
              " (\"she'sa\", 0.5337814688682556)]"
            ]
          },
          "metadata": {},
          "execution_count": 7
        }
      ]
    },
    {
      "cell_type": "code",
      "source": [
        "model_googlenews.most_similar('he')"
      ],
      "metadata": {
        "colab": {
          "base_uri": "https://localhost:8080/"
        },
        "id": "4kUoxd0bs48A",
        "outputId": "d0583d1a-3551-4ab2-db40-8280fd628b55"
      },
      "execution_count": 8,
      "outputs": [
        {
          "output_type": "execute_result",
          "data": {
            "text/plain": [
              "[('He', 0.6712614297866821),\n",
              " ('him', 0.6681135892868042),\n",
              " ('his', 0.6201768517494202),\n",
              " ('she', 0.612994909286499),\n",
              " ('himself', 0.588027834892273),\n",
              " ('nobody', 0.5637064576148987),\n",
              " ('I', 0.555713951587677),\n",
              " ('it', 0.5354882478713989),\n",
              " ('never', 0.5239652395248413),\n",
              " ('somebody', 0.5205153822898865)]"
            ]
          },
          "metadata": {},
          "execution_count": 8
        }
      ]
    },
    {
      "cell_type": "markdown",
      "source": [
        "Nouns from v1.1 of the **HolisticBias** dataset, a project of the Responsible Natural Language Processing team at Facebook Research. The dataset is described in the paper **\"I'm sorry to hear that\": Finding New Biases in Language Models with a Holistic Descriptor Dataset** by Eric Michael Smith, Melissa Hall, Melanie Kambadur, Eleonora Presani, and Adina Williams. Documentation is available [here](https://github.com/facebookresearch/ResponsibleNLP/tree/main/holistic_bias/dataset/v1.1)."
      ],
      "metadata": {
        "id": "1MmO8nO-j80x"
      }
    },
    {
      "cell_type": "code",
      "source": [
        "nouns = {\n",
        "    \"female\": [\n",
        "        [\"woman\", \"women\"],\n",
        "        [\"lady\", \"ladies\"],\n",
        "        [\"gal\", \"gals\"],\n",
        "        [\"girl\", \"girls\"],\n",
        "        [\"mother\", \"mothers\"],\n",
        "        [\"mom\", \"moms\"],\n",
        "        [\"daughter\", \"daughters\"],\n",
        "        [\"wife\", \"wives\"],\n",
        "        [\"grandmother\", \"grandmothers\"],\n",
        "        [\"grandma\", \"grandmas\"],\n",
        "        [\"sister\", \"sisters\"],\n",
        "        [\"sista\", \"sistas\"]\n",
        "    ],\n",
        "    \"male\": [\n",
        "        [\"man\", \"men\"],\n",
        "        [\"bro\", \"bros\"],\n",
        "        [\"guy\", \"guys\"],\n",
        "        [\"boy\", \"boys\"],\n",
        "        [\"father\", \"fathers\"],\n",
        "        [\"dad\", \"dads\"],\n",
        "        [\"son\", \"sons\"],\n",
        "        [\"husband\", \"husbands\"],\n",
        "        [\"grandfather\", \"grandfathers\"],\n",
        "        [\"grandpa\", \"grandpas\"],\n",
        "        [\"brother\", \"brothers\"]\n",
        "    ],\n",
        "    \"neutral\": [\n",
        "        [\"individual\", \"individuals\"],\n",
        "        [\"person\", \"people\"],\n",
        "        [\"kid\", \"kids\"],\n",
        "        [\"parent\", \"parents\"],\n",
        "        [\"child\", \"children\"],\n",
        "        [\"spouse\", \"spouses\"],\n",
        "        [\"grandparent\", \"grandparents\"],\n",
        "        [\"sibling\", \"siblings\"],\n",
        "        [\"veteran\", \"veterans\"]\n",
        "    ]\n",
        "}"
      ],
      "metadata": {
        "id": "soWNx2qYj7NL"
      },
      "execution_count": 9,
      "outputs": []
    },
    {
      "cell_type": "code",
      "source": [
        "data_holisticbias = [[gender, ' '.join([word for pair in words_list for word in pair])] for gender, words_list in nouns.items()]\n",
        "dataframe_holisticbias = pd.DataFrame(data_holisticbias, columns=['gender', 'text'])\n",
        "dataframe_holisticbias"
      ],
      "metadata": {
        "colab": {
          "base_uri": "https://localhost:8080/",
          "height": 143
        },
        "id": "LVEyAlwGoG-B",
        "outputId": "a715f093-9c7e-431a-c29c-6ece221421af"
      },
      "execution_count": 10,
      "outputs": [
        {
          "output_type": "execute_result",
          "data": {
            "text/plain": [
              "    gender                                               text\n",
              "0   female  woman women lady ladies gal gals girl girls mo...\n",
              "1     male  man men bro bros guy guys boy boys father fath...\n",
              "2  neutral  individual individuals person people kid kids ..."
            ],
            "text/html": [
              "\n",
              "  <div id=\"df-4a70af49-c24d-4d60-8455-17f99b20bdea\" class=\"colab-df-container\">\n",
              "    <div>\n",
              "<style scoped>\n",
              "    .dataframe tbody tr th:only-of-type {\n",
              "        vertical-align: middle;\n",
              "    }\n",
              "\n",
              "    .dataframe tbody tr th {\n",
              "        vertical-align: top;\n",
              "    }\n",
              "\n",
              "    .dataframe thead th {\n",
              "        text-align: right;\n",
              "    }\n",
              "</style>\n",
              "<table border=\"1\" class=\"dataframe\">\n",
              "  <thead>\n",
              "    <tr style=\"text-align: right;\">\n",
              "      <th></th>\n",
              "      <th>gender</th>\n",
              "      <th>text</th>\n",
              "    </tr>\n",
              "  </thead>\n",
              "  <tbody>\n",
              "    <tr>\n",
              "      <th>0</th>\n",
              "      <td>female</td>\n",
              "      <td>woman women lady ladies gal gals girl girls mo...</td>\n",
              "    </tr>\n",
              "    <tr>\n",
              "      <th>1</th>\n",
              "      <td>male</td>\n",
              "      <td>man men bro bros guy guys boy boys father fath...</td>\n",
              "    </tr>\n",
              "    <tr>\n",
              "      <th>2</th>\n",
              "      <td>neutral</td>\n",
              "      <td>individual individuals person people kid kids ...</td>\n",
              "    </tr>\n",
              "  </tbody>\n",
              "</table>\n",
              "</div>\n",
              "    <div class=\"colab-df-buttons\">\n",
              "\n",
              "  <div class=\"colab-df-container\">\n",
              "    <button class=\"colab-df-convert\" onclick=\"convertToInteractive('df-4a70af49-c24d-4d60-8455-17f99b20bdea')\"\n",
              "            title=\"Convert this dataframe to an interactive table.\"\n",
              "            style=\"display:none;\">\n",
              "\n",
              "  <svg xmlns=\"http://www.w3.org/2000/svg\" height=\"24px\" viewBox=\"0 -960 960 960\">\n",
              "    <path d=\"M120-120v-720h720v720H120Zm60-500h600v-160H180v160Zm220 220h160v-160H400v160Zm0 220h160v-160H400v160ZM180-400h160v-160H180v160Zm440 0h160v-160H620v160ZM180-180h160v-160H180v160Zm440 0h160v-160H620v160Z\"/>\n",
              "  </svg>\n",
              "    </button>\n",
              "\n",
              "  <style>\n",
              "    .colab-df-container {\n",
              "      display:flex;\n",
              "      gap: 12px;\n",
              "    }\n",
              "\n",
              "    .colab-df-convert {\n",
              "      background-color: #E8F0FE;\n",
              "      border: none;\n",
              "      border-radius: 50%;\n",
              "      cursor: pointer;\n",
              "      display: none;\n",
              "      fill: #1967D2;\n",
              "      height: 32px;\n",
              "      padding: 0 0 0 0;\n",
              "      width: 32px;\n",
              "    }\n",
              "\n",
              "    .colab-df-convert:hover {\n",
              "      background-color: #E2EBFA;\n",
              "      box-shadow: 0px 1px 2px rgba(60, 64, 67, 0.3), 0px 1px 3px 1px rgba(60, 64, 67, 0.15);\n",
              "      fill: #174EA6;\n",
              "    }\n",
              "\n",
              "    .colab-df-buttons div {\n",
              "      margin-bottom: 4px;\n",
              "    }\n",
              "\n",
              "    [theme=dark] .colab-df-convert {\n",
              "      background-color: #3B4455;\n",
              "      fill: #D2E3FC;\n",
              "    }\n",
              "\n",
              "    [theme=dark] .colab-df-convert:hover {\n",
              "      background-color: #434B5C;\n",
              "      box-shadow: 0px 1px 3px 1px rgba(0, 0, 0, 0.15);\n",
              "      filter: drop-shadow(0px 1px 2px rgba(0, 0, 0, 0.3));\n",
              "      fill: #FFFFFF;\n",
              "    }\n",
              "  </style>\n",
              "\n",
              "    <script>\n",
              "      const buttonEl =\n",
              "        document.querySelector('#df-4a70af49-c24d-4d60-8455-17f99b20bdea button.colab-df-convert');\n",
              "      buttonEl.style.display =\n",
              "        google.colab.kernel.accessAllowed ? 'block' : 'none';\n",
              "\n",
              "      async function convertToInteractive(key) {\n",
              "        const element = document.querySelector('#df-4a70af49-c24d-4d60-8455-17f99b20bdea');\n",
              "        const dataTable =\n",
              "          await google.colab.kernel.invokeFunction('convertToInteractive',\n",
              "                                                    [key], {});\n",
              "        if (!dataTable) return;\n",
              "\n",
              "        const docLinkHtml = 'Like what you see? Visit the ' +\n",
              "          '<a target=\"_blank\" href=https://colab.research.google.com/notebooks/data_table.ipynb>data table notebook</a>'\n",
              "          + ' to learn more about interactive tables.';\n",
              "        element.innerHTML = '';\n",
              "        dataTable['output_type'] = 'display_data';\n",
              "        await google.colab.output.renderOutput(dataTable, element);\n",
              "        const docLink = document.createElement('div');\n",
              "        docLink.innerHTML = docLinkHtml;\n",
              "        element.appendChild(docLink);\n",
              "      }\n",
              "    </script>\n",
              "  </div>\n",
              "\n",
              "\n",
              "<div id=\"df-24b9dcb6-962d-4ded-8397-8ee5ab7c756c\">\n",
              "  <button class=\"colab-df-quickchart\" onclick=\"quickchart('df-24b9dcb6-962d-4ded-8397-8ee5ab7c756c')\"\n",
              "            title=\"Suggest charts\"\n",
              "            style=\"display:none;\">\n",
              "\n",
              "<svg xmlns=\"http://www.w3.org/2000/svg\" height=\"24px\"viewBox=\"0 0 24 24\"\n",
              "     width=\"24px\">\n",
              "    <g>\n",
              "        <path d=\"M19 3H5c-1.1 0-2 .9-2 2v14c0 1.1.9 2 2 2h14c1.1 0 2-.9 2-2V5c0-1.1-.9-2-2-2zM9 17H7v-7h2v7zm4 0h-2V7h2v10zm4 0h-2v-4h2v4z\"/>\n",
              "    </g>\n",
              "</svg>\n",
              "  </button>\n",
              "\n",
              "<style>\n",
              "  .colab-df-quickchart {\n",
              "      --bg-color: #E8F0FE;\n",
              "      --fill-color: #1967D2;\n",
              "      --hover-bg-color: #E2EBFA;\n",
              "      --hover-fill-color: #174EA6;\n",
              "      --disabled-fill-color: #AAA;\n",
              "      --disabled-bg-color: #DDD;\n",
              "  }\n",
              "\n",
              "  [theme=dark] .colab-df-quickchart {\n",
              "      --bg-color: #3B4455;\n",
              "      --fill-color: #D2E3FC;\n",
              "      --hover-bg-color: #434B5C;\n",
              "      --hover-fill-color: #FFFFFF;\n",
              "      --disabled-bg-color: #3B4455;\n",
              "      --disabled-fill-color: #666;\n",
              "  }\n",
              "\n",
              "  .colab-df-quickchart {\n",
              "    background-color: var(--bg-color);\n",
              "    border: none;\n",
              "    border-radius: 50%;\n",
              "    cursor: pointer;\n",
              "    display: none;\n",
              "    fill: var(--fill-color);\n",
              "    height: 32px;\n",
              "    padding: 0;\n",
              "    width: 32px;\n",
              "  }\n",
              "\n",
              "  .colab-df-quickchart:hover {\n",
              "    background-color: var(--hover-bg-color);\n",
              "    box-shadow: 0 1px 2px rgba(60, 64, 67, 0.3), 0 1px 3px 1px rgba(60, 64, 67, 0.15);\n",
              "    fill: var(--button-hover-fill-color);\n",
              "  }\n",
              "\n",
              "  .colab-df-quickchart-complete:disabled,\n",
              "  .colab-df-quickchart-complete:disabled:hover {\n",
              "    background-color: var(--disabled-bg-color);\n",
              "    fill: var(--disabled-fill-color);\n",
              "    box-shadow: none;\n",
              "  }\n",
              "\n",
              "  .colab-df-spinner {\n",
              "    border: 2px solid var(--fill-color);\n",
              "    border-color: transparent;\n",
              "    border-bottom-color: var(--fill-color);\n",
              "    animation:\n",
              "      spin 1s steps(1) infinite;\n",
              "  }\n",
              "\n",
              "  @keyframes spin {\n",
              "    0% {\n",
              "      border-color: transparent;\n",
              "      border-bottom-color: var(--fill-color);\n",
              "      border-left-color: var(--fill-color);\n",
              "    }\n",
              "    20% {\n",
              "      border-color: transparent;\n",
              "      border-left-color: var(--fill-color);\n",
              "      border-top-color: var(--fill-color);\n",
              "    }\n",
              "    30% {\n",
              "      border-color: transparent;\n",
              "      border-left-color: var(--fill-color);\n",
              "      border-top-color: var(--fill-color);\n",
              "      border-right-color: var(--fill-color);\n",
              "    }\n",
              "    40% {\n",
              "      border-color: transparent;\n",
              "      border-right-color: var(--fill-color);\n",
              "      border-top-color: var(--fill-color);\n",
              "    }\n",
              "    60% {\n",
              "      border-color: transparent;\n",
              "      border-right-color: var(--fill-color);\n",
              "    }\n",
              "    80% {\n",
              "      border-color: transparent;\n",
              "      border-right-color: var(--fill-color);\n",
              "      border-bottom-color: var(--fill-color);\n",
              "    }\n",
              "    90% {\n",
              "      border-color: transparent;\n",
              "      border-bottom-color: var(--fill-color);\n",
              "    }\n",
              "  }\n",
              "</style>\n",
              "\n",
              "  <script>\n",
              "    async function quickchart(key) {\n",
              "      const quickchartButtonEl =\n",
              "        document.querySelector('#' + key + ' button');\n",
              "      quickchartButtonEl.disabled = true;  // To prevent multiple clicks.\n",
              "      quickchartButtonEl.classList.add('colab-df-spinner');\n",
              "      try {\n",
              "        const charts = await google.colab.kernel.invokeFunction(\n",
              "            'suggestCharts', [key], {});\n",
              "      } catch (error) {\n",
              "        console.error('Error during call to suggestCharts:', error);\n",
              "      }\n",
              "      quickchartButtonEl.classList.remove('colab-df-spinner');\n",
              "      quickchartButtonEl.classList.add('colab-df-quickchart-complete');\n",
              "    }\n",
              "    (() => {\n",
              "      let quickchartButtonEl =\n",
              "        document.querySelector('#df-24b9dcb6-962d-4ded-8397-8ee5ab7c756c button');\n",
              "      quickchartButtonEl.style.display =\n",
              "        google.colab.kernel.accessAllowed ? 'block' : 'none';\n",
              "    })();\n",
              "  </script>\n",
              "</div>\n",
              "    </div>\n",
              "  </div>\n"
            ]
          },
          "metadata": {},
          "execution_count": 10
        }
      ]
    },
    {
      "cell_type": "markdown",
      "source": [
        "## Tokenize Text"
      ],
      "metadata": {
        "id": "vj8pQgBK3umW"
      }
    },
    {
      "cell_type": "code",
      "source": [
        "stop_words = text.ENGLISH_STOP_WORDS\n",
        "print(sorted(stop_words))"
      ],
      "metadata": {
        "colab": {
          "base_uri": "https://localhost:8080/"
        },
        "id": "BP_B7ig06_Xd",
        "outputId": "4a20aa42-72d1-4fc8-fec9-f5a5be49eb75"
      },
      "execution_count": 11,
      "outputs": [
        {
          "output_type": "stream",
          "name": "stdout",
          "text": [
            "['a', 'about', 'above', 'across', 'after', 'afterwards', 'again', 'against', 'all', 'almost', 'alone', 'along', 'already', 'also', 'although', 'always', 'am', 'among', 'amongst', 'amoungst', 'amount', 'an', 'and', 'another', 'any', 'anyhow', 'anyone', 'anything', 'anyway', 'anywhere', 'are', 'around', 'as', 'at', 'back', 'be', 'became', 'because', 'become', 'becomes', 'becoming', 'been', 'before', 'beforehand', 'behind', 'being', 'below', 'beside', 'besides', 'between', 'beyond', 'bill', 'both', 'bottom', 'but', 'by', 'call', 'can', 'cannot', 'cant', 'co', 'con', 'could', 'couldnt', 'cry', 'de', 'describe', 'detail', 'do', 'done', 'down', 'due', 'during', 'each', 'eg', 'eight', 'either', 'eleven', 'else', 'elsewhere', 'empty', 'enough', 'etc', 'even', 'ever', 'every', 'everyone', 'everything', 'everywhere', 'except', 'few', 'fifteen', 'fifty', 'fill', 'find', 'fire', 'first', 'five', 'for', 'former', 'formerly', 'forty', 'found', 'four', 'from', 'front', 'full', 'further', 'get', 'give', 'go', 'had', 'has', 'hasnt', 'have', 'he', 'hence', 'her', 'here', 'hereafter', 'hereby', 'herein', 'hereupon', 'hers', 'herself', 'him', 'himself', 'his', 'how', 'however', 'hundred', 'i', 'ie', 'if', 'in', 'inc', 'indeed', 'interest', 'into', 'is', 'it', 'its', 'itself', 'keep', 'last', 'latter', 'latterly', 'least', 'less', 'ltd', 'made', 'many', 'may', 'me', 'meanwhile', 'might', 'mill', 'mine', 'more', 'moreover', 'most', 'mostly', 'move', 'much', 'must', 'my', 'myself', 'name', 'namely', 'neither', 'never', 'nevertheless', 'next', 'nine', 'no', 'nobody', 'none', 'noone', 'nor', 'not', 'nothing', 'now', 'nowhere', 'of', 'off', 'often', 'on', 'once', 'one', 'only', 'onto', 'or', 'other', 'others', 'otherwise', 'our', 'ours', 'ourselves', 'out', 'over', 'own', 'part', 'per', 'perhaps', 'please', 'put', 'rather', 're', 'same', 'see', 'seem', 'seemed', 'seeming', 'seems', 'serious', 'several', 'she', 'should', 'show', 'side', 'since', 'sincere', 'six', 'sixty', 'so', 'some', 'somehow', 'someone', 'something', 'sometime', 'sometimes', 'somewhere', 'still', 'such', 'system', 'take', 'ten', 'than', 'that', 'the', 'their', 'them', 'themselves', 'then', 'thence', 'there', 'thereafter', 'thereby', 'therefore', 'therein', 'thereupon', 'these', 'they', 'thick', 'thin', 'third', 'this', 'those', 'though', 'three', 'through', 'throughout', 'thru', 'thus', 'to', 'together', 'too', 'top', 'toward', 'towards', 'twelve', 'twenty', 'two', 'un', 'under', 'until', 'up', 'upon', 'us', 'very', 'via', 'was', 'we', 'well', 'were', 'what', 'whatever', 'when', 'whence', 'whenever', 'where', 'whereafter', 'whereas', 'whereby', 'wherein', 'whereupon', 'wherever', 'whether', 'which', 'while', 'whither', 'who', 'whoever', 'whole', 'whom', 'whose', 'why', 'will', 'with', 'within', 'without', 'would', 'yet', 'you', 'your', 'yours', 'yourself', 'yourselves']\n"
          ]
        }
      ]
    },
    {
      "cell_type": "markdown",
      "source": [
        "Several of the stop words in scikit-learn encode gender, including he, him, his, and himself (male); she, her, hers, herself (female); and potentially they, them, their, and themselves (nonbinary). It might be preferable to retain stop words and set a maximum document frequency."
      ],
      "metadata": {
        "id": "J9reZ9Rn_RSF"
      }
    },
    {
      "cell_type": "code",
      "source": [
        "def initialize_vectorizer(vectorizer):\n",
        "    \"\"\"\n",
        "    Initializes and configures an instance of a vectorizer class.\n",
        "\n",
        "    This function takes a vectorizer class (such as CountVectorizer or TfidfVectorizer\n",
        "    from sklearn.feature_extraction.text) and initializes it with specific configuration\n",
        "    parameters.\n",
        "\n",
        "    Args:\n",
        "        vectorizer (class): The class of the vectorizer to be initialized.\n",
        "\n",
        "    Returns:\n",
        "        object: An instance of the specified vectorizer class with configured parameters.\n",
        "    \"\"\"\n",
        "\n",
        "    # Initialize the vectorizer with specific configuration settings\n",
        "    instance = vectorizer(\n",
        "        strip_accents='unicode',\n",
        "        lowercase=False,\n",
        "        stop_words=None,\n",
        "        ngram_range=(1, 1),\n",
        "        min_df=1,\n",
        "        max_df=1,\n",
        "        max_features=None\n",
        "    )\n",
        "\n",
        "    return instance"
      ],
      "metadata": {
        "id": "9RmqJ4FEb-a3"
      },
      "execution_count": 96,
      "outputs": []
    },
    {
      "cell_type": "code",
      "source": [
        "def tokenize_text(dataframe, label_column, text_column, vectorizer):\n",
        "    \"\"\"\n",
        "    Tokenizes text data in a pandas DataFrame using a specified vectorizer.\n",
        "\n",
        "    Args:\n",
        "    - dataframe (pd.DataFrame): The DataFrame containing the text data.\n",
        "    - label_column (str): The name of the column containing the labels.\n",
        "    - text_column (str): The name of the column containing the text to be tokenized.\n",
        "    - vectorizer (Vectorizer): An instance of a text vectorization class from sklearn.\n",
        "\n",
        "    Returns:\n",
        "    - matrix (sparse matrix): The transformed text data as a matrix.\n",
        "    - labels (pd.Series): The labels associated with the text data.\n",
        "    - features (np.ndarray): The features associated with the text data.\n",
        "    \"\"\"\n",
        "    # Remove rows with missing values in the text column\n",
        "    dataframe = dataframe.dropna(subset=[text_column])\n",
        "\n",
        "    # Transform the text column into a matrix\n",
        "    matrix = vectorizer.fit_transform(dataframe[text_column])\n",
        "\n",
        "    # Extract the target variable\n",
        "    labels = dataframe[label_column]\n",
        "\n",
        "    # Extract feature names\n",
        "    features = vectorizer.get_feature_names_out()\n",
        "\n",
        "    return matrix, labels, features"
      ],
      "metadata": {
        "id": "xJS1LKzp3wTB"
      },
      "execution_count": 97,
      "outputs": []
    },
    {
      "cell_type": "code",
      "source": [
        "# Initialize vectorizers\n",
        "count_vectorizer = initialize_vectorizer(CountVectorizer)\n",
        "tfidf_vectorizer = initialize_vectorizer(TfidfVectorizer)"
      ],
      "metadata": {
        "id": "9IAGeygtc9Z8"
      },
      "execution_count": 98,
      "outputs": []
    },
    {
      "cell_type": "code",
      "source": [
        "# Tokenize posts\n",
        "matrix_count, labels_count, features_count = tokenize_text(dataframe_annotations, 'op_gender', 'response_text', count_vectorizer)\n",
        "matrix_tfidf, labels_tfidf, features_tfidf = tokenize_text(dataframe_annotations, 'op_gender', 'response_text', tfidf_vectorizer)"
      ],
      "metadata": {
        "id": "RgDSVgjh4nPb"
      },
      "execution_count": 99,
      "outputs": []
    },
    {
      "cell_type": "code",
      "source": [
        "# Tokenize nouns\n",
        "gender_matrix_count = count_vectorizer.transform(dataframe_holisticbias['text'])\n",
        "gender_matrix_tfidf = tfidf_vectorizer.transform(dataframe_holisticbias['text'])"
      ],
      "metadata": {
        "id": "1wCiMO2Lry1I"
      },
      "execution_count": 100,
      "outputs": []
    },
    {
      "cell_type": "markdown",
      "source": [
        "## Get Embeddings"
      ],
      "metadata": {
        "id": "WQ8JqTQng9Y_"
      }
    },
    {
      "cell_type": "code",
      "source": [
        "def get_embeddings(model, vectorizer):\n",
        "    \"\"\"\n",
        "    Pre-computes word embeddings for the entire vocabulary.\n",
        "\n",
        "    Args:\n",
        "    - model (Word2Vec KeyedVectors): Pre-trained Word2Vec model.\n",
        "    - vocabulary (list of str): The list of words in the vocabulary.\n",
        "\n",
        "    Returns:\n",
        "    - dict: A dictionary mapping words to their respective embeddings.\n",
        "    \"\"\"\n",
        "    vocabulary = vectorizer.vocabulary_.keys()\n",
        "    return {word: model[word] for word in vocabulary if word in model}"
      ],
      "metadata": {
        "id": "uKwKsBewhh3k"
      },
      "execution_count": 101,
      "outputs": []
    },
    {
      "cell_type": "code",
      "source": [
        "embeddings_count = get_embeddings(model_googlenews, count_vectorizer)\n",
        "embeddings_tfidf = get_embeddings(model_googlenews, tfidf_vectorizer)"
      ],
      "metadata": {
        "id": "z_-M0YSCiSOM"
      },
      "execution_count": 102,
      "outputs": []
    },
    {
      "cell_type": "markdown",
      "source": [
        "## Apply Word Embeddings"
      ],
      "metadata": {
        "id": "Cs6XBdS1EIcI"
      }
    },
    {
      "cell_type": "code",
      "source": [
        "def get_word2vec_vector(matrix, features, embeddings, dimensions=300):\n",
        "    \"\"\"\n",
        "    Generate normalized Word2Vec vectors for documents in a given matrix.\n",
        "\n",
        "    Args:\n",
        "    matrix (sparse matrix): A matrix where each row represents a document and each column represents a feature.\n",
        "    features (np.ndarray): An array of words corresponding to the columns in the matrix.\n",
        "    model (Word2Vec KeyedVectors): Pre-trained Word2Vec model.\n",
        "    dimensions (int): Dimensionality of the Word2Vec vectors.\n",
        "\n",
        "    Yields:\n",
        "    np.ndarray: Normalized Word2Vec vector for each document.\n",
        "    \"\"\"\n",
        "    # Get the number of documents in the matrix\n",
        "    num_documents = matrix.shape[0]\n",
        "\n",
        "    # Iterate over each document in the matrix\n",
        "    for i in range(num_documents):\n",
        "        # Initialize the vector for the current document\n",
        "        document_vector = np.zeros(dimensions)\n",
        "        # Initialize the total weight for the current document\n",
        "        document_weight = 0\n",
        "\n",
        "        # Iterate over each word in the features list\n",
        "        for j, word in enumerate(features):\n",
        "            # Check if the word is in the model\n",
        "            if word in embeddings:\n",
        "                # Get the weight of the word in the current document\n",
        "                word_weight = matrix[i, j]\n",
        "                # Get the vector representation of the word and scale it by its weight\n",
        "                word_vector = embeddings[word] * word_weight\n",
        "                # Add the weighted word vector to the document vector\n",
        "                document_vector += word_vector\n",
        "                # Accumulate the total weight of the words in the document\n",
        "                document_weight += word_weight\n",
        "\n",
        "        # Avoid division by zero\n",
        "        document_weight = document_weight if document_weight > 0 else 1\n",
        "\n",
        "        # Yield the normalized document vector\n",
        "        yield i, document_vector / document_weight"
      ],
      "metadata": {
        "id": "5Dp3gB--Eayh"
      },
      "execution_count": 103,
      "outputs": []
    },
    {
      "cell_type": "markdown",
      "source": [
        "Garg et al. (2018) use a different approach to assess the similarity between a set of neutral words and two groups, first subtracting the distance between each group and a neutral word, then summing the results across words. This approach gives equal weight to each word, unlike the approach above."
      ],
      "metadata": {
        "id": "cONgLlwqXRuD"
      }
    },
    {
      "cell_type": "code",
      "source": [
        "word2vec_generator_count = get_word2vec_vector(matrix_count, features_count, embeddings_count)\n",
        "print(next(word2vec_generator_count))\n",
        "print(next(word2vec_generator_count))"
      ],
      "metadata": {
        "colab": {
          "base_uri": "https://localhost:8080/"
        },
        "id": "FRqPoxmGQwA4",
        "outputId": "7612ceba-777c-4069-adfe-e5288104f8f8"
      },
      "execution_count": 104,
      "outputs": [
        {
          "output_type": "stream",
          "name": "stdout",
          "text": [
            "(0, array([ 1.40625000e-01,  1.54296875e-01, -2.61718750e-01, -3.71093750e-02,\n",
            "        1.14257812e-01, -2.29492188e-01, -9.33837891e-03, -4.78515625e-02,\n",
            "       -8.39843750e-02, -6.49414062e-02,  1.85546875e-01,  2.27050781e-02,\n",
            "        8.30078125e-02, -6.39648438e-02, -3.68652344e-02, -2.40478516e-02,\n",
            "        2.91015625e-01,  9.66796875e-02, -1.27929688e-01,  8.88671875e-02,\n",
            "        2.86865234e-02,  3.97949219e-02,  8.74023438e-02, -1.97265625e-01,\n",
            "        2.04101562e-01,  1.30859375e-01, -1.09863281e-02, -9.27734375e-02,\n",
            "        1.43554688e-01, -1.98974609e-02, -1.11083984e-02, -1.49414062e-01,\n",
            "       -3.51562500e-01, -1.19140625e-01,  6.64062500e-02, -4.80957031e-02,\n",
            "        9.42382812e-02,  8.69140625e-02,  8.88671875e-02, -8.54492188e-02,\n",
            "        1.16210938e-01,  8.98437500e-02,  8.05664062e-02,  3.78417969e-02,\n",
            "       -1.68945312e-01,  2.17773438e-01,  1.96289062e-01, -3.78417969e-02,\n",
            "        2.47070312e-01,  1.38671875e-01, -5.63964844e-02,  4.63867188e-02,\n",
            "       -1.68945312e-01, -4.80468750e-01,  1.36718750e-01, -4.22363281e-02,\n",
            "        4.85839844e-02, -3.02734375e-02, -1.41601562e-01, -1.14746094e-01,\n",
            "        8.54492188e-02, -4.46777344e-02,  1.95312500e-02, -1.86523438e-01,\n",
            "        4.34570312e-02, -4.34570312e-02,  8.59375000e-02,  1.07910156e-01,\n",
            "       -6.68945312e-02,  5.07812500e-02,  2.23632812e-01, -2.53906250e-01,\n",
            "        1.66992188e-01, -4.34570312e-02, -2.37304688e-01,  1.24511719e-01,\n",
            "        1.74560547e-02,  2.73437500e-01,  1.66015625e-01,  1.93359375e-01,\n",
            "        7.76367188e-02, -3.51562500e-01, -1.87988281e-02, -8.60595703e-03,\n",
            "        5.02929688e-02, -8.88671875e-02, -9.37500000e-02,  1.20117188e-01,\n",
            "       -5.95703125e-02, -8.30078125e-02,  2.99072266e-02, -2.20947266e-02,\n",
            "       -6.88476562e-02,  1.17797852e-02, -6.73828125e-02,  5.24902344e-02,\n",
            "        8.54492188e-02, -7.27539062e-02, -1.00585938e-01, -2.37304688e-01,\n",
            "       -1.09863281e-02, -7.71484375e-02,  9.27734375e-02, -6.80541992e-03,\n",
            "        1.67968750e-01,  5.41992188e-02, -3.68652344e-02, -1.77734375e-01,\n",
            "       -9.86328125e-02,  5.78613281e-02, -1.40380859e-02, -1.16210938e-01,\n",
            "        1.89453125e-01,  2.07519531e-02,  2.08007812e-01,  3.10546875e-01,\n",
            "       -2.16064453e-02, -1.68945312e-01,  1.74804688e-01,  6.73828125e-02,\n",
            "       -2.05078125e-02, -4.63867188e-03,  1.57226562e-01,  1.19628906e-01,\n",
            "        1.69921875e-01, -2.47070312e-01, -4.80957031e-02, -6.46972656e-03,\n",
            "        1.99218750e-01,  2.35595703e-02, -2.05078125e-01, -1.31835938e-01,\n",
            "       -2.81250000e-01,  1.69921875e-01, -4.56542969e-02, -2.27050781e-02,\n",
            "       -8.74023438e-02,  1.54296875e-01, -1.23046875e-01,  1.35742188e-01,\n",
            "        9.17968750e-02, -1.56250000e-01,  1.60156250e-01, -1.02050781e-01,\n",
            "       -9.33837891e-03,  1.71875000e-01, -3.22265625e-02,  1.44653320e-02,\n",
            "       -7.93457031e-04,  6.88476562e-02, -7.95898438e-02,  8.39843750e-02,\n",
            "        1.19628906e-01, -2.08740234e-02,  4.37011719e-02, -3.36914062e-02,\n",
            "        3.58886719e-02,  1.34765625e-01,  2.19726562e-02, -9.57031250e-02,\n",
            "        4.63867188e-02,  1.64062500e-01,  7.95898438e-02,  6.73828125e-02,\n",
            "       -8.34960938e-02,  4.49218750e-02,  1.43554688e-01,  2.51953125e-01,\n",
            "        1.70898438e-01,  1.14257812e-01,  1.24511719e-01,  8.15429688e-02,\n",
            "       -1.28906250e-01, -1.25000000e-01,  1.39770508e-02, -5.07812500e-02,\n",
            "        7.22656250e-02,  1.95312500e-02, -9.47265625e-02, -4.66308594e-02,\n",
            "       -1.66015625e-01, -9.57031250e-02,  2.55126953e-02,  5.11169434e-04,\n",
            "        1.03027344e-01, -1.19140625e-01,  9.47265625e-02, -7.47070312e-02,\n",
            "        4.39453125e-02, -1.41601562e-01, -8.93554688e-02,  1.28906250e-01,\n",
            "        1.16210938e-01, -1.83593750e-01, -3.12500000e-02,  2.55859375e-01,\n",
            "        2.44140625e-02, -1.49414062e-01,  5.66406250e-02, -1.47460938e-01,\n",
            "        8.78906250e-02,  7.51953125e-02,  1.57928467e-03,  1.70898438e-01,\n",
            "       -4.56542969e-02,  1.34887695e-02,  5.05371094e-02,  7.56835938e-02,\n",
            "       -1.68945312e-01, -5.43212891e-03,  1.81884766e-02, -3.27148438e-02,\n",
            "        3.22265625e-02,  7.22656250e-02, -9.39941406e-03,  8.88671875e-02,\n",
            "       -7.27539062e-02,  1.40625000e-01,  5.82885742e-03, -1.30859375e-01,\n",
            "        3.16406250e-01,  6.06536865e-04,  8.15429688e-02,  5.15136719e-02,\n",
            "        1.16210938e-01,  2.04101562e-01,  1.03515625e-01,  1.96289062e-01,\n",
            "        1.90429688e-02,  1.02539062e-02, -1.06445312e-01,  2.16064453e-02,\n",
            "       -9.57031250e-02, -7.08007812e-02, -4.27246094e-02,  1.05957031e-01,\n",
            "        1.33789062e-01,  5.81054688e-02, -6.44531250e-02,  2.63671875e-01,\n",
            "       -1.26953125e-01,  4.91333008e-03, -1.25976562e-01, -3.39355469e-02,\n",
            "        5.05371094e-02,  6.12792969e-02, -1.44653320e-02,  8.44726562e-02,\n",
            "       -5.37109375e-02, -2.68554688e-02, -2.29492188e-01,  5.24902344e-02,\n",
            "       -1.89208984e-02,  1.44531250e-01, -1.17675781e-01, -6.22558594e-02,\n",
            "       -6.59179688e-02, -1.40625000e-01, -2.03125000e-01, -1.76757812e-01,\n",
            "       -2.83203125e-02,  2.22656250e-01, -1.00097656e-01,  2.83203125e-01,\n",
            "        9.27734375e-03, -3.58886719e-02,  9.22851562e-02, -2.21252441e-04,\n",
            "        7.61718750e-02,  6.92749023e-03, -2.15820312e-01, -1.07421875e-01,\n",
            "       -7.99560547e-03,  7.50732422e-03,  4.54101562e-02, -4.49218750e-02,\n",
            "        1.56250000e-02, -2.07031250e-01, -5.34667969e-02, -1.89208984e-02,\n",
            "        6.00585938e-02, -2.29492188e-02,  4.02832031e-02,  6.98852539e-03,\n",
            "       -2.24609375e-01,  3.78417969e-02,  3.41796875e-02, -5.59082031e-02,\n",
            "        1.40190125e-04, -1.25000000e-01, -6.05468750e-02, -1.25976562e-01,\n",
            "       -2.33154297e-02,  1.95312500e-01, -1.90429688e-01, -4.85839844e-02,\n",
            "       -4.98046875e-02, -8.20312500e-02,  1.26953125e-01, -2.28271484e-02]))\n",
            "(1, array([0., 0., 0., 0., 0., 0., 0., 0., 0., 0., 0., 0., 0., 0., 0., 0., 0.,\n",
            "       0., 0., 0., 0., 0., 0., 0., 0., 0., 0., 0., 0., 0., 0., 0., 0., 0.,\n",
            "       0., 0., 0., 0., 0., 0., 0., 0., 0., 0., 0., 0., 0., 0., 0., 0., 0.,\n",
            "       0., 0., 0., 0., 0., 0., 0., 0., 0., 0., 0., 0., 0., 0., 0., 0., 0.,\n",
            "       0., 0., 0., 0., 0., 0., 0., 0., 0., 0., 0., 0., 0., 0., 0., 0., 0.,\n",
            "       0., 0., 0., 0., 0., 0., 0., 0., 0., 0., 0., 0., 0., 0., 0., 0., 0.,\n",
            "       0., 0., 0., 0., 0., 0., 0., 0., 0., 0., 0., 0., 0., 0., 0., 0., 0.,\n",
            "       0., 0., 0., 0., 0., 0., 0., 0., 0., 0., 0., 0., 0., 0., 0., 0., 0.,\n",
            "       0., 0., 0., 0., 0., 0., 0., 0., 0., 0., 0., 0., 0., 0., 0., 0., 0.,\n",
            "       0., 0., 0., 0., 0., 0., 0., 0., 0., 0., 0., 0., 0., 0., 0., 0., 0.,\n",
            "       0., 0., 0., 0., 0., 0., 0., 0., 0., 0., 0., 0., 0., 0., 0., 0., 0.,\n",
            "       0., 0., 0., 0., 0., 0., 0., 0., 0., 0., 0., 0., 0., 0., 0., 0., 0.,\n",
            "       0., 0., 0., 0., 0., 0., 0., 0., 0., 0., 0., 0., 0., 0., 0., 0., 0.,\n",
            "       0., 0., 0., 0., 0., 0., 0., 0., 0., 0., 0., 0., 0., 0., 0., 0., 0.,\n",
            "       0., 0., 0., 0., 0., 0., 0., 0., 0., 0., 0., 0., 0., 0., 0., 0., 0.,\n",
            "       0., 0., 0., 0., 0., 0., 0., 0., 0., 0., 0., 0., 0., 0., 0., 0., 0.,\n",
            "       0., 0., 0., 0., 0., 0., 0., 0., 0., 0., 0., 0., 0., 0., 0., 0., 0.,\n",
            "       0., 0., 0., 0., 0., 0., 0., 0., 0., 0., 0.]))\n"
          ]
        }
      ]
    },
    {
      "cell_type": "markdown",
      "source": [
        "## Calculate Bias"
      ],
      "metadata": {
        "id": "1YwrCdQM6z-8"
      }
    },
    {
      "cell_type": "code",
      "source": [
        "def calculate_bias(male_vector, female_vector, document_vector, distance_function=paired_euclidean_distances):\n",
        "    \"\"\"\n",
        "    Calculate the bias in document vectors towards male or female vectors.\n",
        "\n",
        "    This function computes the distance between a document vector and\n",
        "    both female and male vectors using either euclidean distance or cosine similarity.\n",
        "    It returns the difference in distances, which can be interpreted as a bias measure\n",
        "    towards one of the genders.\n",
        "\n",
        "    Parameters:\n",
        "    - male_vector (numpy.ndarray): A vector representing male attributes.\n",
        "    - female_vector (numpy.ndarray): A vector representing female attributes.\n",
        "    - document_vector (numpy.ndarray): A vector representing a document.\n",
        "    - measure (str): The type of distance measure to use ('euclidean' or 'cosine').\n",
        "\n",
        "    Returns:\n",
        "    - float: The difference in distances between the document vector\n",
        "             and the female and male vectors, indicating gender bias.\n",
        "    \"\"\"\n",
        "\n",
        "    # Reshape vectors to 2D arrays to fit the input requirement of distance functions\n",
        "    female_vector = female_vector.reshape(1, -1)\n",
        "    male_vector = male_vector.reshape(1, -1)\n",
        "    document_vector = document_vector.reshape(1, -1)\n",
        "\n",
        "    # Calculate distance between document and gender vectors\n",
        "    female_document_distance = distance_function(female_vector, document_vector)\n",
        "    male_document_distance = distance_function(male_vector, document_vector)\n",
        "\n",
        "    # Return the difference in distances as a measure of bias\n",
        "    return float(female_document_distance - male_document_distance)"
      ],
      "metadata": {
        "id": "4ngvnMy1x859"
      },
      "execution_count": 113,
      "outputs": []
    },
    {
      "cell_type": "markdown",
      "source": [
        "The advantage of using cosine similarity is that the distance between vectors is normalized. However, because the number of male and female nouns in the HolisticBias dataset is similar, it may not be necessary to use a normalized measure, particularly if computational efficiency is compromised. Garg et al. (2018) use Euclidean distance."
      ],
      "metadata": {
        "id": "6taARcNRSB4G"
      }
    },
    {
      "cell_type": "code",
      "source": [
        "gender_word2vec = get_word2vec_vector(gender_matrix_count, features_count, embeddings_count)\n",
        "_, female_vector = next(gender_word2vec)\n",
        "_, male_vector = next(gender_word2vec)\n",
        "_, neutral_vector = next(gender_word2vec)\n",
        "\n",
        "document_word2vec = get_word2vec_vector(matrix_count, features_count, embeddings_count)\n",
        "_, document_a = next(document_word2vec)\n",
        "_, document_b = next(document_word2vec)\n",
        "_, document_c = next(document_word2vec)\n",
        "_, document_d = next(document_word2vec)\n",
        "_, document_e = next(document_word2vec)\n",
        "\n",
        "print(calculate_bias(female_vector, male_vector, document_a))\n",
        "print(calculate_bias(female_vector, male_vector, document_b))\n",
        "print(calculate_bias(female_vector, male_vector, document_c))\n",
        "print(calculate_bias(female_vector, male_vector, document_d))\n",
        "print(calculate_bias(female_vector, male_vector, document_e))"
      ],
      "metadata": {
        "id": "lA4WrkpxyO3F",
        "colab": {
          "base_uri": "https://localhost:8080/"
        },
        "outputId": "7005bc58-2bbb-46b2-8472-a26b1f5fca84"
      },
      "execution_count": 114,
      "outputs": [
        {
          "output_type": "stream",
          "name": "stdout",
          "text": [
            "0.25467810140167524\n",
            "0.2830669711904008\n",
            "0.2830669711904008\n",
            "0.05021823766561173\n",
            "0.2830669711904008\n"
          ]
        }
      ]
    },
    {
      "cell_type": "markdown",
      "source": [
        "## References"
      ],
      "metadata": {
        "id": "qwJlYdpQt6W4"
      }
    },
    {
      "cell_type": "markdown",
      "source": [
        "\"Please annotate the following code and convert it into PEP 8.\" OpenAI. (2023). ChatGPT (Jan 30 version) [Large language model]. https://chat.openai.com/chat\n",
        "\n",
        "Garg, N., Schiebinger, L., Jurafsky, D., & Zou, J. (2018). Word embeddings quantify 100 years of gender and ethnic stereotypes. PNAS, 115(16). https://doi.org/10.1073/pnas.1720347115"
      ],
      "metadata": {
        "id": "8ypPx8TAt9Bb"
      }
    },
    {
      "cell_type": "code",
      "source": [],
      "metadata": {
        "id": "sp25CNaLuXv8"
      },
      "execution_count": null,
      "outputs": []
    }
  ]
}