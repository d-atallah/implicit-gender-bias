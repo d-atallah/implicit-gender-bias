{
  "nbformat": 4,
  "nbformat_minor": 0,
  "metadata": {
    "colab": {
      "provenance": [],
      "toc_visible": true,
      "mount_file_id": "1mKmcvu3PjHePkcpGBzVO_EycLYGrtp72",
      "authorship_tag": "ABX9TyPCJajog7VQvePmeCNs+Ahn",
      "include_colab_link": true
    },
    "kernelspec": {
      "name": "python3",
      "display_name": "Python 3"
    },
    "language_info": {
      "name": "python"
    }
  },
  "cells": [
    {
      "cell_type": "markdown",
      "metadata": {
        "id": "view-in-github",
        "colab_type": "text"
      },
      "source": [
        "<a href=\"https://colab.research.google.com/github/d-atallah/implicit_gender_bias/blob/main/jaymefis.ipynb\" target=\"_parent\"><img src=\"https://colab.research.google.com/assets/colab-badge.svg\" alt=\"Open In Colab\"/></a>"
      ]
    },
    {
      "cell_type": "markdown",
      "source": [
        "## Import Packages"
      ],
      "metadata": {
        "id": "HdZ_5XrPqmQY"
      }
    },
    {
      "cell_type": "code",
      "source": [
        "import gensim.downloader as api\n",
        "from gensim.matutils import cossim\n",
        "from gensim.models import KeyedVectors\n",
        "from sklearn.feature_extraction import text\n",
        "from sklearn.feature_extraction.text import CountVectorizer, TfidfVectorizer\n",
        "from sklearn.metrics.pairwise import cosine_similarity\n",
        "import numpy as np\n",
        "import pandas as pd"
      ],
      "metadata": {
        "id": "X_XUVVjAqVnr"
      },
      "execution_count": 1,
      "outputs": []
    },
    {
      "cell_type": "markdown",
      "source": [
        "## Load Files"
      ],
      "metadata": {
        "id": "Rhg5Ahbtur0-"
      }
    },
    {
      "cell_type": "markdown",
      "source": [
        "**Annotations** contains crowdsourced annotations for response sentiment and relevance on source-response pairs obtained as described in the paper *RtGender: A Corpus for Studying Differential Responses to Gender* by Rob Voigt, David Jurgens, Vinodkumar Prabhakaran, Dan Jurafsky and Yulia Tsvetkov. Documentation is available [here](https://nlp.stanford.edu/robvoigt/rtgender/)."
      ],
      "metadata": {
        "id": "l2mkLVP-yEru"
      }
    },
    {
      "cell_type": "code",
      "execution_count": 10,
      "metadata": {
        "id": "SiPkHb2LpCD6"
      },
      "outputs": [],
      "source": [
        "file_path_annotations = '/content/drive/MyDrive/SIADS 696: Milestone II/Project/Data/RtGender/annotations.csv'\n",
        "file_path_googlenews = '/content/drive/MyDrive/SIADS 696: Milestone II/Project/Data/RtGender/word2vec-google-news-300.model'"
      ]
    },
    {
      "cell_type": "code",
      "source": [
        "dataframe_annotations = pd.read_csv(file_path_annotations)\n",
        "dataframe_annotations.head()"
      ],
      "metadata": {
        "colab": {
          "base_uri": "https://localhost:8080/",
          "height": 206
        },
        "id": "mHwOUogHqYrc",
        "outputId": "4cc6928b-4f2e-4d58-ea79-671d25bf64fd"
      },
      "execution_count": 53,
      "outputs": [
        {
          "output_type": "execute_result",
          "data": {
            "text/plain": [
              "          source op_gender                                          post_text  \\\n",
              "0  facebook_wiki         W  Stopped by Fashion Week and got to hang with A...   \n",
              "1  facebook_wiki         M  Well guys, real progress is happening. I'm 50 ...   \n",
              "2  facebook_wiki         W  Tonight is going to be a good night #PerfectMo...   \n",
              "3  facebook_wiki         M  I know grandma Gilmore is real proud of you ht...   \n",
              "4  facebook_wiki         W  #NEWS to KNOW this AM - Mayor Emanuel will mak...   \n",
              "\n",
              "                                       response_text sentiment   relevance  \n",
              "0  You are Both Sweet Ashley Tisdale and Lauren C...  Positive      Poster  \n",
              "1          Give us the first page to read. ONE PAGE.     Mixed     Content  \n",
              "2             this is my city was there 2 weeks a go   Neutral     Content  \n",
              "3                      if grizzly Adams had a beard.   Neutral     Content  \n",
              "4  Good morning Lourdes, have a great day! Great ...  Positive  Irrelevant  "
            ],
            "text/html": [
              "\n",
              "  <div id=\"df-794780bd-9130-477f-a172-00a3f3aede0a\" class=\"colab-df-container\">\n",
              "    <div>\n",
              "<style scoped>\n",
              "    .dataframe tbody tr th:only-of-type {\n",
              "        vertical-align: middle;\n",
              "    }\n",
              "\n",
              "    .dataframe tbody tr th {\n",
              "        vertical-align: top;\n",
              "    }\n",
              "\n",
              "    .dataframe thead th {\n",
              "        text-align: right;\n",
              "    }\n",
              "</style>\n",
              "<table border=\"1\" class=\"dataframe\">\n",
              "  <thead>\n",
              "    <tr style=\"text-align: right;\">\n",
              "      <th></th>\n",
              "      <th>source</th>\n",
              "      <th>op_gender</th>\n",
              "      <th>post_text</th>\n",
              "      <th>response_text</th>\n",
              "      <th>sentiment</th>\n",
              "      <th>relevance</th>\n",
              "    </tr>\n",
              "  </thead>\n",
              "  <tbody>\n",
              "    <tr>\n",
              "      <th>0</th>\n",
              "      <td>facebook_wiki</td>\n",
              "      <td>W</td>\n",
              "      <td>Stopped by Fashion Week and got to hang with A...</td>\n",
              "      <td>You are Both Sweet Ashley Tisdale and Lauren C...</td>\n",
              "      <td>Positive</td>\n",
              "      <td>Poster</td>\n",
              "    </tr>\n",
              "    <tr>\n",
              "      <th>1</th>\n",
              "      <td>facebook_wiki</td>\n",
              "      <td>M</td>\n",
              "      <td>Well guys, real progress is happening. I'm 50 ...</td>\n",
              "      <td>Give us the first page to read. ONE PAGE.</td>\n",
              "      <td>Mixed</td>\n",
              "      <td>Content</td>\n",
              "    </tr>\n",
              "    <tr>\n",
              "      <th>2</th>\n",
              "      <td>facebook_wiki</td>\n",
              "      <td>W</td>\n",
              "      <td>Tonight is going to be a good night #PerfectMo...</td>\n",
              "      <td>this is my city was there 2 weeks a go</td>\n",
              "      <td>Neutral</td>\n",
              "      <td>Content</td>\n",
              "    </tr>\n",
              "    <tr>\n",
              "      <th>3</th>\n",
              "      <td>facebook_wiki</td>\n",
              "      <td>M</td>\n",
              "      <td>I know grandma Gilmore is real proud of you ht...</td>\n",
              "      <td>if grizzly Adams had a beard.</td>\n",
              "      <td>Neutral</td>\n",
              "      <td>Content</td>\n",
              "    </tr>\n",
              "    <tr>\n",
              "      <th>4</th>\n",
              "      <td>facebook_wiki</td>\n",
              "      <td>W</td>\n",
              "      <td>#NEWS to KNOW this AM - Mayor Emanuel will mak...</td>\n",
              "      <td>Good morning Lourdes, have a great day! Great ...</td>\n",
              "      <td>Positive</td>\n",
              "      <td>Irrelevant</td>\n",
              "    </tr>\n",
              "  </tbody>\n",
              "</table>\n",
              "</div>\n",
              "    <div class=\"colab-df-buttons\">\n",
              "\n",
              "  <div class=\"colab-df-container\">\n",
              "    <button class=\"colab-df-convert\" onclick=\"convertToInteractive('df-794780bd-9130-477f-a172-00a3f3aede0a')\"\n",
              "            title=\"Convert this dataframe to an interactive table.\"\n",
              "            style=\"display:none;\">\n",
              "\n",
              "  <svg xmlns=\"http://www.w3.org/2000/svg\" height=\"24px\" viewBox=\"0 -960 960 960\">\n",
              "    <path d=\"M120-120v-720h720v720H120Zm60-500h600v-160H180v160Zm220 220h160v-160H400v160Zm0 220h160v-160H400v160ZM180-400h160v-160H180v160Zm440 0h160v-160H620v160ZM180-180h160v-160H180v160Zm440 0h160v-160H620v160Z\"/>\n",
              "  </svg>\n",
              "    </button>\n",
              "\n",
              "  <style>\n",
              "    .colab-df-container {\n",
              "      display:flex;\n",
              "      gap: 12px;\n",
              "    }\n",
              "\n",
              "    .colab-df-convert {\n",
              "      background-color: #E8F0FE;\n",
              "      border: none;\n",
              "      border-radius: 50%;\n",
              "      cursor: pointer;\n",
              "      display: none;\n",
              "      fill: #1967D2;\n",
              "      height: 32px;\n",
              "      padding: 0 0 0 0;\n",
              "      width: 32px;\n",
              "    }\n",
              "\n",
              "    .colab-df-convert:hover {\n",
              "      background-color: #E2EBFA;\n",
              "      box-shadow: 0px 1px 2px rgba(60, 64, 67, 0.3), 0px 1px 3px 1px rgba(60, 64, 67, 0.15);\n",
              "      fill: #174EA6;\n",
              "    }\n",
              "\n",
              "    .colab-df-buttons div {\n",
              "      margin-bottom: 4px;\n",
              "    }\n",
              "\n",
              "    [theme=dark] .colab-df-convert {\n",
              "      background-color: #3B4455;\n",
              "      fill: #D2E3FC;\n",
              "    }\n",
              "\n",
              "    [theme=dark] .colab-df-convert:hover {\n",
              "      background-color: #434B5C;\n",
              "      box-shadow: 0px 1px 3px 1px rgba(0, 0, 0, 0.15);\n",
              "      filter: drop-shadow(0px 1px 2px rgba(0, 0, 0, 0.3));\n",
              "      fill: #FFFFFF;\n",
              "    }\n",
              "  </style>\n",
              "\n",
              "    <script>\n",
              "      const buttonEl =\n",
              "        document.querySelector('#df-794780bd-9130-477f-a172-00a3f3aede0a button.colab-df-convert');\n",
              "      buttonEl.style.display =\n",
              "        google.colab.kernel.accessAllowed ? 'block' : 'none';\n",
              "\n",
              "      async function convertToInteractive(key) {\n",
              "        const element = document.querySelector('#df-794780bd-9130-477f-a172-00a3f3aede0a');\n",
              "        const dataTable =\n",
              "          await google.colab.kernel.invokeFunction('convertToInteractive',\n",
              "                                                    [key], {});\n",
              "        if (!dataTable) return;\n",
              "\n",
              "        const docLinkHtml = 'Like what you see? Visit the ' +\n",
              "          '<a target=\"_blank\" href=https://colab.research.google.com/notebooks/data_table.ipynb>data table notebook</a>'\n",
              "          + ' to learn more about interactive tables.';\n",
              "        element.innerHTML = '';\n",
              "        dataTable['output_type'] = 'display_data';\n",
              "        await google.colab.output.renderOutput(dataTable, element);\n",
              "        const docLink = document.createElement('div');\n",
              "        docLink.innerHTML = docLinkHtml;\n",
              "        element.appendChild(docLink);\n",
              "      }\n",
              "    </script>\n",
              "  </div>\n",
              "\n",
              "\n",
              "<div id=\"df-36d2351a-4abc-4daf-ba24-1f8c2eab7bfd\">\n",
              "  <button class=\"colab-df-quickchart\" onclick=\"quickchart('df-36d2351a-4abc-4daf-ba24-1f8c2eab7bfd')\"\n",
              "            title=\"Suggest charts\"\n",
              "            style=\"display:none;\">\n",
              "\n",
              "<svg xmlns=\"http://www.w3.org/2000/svg\" height=\"24px\"viewBox=\"0 0 24 24\"\n",
              "     width=\"24px\">\n",
              "    <g>\n",
              "        <path d=\"M19 3H5c-1.1 0-2 .9-2 2v14c0 1.1.9 2 2 2h14c1.1 0 2-.9 2-2V5c0-1.1-.9-2-2-2zM9 17H7v-7h2v7zm4 0h-2V7h2v10zm4 0h-2v-4h2v4z\"/>\n",
              "    </g>\n",
              "</svg>\n",
              "  </button>\n",
              "\n",
              "<style>\n",
              "  .colab-df-quickchart {\n",
              "      --bg-color: #E8F0FE;\n",
              "      --fill-color: #1967D2;\n",
              "      --hover-bg-color: #E2EBFA;\n",
              "      --hover-fill-color: #174EA6;\n",
              "      --disabled-fill-color: #AAA;\n",
              "      --disabled-bg-color: #DDD;\n",
              "  }\n",
              "\n",
              "  [theme=dark] .colab-df-quickchart {\n",
              "      --bg-color: #3B4455;\n",
              "      --fill-color: #D2E3FC;\n",
              "      --hover-bg-color: #434B5C;\n",
              "      --hover-fill-color: #FFFFFF;\n",
              "      --disabled-bg-color: #3B4455;\n",
              "      --disabled-fill-color: #666;\n",
              "  }\n",
              "\n",
              "  .colab-df-quickchart {\n",
              "    background-color: var(--bg-color);\n",
              "    border: none;\n",
              "    border-radius: 50%;\n",
              "    cursor: pointer;\n",
              "    display: none;\n",
              "    fill: var(--fill-color);\n",
              "    height: 32px;\n",
              "    padding: 0;\n",
              "    width: 32px;\n",
              "  }\n",
              "\n",
              "  .colab-df-quickchart:hover {\n",
              "    background-color: var(--hover-bg-color);\n",
              "    box-shadow: 0 1px 2px rgba(60, 64, 67, 0.3), 0 1px 3px 1px rgba(60, 64, 67, 0.15);\n",
              "    fill: var(--button-hover-fill-color);\n",
              "  }\n",
              "\n",
              "  .colab-df-quickchart-complete:disabled,\n",
              "  .colab-df-quickchart-complete:disabled:hover {\n",
              "    background-color: var(--disabled-bg-color);\n",
              "    fill: var(--disabled-fill-color);\n",
              "    box-shadow: none;\n",
              "  }\n",
              "\n",
              "  .colab-df-spinner {\n",
              "    border: 2px solid var(--fill-color);\n",
              "    border-color: transparent;\n",
              "    border-bottom-color: var(--fill-color);\n",
              "    animation:\n",
              "      spin 1s steps(1) infinite;\n",
              "  }\n",
              "\n",
              "  @keyframes spin {\n",
              "    0% {\n",
              "      border-color: transparent;\n",
              "      border-bottom-color: var(--fill-color);\n",
              "      border-left-color: var(--fill-color);\n",
              "    }\n",
              "    20% {\n",
              "      border-color: transparent;\n",
              "      border-left-color: var(--fill-color);\n",
              "      border-top-color: var(--fill-color);\n",
              "    }\n",
              "    30% {\n",
              "      border-color: transparent;\n",
              "      border-left-color: var(--fill-color);\n",
              "      border-top-color: var(--fill-color);\n",
              "      border-right-color: var(--fill-color);\n",
              "    }\n",
              "    40% {\n",
              "      border-color: transparent;\n",
              "      border-right-color: var(--fill-color);\n",
              "      border-top-color: var(--fill-color);\n",
              "    }\n",
              "    60% {\n",
              "      border-color: transparent;\n",
              "      border-right-color: var(--fill-color);\n",
              "    }\n",
              "    80% {\n",
              "      border-color: transparent;\n",
              "      border-right-color: var(--fill-color);\n",
              "      border-bottom-color: var(--fill-color);\n",
              "    }\n",
              "    90% {\n",
              "      border-color: transparent;\n",
              "      border-bottom-color: var(--fill-color);\n",
              "    }\n",
              "  }\n",
              "</style>\n",
              "\n",
              "  <script>\n",
              "    async function quickchart(key) {\n",
              "      const quickchartButtonEl =\n",
              "        document.querySelector('#' + key + ' button');\n",
              "      quickchartButtonEl.disabled = true;  // To prevent multiple clicks.\n",
              "      quickchartButtonEl.classList.add('colab-df-spinner');\n",
              "      try {\n",
              "        const charts = await google.colab.kernel.invokeFunction(\n",
              "            'suggestCharts', [key], {});\n",
              "      } catch (error) {\n",
              "        console.error('Error during call to suggestCharts:', error);\n",
              "      }\n",
              "      quickchartButtonEl.classList.remove('colab-df-spinner');\n",
              "      quickchartButtonEl.classList.add('colab-df-quickchart-complete');\n",
              "    }\n",
              "    (() => {\n",
              "      let quickchartButtonEl =\n",
              "        document.querySelector('#df-36d2351a-4abc-4daf-ba24-1f8c2eab7bfd button');\n",
              "      quickchartButtonEl.style.display =\n",
              "        google.colab.kernel.accessAllowed ? 'block' : 'none';\n",
              "    })();\n",
              "  </script>\n",
              "</div>\n",
              "    </div>\n",
              "  </div>\n"
            ]
          },
          "metadata": {},
          "execution_count": 53
        }
      ]
    },
    {
      "cell_type": "markdown",
      "source": [
        "**Google News** contains a pre-trained Word2Vec model based on the Google News dataset, covering approximately 3 million words and phrases. Documentation is available [here](https://code.google.com/archive/p/word2vec/) and [here](https://radimrehurek.com/gensim/auto_examples/tutorials/run_word2vec.html#sphx-glr-auto-examples-tutorials-run-word2vec-py)."
      ],
      "metadata": {
        "id": "1YrIecdkyyRD"
      }
    },
    {
      "cell_type": "code",
      "source": [
        "# model_googlenews = api.load('word2vec-google-news-300')\n",
        "# model_googlenews.save(file_path_googlenews)"
      ],
      "metadata": {
        "colab": {
          "base_uri": "https://localhost:8080/"
        },
        "id": "_IBOtw0GqfKM",
        "outputId": "ade029e1-22d0-47f2-e0a3-299db3bfd60a"
      },
      "execution_count": 8,
      "outputs": [
        {
          "output_type": "stream",
          "name": "stdout",
          "text": [
            "[==================================================] 100.0% 1662.8/1662.8MB downloaded\n"
          ]
        }
      ]
    },
    {
      "cell_type": "code",
      "source": [
        "model_googlenews.save(file_path_googlenews)"
      ],
      "metadata": {
        "id": "9q7qq3FFqw4Y"
      },
      "execution_count": 11,
      "outputs": []
    },
    {
      "cell_type": "code",
      "source": [
        "model_googlenews = KeyedVectors.load(file_path_googlenews, mmap='r')"
      ],
      "metadata": {
        "id": "LqIoeW1kvoLa"
      },
      "execution_count": 12,
      "outputs": []
    },
    {
      "cell_type": "code",
      "source": [
        "for index, word in enumerate(model_googlenews.index_to_key):\n",
        "    if index == 10:\n",
        "        break\n",
        "    print(f\"word #{index}/{len(model_googlenews.index_to_key)} is {word}\")"
      ],
      "metadata": {
        "colab": {
          "base_uri": "https://localhost:8080/"
        },
        "id": "DGZQirCMx8gm",
        "outputId": "5563be76-a45c-4673-d8db-eac240e6ea40"
      },
      "execution_count": 13,
      "outputs": [
        {
          "output_type": "stream",
          "name": "stdout",
          "text": [
            "word #0/3000000 is </s>\n",
            "word #1/3000000 is in\n",
            "word #2/3000000 is for\n",
            "word #3/3000000 is that\n",
            "word #4/3000000 is is\n",
            "word #5/3000000 is on\n",
            "word #6/3000000 is ##\n",
            "word #7/3000000 is The\n",
            "word #8/3000000 is with\n",
            "word #9/3000000 is said\n"
          ]
        }
      ]
    },
    {
      "cell_type": "code",
      "source": [
        "model_googlenews.most_similar('she')"
      ],
      "metadata": {
        "colab": {
          "base_uri": "https://localhost:8080/"
        },
        "id": "SWMkZxjffPGz",
        "outputId": "87814fa3-6201-40fb-8548-d5951249ea01"
      },
      "execution_count": 14,
      "outputs": [
        {
          "output_type": "execute_result",
          "data": {
            "text/plain": [
              "[('her', 0.7834683060646057),\n",
              " ('She', 0.7553189396858215),\n",
              " ('herself', 0.669890820980072),\n",
              " ('hers', 0.6509943008422852),\n",
              " ('he', 0.612994909286499),\n",
              " ('woman', 0.5641393661499023),\n",
              " ('Rivadineira', 0.558593213558197),\n",
              " ('Jana_Bobek', 0.5365386605262756),\n",
              " ('mother', 0.5349627137184143),\n",
              " (\"she'sa\", 0.5337814688682556)]"
            ]
          },
          "metadata": {},
          "execution_count": 14
        }
      ]
    },
    {
      "cell_type": "code",
      "source": [
        "model_googlenews.most_similar('he')"
      ],
      "metadata": {
        "colab": {
          "base_uri": "https://localhost:8080/"
        },
        "id": "4kUoxd0bs48A",
        "outputId": "d417aba6-eacd-4330-802c-1c78e404a04a"
      },
      "execution_count": 15,
      "outputs": [
        {
          "output_type": "execute_result",
          "data": {
            "text/plain": [
              "[('He', 0.6712614297866821),\n",
              " ('him', 0.6681135892868042),\n",
              " ('his', 0.6201768517494202),\n",
              " ('she', 0.612994909286499),\n",
              " ('himself', 0.588027834892273),\n",
              " ('nobody', 0.5637064576148987),\n",
              " ('I', 0.555713951587677),\n",
              " ('it', 0.5354882478713989),\n",
              " ('never', 0.5239652395248413),\n",
              " ('somebody', 0.5205153822898865)]"
            ]
          },
          "metadata": {},
          "execution_count": 15
        }
      ]
    },
    {
      "cell_type": "markdown",
      "source": [
        "Nouns from v1.1 of the **HolisticBias** dataset, a project of the Responsible Natural Language Processing team at Facebook Research. The dataset is described in the paper **\"I'm sorry to hear that\": Finding New Biases in Language Models with a Holistic Descriptor Dataset** by Eric Michael Smith, Melissa Hall, Melanie Kambadur, Eleonora Presani, and Adina Williams. Documentation is available [here](https://github.com/facebookresearch/ResponsibleNLP/tree/main/holistic_bias/dataset/v1.1)."
      ],
      "metadata": {
        "id": "1MmO8nO-j80x"
      }
    },
    {
      "cell_type": "code",
      "source": [
        "nouns = {\n",
        "    \"female\": [\n",
        "        [\"woman\", \"women\"],\n",
        "        [\"lady\", \"ladies\"],\n",
        "        [\"gal\", \"gals\"],\n",
        "        [\"girl\", \"girls\"],\n",
        "        [\"mother\", \"mothers\"],\n",
        "        [\"mom\", \"moms\"],\n",
        "        [\"daughter\", \"daughters\"],\n",
        "        [\"wife\", \"wives\"],\n",
        "        [\"grandmother\", \"grandmothers\"],\n",
        "        [\"grandma\", \"grandmas\"],\n",
        "        [\"sister\", \"sisters\"],\n",
        "        [\"sista\", \"sistas\"]\n",
        "    ],\n",
        "    \"male\": [\n",
        "        [\"man\", \"men\"],\n",
        "        [\"bro\", \"bros\"],\n",
        "        [\"guy\", \"guys\"],\n",
        "        [\"boy\", \"boys\"],\n",
        "        [\"father\", \"fathers\"],\n",
        "        [\"dad\", \"dads\"],\n",
        "        [\"son\", \"sons\"],\n",
        "        [\"husband\", \"husbands\"],\n",
        "        [\"grandfather\", \"grandfathers\"],\n",
        "        [\"grandpa\", \"grandpas\"],\n",
        "        [\"brother\", \"brothers\"]\n",
        "    ],\n",
        "    \"neutral\": [\n",
        "        [\"individual\", \"individuals\"],\n",
        "        [\"person\", \"people\"],\n",
        "        [\"kid\", \"kids\"],\n",
        "        [\"parent\", \"parents\"],\n",
        "        [\"child\", \"children\"],\n",
        "        [\"spouse\", \"spouses\"],\n",
        "        [\"grandparent\", \"grandparents\"],\n",
        "        [\"sibling\", \"siblings\"],\n",
        "        [\"veteran\", \"veterans\"]\n",
        "    ]\n",
        "}"
      ],
      "metadata": {
        "id": "soWNx2qYj7NL"
      },
      "execution_count": 16,
      "outputs": []
    },
    {
      "cell_type": "code",
      "source": [
        "data_holisticbias = [[gender, ' '.join([word for pair in words_list for word in pair])] for gender, words_list in nouns.items()]\n",
        "dataframe_holisticbias = pd.DataFrame(data_holisticbias, columns=['gender', 'text'])\n",
        "dataframe_holisticbias"
      ],
      "metadata": {
        "colab": {
          "base_uri": "https://localhost:8080/",
          "height": 143
        },
        "id": "LVEyAlwGoG-B",
        "outputId": "ed13a401-8cfc-4f50-ed6a-bdb1373aed3d"
      },
      "execution_count": 17,
      "outputs": [
        {
          "output_type": "execute_result",
          "data": {
            "text/plain": [
              "    gender                                               text\n",
              "0   female  woman women lady ladies gal gals girl girls mo...\n",
              "1     male  man men bro bros guy guys boy boys father fath...\n",
              "2  neutral  individual individuals person people kid kids ..."
            ],
            "text/html": [
              "\n",
              "  <div id=\"df-2f53617d-7507-4124-b1a2-a876f42ae9ec\" class=\"colab-df-container\">\n",
              "    <div>\n",
              "<style scoped>\n",
              "    .dataframe tbody tr th:only-of-type {\n",
              "        vertical-align: middle;\n",
              "    }\n",
              "\n",
              "    .dataframe tbody tr th {\n",
              "        vertical-align: top;\n",
              "    }\n",
              "\n",
              "    .dataframe thead th {\n",
              "        text-align: right;\n",
              "    }\n",
              "</style>\n",
              "<table border=\"1\" class=\"dataframe\">\n",
              "  <thead>\n",
              "    <tr style=\"text-align: right;\">\n",
              "      <th></th>\n",
              "      <th>gender</th>\n",
              "      <th>text</th>\n",
              "    </tr>\n",
              "  </thead>\n",
              "  <tbody>\n",
              "    <tr>\n",
              "      <th>0</th>\n",
              "      <td>female</td>\n",
              "      <td>woman women lady ladies gal gals girl girls mo...</td>\n",
              "    </tr>\n",
              "    <tr>\n",
              "      <th>1</th>\n",
              "      <td>male</td>\n",
              "      <td>man men bro bros guy guys boy boys father fath...</td>\n",
              "    </tr>\n",
              "    <tr>\n",
              "      <th>2</th>\n",
              "      <td>neutral</td>\n",
              "      <td>individual individuals person people kid kids ...</td>\n",
              "    </tr>\n",
              "  </tbody>\n",
              "</table>\n",
              "</div>\n",
              "    <div class=\"colab-df-buttons\">\n",
              "\n",
              "  <div class=\"colab-df-container\">\n",
              "    <button class=\"colab-df-convert\" onclick=\"convertToInteractive('df-2f53617d-7507-4124-b1a2-a876f42ae9ec')\"\n",
              "            title=\"Convert this dataframe to an interactive table.\"\n",
              "            style=\"display:none;\">\n",
              "\n",
              "  <svg xmlns=\"http://www.w3.org/2000/svg\" height=\"24px\" viewBox=\"0 -960 960 960\">\n",
              "    <path d=\"M120-120v-720h720v720H120Zm60-500h600v-160H180v160Zm220 220h160v-160H400v160Zm0 220h160v-160H400v160ZM180-400h160v-160H180v160Zm440 0h160v-160H620v160ZM180-180h160v-160H180v160Zm440 0h160v-160H620v160Z\"/>\n",
              "  </svg>\n",
              "    </button>\n",
              "\n",
              "  <style>\n",
              "    .colab-df-container {\n",
              "      display:flex;\n",
              "      gap: 12px;\n",
              "    }\n",
              "\n",
              "    .colab-df-convert {\n",
              "      background-color: #E8F0FE;\n",
              "      border: none;\n",
              "      border-radius: 50%;\n",
              "      cursor: pointer;\n",
              "      display: none;\n",
              "      fill: #1967D2;\n",
              "      height: 32px;\n",
              "      padding: 0 0 0 0;\n",
              "      width: 32px;\n",
              "    }\n",
              "\n",
              "    .colab-df-convert:hover {\n",
              "      background-color: #E2EBFA;\n",
              "      box-shadow: 0px 1px 2px rgba(60, 64, 67, 0.3), 0px 1px 3px 1px rgba(60, 64, 67, 0.15);\n",
              "      fill: #174EA6;\n",
              "    }\n",
              "\n",
              "    .colab-df-buttons div {\n",
              "      margin-bottom: 4px;\n",
              "    }\n",
              "\n",
              "    [theme=dark] .colab-df-convert {\n",
              "      background-color: #3B4455;\n",
              "      fill: #D2E3FC;\n",
              "    }\n",
              "\n",
              "    [theme=dark] .colab-df-convert:hover {\n",
              "      background-color: #434B5C;\n",
              "      box-shadow: 0px 1px 3px 1px rgba(0, 0, 0, 0.15);\n",
              "      filter: drop-shadow(0px 1px 2px rgba(0, 0, 0, 0.3));\n",
              "      fill: #FFFFFF;\n",
              "    }\n",
              "  </style>\n",
              "\n",
              "    <script>\n",
              "      const buttonEl =\n",
              "        document.querySelector('#df-2f53617d-7507-4124-b1a2-a876f42ae9ec button.colab-df-convert');\n",
              "      buttonEl.style.display =\n",
              "        google.colab.kernel.accessAllowed ? 'block' : 'none';\n",
              "\n",
              "      async function convertToInteractive(key) {\n",
              "        const element = document.querySelector('#df-2f53617d-7507-4124-b1a2-a876f42ae9ec');\n",
              "        const dataTable =\n",
              "          await google.colab.kernel.invokeFunction('convertToInteractive',\n",
              "                                                    [key], {});\n",
              "        if (!dataTable) return;\n",
              "\n",
              "        const docLinkHtml = 'Like what you see? Visit the ' +\n",
              "          '<a target=\"_blank\" href=https://colab.research.google.com/notebooks/data_table.ipynb>data table notebook</a>'\n",
              "          + ' to learn more about interactive tables.';\n",
              "        element.innerHTML = '';\n",
              "        dataTable['output_type'] = 'display_data';\n",
              "        await google.colab.output.renderOutput(dataTable, element);\n",
              "        const docLink = document.createElement('div');\n",
              "        docLink.innerHTML = docLinkHtml;\n",
              "        element.appendChild(docLink);\n",
              "      }\n",
              "    </script>\n",
              "  </div>\n",
              "\n",
              "\n",
              "<div id=\"df-565de092-26d8-462f-939d-ce6fdffc5f0d\">\n",
              "  <button class=\"colab-df-quickchart\" onclick=\"quickchart('df-565de092-26d8-462f-939d-ce6fdffc5f0d')\"\n",
              "            title=\"Suggest charts\"\n",
              "            style=\"display:none;\">\n",
              "\n",
              "<svg xmlns=\"http://www.w3.org/2000/svg\" height=\"24px\"viewBox=\"0 0 24 24\"\n",
              "     width=\"24px\">\n",
              "    <g>\n",
              "        <path d=\"M19 3H5c-1.1 0-2 .9-2 2v14c0 1.1.9 2 2 2h14c1.1 0 2-.9 2-2V5c0-1.1-.9-2-2-2zM9 17H7v-7h2v7zm4 0h-2V7h2v10zm4 0h-2v-4h2v4z\"/>\n",
              "    </g>\n",
              "</svg>\n",
              "  </button>\n",
              "\n",
              "<style>\n",
              "  .colab-df-quickchart {\n",
              "      --bg-color: #E8F0FE;\n",
              "      --fill-color: #1967D2;\n",
              "      --hover-bg-color: #E2EBFA;\n",
              "      --hover-fill-color: #174EA6;\n",
              "      --disabled-fill-color: #AAA;\n",
              "      --disabled-bg-color: #DDD;\n",
              "  }\n",
              "\n",
              "  [theme=dark] .colab-df-quickchart {\n",
              "      --bg-color: #3B4455;\n",
              "      --fill-color: #D2E3FC;\n",
              "      --hover-bg-color: #434B5C;\n",
              "      --hover-fill-color: #FFFFFF;\n",
              "      --disabled-bg-color: #3B4455;\n",
              "      --disabled-fill-color: #666;\n",
              "  }\n",
              "\n",
              "  .colab-df-quickchart {\n",
              "    background-color: var(--bg-color);\n",
              "    border: none;\n",
              "    border-radius: 50%;\n",
              "    cursor: pointer;\n",
              "    display: none;\n",
              "    fill: var(--fill-color);\n",
              "    height: 32px;\n",
              "    padding: 0;\n",
              "    width: 32px;\n",
              "  }\n",
              "\n",
              "  .colab-df-quickchart:hover {\n",
              "    background-color: var(--hover-bg-color);\n",
              "    box-shadow: 0 1px 2px rgba(60, 64, 67, 0.3), 0 1px 3px 1px rgba(60, 64, 67, 0.15);\n",
              "    fill: var(--button-hover-fill-color);\n",
              "  }\n",
              "\n",
              "  .colab-df-quickchart-complete:disabled,\n",
              "  .colab-df-quickchart-complete:disabled:hover {\n",
              "    background-color: var(--disabled-bg-color);\n",
              "    fill: var(--disabled-fill-color);\n",
              "    box-shadow: none;\n",
              "  }\n",
              "\n",
              "  .colab-df-spinner {\n",
              "    border: 2px solid var(--fill-color);\n",
              "    border-color: transparent;\n",
              "    border-bottom-color: var(--fill-color);\n",
              "    animation:\n",
              "      spin 1s steps(1) infinite;\n",
              "  }\n",
              "\n",
              "  @keyframes spin {\n",
              "    0% {\n",
              "      border-color: transparent;\n",
              "      border-bottom-color: var(--fill-color);\n",
              "      border-left-color: var(--fill-color);\n",
              "    }\n",
              "    20% {\n",
              "      border-color: transparent;\n",
              "      border-left-color: var(--fill-color);\n",
              "      border-top-color: var(--fill-color);\n",
              "    }\n",
              "    30% {\n",
              "      border-color: transparent;\n",
              "      border-left-color: var(--fill-color);\n",
              "      border-top-color: var(--fill-color);\n",
              "      border-right-color: var(--fill-color);\n",
              "    }\n",
              "    40% {\n",
              "      border-color: transparent;\n",
              "      border-right-color: var(--fill-color);\n",
              "      border-top-color: var(--fill-color);\n",
              "    }\n",
              "    60% {\n",
              "      border-color: transparent;\n",
              "      border-right-color: var(--fill-color);\n",
              "    }\n",
              "    80% {\n",
              "      border-color: transparent;\n",
              "      border-right-color: var(--fill-color);\n",
              "      border-bottom-color: var(--fill-color);\n",
              "    }\n",
              "    90% {\n",
              "      border-color: transparent;\n",
              "      border-bottom-color: var(--fill-color);\n",
              "    }\n",
              "  }\n",
              "</style>\n",
              "\n",
              "  <script>\n",
              "    async function quickchart(key) {\n",
              "      const quickchartButtonEl =\n",
              "        document.querySelector('#' + key + ' button');\n",
              "      quickchartButtonEl.disabled = true;  // To prevent multiple clicks.\n",
              "      quickchartButtonEl.classList.add('colab-df-spinner');\n",
              "      try {\n",
              "        const charts = await google.colab.kernel.invokeFunction(\n",
              "            'suggestCharts', [key], {});\n",
              "      } catch (error) {\n",
              "        console.error('Error during call to suggestCharts:', error);\n",
              "      }\n",
              "      quickchartButtonEl.classList.remove('colab-df-spinner');\n",
              "      quickchartButtonEl.classList.add('colab-df-quickchart-complete');\n",
              "    }\n",
              "    (() => {\n",
              "      let quickchartButtonEl =\n",
              "        document.querySelector('#df-565de092-26d8-462f-939d-ce6fdffc5f0d button');\n",
              "      quickchartButtonEl.style.display =\n",
              "        google.colab.kernel.accessAllowed ? 'block' : 'none';\n",
              "    })();\n",
              "  </script>\n",
              "</div>\n",
              "    </div>\n",
              "  </div>\n"
            ]
          },
          "metadata": {},
          "execution_count": 17
        }
      ]
    },
    {
      "cell_type": "markdown",
      "source": [
        "## Tokenize Text"
      ],
      "metadata": {
        "id": "vj8pQgBK3umW"
      }
    },
    {
      "cell_type": "code",
      "source": [
        "stop_words = text.ENGLISH_STOP_WORDS\n",
        "print(sorted(stop_words))"
      ],
      "metadata": {
        "colab": {
          "base_uri": "https://localhost:8080/"
        },
        "id": "BP_B7ig06_Xd",
        "outputId": "0cbf4774-69e1-4b8c-c5bc-0e65820973a5"
      },
      "execution_count": 18,
      "outputs": [
        {
          "output_type": "stream",
          "name": "stdout",
          "text": [
            "['a', 'about', 'above', 'across', 'after', 'afterwards', 'again', 'against', 'all', 'almost', 'alone', 'along', 'already', 'also', 'although', 'always', 'am', 'among', 'amongst', 'amoungst', 'amount', 'an', 'and', 'another', 'any', 'anyhow', 'anyone', 'anything', 'anyway', 'anywhere', 'are', 'around', 'as', 'at', 'back', 'be', 'became', 'because', 'become', 'becomes', 'becoming', 'been', 'before', 'beforehand', 'behind', 'being', 'below', 'beside', 'besides', 'between', 'beyond', 'bill', 'both', 'bottom', 'but', 'by', 'call', 'can', 'cannot', 'cant', 'co', 'con', 'could', 'couldnt', 'cry', 'de', 'describe', 'detail', 'do', 'done', 'down', 'due', 'during', 'each', 'eg', 'eight', 'either', 'eleven', 'else', 'elsewhere', 'empty', 'enough', 'etc', 'even', 'ever', 'every', 'everyone', 'everything', 'everywhere', 'except', 'few', 'fifteen', 'fifty', 'fill', 'find', 'fire', 'first', 'five', 'for', 'former', 'formerly', 'forty', 'found', 'four', 'from', 'front', 'full', 'further', 'get', 'give', 'go', 'had', 'has', 'hasnt', 'have', 'he', 'hence', 'her', 'here', 'hereafter', 'hereby', 'herein', 'hereupon', 'hers', 'herself', 'him', 'himself', 'his', 'how', 'however', 'hundred', 'i', 'ie', 'if', 'in', 'inc', 'indeed', 'interest', 'into', 'is', 'it', 'its', 'itself', 'keep', 'last', 'latter', 'latterly', 'least', 'less', 'ltd', 'made', 'many', 'may', 'me', 'meanwhile', 'might', 'mill', 'mine', 'more', 'moreover', 'most', 'mostly', 'move', 'much', 'must', 'my', 'myself', 'name', 'namely', 'neither', 'never', 'nevertheless', 'next', 'nine', 'no', 'nobody', 'none', 'noone', 'nor', 'not', 'nothing', 'now', 'nowhere', 'of', 'off', 'often', 'on', 'once', 'one', 'only', 'onto', 'or', 'other', 'others', 'otherwise', 'our', 'ours', 'ourselves', 'out', 'over', 'own', 'part', 'per', 'perhaps', 'please', 'put', 'rather', 're', 'same', 'see', 'seem', 'seemed', 'seeming', 'seems', 'serious', 'several', 'she', 'should', 'show', 'side', 'since', 'sincere', 'six', 'sixty', 'so', 'some', 'somehow', 'someone', 'something', 'sometime', 'sometimes', 'somewhere', 'still', 'such', 'system', 'take', 'ten', 'than', 'that', 'the', 'their', 'them', 'themselves', 'then', 'thence', 'there', 'thereafter', 'thereby', 'therefore', 'therein', 'thereupon', 'these', 'they', 'thick', 'thin', 'third', 'this', 'those', 'though', 'three', 'through', 'throughout', 'thru', 'thus', 'to', 'together', 'too', 'top', 'toward', 'towards', 'twelve', 'twenty', 'two', 'un', 'under', 'until', 'up', 'upon', 'us', 'very', 'via', 'was', 'we', 'well', 'were', 'what', 'whatever', 'when', 'whence', 'whenever', 'where', 'whereafter', 'whereas', 'whereby', 'wherein', 'whereupon', 'wherever', 'whether', 'which', 'while', 'whither', 'who', 'whoever', 'whole', 'whom', 'whose', 'why', 'will', 'with', 'within', 'without', 'would', 'yet', 'you', 'your', 'yours', 'yourself', 'yourselves']\n"
          ]
        }
      ]
    },
    {
      "cell_type": "markdown",
      "source": [
        "Several of the stop words in scikit-learn encode gender, including he, him, his, and himself (male); she, her, hers, herself (female); and potentially they, them, their, and themselves (nonbinary). It might be preferable to retain stop words and set a maximum document frequency."
      ],
      "metadata": {
        "id": "J9reZ9Rn_RSF"
      }
    },
    {
      "cell_type": "code",
      "source": [
        "def tokenize_text(dataframe, label_column, text_column, vectorizer):\n",
        "    \"\"\"\n",
        "    Tokenizes text data in a pandas DataFrame using a specified vectorizer.\n",
        "\n",
        "    Args:\n",
        "    - dataframe (pd.DataFrame): The DataFrame containing the text data.\n",
        "    - label_column (str): The name of the column containing the labels.\n",
        "    - text_column (str): The name of the column containing the text to be tokenized.\n",
        "    - vectorizer (Vectorizer): An instance of a text vectorization class from sklearn.\n",
        "\n",
        "    Returns:\n",
        "    - matrix (sparse matrix): The transformed text data as a matrix.\n",
        "    - labels (pd.Series): The labels associated with the text data.\n",
        "    - features (np.ndarray): The features associated with the text data.\n",
        "    \"\"\"\n",
        "    # Remove rows with missing values in the text column\n",
        "    dataframe = dataframe.dropna(subset=[text_column])\n",
        "\n",
        "    # Initialize and configure the vectorizer\n",
        "    vectorizer = vectorizer(\n",
        "        strip_accents='unicode',\n",
        "        lowercase=False,\n",
        "        stop_words=None,\n",
        "        ngram_range=(1, 1),\n",
        "        min_df=0.01,\n",
        "        max_df=0.99,\n",
        "        max_features=None\n",
        "    )\n",
        "\n",
        "    # Transform the text column into a matrix\n",
        "    matrix = vectorizer.fit_transform(dataframe[text_column])\n",
        "\n",
        "    # Extract the target variable\n",
        "    labels = dataframe[label_column]\n",
        "\n",
        "    # Extract feature names\n",
        "    features = vectorizer.get_feature_names_out()\n",
        "\n",
        "    return matrix, labels, features"
      ],
      "metadata": {
        "id": "xJS1LKzp3wTB"
      },
      "execution_count": 19,
      "outputs": []
    },
    {
      "cell_type": "code",
      "source": [
        "matrix_count, labels_count, features_count = tokenize_text(dataframe_annotations, 'op_gender', 'response_text', CountVectorizer)\n",
        "matrix_tfidf, labels_tfidf, features_tfidf = tokenize_text(dataframe_annotations, 'op_gender', 'response_text', TfidfVectorizer)"
      ],
      "metadata": {
        "id": "RgDSVgjh4nPb"
      },
      "execution_count": 20,
      "outputs": []
    },
    {
      "cell_type": "code",
      "source": [
        "gender_matrix_count, gender_labels_count, gender_features_count = tokenize_text(dataframe_holisticbias, 'gender', 'text', CountVectorizer)\n",
        "gender_matrix_tfidf, gender_labels_tfidf, gender_features_tfidf = tokenize_text(dataframe_holisticbias, 'gender', 'text', TfidfVectorizer)"
      ],
      "metadata": {
        "id": "1wCiMO2Lry1I"
      },
      "execution_count": 21,
      "outputs": []
    },
    {
      "cell_type": "markdown",
      "source": [
        "## Apply Word Embeddings"
      ],
      "metadata": {
        "id": "Cs6XBdS1EIcI"
      }
    },
    {
      "cell_type": "code",
      "source": [
        "def get_word2vec_vector(matrix, features, model, dimensions=300):\n",
        "    \"\"\"\n",
        "    Generate normalized Word2Vec vectors for documents in a given matrix.\n",
        "\n",
        "    Args:\n",
        "    matrix (sparse matrix): A matrix where each row represents a document and each column represents a feature.\n",
        "    features (np.ndarray): An array of words corresponding to the columns in the matrix.\n",
        "    model (Word2Vec KeyedVectors): Pre-trained Word2Vec model.\n",
        "    dimensions (int): Dimensionality of the Word2Vec vectors.\n",
        "\n",
        "    Yields:\n",
        "    np.ndarray: Normalized Word2Vec vector for each document.\n",
        "    \"\"\"\n",
        "    # Get the number of documents in the matrix\n",
        "    num_documents = matrix.shape[0]\n",
        "\n",
        "    # Iterate over each document in the matrix\n",
        "    for i in range(num_documents):\n",
        "        # Initialize the vector for the current document\n",
        "        document_vector = np.zeros(dimensions)\n",
        "        # Initialize the total weight for the current document\n",
        "        document_weight = 0\n",
        "\n",
        "        # Iterate over each word in the features list\n",
        "        for j, word in enumerate(features):\n",
        "            # Check if the word is in the model\n",
        "            if word in model:\n",
        "                # Get the weight of the word in the current document\n",
        "                word_weight = matrix[i, j]\n",
        "                # Get the vector representation of the word and scale it by its weight\n",
        "                word_vector = model[word] * word_weight\n",
        "                # Add the weighted word vector to the document vector\n",
        "                document_vector += word_vector\n",
        "                # Accumulate the total weight of the words in the document\n",
        "                document_weight += word_weight\n",
        "\n",
        "        # Avoid division by zero\n",
        "        document_weight = document_weight if document_weight > 0 else 1\n",
        "\n",
        "        # Yield the normalized document vector\n",
        "        yield i, document_vector / document_weight"
      ],
      "metadata": {
        "id": "5Dp3gB--Eayh"
      },
      "execution_count": 22,
      "outputs": []
    },
    {
      "cell_type": "markdown",
      "source": [
        "## Calculate Bias"
      ],
      "metadata": {
        "id": "1YwrCdQM6z-8"
      }
    },
    {
      "cell_type": "code",
      "source": [
        "def calculate_bias(female_vector, male_vector, document_vector):\n",
        "    \"\"\"\n",
        "    Calculate the bias in document vectors towards male or female vectors.\n",
        "\n",
        "    This function computes the cosine similarity between a document vector and\n",
        "    both female and male vectors. It returns the difference in similarities,\n",
        "    which can be interpreted as a bias measure towards one of the genders.\n",
        "\n",
        "    Parameters:\n",
        "    - female_vector (numpy.ndarray): A vector representing female attributes.\n",
        "    - male_vector (numpy.ndarray): A vector representing male attributes.\n",
        "    - document_vector (numpy.ndarray): A vector representing a document.\n",
        "\n",
        "    Returns:\n",
        "    - numpy.float64: The difference in cosine similarity between the document vector\n",
        "      and the female and male vectors, indicating gender bias.\n",
        "    \"\"\"\n",
        "\n",
        "    # Reshape vectors to 2D arrays to fit the input requirement of cosine_similarity\n",
        "    female_vector = female_vector.reshape(1, -1)\n",
        "    male_vector = male_vector.reshape(1, -1)\n",
        "    document_vector = document_vector.reshape(1, -1)\n",
        "\n",
        "    # Calculate cosine similarity between document and gender vectors\n",
        "    female_document_similarity = cosine_similarity(female_vector, document_vector)\n",
        "    male_document_similarity = cosine_similarity(male_vector, document_vector)\n",
        "\n",
        "    # Return the difference in similarities as a measure of bias\n",
        "    return float(female_document_similarity - male_document_similarity)"
      ],
      "metadata": {
        "id": "4ngvnMy1x859"
      },
      "execution_count": 51,
      "outputs": []
    },
    {
      "cell_type": "code",
      "source": [
        "document_word2vec = get_word2vec_vector(matrix_count, features_count, model_googlenews)\n",
        "_, document_a = next(document_word2vec)\n",
        "_, document_b = next(document_word2vec)\n",
        "_, document_c = next(document_word2vec)\n",
        "_, document_d = next(document_word2vec)\n",
        "_, document_e = next(document_word2vec)\n",
        "\n",
        "gender_word2vec = get_word2vec_vector(gender_matrix_count, gender_features_count, model_googlenews)\n",
        "_, female_vector = next(gender_word2vec)\n",
        "_, male_vector = next(gender_word2vec)\n",
        "\n",
        "print(calculate_bias(female_vector, male_vector, document_a))\n",
        "print(calculate_bias(female_vector, male_vector, document_b))\n",
        "print(calculate_bias(female_vector, male_vector, document_c))\n",
        "print(calculate_bias(female_vector, male_vector, document_d))\n",
        "print(calculate_bias(female_vector, male_vector, document_e))"
      ],
      "metadata": {
        "id": "lA4WrkpxyO3F",
        "colab": {
          "base_uri": "https://localhost:8080/"
        },
        "outputId": "a8cf6d00-bd7b-4cec-868d-6705391d8fe6"
      },
      "execution_count": 54,
      "outputs": [
        {
          "output_type": "stream",
          "name": "stdout",
          "text": [
            "0.0029751859608960485\n",
            "-0.0681305181232365\n",
            "-0.03523238979688181\n",
            "-0.07459810544660508\n",
            "-0.06055485557611273\n"
          ]
        }
      ]
    },
    {
      "cell_type": "markdown",
      "source": [
        "## References"
      ],
      "metadata": {
        "id": "qwJlYdpQt6W4"
      }
    },
    {
      "cell_type": "markdown",
      "source": [
        "\"Please annotate the following code and convert it into PEP 8.\" OpenAI. (2023). ChatGPT (Jan 30 version) [Large language model]. https://chat.openai.com/chat"
      ],
      "metadata": {
        "id": "8ypPx8TAt9Bb"
      }
    },
    {
      "cell_type": "code",
      "source": [],
      "metadata": {
        "id": "sp25CNaLuXv8"
      },
      "execution_count": null,
      "outputs": []
    }
  ]
}