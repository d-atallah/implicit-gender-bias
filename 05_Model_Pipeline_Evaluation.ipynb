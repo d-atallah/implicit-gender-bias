{
  "cells": [
    {
      "cell_type": "markdown",
      "metadata": {
        "id": "view-in-github",
        "colab_type": "text"
      },
      "source": [
        "<a href=\"https://colab.research.google.com/github/d-atallah/implicit_gender_bias/blob/main/05_Model_Pipeline_Evaluation.ipynb\" target=\"_parent\"><img src=\"https://colab.research.google.com/assets/colab-badge.svg\" alt=\"Open In Colab\"/></a>"
      ]
    },
    {
      "cell_type": "markdown",
      "metadata": {
        "id": "cHf_jOR9jOca"
      },
      "source": [
        "# Import, Download, & Variable Statements"
      ]
    },
    {
      "cell_type": "code",
      "execution_count": null,
      "metadata": {
        "colab": {
          "base_uri": "https://localhost:8080/"
        },
        "id": "n6WzZ3_ujTwL",
        "outputId": "5155469d-6a35-4835-d3bf-b982720909af"
      },
      "outputs": [
        {
          "name": "stderr",
          "output_type": "stream",
          "text": [
            "[nltk_data] Downloading package stopwords to\n",
            "[nltk_data]     /home/gibsonce/nltk_data...\n",
            "[nltk_data]   Package stopwords is already up-to-date!\n",
            "[nltk_data] Downloading package wordnet to /home/gibsonce/nltk_data...\n",
            "[nltk_data]   Package wordnet is already up-to-date!\n",
            "[nltk_data] Downloading package punkt to /home/gibsonce/nltk_data...\n",
            "[nltk_data]   Package punkt is already up-to-date!\n"
          ]
        }
      ],
      "source": [
        "# Import & download statements\n",
        "# General Statements\n",
        "#!git clone https://github.com/d-atallah/implicit_gender_bias.git\n",
        "#! pip install joblib\n",
        "#! pip install shap\n",
        "import pandas as pd\n",
        "import string\n",
        "import re\n",
        "import joblib\n",
        "#from implicit_gender_bias import config as cf\n",
        "import os\n",
        "import numpy as np\n",
        "import time\n",
        "#from sklearn.externals import joblib\n",
        "\n",
        "import shap\n",
        "import matplotlib.pyplot as plt\n",
        "\n",
        "# Feature selection & Model tuning\n",
        "from sklearn.model_selection import train_test_split, GridSearchCV, RandomizedSearchCV, cross_val_score, StratifiedKFold, cross_validate\n",
        "from sklearn.feature_extraction.text import CountVectorizer, TfidfVectorizer\n",
        "from sklearn.pipeline import make_pipeline\n",
        "from sklearn.decomposition import TruncatedSVD,PCA, NMF\n",
        "from sklearn.metrics import confusion_matrix,precision_score, recall_score, f1_score, accuracy_score, roc_curve, roc_auc_score, log_loss, make_scorer, average_precision_score\n",
        "\n",
        "# Model options\n",
        "from xgboost import XGBClassifier\n",
        "from sklearn.linear_model import LogisticRegression\n",
        "from sklearn.ensemble import RandomForestClassifier\n",
        "from sklearn.svm import SVC\n",
        "from sklearn.neighbors import KNeighborsClassifier\n",
        "\n",
        "# NLTK resources\n",
        "import nltk\n",
        "from nltk.corpus import stopwords\n",
        "from nltk.stem import WordNetLemmatizer\n",
        "from nltk.stem import PorterStemmer\n",
        "\n",
        "nltk.download('stopwords')\n",
        "nltk.download('wordnet')\n",
        "nltk.download('punkt')\n",
        "\n",
        "stop_words = set(stopwords.words('english'))\n",
        "lemmatizer = WordNetLemmatizer()\n",
        "porter = PorterStemmer()"
      ]
    },
    {
      "cell_type": "markdown",
      "metadata": {
        "id": "q3GQRBpL2kCf"
      },
      "source": [
        "## Read Inputs"
      ]
    },
    {
      "cell_type": "code",
      "execution_count": null,
      "metadata": {
        "id": "pPZ-eni9oS-A"
      },
      "outputs": [],
      "source": [
        "# Variables\n",
        "folder_path = '/home/gibsonce/datallah-jaymefis-gibsonce/'\n",
        "\n",
        "# Load DataFrames from pkl files\n",
        "y_train = pd.read_pickle(folder_path + 'y_train.pkl')\n",
        "y_test = pd.read_pickle(folder_path + 'y_test.pkl')"
      ]
    },
    {
      "cell_type": "markdown",
      "metadata": {
        "id": "9zRF7xFVjBKo"
      },
      "source": [
        "## Define Functions\n"
      ]
    },
    {
      "cell_type": "code",
      "execution_count": null,
      "metadata": {
        "id": "3zLj7yI_jJcQ"
      },
      "outputs": [],
      "source": [
        "# Evaluate a model\n",
        "def model_eval(pipeline, X_test, y_test):\n",
        "    \"\"\"\n",
        "    Evaluates a specified model using accuracy, precision, recall, F-1 score, AUC-ROC & PR, log-Loss, and a confusion matrix.\n",
        "\n",
        "    Parameters:\n",
        "    - pipeline (object): Fitted pipeline.\n",
        "    - X_test (list or array): Test set features.\n",
        "    - y_test (list or array): True labels.\n",
        "\n",
        "    Returns:\n",
        "    - metrics_df (pd.DataFrame): DataFrame containing the metrics and scores.\n",
        "    - confusion_df (pd.DataFrame): DataFrame containing a confusion matrix.\n",
        "    \"\"\"\n",
        "\n",
        "    start_time = time.time()\n",
        "\n",
        "    # Create positive binary predictions\n",
        "    y_pred_proba = pipeline.predict_proba(X_test)\n",
        "    y_pred = (y_pred_proba >= 0.5)[:, 1].astype(int)\n",
        "    print('preds created')\n",
        "\n",
        "    # Calculate single split metrics\n",
        "    f1 = f1_score(y_test, y_pred)\n",
        "    auc_pr = average_precision_score(y_test, y_pred)\n",
        "\n",
        "\n",
        "    #Single split evaluation\n",
        "    metrics_df = pd.DataFrame({\n",
        "        'Metric': ['F1-Score', 'AUC-PR'],\n",
        "        'Single Split Score': [f1, auc_pr]\n",
        "    })\n",
        "    metrics_df = metrics_df.reset_index(drop=True)\n",
        "\n",
        "    end_time = time.time()\n",
        "    elapsed_time = end_time - start_time\n",
        "    print(f\"Single split evaluation completed. Time elapsed: {elapsed_time/60:.2f} minutes.\")\n",
        "\n",
        "    # Cross-validation\n",
        "    scoring = {\n",
        "        'f1': make_scorer(f1_score),\n",
        "        'pr_auc': make_scorer(average_precision_score),\n",
        "    }\n",
        "    print('cv scoring created')\n",
        "\n",
        "    cv = StratifiedKFold(n_splits=5, shuffle=True, random_state=42)\n",
        "    cv_results = cross_validate(pipeline, X_test, y_test, cv=cv, scoring=scoring)\n",
        "\n",
        "    print('cv pipeline created')\n",
        "    # Create DataFrame to store cross-validation results\n",
        "    cv_metrics_df = pd.DataFrame({\n",
        "    'Metric': ['F1-Score','AUC-PR'],\n",
        "    'CV_Mean': [np.mean(cv_results['test_f1']),\n",
        "                np.mean(cv_results['test_pr_auc']),\n",
        "                ],\n",
        "    'CV_Std Dev': [np.std(cv_results['test_f1']),\n",
        "                   np.std(cv_results['test_pr_auc']),\n",
        "                  ]\n",
        "    })\n",
        "\n",
        "    print('DF created')\n",
        "    combined_metrics_df = pd.merge(metrics_df, cv_metrics_df, on='Metric')\n",
        "\n",
        "    end_time = time.time()\n",
        "    elapsed_time = end_time - start_time\n",
        "    print(f\"Cross validation completed. Time elapsed: {elapsed_time/60:.2f} minutes.\")\n",
        "\n",
        "    # Print cross-validation results\n",
        "    print(\"\\nEvaluation results:\")\n",
        "    print(combined_metrics_df)\n",
        "\n",
        "    # Confusion matrix\n",
        "    cm = confusion_matrix(y_test, y_pred)\n",
        "    confusion_df = pd.DataFrame(cm, columns=['Predicted Positive', 'Predicted Negative'], index=['Actual Positive', 'Actual Negative'])\n",
        "\n",
        "    print(\"\\nConfusion Matrix:\")\n",
        "    print(confusion_matrix)\n",
        "\n",
        "    return combined_metrics_df, confusion_df"
      ]
    },
    {
      "cell_type": "code",
      "execution_count": null,
      "metadata": {
        "id": "bZ9IeKzIkjZx"
      },
      "outputs": [],
      "source": [
        "def model_rank(model_list, model_str, metric):\n",
        "    \"\"\"\n",
        "    Finds the model with the best score based on a specified metric.\n",
        "\n",
        "    Parameters:\n",
        "    - models_list (list): List of dictionaries, each representing a model's details.\n",
        "    - model_str (list): List of model names corresponding to models_list.\n",
        "    - metric (str): Metric to rank the models by (e.g., 'Accuracy', 'F1-Score').\n",
        "\n",
        "    Returns:\n",
        "    - all_models (pd.DataFrame): DataFrame with metric scores and model names.\n",
        "    - models_by_metric (pd.DataFrame): DataFrame filtered by the specified metric and sorted in descending order.\n",
        "    \"\"\"\n",
        "    all_models = [model_dict['metrics'].assign(Model=model_name) for model_dict, model_name in zip(model_list, model_str)]\n",
        "\n",
        "    # Concatenate the DataFrames in the list\n",
        "    all_models = pd.concat(all_models, ignore_index=True)\n",
        "\n",
        "\n",
        "    # Sort the DataFrame by the specified metric in descending order\n",
        "    models_by_metric = all_models[all_models['Metric'] == metric].sort_values(by='Score', ascending=False)\n",
        "\n",
        "    return all_models, models_by_metric"
      ]
    },
    {
      "cell_type": "markdown",
      "metadata": {
        "id": "svsUhDyhs-EK"
      },
      "source": [
        "## XGBoost"
      ]
    },
    {
      "cell_type": "markdown",
      "metadata": {
        "id": "jajaHOen2kCi"
      },
      "source": [
        "### XGB Final Model:\n",
        "*   Vectorization: TF-IDF\n",
        "*   Feature Representation: Unigram"
      ]
    },
    {
      "cell_type": "code",
      "execution_count": null,
      "metadata": {
        "id": "hdtIwwcP2kCi",
        "outputId": "8e6dca05-8743-4615-f537-9d00c43256e8"
      },
      "outputs": [
        {
          "name": "stdout",
          "output_type": "stream",
          "text": [
            "preds created\n",
            "Single split evaluation completed. Time elapsed: 0.24 minutes.\n",
            "cv scoring created\n",
            "cv pipeline created\n",
            "DF created\n",
            "Cross validation completed. Time elapsed: 17.68 minutes.\n",
            "\n",
            "Evaluation results:\n",
            "     Metric  Single Split Score   CV_Mean  CV_Std Dev\n",
            "0  F1-Score            0.613309  0.769248    0.001193\n",
            "1    AUC-PR            0.677126  0.644443    0.001148\n",
            "\n",
            "Confusion Matrix:\n",
            "<function confusion_matrix at 0x1539905a4550>\n"
          ]
        }
      ],
      "source": [
        "model = 'xgb'\n",
        "pipeline = joblib.load(f'{folder_path}{model}_pipeline.pkl')\n",
        "X_test = joblib.load(f'{folder_path}{model}_X_test.pkl')\n",
        "metrics_df, confusion_df = model_eval(pipeline, X_test, y_test)\n",
        "\n",
        "# Save to CSV\n",
        "metrics_df.to_csv(f'{folder_path}{model}_metrics.csv')\n",
        "confusion_df.to_csv(f'{folder_path}{model}_confusion_matrix.csv')"
      ]
    },
    {
      "cell_type": "markdown",
      "metadata": {
        "id": "nihU1Me_eeO1"
      },
      "source": [
        "## K-Nearest Neighbors"
      ]
    },
    {
      "cell_type": "markdown",
      "metadata": {
        "id": "WPiFUZllfQaC"
      },
      "source": [
        "### K-Nearest Neighbors Model Method:\n",
        "*   Vectorization: TF-IDF\n",
        "*   Feature Representation: Bigram"
      ]
    },
    {
      "cell_type": "code",
      "execution_count": null,
      "metadata": {
        "id": "x_4uzFrwfUkB",
        "outputId": "ea89df8d-fbec-4fe2-e4f8-4e39d470b4aa"
      },
      "outputs": [
        {
          "name": "stdout",
          "output_type": "stream",
          "text": [
            "preds created\n",
            "Single split evaluation completed. Time elapsed: 0.05 minutes.\n",
            "cv scoring created\n",
            "cv pipeline created\n",
            "DF created\n",
            "Cross validation completed. Time elapsed: 0.16 minutes.\n",
            "\n",
            "Evaluation results:\n",
            "     Metric  Single Split Score   CV_Mean  CV_Std Dev\n",
            "0  F1-Score            0.657191  0.644615    0.004530\n",
            "1    AUC-PR            0.615378  0.616392    0.002254\n",
            "\n",
            "Confusion Matrix:\n",
            "<function confusion_matrix at 0x1483674011f0>\n"
          ]
        }
      ],
      "source": [
        "# Define variables\n",
        "model = 'knn'\n",
        "pipeline = joblib.load(f'{folder_path}{model}_pipeline.pkl')\n",
        "X_test = joblib.load(f'{folder_path}{model}_X_test.pkl')\n",
        "metrics_df, confusion_df = model_eval(pipeline, X_test, y_test)\n",
        "\n",
        "# Save to CSV\n",
        "metrics_df.to_csv(f'{folder_path}{model}_metrics.csv')\n",
        "confusion_df.to_csv(f'{folder_path}{model}_confusion_matrix.csv')"
      ]
    },
    {
      "cell_type": "markdown",
      "metadata": {
        "id": "btFHR4Vl2kCk"
      },
      "source": [
        "## Naive Bayes"
      ]
    },
    {
      "cell_type": "code",
      "execution_count": null,
      "metadata": {
        "id": "azaqgOJJ2kCk",
        "outputId": "8048fdee-66fb-4b4c-f569-0a038586d437"
      },
      "outputs": [
        {
          "name": "stdout",
          "output_type": "stream",
          "text": [
            "preds created\n",
            "Single split evaluation completed. Time elapsed: 0.00 minutes.\n",
            "cv scoring created\n",
            "cv pipeline created\n",
            "DF created\n",
            "Cross validation completed. Time elapsed: 0.01 minutes.\n",
            "\n",
            "Evaluation results:\n",
            "     Metric  Single Split Score   CV_Mean  CV_Std Dev\n",
            "0  F1-Score             0.78081  0.774895    0.000535\n",
            "1    AUC-PR             0.66361  0.647433    0.000777\n",
            "\n",
            "Confusion Matrix:\n",
            "<function confusion_matrix at 0x15521c438dc0>\n"
          ]
        }
      ],
      "source": [
        "# Define variables\n",
        "model = 'nb'\n",
        "pipeline = joblib.load(f'{folder_path}{model}_pipeline.pkl')\n",
        "X_test = joblib.load(f'{folder_path}{model}_X_test.pkl')\n",
        "metrics_df, confusion_df = model_eval(pipeline, X_test, y_test)\n",
        "\n",
        "# Save to CSV\n",
        "metrics_df.to_csv(f'{folder_path}{model}_metrics.csv')\n",
        "confusion_df.to_csv(f'{folder_path}{model}_confusion_matrix.csv')"
      ]
    }
  ],
  "metadata": {
    "colab": {
      "collapsed_sections": [
        "sdKBq7ETihSJ"
      ],
      "provenance": [],
      "include_colab_link": true
    },
    "kernelspec": {
      "display_name": "Python 3 (ipykernel)",
      "language": "python",
      "name": "python3"
    },
    "language_info": {
      "codemirror_mode": {
        "name": "ipython",
        "version": 3
      },
      "file_extension": ".py",
      "mimetype": "text/x-python",
      "name": "python",
      "nbconvert_exporter": "python",
      "pygments_lexer": "ipython3",
      "version": "3.9.7"
    }
  },
  "nbformat": 4,
  "nbformat_minor": 0
}