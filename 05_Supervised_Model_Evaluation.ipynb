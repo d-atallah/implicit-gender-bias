{
  "cells": [
    {
      "cell_type": "markdown",
      "metadata": {
        "id": "view-in-github",
        "colab_type": "text"
      },
      "source": [
        "<a href=\"https://colab.research.google.com/github/d-atallah/implicit_gender_bias/blob/main/05_Supervised_Model_Evaluation.ipynb\" target=\"_parent\"><img src=\"https://colab.research.google.com/assets/colab-badge.svg\" alt=\"Open In Colab\"/></a>"
      ]
    },
    {
      "cell_type": "markdown",
      "metadata": {
        "id": "cHf_jOR9jOca"
      },
      "source": [
        "# Import, Download, & Variable Statements"
      ]
    },
    {
      "cell_type": "code",
      "execution_count": null,
      "metadata": {
        "colab": {
          "base_uri": "https://localhost:8080/"
        },
        "id": "n6WzZ3_ujTwL",
        "outputId": "5155469d-6a35-4835-d3bf-b982720909af"
      },
      "outputs": [
        {
          "name": "stderr",
          "output_type": "stream",
          "text": [
            "[nltk_data] Downloading package stopwords to\n",
            "[nltk_data]     /home/gibsonce/nltk_data...\n",
            "[nltk_data]   Package stopwords is already up-to-date!\n",
            "[nltk_data] Downloading package wordnet to /home/gibsonce/nltk_data...\n",
            "[nltk_data]   Package wordnet is already up-to-date!\n",
            "[nltk_data] Downloading package punkt to /home/gibsonce/nltk_data...\n",
            "[nltk_data]   Package punkt is already up-to-date!\n"
          ]
        }
      ],
      "source": [
        "# Import & download statements\n",
        "# General Statements\n",
        "#!git clone https://github.com/d-atallah/implicit_gender_bias.git\n",
        "#! pip install joblib\n",
        "#! pip install shap\n",
        "import pandas as pd\n",
        "import string\n",
        "import re\n",
        "import joblib\n",
        "#from implicit_gender_bias import config as cf\n",
        "import os\n",
        "import numpy as np\n",
        "import time\n",
        "#from sklearn.externals import joblib\n",
        "\n",
        "import shap\n",
        "import matplotlib.pyplot as plt\n",
        "\n",
        "# Feature selection & Model tuning\n",
        "from sklearn.model_selection import train_test_split, GridSearchCV, RandomizedSearchCV, cross_val_score, StratifiedKFold, cross_validate\n",
        "from sklearn.feature_extraction.text import CountVectorizer, TfidfVectorizer\n",
        "from sklearn.pipeline import make_pipeline\n",
        "from sklearn.decomposition import TruncatedSVD,PCA, NMF\n",
        "from sklearn.metrics import confusion_matrix,precision_score, recall_score, f1_score, accuracy_score, roc_curve, roc_auc_score, log_loss, make_scorer, average_precision_score\n",
        "\n",
        "# Model options\n",
        "from xgboost import XGBClassifier\n",
        "from sklearn.linear_model import LogisticRegression\n",
        "from sklearn.ensemble import RandomForestClassifier\n",
        "from sklearn.svm import SVC\n",
        "from sklearn.neighbors import KNeighborsClassifier\n",
        "\n",
        "# NLTK resources\n",
        "import nltk\n",
        "from nltk.corpus import stopwords\n",
        "from nltk.stem import WordNetLemmatizer\n",
        "from nltk.stem import PorterStemmer\n",
        "\n",
        "nltk.download('stopwords')\n",
        "nltk.download('wordnet')\n",
        "nltk.download('punkt')\n",
        "\n",
        "stop_words = set(stopwords.words('english'))\n",
        "lemmatizer = WordNetLemmatizer()\n",
        "porter = PorterStemmer()"
      ]
    },
    {
      "cell_type": "markdown",
      "metadata": {
        "id": "63fHlZ3Wj5oU"
      },
      "source": [
        "## Read Inputs"
      ]
    },
    {
      "cell_type": "code",
      "execution_count": null,
      "metadata": {
        "id": "pPZ-eni9oS-A"
      },
      "outputs": [],
      "source": [
        "# Variables\n",
        "folder_path = '/home/gibsonce/datallah-jaymefis-gibsonce/'\n",
        "\n",
        "# Load DataFrames from pkl files\n",
        "y_train = pd.read_pickle(folder_path + 'y_train.pkl')\n",
        "y_test = pd.read_pickle(folder_path + 'y_test.pkl')"
      ]
    },
    {
      "cell_type": "markdown",
      "metadata": {
        "id": "9zRF7xFVjBKo"
      },
      "source": [
        "## Define Functions\n"
      ]
    },
    {
      "cell_type": "code",
      "execution_count": null,
      "metadata": {
        "id": "05PEIzPHj5oa"
      },
      "outputs": [],
      "source": [
        "def model_eval(pipeline, X_test, y_test):\n",
        "    \"\"\"\n",
        "    Evaluates a specified model using accuracy, precision, recall, F-1 score, AUC-ROC & PR, log-Loss,\n",
        "    and a confusion matrix.\n",
        "\n",
        "    Parameters:\n",
        "    - pipeline (object): Fitted pipeline.\n",
        "    - X_test (list or array): Test set features.\n",
        "    - y_test (list or array): True labels.\n",
        "\n",
        "    Returns:\n",
        "    - metrics_df (pd.DataFrame): DataFrame containing the metrics and scores.\n",
        "    - confusion_df (pd.DataFrame): DataFrame containing a confusion matrix.\n",
        "    \"\"\"\n",
        "\n",
        "    start_time = time.time()\n",
        "\n",
        "    # Cross-validation\n",
        "    scoring = {\n",
        "        'f1': make_scorer(f1_score),\n",
        "        'pr_auc': make_scorer(average_precision_score),\n",
        "        'log_loss': make_scorer(log_loss, greater_is_better=False, needs_proba=True)\n",
        "    }\n",
        "\n",
        "    cv = StratifiedKFold(n_splits=5, shuffle=True, random_state=42)\n",
        "    cv_results = cross_validate(pipeline, X_test, y_test, cv=cv, scoring=scoring)\n",
        "\n",
        "    # Create DataFrame to store cross-validation results\n",
        "    cv_metrics_df = pd.DataFrame({\n",
        "        'Metric': ['F1-Score', 'AUC-PR', 'Log Loss'],#\n",
        "        'CV_Mean': [np.mean(cv_results['test_f1']),\n",
        "                    np.mean(cv_results['test_pr_auc']),\n",
        "                    -np.mean(cv_results['test_log_loss'])],  # Note the negative sign for log loss\n",
        "        'CV_Std Dev': [np.std(cv_results['test_f1']),\n",
        "                       np.std(cv_results['test_pr_auc']),\n",
        "                       np.std(cv_results['test_log_loss'])\n",
        "                       ]\n",
        "    })\n",
        "\n",
        "\n",
        "\n",
        "    end_time = time.time()\n",
        "    elapsed_time = end_time - start_time\n",
        "    print(f\"Cross-validation completed. Time elapsed: {elapsed_time/60:.2f} minutes.\")\n",
        "\n",
        "    # Print cross-validation results\n",
        "    print(\"\\nEvaluation results:\")\n",
        "    print(cv_metrics_df)\n",
        "\n",
        "    # Create positive binary predictions\n",
        "    y_pred_proba = pipeline.predict_proba(X_test)\n",
        "    y_pred = (y_pred_proba >= 0.5)[:, 1].astype(int)\n",
        "\n",
        "    # Confusion matrix\n",
        "    cm = confusion_matrix(y_test, y_pred)\n",
        "    confusion_df = pd.DataFrame(cm, columns=['Predicted Positive', 'Predicted Negative'],\n",
        "                                index=['Actual Positive', 'Actual Negative'])\n",
        "\n",
        "    print(\"\\nConfusion Matrix:\")\n",
        "    print(confusion_df)\n",
        "\n",
        "    return cv_metrics_df, confusion_df"
      ]
    },
    {
      "cell_type": "markdown",
      "metadata": {
        "id": "x232BqCtj5od"
      },
      "source": [
        "## Naive Bayes"
      ]
    },
    {
      "cell_type": "code",
      "execution_count": null,
      "metadata": {
        "id": "mNmSOsVFj5of",
        "outputId": "c1b8ba6b-50c8-4e32-ef5e-b1745a8e1e36"
      },
      "outputs": [
        {
          "name": "stderr",
          "output_type": "stream",
          "text": [
            "The `needs_threshold` and `needs_proba` parameter are deprecated in version 1.4 and will be removed in 1.6. You can either let `response_method` be `None` or set it to `predict` to preserve the same behaviour.\n"
          ]
        },
        {
          "name": "stdout",
          "output_type": "stream",
          "text": [
            "Cross-validation completed. Time elapsed: 0.01 minutes.\n",
            "\n",
            "Evaluation results:\n",
            "     Metric   CV_Mean  CV_Std Dev\n",
            "0  F1-Score  0.791308    0.001115\n",
            "1    AUC-PR  0.675922    0.001170\n",
            "2  Log Loss  0.643449    0.003693\n",
            "preds created\n",
            "\n",
            "Confusion Matrix:\n",
            "                 Predicted Positive  Predicted Negative\n",
            "Actual Positive               39106               30222\n",
            "Actual Negative               30645               90374\n"
          ]
        }
      ],
      "source": [
        "# Define variables\n",
        "model = 'nb'\n",
        "pipeline = joblib.load(f'{folder_path}{model}_pipeline.pkl')\n",
        "X_test = joblib.load(f'{folder_path}{model}_X_test.pkl')\n",
        "metrics_df, confusion_df = model_eval(pipeline, X_test, y_test)\n",
        "\n",
        "# Save to CSV\n",
        "metrics_df.to_csv(f'{folder_path}{model}_metrics.csv')\n",
        "confusion_df.to_csv(f'{folder_path}{model}_confusion_matrix.csv')"
      ]
    },
    {
      "cell_type": "markdown",
      "metadata": {
        "id": "nihU1Me_eeO1"
      },
      "source": [
        "## K-Nearest Neighbors"
      ]
    },
    {
      "cell_type": "code",
      "execution_count": null,
      "metadata": {
        "id": "x_4uzFrwfUkB",
        "outputId": "7c4e7133-6f00-476f-e372-d3a38185f06c"
      },
      "outputs": [
        {
          "name": "stderr",
          "output_type": "stream",
          "text": [
            "The `needs_threshold` and `needs_proba` parameter are deprecated in version 1.4 and will be removed in 1.6. You can either let `response_method` be `None` or set it to `predict` to preserve the same behaviour.\n"
          ]
        },
        {
          "name": "stdout",
          "output_type": "stream",
          "text": [
            "Cross-validation completed. Time elapsed: 0.13 minutes.\n",
            "\n",
            "Evaluation results:\n",
            "     Metric   CV_Mean  CV_Std Dev\n",
            "0  F1-Score  0.682386    0.004496\n",
            "1    AUC-PR  0.657732    0.001818\n",
            "2  Log Loss  5.127464    0.150495\n",
            "preds created\n",
            "\n",
            "Confusion Matrix:\n",
            "                 Predicted Positive  Predicted Negative\n",
            "Actual Positive               33644               35684\n",
            "Actual Negative               46430               74589\n"
          ]
        }
      ],
      "source": [
        "# Define variables\n",
        "model = 'knn'\n",
        "pipeline = joblib.load(f'{folder_path}{model}_pipeline.pkl')\n",
        "X_test = joblib.load(f'{folder_path}{model}_X_test.pkl')\n",
        "metrics_df, confusion_df = model_eval(pipeline, X_test, y_test)\n",
        "\n",
        "# Save to CSV\n",
        "metrics_df.to_csv(f'{folder_path}{model}_metrics.csv')\n",
        "confusion_df.to_csv(f'{folder_path}{model}_confusion_matrix.csv')"
      ]
    },
    {
      "cell_type": "markdown",
      "metadata": {
        "id": "svsUhDyhs-EK"
      },
      "source": [
        "## XGBoost"
      ]
    },
    {
      "cell_type": "markdown",
      "metadata": {
        "id": "-lSvWT7dj5ol"
      },
      "source": [
        "#### Hyperparameter Tuned Model"
      ]
    },
    {
      "cell_type": "code",
      "execution_count": null,
      "metadata": {
        "id": "Slc-WZZGj5om"
      },
      "outputs": [],
      "source": [
        "model = 'xgb'\n",
        "pipeline = joblib.load(f'{folder_path}{model}_pipeline.pkl')\n",
        "X_test = joblib.load(f'{folder_path}{model}_X_test.pkl')\n",
        "metrics_df, confusion_df = model_eval(pipeline, X_test, y_test)\n",
        "\n",
        "# Save to CSV\n",
        "metrics_df.to_csv(f'{folder_path}{model}_metrics.csv')\n",
        "confusion_df.to_csv(f'{folder_path}{model}_confusion_matrix.csv')"
      ]
    },
    {
      "cell_type": "markdown",
      "metadata": {
        "id": "bp4XbIE0j5on"
      },
      "source": [
        "#### Hyperparameter Tuned & POS Tagged Model"
      ]
    },
    {
      "cell_type": "code",
      "execution_count": null,
      "metadata": {
        "id": "pP_sCu9fj5oo",
        "outputId": "63d6cac0-2888-4176-a13e-5ee6ac51f72d"
      },
      "outputs": [
        {
          "name": "stderr",
          "output_type": "stream",
          "text": [
            "The `needs_threshold` and `needs_proba` parameter are deprecated in version 1.4 and will be removed in 1.6. You can either let `response_method` be `None` or set it to `predict` to preserve the same behaviour.\n"
          ]
        },
        {
          "name": "stdout",
          "output_type": "stream",
          "text": [
            "Cross-validation completed. Time elapsed: 15.08 minutes.\n",
            "\n",
            "Evaluation results:\n",
            "     Metric   CV_Mean  CV_Std Dev\n",
            "0  F1-Score  0.794441    0.000448\n",
            "1    AUC-PR  0.675404    0.000788\n",
            "2  Log Loss  0.593747    0.001084\n",
            "preds created\n",
            "\n",
            "Confusion Matrix:\n",
            "                 Predicted Positive  Predicted Negative\n",
            "Actual Positive               43104               26224\n",
            "Actual Negative               42636               78383\n"
          ]
        }
      ],
      "source": [
        "model = 'xgb'\n",
        "pipeline = joblib.load(f'{folder_path}{model}_pipeline.pkl')\n",
        "X_test = joblib.load(f'{folder_path}{model}_X_test.pkl')\n",
        "metrics_df, confusion_df = model_eval(pipeline, X_test, y_test)\n",
        "\n",
        "# Save to CSV\n",
        "metrics_df.to_csv(f'{folder_path}{model}_pos_metrics.csv')\n",
        "confusion_df.to_csv(f'{folder_path}{model}_pos_confusion_matrix.csv')"
      ]
    }
  ],
  "metadata": {
    "colab": {
      "collapsed_sections": [
        "sdKBq7ETihSJ"
      ],
      "provenance": [],
      "include_colab_link": true
    },
    "kernelspec": {
      "display_name": "Python 3 (ipykernel)",
      "language": "python",
      "name": "python3"
    },
    "language_info": {
      "codemirror_mode": {
        "name": "ipython",
        "version": 3
      },
      "file_extension": ".py",
      "mimetype": "text/x-python",
      "name": "python",
      "nbconvert_exporter": "python",
      "pygments_lexer": "ipython3",
      "version": "3.9.7"
    }
  },
  "nbformat": 4,
  "nbformat_minor": 0
}