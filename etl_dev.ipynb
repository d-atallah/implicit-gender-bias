{
  "cells": [
    {
      "cell_type": "markdown",
      "id": "f4f75cdb",
      "metadata": {
        "id": "f4f75cdb"
      },
      "source": [
        "# Import, Download, & Variable Statements"
      ]
    },
    {
      "cell_type": "code",
      "execution_count": 1,
      "id": "c3a49601",
      "metadata": {
        "id": "c3a49601",
        "outputId": "d839c2bc-d10f-44f1-f55e-8992e3ff5b61",
        "colab": {
          "base_uri": "https://localhost:8080/"
        }
      },
      "outputs": [
        {
          "output_type": "stream",
          "name": "stdout",
          "text": [
            "Drive already mounted at /content/drive; to attempt to forcibly remount, call drive.mount(\"/content/drive\", force_remount=True).\n"
          ]
        }
      ],
      "source": [
        "# Import & download statements\n",
        "import pandas as pd\n",
        "from sklearn.model_selection import train_test_split\n",
        "from google.colab import drive\n",
        "\n",
        "drive.mount('/content/drive')"
      ]
    },
    {
      "cell_type": "code",
      "execution_count": 2,
      "id": "f2d201be",
      "metadata": {
        "id": "f2d201be"
      },
      "outputs": [],
      "source": [
        "# Variables\n",
        "extract_path = '/content/drive/MyDrive/RtGender/'\n",
        "load_path = '/content/drive/MyDrive/RtGender/trns/'"
      ]
    },
    {
      "cell_type": "markdown",
      "id": "6d4388b8",
      "metadata": {
        "id": "6d4388b8"
      },
      "source": [
        "# Load and Clean Source Data"
      ]
    },
    {
      "cell_type": "markdown",
      "id": "c8583971",
      "metadata": {
        "id": "c8583971"
      },
      "source": [
        "## Define Functions"
      ]
    },
    {
      "cell_type": "code",
      "execution_count": 3,
      "id": "b52b2a6e",
      "metadata": {
        "id": "b52b2a6e"
      },
      "outputs": [],
      "source": [
        "# specify a file or list of files to load and process\n",
        "def extract_dfs(filenames):\n",
        "  if type(filenames) == str: filenames = [filenames]\n",
        "  df_dict = {}\n",
        "  # iterate and load dict with dfs\n",
        "  for file in filenames:\n",
        "    file_temp = file[:-4] if file[-4:0] == '.csv' else file\n",
        "    df_temp = pd.read_csv(extract_path + file_temp + '.csv').reset_index()\n",
        "    df_temp['sourceID'] = df_temp['source'] + df_temp['index'].astype(str)\n",
        "    df_dict[file] = df_temp\n",
        "\n",
        "  return df_dict"
      ]
    },
    {
      "cell_type": "code",
      "execution_count": 4,
      "id": "66fc76fa",
      "metadata": {
        "id": "66fc76fa"
      },
      "outputs": [],
      "source": [
        "# split dfs and save to drive\n",
        "def load_dfs(df_dict):\n",
        "  for key in df_dict:\n",
        "    df_temp = df_dict[key]\n",
        "    X = df_temp.loc[:, df_temp.columns != 'op_gender']\n",
        "    y = df_temp['op_gender']\n",
        "    X_train, X_test, y_train, y_test = train_test_split(\n",
        "        X, y, test_size = 0.2, random_state = 42)\n",
        "    X_train.to_csv(load_path + key + '_X_train.csv')\n",
        "    X_test.to_csv(load_path + key + '_X_test.csv')\n",
        "    y_train.to_csv(load_path + key + '_y_train.csv')\n",
        "    y_test.to_csv(load_path + key + '_y_test.csv')\n",
        "  return \"Completed!\""
      ]
    },
    {
      "cell_type": "markdown",
      "source": [
        "## Load Data"
      ],
      "metadata": {
        "id": "3xImZ1Om09Ns"
      },
      "id": "3xImZ1Om09Ns"
    },
    {
      "cell_type": "code",
      "source": [
        "raw_file = 'annotations'\n",
        "df_dict = extract_dfs(raw_file)\n",
        "load_dfs(df_dict)"
      ],
      "metadata": {
        "id": "Kt-WWq_i1BCL",
        "outputId": "cd88135d-4b30-47d9-8a94-f7c02e86b204",
        "colab": {
          "base_uri": "https://localhost:8080/",
          "height": 35
        }
      },
      "id": "Kt-WWq_i1BCL",
      "execution_count": 5,
      "outputs": [
        {
          "output_type": "execute_result",
          "data": {
            "text/plain": [
              "'Completed!'"
            ],
            "application/vnd.google.colaboratory.intrinsic+json": {
              "type": "string"
            }
          },
          "metadata": {},
          "execution_count": 5
        }
      ]
    }
  ],
  "metadata": {
    "kernelspec": {
      "display_name": "Python 3 (ipykernel)",
      "language": "python",
      "name": "python3"
    },
    "language_info": {
      "codemirror_mode": {
        "name": "ipython",
        "version": 3
      },
      "file_extension": ".py",
      "mimetype": "text/x-python",
      "name": "python",
      "nbconvert_exporter": "python",
      "pygments_lexer": "ipython3",
      "version": "3.9.7"
    },
    "colab": {
      "provenance": []
    }
  },
  "nbformat": 4,
  "nbformat_minor": 5
}